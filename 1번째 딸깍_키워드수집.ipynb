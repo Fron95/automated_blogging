{
 "cells": [
  {
   "cell_type": "markdown",
   "metadata": {},
   "source": [
    "# 기본설정"
   ]
  },
  {
   "cell_type": "code",
   "execution_count": 1,
   "metadata": {},
   "outputs": [],
   "source": [
    "# 경고를 무시합니다.\n",
    "import warnings\n",
    "warnings.filterwarnings(\"ignore\")\n",
    "\n",
    "# 환경변수 저장 (.env) 확인\n",
    "from dotenv import load_dotenv\n",
    "import os\n",
    "load_dotenv()\n",
    "\n",
    "# 블로그 기본사항을 입력합니다.\n",
    "blogname = 'pasta_blog' # 명칭은 영어로 지정해주어야 합니다.\n",
    "\n",
    "\"\"\" 테마는 실제 블로그의 테마이기 보다는 수집할 키워드들의 테마입니다.\n",
    "파스타는 예시사항입니다.\n",
    "1. 저는 블로그에 파스타와 관련된 사항들을 작성합니다.\n",
    "2. 키워드 '파스타'로부터 모든 키워드들을 끌어모을 작정입니다.\n",
    "3. 키워드의 블로그 게시 적정성 판단기준이 '파스타'가 됩니다.\n",
    "\n",
    "파스타가 아니라 '여행', '영화' 또는 '여행과 영화' 와 같이 2개 이상의 주제를 가져도 좋습니다.\n",
    "\"\"\"\n",
    "\n",
    "theme = '파스타'\n",
    "\n",
    "# os.environ[f'{blogname}_ID'] = \"여기에 아이디를 입력하세요\"\n",
    "# os.environ[f'{blogname}_PW'] = \"여기에 비밀번호를 입력하세요\"\n",
    "# os.environ[f'{blogname}_NEW_POST_URL'] = \"포스팅 주소를 입력하세요\""
   ]
  },
  {
   "cell_type": "markdown",
   "metadata": {},
   "source": [
    "# 클래스 호출 및 인스턴스 설정"
   ]
  },
  {
   "cell_type": "code",
   "execution_count": 2,
   "metadata": {},
   "outputs": [
    {
     "name": "stdout",
     "output_type": "stream",
     "text": [
      "[WinError 183] 파일이 이미 있으므로 만들 수 없습니다: 'c:\\\\hellodear\\\\tistory_ebook\\\\pasta_blog'\n",
      "[WinError 183] 파일이 이미 있으므로 만들 수 없습니다: 'c:\\\\hellodear\\\\tistory_ebook\\\\pasta_blog\\\\업로드할것'\n",
      "[WinError 183] 파일이 이미 있으므로 만들 수 없습니다: 'c:\\\\hellodear\\\\tistory_ebook\\\\pasta_blog\\\\업로드완료'\n",
      "[WinError 183] 파일이 이미 있으므로 만들 수 없습니다: 'c:\\\\hellodear\\\\tistory_ebook\\\\pasta_blog\\\\창고'\n",
      "✅ 기존 벡터스토어 로드되었습니다.\n",
      "✅ 기존 벡터스토어 로드되었습니다.\n"
     ]
    }
   ],
   "source": [
    "\n",
    "# 정의한 클래스들을 호출합니다.\n",
    "from module.Crawler import Crawler\n",
    "from module.AIAgent import AIAgent\n",
    "from module.File_manager import File_manager\n",
    "from module.Uploader import Uploader\n",
    "\n",
    "# 클래스의 인스턴스들을 설정합니다.\n",
    "# 크롤러 클래스 호출\n",
    "crawler = Crawler(verbose=True)\n",
    "# 파일매니저 클래스 호출\n",
    "file_manager = File_manager(\n",
    "    blogname=blogname, \n",
    "    verbose=True) # 현재위치에서 시작을 가정합니다.\n",
    "# 인공지능 클래스 호출 - 포스팅용\n",
    "posting_ai = AIAgent(\n",
    "        blogname = blogname, \n",
    "        index = 'my_contents',             \n",
    "        verbose=True)\n",
    "# 인공지능 클래스 호출 - 키워드관리용\n",
    "keyword_ai = AIAgent(\n",
    "        blogname = blogname, \n",
    "        index = 'my_keywords',             \n",
    "        verbose=True)\n",
    "# 업로더 클래스 호출\n",
    "uploader = Uploader(\n",
    "    blogname=blogname, # 아이디와 비밀번호를 지정하지 않으면 환경변수에서 가져옵니다.        \n",
    "    verbose=True)    "
   ]
  },
  {
   "cell_type": "code",
   "execution_count": 3,
   "metadata": {},
   "outputs": [],
   "source": [
    "# crawler.driver.quit()\n",
    "# uploader.driver.quit()"
   ]
  },
  {
   "cell_type": "markdown",
   "metadata": {},
   "source": [
    "# 실행"
   ]
  },
  {
   "cell_type": "markdown",
   "metadata": {},
   "source": [
    "## 1. 키워드 수집\n",
    "1. 다음오픈키워드\n",
    "2. 구글오픈키워드\n",
    "3. 다음서제스트키워드\n",
    "4. 구글서제스트키워드\n",
    "5. 다음광고개수\n",
    "6. 구글노출순위\n",
    "7. 결과확인\n",
    "8. 키워드선별\n",
    "9. 저장\n",
    "10. 반복문"
   ]
  },
  {
   "cell_type": "markdown",
   "metadata": {},
   "source": [
    "### 1. 다음오픈키워드"
   ]
  },
  {
   "cell_type": "code",
   "execution_count": 4,
   "metadata": {},
   "outputs": [
    {
     "name": "stdout",
     "output_type": "stream",
     "text": [
      "파스타💬 daum에서 open keyword 확인\n",
      "💬 스크래핑\n",
      "✅ 스크래핑 22\n",
      "파스타✅ daum에서 open keyword 확인\n",
      "['드라마 파스타', '파스타 종류', '파스타 만들기', '토마토 파스타', '파스타 맛집', '파스타 소스', '크림 파스타', '오일 파스타', '스파게티', '봉골레 파스타', '파스타 재료', '드라마 파스타', '파스타 종류', '파스타 만들기', '토마토 파스타', '파스타 맛집', '파스타 소스', '크림 파스타', '오일 파스타', '스파게티', '봉골레 파스타', '파스타 재료']\n"
     ]
    }
   ],
   "source": [
    "# 다음 오픈 키워드\n",
    "daum_open_keywords = crawler.crawl_open_keywords(\n",
    "    word = theme, \n",
    "    engine = 'daum', \n",
    "    subject = theme, \n",
    "    save=True)\n",
    "print(daum_open_keywords)"
   ]
  },
  {
   "cell_type": "markdown",
   "metadata": {},
   "source": [
    "### 2. 구글오픈키워드"
   ]
  },
  {
   "cell_type": "code",
   "execution_count": 5,
   "metadata": {},
   "outputs": [
    {
     "name": "stdout",
     "output_type": "stream",
     "text": [
      "파스타💬 google에서 open keyword 확인\n",
      "💬 스크래핑\n",
      "✅ 스크래핑 8\n",
      "파스타✅ google에서 open keyword 확인\n",
      "['파스타 종류 레시피', '파스타 만들기', '파스타 드라마', '파스타 스파게티 차이', '파스타 메뉴', '파스타 영어', '파스타면', '토마토 파스타']\n"
     ]
    }
   ],
   "source": [
    "# 구글 오픈 키워드\n",
    "google_open_keywords = crawler.crawl_open_keywords(theme, 'google', theme, save=True)\n",
    "print(google_open_keywords)"
   ]
  },
  {
   "cell_type": "markdown",
   "metadata": {},
   "source": [
    "### 3. 다음서제스트키워드\n"
   ]
  },
  {
   "cell_type": "code",
   "execution_count": 6,
   "metadata": {},
   "outputs": [
    {
     "name": "stdout",
     "output_type": "stream",
     "text": [
      "파스타💬 daum에서 suggest keyword 확인\n",
      "💬 클릭\n",
      "✅ 클릭\n",
      "💬 스크래핑\n",
      "✅ 스크래핑 0\n",
      "파스타✅ daum에서 suggest keyword 확인\n",
      "[]\n"
     ]
    }
   ],
   "source": [
    "# 다음 서제스트 키워드\n",
    "daum_suggest_keywords = crawler.crawl_suggest_keywords(theme, 'daum', theme, save=True)\n",
    "print(daum_suggest_keywords)"
   ]
  },
  {
   "cell_type": "markdown",
   "metadata": {},
   "source": [
    "### 4. 구글서제스트키워드"
   ]
  },
  {
   "cell_type": "code",
   "execution_count": 7,
   "metadata": {},
   "outputs": [
    {
     "name": "stdout",
     "output_type": "stream",
     "text": [
      "파스타💬 google에서 suggest keyword 확인\n"
     ]
    },
    {
     "name": "stdout",
     "output_type": "stream",
     "text": [
      "💬 클릭\n",
      "✅ 클릭\n",
      "💬 스크래핑\n",
      "✅ 스크래핑 9\n",
      "파스타✅ google에서 suggest keyword 확인\n",
      "['파스타 종류 레시피', '파스타 드라마', '파스타 스파게티 차이', '파스타 메뉴', '파스타 영어', '파스타면', '파스타소스', '토마토 파스타', '크림파스타']\n"
     ]
    }
   ],
   "source": [
    "# 구글 서제스트 키워드\n",
    "google_suggest_keywords = crawler.crawl_suggest_keywords(theme, 'google', theme, save=True)\n",
    "print(google_suggest_keywords)"
   ]
  },
  {
   "cell_type": "code",
   "execution_count": 8,
   "metadata": {},
   "outputs": [
    {
     "data": {
      "text/html": [
       "<div>\n",
       "<style scoped>\n",
       "    .dataframe tbody tr th:only-of-type {\n",
       "        vertical-align: middle;\n",
       "    }\n",
       "\n",
       "    .dataframe tbody tr th {\n",
       "        vertical-align: top;\n",
       "    }\n",
       "\n",
       "    .dataframe thead th {\n",
       "        text-align: right;\n",
       "    }\n",
       "</style>\n",
       "<table border=\"1\" class=\"dataframe\">\n",
       "  <thead>\n",
       "    <tr style=\"text-align: right;\">\n",
       "      <th></th>\n",
       "      <th>source</th>\n",
       "      <th>subject</th>\n",
       "      <th>num_ads</th>\n",
       "      <th>tistory_rank_at_google</th>\n",
       "      <th>all_links</th>\n",
       "      <th>top_tistory_at_google</th>\n",
       "      <th>images</th>\n",
       "    </tr>\n",
       "  </thead>\n",
       "  <tbody>\n",
       "    <tr>\n",
       "      <th>드라마 파스타</th>\n",
       "      <td>[daum_open, daum_open]</td>\n",
       "      <td>파스타</td>\n",
       "      <td>None</td>\n",
       "      <td>None</td>\n",
       "      <td>None</td>\n",
       "      <td>None</td>\n",
       "      <td>None</td>\n",
       "    </tr>\n",
       "    <tr>\n",
       "      <th>파스타 종류</th>\n",
       "      <td>[daum_open, daum_open]</td>\n",
       "      <td>파스타</td>\n",
       "      <td>None</td>\n",
       "      <td>None</td>\n",
       "      <td>None</td>\n",
       "      <td>None</td>\n",
       "      <td>None</td>\n",
       "    </tr>\n",
       "    <tr>\n",
       "      <th>파스타 만들기</th>\n",
       "      <td>[daum_open, daum_open, google_open]</td>\n",
       "      <td>파스타</td>\n",
       "      <td>None</td>\n",
       "      <td>None</td>\n",
       "      <td>None</td>\n",
       "      <td>None</td>\n",
       "      <td>None</td>\n",
       "    </tr>\n",
       "    <tr>\n",
       "      <th>토마토 파스타</th>\n",
       "      <td>[daum_open, daum_open, google_open, google_sug...</td>\n",
       "      <td>파스타</td>\n",
       "      <td>None</td>\n",
       "      <td>None</td>\n",
       "      <td>None</td>\n",
       "      <td>None</td>\n",
       "      <td>None</td>\n",
       "    </tr>\n",
       "    <tr>\n",
       "      <th>파스타 맛집</th>\n",
       "      <td>[daum_open, daum_open]</td>\n",
       "      <td>파스타</td>\n",
       "      <td>None</td>\n",
       "      <td>None</td>\n",
       "      <td>None</td>\n",
       "      <td>None</td>\n",
       "      <td>None</td>\n",
       "    </tr>\n",
       "  </tbody>\n",
       "</table>\n",
       "</div>"
      ],
      "text/plain": [
       "                                                    source subject num_ads  \\\n",
       "드라마 파스타                             [daum_open, daum_open]     파스타    None   \n",
       "파스타 종류                              [daum_open, daum_open]     파스타    None   \n",
       "파스타 만들기                [daum_open, daum_open, google_open]     파스타    None   \n",
       "토마토 파스타  [daum_open, daum_open, google_open, google_sug...     파스타    None   \n",
       "파스타 맛집                              [daum_open, daum_open]     파스타    None   \n",
       "\n",
       "        tistory_rank_at_google all_links top_tistory_at_google images  \n",
       "드라마 파스타                   None      None                  None   None  \n",
       "파스타 종류                    None      None                  None   None  \n",
       "파스타 만들기                   None      None                  None   None  \n",
       "토마토 파스타                   None      None                  None   None  \n",
       "파스타 맛집                    None      None                  None   None  "
      ]
     },
     "execution_count": 8,
     "metadata": {},
     "output_type": "execute_result"
    }
   ],
   "source": [
    "# 중간 점검\n",
    "crawler.load_results().head()"
   ]
  },
  {
   "cell_type": "markdown",
   "metadata": {},
   "source": [
    "### 5. 다음광고개수\n"
   ]
  },
  {
   "cell_type": "code",
   "execution_count": 9,
   "metadata": {},
   "outputs": [
    {
     "name": "stdout",
     "output_type": "stream",
     "text": [
      "드라마 파스타💬  다음 광고확인\n",
      "💬 스크래핑\n",
      "✅ 스크래핑 0\n",
      "💬 스크래핑\n",
      "✅ 스크래핑 1\n",
      "드라마 파스타✅ 다음 광고확인 (1)\n",
      "파스타 종류💬  다음 광고확인\n",
      "💬 스크래핑\n",
      "✅ 스크래핑 24\n",
      "💬 스크래핑\n",
      "✅ 스크래핑 3\n",
      "파스타 종류✅ 다음 광고확인 (27)\n",
      "파스타 만들기💬  다음 광고확인\n",
      "💬 스크래핑\n",
      "✅ 스크래핑 16\n",
      "💬 스크래핑\n",
      "✅ 스크래핑 3\n",
      "파스타 만들기✅ 다음 광고확인 (19)\n",
      "토마토 파스타💬  다음 광고확인\n",
      "💬 스크래핑\n",
      "✅ 스크래핑 15\n",
      "💬 스크래핑\n",
      "✅ 스크래핑 3\n",
      "토마토 파스타✅ 다음 광고확인 (18)\n",
      "파스타 맛집💬  다음 광고확인\n",
      "💬 스크래핑\n",
      "✅ 스크래핑 15\n",
      "💬 스크래핑\n",
      "✅ 스크래핑 3\n",
      "파스타 맛집✅ 다음 광고확인 (18)\n",
      "파스타 소스💬  다음 광고확인\n",
      "💬 스크래핑\n",
      "✅ 스크래핑 18\n",
      "💬 스크래핑\n",
      "✅ 스크래핑 3\n",
      "파스타 소스✅ 다음 광고확인 (21)\n",
      "크림 파스타💬  다음 광고확인\n",
      "💬 스크래핑\n",
      "✅ 스크래핑 15\n",
      "💬 스크래핑\n",
      "✅ 스크래핑 3\n",
      "크림 파스타✅ 다음 광고확인 (18)\n",
      "오일 파스타💬  다음 광고확인\n",
      "💬 스크래핑\n",
      "✅ 스크래핑 12\n",
      "💬 스크래핑\n",
      "✅ 스크래핑 3\n",
      "오일 파스타✅ 다음 광고확인 (15)\n",
      "스파게티💬  다음 광고확인\n",
      "💬 스크래핑\n",
      "✅ 스크래핑 18\n",
      "💬 스크래핑\n",
      "✅ 스크래핑 3\n",
      "스파게티✅ 다음 광고확인 (21)\n",
      "봉골레 파스타💬  다음 광고확인\n",
      "💬 스크래핑\n",
      "✅ 스크래핑 18\n",
      "💬 스크래핑\n",
      "✅ 스크래핑 3\n",
      "봉골레 파스타✅ 다음 광고확인 (21)\n",
      "파스타 재료💬  다음 광고확인\n",
      "💬 스크래핑\n",
      "✅ 스크래핑 18\n",
      "💬 스크래핑\n",
      "✅ 스크래핑 3\n",
      "파스타 재료✅ 다음 광고확인 (21)\n",
      "파스타 종류 레시피💬  다음 광고확인\n",
      "💬 스크래핑\n",
      "✅ 스크래핑 0\n",
      "💬 스크래핑\n",
      "✅ 스크래핑 0\n",
      "파스타 종류 레시피✅ 다음 광고확인 (0)\n",
      "파스타 드라마💬  다음 광고확인\n",
      "💬 스크래핑\n",
      "✅ 스크래핑 0\n",
      "💬 스크래핑\n",
      "✅ 스크래핑 2\n",
      "파스타 드라마✅ 다음 광고확인 (2)\n",
      "파스타 스파게티 차이💬  다음 광고확인\n",
      "💬 스크래핑\n",
      "✅ 스크래핑 0\n",
      "💬 스크래핑\n",
      "✅ 스크래핑 0\n",
      "파스타 스파게티 차이✅ 다음 광고확인 (0)\n",
      "파스타 메뉴💬  다음 광고확인\n",
      "💬 스크래핑\n",
      "✅ 스크래핑 0\n",
      "💬 스크래핑\n",
      "✅ 스크래핑 1\n",
      "파스타 메뉴✅ 다음 광고확인 (1)\n",
      "파스타 영어💬  다음 광고확인\n",
      "💬 스크래핑\n",
      "✅ 스크래핑 0\n",
      "💬 스크래핑\n",
      "✅ 스크래핑 2\n",
      "파스타 영어✅ 다음 광고확인 (2)\n",
      "파스타면💬  다음 광고확인\n",
      "💬 스크래핑\n",
      "✅ 스크래핑 18\n",
      "💬 스크래핑\n",
      "✅ 스크래핑 3\n",
      "파스타면✅ 다음 광고확인 (21)\n",
      "파스타소스💬  다음 광고확인\n",
      "💬 스크래핑\n",
      "✅ 스크래핑 15\n",
      "💬 스크래핑\n",
      "✅ 스크래핑 3\n",
      "파스타소스✅ 다음 광고확인 (18)\n",
      "크림파스타💬  다음 광고확인\n",
      "💬 스크래핑\n",
      "✅ 스크래핑 17\n",
      "💬 스크래핑\n",
      "✅ 스크래핑 3\n",
      "크림파스타✅ 다음 광고확인 (20)\n"
     ]
    },
    {
     "data": {
      "text/html": [
       "<div>\n",
       "<style scoped>\n",
       "    .dataframe tbody tr th:only-of-type {\n",
       "        vertical-align: middle;\n",
       "    }\n",
       "\n",
       "    .dataframe tbody tr th {\n",
       "        vertical-align: top;\n",
       "    }\n",
       "\n",
       "    .dataframe thead th {\n",
       "        text-align: right;\n",
       "    }\n",
       "</style>\n",
       "<table border=\"1\" class=\"dataframe\">\n",
       "  <thead>\n",
       "    <tr style=\"text-align: right;\">\n",
       "      <th></th>\n",
       "      <th>source</th>\n",
       "      <th>subject</th>\n",
       "      <th>num_ads</th>\n",
       "      <th>tistory_rank_at_google</th>\n",
       "      <th>all_links</th>\n",
       "      <th>top_tistory_at_google</th>\n",
       "      <th>images</th>\n",
       "    </tr>\n",
       "  </thead>\n",
       "  <tbody>\n",
       "    <tr>\n",
       "      <th>드라마 파스타</th>\n",
       "      <td>[daum_open, daum_open]</td>\n",
       "      <td>파스타</td>\n",
       "      <td>1</td>\n",
       "      <td>None</td>\n",
       "      <td>None</td>\n",
       "      <td>None</td>\n",
       "      <td>None</td>\n",
       "    </tr>\n",
       "    <tr>\n",
       "      <th>파스타 종류</th>\n",
       "      <td>[daum_open, daum_open]</td>\n",
       "      <td>파스타</td>\n",
       "      <td>27</td>\n",
       "      <td>None</td>\n",
       "      <td>None</td>\n",
       "      <td>None</td>\n",
       "      <td>None</td>\n",
       "    </tr>\n",
       "    <tr>\n",
       "      <th>파스타 만들기</th>\n",
       "      <td>[daum_open, daum_open, google_open]</td>\n",
       "      <td>파스타</td>\n",
       "      <td>19</td>\n",
       "      <td>None</td>\n",
       "      <td>None</td>\n",
       "      <td>None</td>\n",
       "      <td>None</td>\n",
       "    </tr>\n",
       "    <tr>\n",
       "      <th>토마토 파스타</th>\n",
       "      <td>[daum_open, daum_open, google_open, google_sug...</td>\n",
       "      <td>파스타</td>\n",
       "      <td>18</td>\n",
       "      <td>None</td>\n",
       "      <td>None</td>\n",
       "      <td>None</td>\n",
       "      <td>None</td>\n",
       "    </tr>\n",
       "    <tr>\n",
       "      <th>파스타 맛집</th>\n",
       "      <td>[daum_open, daum_open]</td>\n",
       "      <td>파스타</td>\n",
       "      <td>18</td>\n",
       "      <td>None</td>\n",
       "      <td>None</td>\n",
       "      <td>None</td>\n",
       "      <td>None</td>\n",
       "    </tr>\n",
       "  </tbody>\n",
       "</table>\n",
       "</div>"
      ],
      "text/plain": [
       "                                                    source subject num_ads  \\\n",
       "드라마 파스타                             [daum_open, daum_open]     파스타       1   \n",
       "파스타 종류                              [daum_open, daum_open]     파스타      27   \n",
       "파스타 만들기                [daum_open, daum_open, google_open]     파스타      19   \n",
       "토마토 파스타  [daum_open, daum_open, google_open, google_sug...     파스타      18   \n",
       "파스타 맛집                              [daum_open, daum_open]     파스타      18   \n",
       "\n",
       "        tistory_rank_at_google all_links top_tistory_at_google images  \n",
       "드라마 파스타                   None      None                  None   None  \n",
       "파스타 종류                    None      None                  None   None  \n",
       "파스타 만들기                   None      None                  None   None  \n",
       "토마토 파스타                   None      None                  None   None  \n",
       "파스타 맛집                    None      None                  None   None  "
      ]
     },
     "execution_count": 9,
     "metadata": {},
     "output_type": "execute_result"
    }
   ],
   "source": [
    "# 현재까지 수집된 키워드에 대한 다음 광고갯수 체크테스트\n",
    "crawler.count_daum_ads(crawler.get_keywords(), save=True)\n",
    "crawler.load_results().head()"
   ]
  },
  {
   "cell_type": "markdown",
   "metadata": {},
   "source": [
    "### 6. 구글노출순위\n"
   ]
  },
  {
   "cell_type": "code",
   "execution_count": 10,
   "metadata": {},
   "outputs": [
    {
     "name": "stdout",
     "output_type": "stream",
     "text": [
      "드라마 파스타💬 구글에서 티스토리 순위 확인\n",
      "💬 스크래핑\n",
      "✅ 스크래핑 14\n",
      "드라마 파스타✅ 구글에서 티스토리 순위 확인 (노출없음)\n",
      "파스타 종류💬 구글에서 티스토리 순위 확인\n",
      "💬 스크래핑\n",
      "✅ 스크래핑 21\n",
      "파스타 종류✅ 구글에서 티스토리 순위 확인 (17)\n",
      "파스타 만들기💬 구글에서 티스토리 순위 확인\n",
      "💬 스크래핑\n",
      "✅ 스크래핑 15\n",
      "파스타 만들기✅ 구글에서 티스토리 순위 확인 (노출없음)\n",
      "토마토 파스타💬 구글에서 티스토리 순위 확인\n",
      "💬 스크래핑\n",
      "✅ 스크래핑 17\n",
      "토마토 파스타✅ 구글에서 티스토리 순위 확인 (9)\n",
      "파스타 맛집💬 구글에서 티스토리 순위 확인\n",
      "💬 스크래핑\n",
      "✅ 스크래핑 9\n",
      "파스타 맛집✅ 구글에서 티스토리 순위 확인 (노출없음)\n",
      "파스타 소스💬 구글에서 티스토리 순위 확인\n",
      "💬 스크래핑\n",
      "✅ 스크래핑 17\n",
      "파스타 소스✅ 구글에서 티스토리 순위 확인 (노출없음)\n",
      "크림 파스타💬 구글에서 티스토리 순위 확인\n",
      "💬 스크래핑\n",
      "✅ 스크래핑 14\n",
      "크림 파스타✅ 구글에서 티스토리 순위 확인 (노출없음)\n",
      "오일 파스타💬 구글에서 티스토리 순위 확인\n",
      "💬 스크래핑\n",
      "✅ 스크래핑 13\n",
      "오일 파스타✅ 구글에서 티스토리 순위 확인 (노출없음)\n",
      "스파게티💬 구글에서 티스토리 순위 확인\n",
      "💬 스크래핑\n",
      "✅ 스크래핑 21\n",
      "스파게티✅ 구글에서 티스토리 순위 확인 (노출없음)\n",
      "봉골레 파스타💬 구글에서 티스토리 순위 확인\n",
      "💬 스크래핑\n",
      "✅ 스크래핑 13\n",
      "봉골레 파스타✅ 구글에서 티스토리 순위 확인 (노출없음)\n",
      "파스타 재료💬 구글에서 티스토리 순위 확인\n",
      "💬 스크래핑\n",
      "✅ 스크래핑 14\n",
      "파스타 재료✅ 구글에서 티스토리 순위 확인 (노출없음)\n",
      "파스타 종류 레시피💬 구글에서 티스토리 순위 확인\n",
      "💬 스크래핑\n",
      "✅ 스크래핑 18\n",
      "파스타 종류 레시피✅ 구글에서 티스토리 순위 확인 (16)\n",
      "파스타 드라마💬 구글에서 티스토리 순위 확인\n",
      "💬 스크래핑\n",
      "✅ 스크래핑 14\n",
      "파스타 드라마✅ 구글에서 티스토리 순위 확인 (노출없음)\n",
      "파스타 스파게티 차이💬 구글에서 티스토리 순위 확인\n",
      "💬 스크래핑\n",
      "✅ 스크래핑 13\n",
      "파스타 스파게티 차이✅ 구글에서 티스토리 순위 확인 (6)\n",
      "파스타 메뉴💬 구글에서 티스토리 순위 확인\n",
      "💬 스크래핑\n",
      "✅ 스크래핑 28\n",
      "파스타 메뉴✅ 구글에서 티스토리 순위 확인 (7)\n",
      "파스타 영어💬 구글에서 티스토리 순위 확인\n",
      "💬 스크래핑\n",
      "✅ 스크래핑 12\n",
      "파스타 영어✅ 구글에서 티스토리 순위 확인 (3)\n",
      "파스타면💬 구글에서 티스토리 순위 확인\n",
      "💬 스크래핑\n",
      "✅ 스크래핑 22\n",
      "파스타면✅ 구글에서 티스토리 순위 확인 (노출없음)\n",
      "파스타소스💬 구글에서 티스토리 순위 확인\n",
      "💬 스크래핑\n",
      "✅ 스크래핑 17\n",
      "파스타소스✅ 구글에서 티스토리 순위 확인 (노출없음)\n",
      "크림파스타💬 구글에서 티스토리 순위 확인\n",
      "💬 스크래핑\n",
      "✅ 스크래핑 14\n",
      "크림파스타✅ 구글에서 티스토리 순위 확인 (노출없음)\n"
     ]
    }
   ],
   "source": [
    "# 현재까지 수집된 키워드에 대한 구글 티스토리 노출 순번\n",
    "crawler.get_top_tistory_rank_n_link_at_google(crawler.get_keywords(), save=True)"
   ]
  },
  {
   "cell_type": "markdown",
   "metadata": {},
   "source": [
    "### 8. 키워드선별\n"
   ]
  },
  {
   "cell_type": "markdown",
   "metadata": {},
   "source": [
    "### 9. 최종결과물 확인 및 저장"
   ]
  },
  {
   "cell_type": "code",
   "execution_count": 11,
   "metadata": {},
   "outputs": [
    {
     "name": "stdout",
     "output_type": "stream",
     "text": [
      "💛 총 수집된 키워드\n"
     ]
    },
    {
     "data": {
      "text/html": [
       "<div>\n",
       "<style scoped>\n",
       "    .dataframe tbody tr th:only-of-type {\n",
       "        vertical-align: middle;\n",
       "    }\n",
       "\n",
       "    .dataframe tbody tr th {\n",
       "        vertical-align: top;\n",
       "    }\n",
       "\n",
       "    .dataframe thead th {\n",
       "        text-align: right;\n",
       "    }\n",
       "</style>\n",
       "<table border=\"1\" class=\"dataframe\">\n",
       "  <thead>\n",
       "    <tr style=\"text-align: right;\">\n",
       "      <th></th>\n",
       "      <th>source</th>\n",
       "      <th>subject</th>\n",
       "      <th>num_ads</th>\n",
       "      <th>tistory_rank_at_google</th>\n",
       "      <th>all_links</th>\n",
       "      <th>top_tistory_at_google</th>\n",
       "      <th>images</th>\n",
       "    </tr>\n",
       "  </thead>\n",
       "  <tbody>\n",
       "    <tr>\n",
       "      <th>드라마 파스타</th>\n",
       "      <td>[daum_open, daum_open]</td>\n",
       "      <td>파스타</td>\n",
       "      <td>1</td>\n",
       "      <td>노출없음</td>\n",
       "      <td>[https://namu.wiki/w/%ED%8C%8C%EC%8A%A4%ED%83%...</td>\n",
       "      <td>노출없음</td>\n",
       "      <td>None</td>\n",
       "    </tr>\n",
       "    <tr>\n",
       "      <th>파스타 종류</th>\n",
       "      <td>[daum_open, daum_open]</td>\n",
       "      <td>파스타</td>\n",
       "      <td>27</td>\n",
       "      <td>17</td>\n",
       "      <td>[https://namu.wiki/w/%ED%8C%8C%EC%8A%A4%ED%83%...</td>\n",
       "      <td>https://hottinggongjoongsa.tistory.com/60</td>\n",
       "      <td>None</td>\n",
       "    </tr>\n",
       "    <tr>\n",
       "      <th>파스타 만들기</th>\n",
       "      <td>[daum_open, daum_open, google_open]</td>\n",
       "      <td>파스타</td>\n",
       "      <td>19</td>\n",
       "      <td>노출없음</td>\n",
       "      <td>[https://www.10000recipe.com/recipe/6865946, h...</td>\n",
       "      <td>노출없음</td>\n",
       "      <td>None</td>\n",
       "    </tr>\n",
       "    <tr>\n",
       "      <th>토마토 파스타</th>\n",
       "      <td>[daum_open, daum_open, google_open, google_sug...</td>\n",
       "      <td>파스타</td>\n",
       "      <td>18</td>\n",
       "      <td>9</td>\n",
       "      <td>[https://www.10000recipe.com/recipe/6865946, h...</td>\n",
       "      <td>https://onebitebear.tistory.com/27</td>\n",
       "      <td>None</td>\n",
       "    </tr>\n",
       "    <tr>\n",
       "      <th>파스타 맛집</th>\n",
       "      <td>[daum_open, daum_open]</td>\n",
       "      <td>파스타</td>\n",
       "      <td>18</td>\n",
       "      <td>노출없음</td>\n",
       "      <td>[https://m.post.naver.com/viewer/postView.nave...</td>\n",
       "      <td>노출없음</td>\n",
       "      <td>None</td>\n",
       "    </tr>\n",
       "  </tbody>\n",
       "</table>\n",
       "</div>"
      ],
      "text/plain": [
       "                                                    source subject num_ads  \\\n",
       "드라마 파스타                             [daum_open, daum_open]     파스타       1   \n",
       "파스타 종류                              [daum_open, daum_open]     파스타      27   \n",
       "파스타 만들기                [daum_open, daum_open, google_open]     파스타      19   \n",
       "토마토 파스타  [daum_open, daum_open, google_open, google_sug...     파스타      18   \n",
       "파스타 맛집                              [daum_open, daum_open]     파스타      18   \n",
       "\n",
       "        tistory_rank_at_google  \\\n",
       "드라마 파스타                   노출없음   \n",
       "파스타 종류                      17   \n",
       "파스타 만들기                   노출없음   \n",
       "토마토 파스타                      9   \n",
       "파스타 맛집                    노출없음   \n",
       "\n",
       "                                                 all_links  \\\n",
       "드라마 파스타  [https://namu.wiki/w/%ED%8C%8C%EC%8A%A4%ED%83%...   \n",
       "파스타 종류   [https://namu.wiki/w/%ED%8C%8C%EC%8A%A4%ED%83%...   \n",
       "파스타 만들기  [https://www.10000recipe.com/recipe/6865946, h...   \n",
       "토마토 파스타  [https://www.10000recipe.com/recipe/6865946, h...   \n",
       "파스타 맛집   [https://m.post.naver.com/viewer/postView.nave...   \n",
       "\n",
       "                             top_tistory_at_google images  \n",
       "드라마 파스타                                       노출없음   None  \n",
       "파스타 종류   https://hottinggongjoongsa.tistory.com/60   None  \n",
       "파스타 만들기                                       노출없음   None  \n",
       "토마토 파스타         https://onebitebear.tistory.com/27   None  \n",
       "파스타 맛집                                        노출없음   None  "
      ]
     },
     "metadata": {},
     "output_type": "display_data"
    },
    {
     "name": "stdout",
     "output_type": "stream",
     "text": [
      "💛 선별된 키워드\n"
     ]
    },
    {
     "data": {
      "text/html": [
       "<div>\n",
       "<style scoped>\n",
       "    .dataframe tbody tr th:only-of-type {\n",
       "        vertical-align: middle;\n",
       "    }\n",
       "\n",
       "    .dataframe tbody tr th {\n",
       "        vertical-align: top;\n",
       "    }\n",
       "\n",
       "    .dataframe thead th {\n",
       "        text-align: right;\n",
       "    }\n",
       "</style>\n",
       "<table border=\"1\" class=\"dataframe\">\n",
       "  <thead>\n",
       "    <tr style=\"text-align: right;\">\n",
       "      <th></th>\n",
       "      <th>source</th>\n",
       "      <th>subject</th>\n",
       "      <th>num_ads</th>\n",
       "      <th>tistory_rank_at_google</th>\n",
       "      <th>all_links</th>\n",
       "      <th>top_tistory_at_google</th>\n",
       "      <th>images</th>\n",
       "    </tr>\n",
       "  </thead>\n",
       "  <tbody>\n",
       "    <tr>\n",
       "      <th>파스타 영어</th>\n",
       "      <td>[google_open, google_suggest]</td>\n",
       "      <td>파스타</td>\n",
       "      <td>2</td>\n",
       "      <td>3</td>\n",
       "      <td>[https://translate.google.com/?sca_esv=a19c4e9...</td>\n",
       "      <td>https://englishreview.tistory.com/5</td>\n",
       "      <td>None</td>\n",
       "    </tr>\n",
       "    <tr>\n",
       "      <th>파스타 스파게티 차이</th>\n",
       "      <td>[google_open, google_suggest]</td>\n",
       "      <td>파스타</td>\n",
       "      <td>0</td>\n",
       "      <td>6</td>\n",
       "      <td>[https://www.ohmynews.com/NWS_Web/View/at_pg.a...</td>\n",
       "      <td>https://klood.tistory.com/616</td>\n",
       "      <td>None</td>\n",
       "    </tr>\n",
       "    <tr>\n",
       "      <th>파스타 메뉴</th>\n",
       "      <td>[google_open, google_suggest]</td>\n",
       "      <td>파스타</td>\n",
       "      <td>1</td>\n",
       "      <td>7</td>\n",
       "      <td>[https://www.google.com/search?sca_esv=a19c4e9...</td>\n",
       "      <td>https://windy-geoje.tistory.com/entry/%EB%A1%A...</td>\n",
       "      <td>None</td>\n",
       "    </tr>\n",
       "  </tbody>\n",
       "</table>\n",
       "</div>"
      ],
      "text/plain": [
       "                                    source subject num_ads  \\\n",
       "파스타 영어       [google_open, google_suggest]     파스타       2   \n",
       "파스타 스파게티 차이  [google_open, google_suggest]     파스타       0   \n",
       "파스타 메뉴       [google_open, google_suggest]     파스타       1   \n",
       "\n",
       "            tistory_rank_at_google  \\\n",
       "파스타 영어                           3   \n",
       "파스타 스파게티 차이                      6   \n",
       "파스타 메뉴                           7   \n",
       "\n",
       "                                                     all_links  \\\n",
       "파스타 영어       [https://translate.google.com/?sca_esv=a19c4e9...   \n",
       "파스타 스파게티 차이  [https://www.ohmynews.com/NWS_Web/View/at_pg.a...   \n",
       "파스타 메뉴       [https://www.google.com/search?sca_esv=a19c4e9...   \n",
       "\n",
       "                                         top_tistory_at_google images  \n",
       "파스타 영어                     https://englishreview.tistory.com/5   None  \n",
       "파스타 스파게티 차이                      https://klood.tistory.com/616   None  \n",
       "파스타 메뉴       https://windy-geoje.tistory.com/entry/%EB%A1%A...   None  "
      ]
     },
     "metadata": {},
     "output_type": "display_data"
    }
   ],
   "source": [
    "# 키워드 수집 최종 결과물\n",
    "collected_keywords_info = crawler.load_results()\n",
    "collected_keywords = crawler.get_keywords()\n",
    "\n",
    "screened_keywords_info = crawler.load_processed_results()\n",
    "screened_keywords = list(screened_keywords_info.index)\n",
    "\n",
    "print(\"💛 총 수집된 키워드\")\n",
    "display(collected_keywords_info.head(5)) # 상위 5개만 표시합니다.\n",
    "print(\"💛 선별된 키워드\")\n",
    "display(screened_keywords_info.head(5)) # 상위 5개만 표시합니다."
   ]
  },
  {
   "cell_type": "markdown",
   "metadata": {},
   "source": [
    "# 2. 파일관리하기 (File_Manager)\n",
    "\n",
    "1. 수집한 키워드 로컬파일로 저장하기\n",
    "2. (연습) 로컬파일로 저장한 키워드 다시 불러오기"
   ]
  },
  {
   "cell_type": "markdown",
   "metadata": {},
   "source": [
    "## 2.1 수집한 키워드 로컬파일로 저장하기\n",
    "이름에 \"_example\"을 붙여서 저장하겠습니다."
   ]
  },
  {
   "cell_type": "code",
   "execution_count": 12,
   "metadata": {},
   "outputs": [
    {
     "name": "stdout",
     "output_type": "stream",
     "text": [
      "dict contents saved as csv :  c:\\hellodear\\tistory_ebook\\pasta_blog\\창고\\[[pasta_blog]]_((ko))_``collected_keywords_example``.csv\n",
      "dict contents saved as csv :  c:\\hellodear\\tistory_ebook\\pasta_blog\\창고\\[[pasta_blog]]_((ko))_``screened_keywords_example``.csv\n"
     ]
    }
   ],
   "source": [
    "# 수집한 전체 키워드\n",
    "file_manager.saveGeneratedDict2CSV(\n",
    "    subject = blogname, \n",
    "    language='ko', \n",
    "    contents='collected_keywords_example', \n",
    "    folder_category='storage', \n",
    "    data=collected_keywords_info.to_dict())\n",
    "\n",
    "# 수집한 선별 키워드\n",
    "file_manager.saveGeneratedDict2CSV(\n",
    "    subject = blogname, \n",
    "    language='ko', \n",
    "    contents='screened_keywords_example', \n",
    "    folder_category='storage', \n",
    "    data=screened_keywords_info.to_dict())\n"
   ]
  }
 ],
 "metadata": {
  "kernelspec": {
   "display_name": "Python 3",
   "language": "python",
   "name": "python3"
  },
  "language_info": {
   "codemirror_mode": {
    "name": "ipython",
    "version": 3
   },
   "file_extension": ".py",
   "mimetype": "text/x-python",
   "name": "python",
   "nbconvert_exporter": "python",
   "pygments_lexer": "ipython3",
   "version": "3.11.5"
  }
 },
 "nbformat": 4,
 "nbformat_minor": 2
}
