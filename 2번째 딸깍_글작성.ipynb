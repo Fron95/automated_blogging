{
 "cells": [
  {
   "cell_type": "markdown",
   "metadata": {},
   "source": [
    "# 기본설정"
   ]
  },
  {
   "cell_type": "code",
   "execution_count": 3,
   "metadata": {},
   "outputs": [],
   "source": [
    "# 경고를 무시합니다.\n",
    "import warnings\n",
    "warnings.filterwarnings(\"ignore\")\n",
    "\n",
    "# 환경변수 저장 (.env) 확인\n",
    "from dotenv import load_dotenv\n",
    "import os\n",
    "load_dotenv()\n",
    "\n",
    "# 블로그 기본사항을 입력합니다.\n",
    "blogname = 'pasta_blog' # 명칭은 영어로 지정해주어야 합니다.\n",
    "\n",
    "\"\"\" 테마는 실제 블로그의 테마이기 보다는 수집할 키워드들의 테마입니다.\n",
    "파스타는 예시사항입니다.\n",
    "1. 저는 블로그에 파스타와 관련된 사항들을 작성합니다.\n",
    "2. 키워드 '파스타'로부터 모든 키워드들을 끌어모을 작정입니다.\n",
    "3. 키워드의 블로그 게시 적정성 판단기준이 '파스타'가 됩니다.\n",
    "\n",
    "파스타가 아니라 '여행', '영화' 또는 '여행과 영화' 와 같이 2개 이상의 주제를 가져도 좋습니다.\n",
    "\"\"\"\n",
    "\n",
    "theme = '파스타'"
   ]
  },
  {
   "cell_type": "code",
   "execution_count": 4,
   "metadata": {},
   "outputs": [
    {
     "name": "stdout",
     "output_type": "stream",
     "text": [
      "[WinError 183] 파일이 이미 있으므로 만들 수 없습니다: 'c:\\\\hellodear\\\\tistory_ebook\\\\pasta_blog'\n",
      "[WinError 183] 파일이 이미 있으므로 만들 수 없습니다: 'c:\\\\hellodear\\\\tistory_ebook\\\\pasta_blog\\\\업로드할것'\n",
      "[WinError 183] 파일이 이미 있으므로 만들 수 없습니다: 'c:\\\\hellodear\\\\tistory_ebook\\\\pasta_blog\\\\업로드완료'\n",
      "[WinError 183] 파일이 이미 있으므로 만들 수 없습니다: 'c:\\\\hellodear\\\\tistory_ebook\\\\pasta_blog\\\\창고'\n",
      "✅ 기존 벡터스토어 로드되었습니다.\n",
      "✅ 기존 벡터스토어 로드되었습니다.\n"
     ]
    }
   ],
   "source": [
    "\n",
    "# 정의한 클래스들을 호출합니다.\n",
    "from module.Crawler import Crawler\n",
    "from module.AIAgent import AIAgent\n",
    "from module.File_manager import File_manager\n",
    "from module.Uploader import Uploader\n",
    "\n",
    "# 클래스의 인스턴스들을 설정합니다.\n",
    "# 크롤러 클래스 호출\n",
    "crawler = Crawler(verbose=True)\n",
    "# 파일매니저 클래스 호출\n",
    "file_manager = File_manager(\n",
    "    blogname=blogname, \n",
    "    verbose=True) # 현재위치에서 시작을 가정합니다.\n",
    "# 인공지능 클래스 호출 - 포스팅용\n",
    "posting_ai = AIAgent(\n",
    "        blogname = blogname, \n",
    "        index = 'my_contents',             \n",
    "        verbose=True)\n",
    "# 인공지능 클래스 호출 - 키워드관리용\n",
    "keyword_ai = AIAgent(\n",
    "        blogname = blogname, \n",
    "        index = 'my_keywords',             \n",
    "        verbose=True)\n",
    "# 업로더 클래스 호출\n",
    "uploader = Uploader(\n",
    "    blogname=blogname, # 아이디와 비밀번호를 지정하지 않으면 환경변수에서 가져옵니다.        \n",
    "    verbose=True)    "
   ]
  },
  {
   "cell_type": "markdown",
   "metadata": {},
   "source": [
    "## 2.2. 로컬파일로 저장한 키워드 다시 불러오기\n",
    "\n",
    "벡터스토어를 활용하기 위해서는 충분한 양의 키워드가 누적되어야 합니다.\\\n",
    "미리 준비해 둔 키워드들을 다운로드 받아서 활용하겠습니다."
   ]
  },
  {
   "cell_type": "code",
   "execution_count": 5,
   "metadata": {},
   "outputs": [
    {
     "name": "stdout",
     "output_type": "stream",
     "text": [
      "Data loaded from CSV:\n",
      "Data loaded from CSV:\n",
      "총 키워드의 갯수 :  364\n",
      "선별 키워드의 갯수 :  74\n"
     ]
    },
    {
     "data": {
      "text/html": [
       "<div>\n",
       "<style scoped>\n",
       "    .dataframe tbody tr th:only-of-type {\n",
       "        vertical-align: middle;\n",
       "    }\n",
       "\n",
       "    .dataframe tbody tr th {\n",
       "        vertical-align: top;\n",
       "    }\n",
       "\n",
       "    .dataframe thead th {\n",
       "        text-align: right;\n",
       "    }\n",
       "</style>\n",
       "<table border=\"1\" class=\"dataframe\">\n",
       "  <thead>\n",
       "    <tr style=\"text-align: right;\">\n",
       "      <th></th>\n",
       "      <th>source</th>\n",
       "      <th>num_ads</th>\n",
       "      <th>all_links</th>\n",
       "      <th>tistory_rank_at_google</th>\n",
       "      <th>top_tistory_at_google</th>\n",
       "    </tr>\n",
       "  </thead>\n",
       "  <tbody>\n",
       "    <tr>\n",
       "      <th>드라마 파스타</th>\n",
       "      <td>['daum_open', 'daum_open', 'daum_open', 'daum_...</td>\n",
       "      <td>4</td>\n",
       "      <td>['https://namu.wiki/w/%ED%8C%8C%EC%8A%A4%ED%83...</td>\n",
       "      <td>노출없음</td>\n",
       "      <td>노출없음</td>\n",
       "    </tr>\n",
       "    <tr>\n",
       "      <th>파스타 종류</th>\n",
       "      <td>['daum_open', 'daum_open', 'daum_suggest', 'da...</td>\n",
       "      <td>21</td>\n",
       "      <td>['https://namu.wiki/w/%ED%8C%8C%EC%8A%A4%ED%83...</td>\n",
       "      <td>20</td>\n",
       "      <td>https://huni1013.tistory.com/202</td>\n",
       "    </tr>\n",
       "    <tr>\n",
       "      <th>파스타 만들기</th>\n",
       "      <td>['daum_open', 'daum_open', 'google_open', 'dau...</td>\n",
       "      <td>21</td>\n",
       "      <td>['https://www.10000recipe.com/recipe/6865946',...</td>\n",
       "      <td>노출없음</td>\n",
       "      <td>노출없음</td>\n",
       "    </tr>\n",
       "    <tr>\n",
       "      <th>파스타 맛집</th>\n",
       "      <td>['daum_open', 'daum_open', 'daum_suggest', 'da...</td>\n",
       "      <td>15</td>\n",
       "      <td>['https://m.post.naver.com/viewer/postView.nav...</td>\n",
       "      <td>노출없음</td>\n",
       "      <td>노출없음</td>\n",
       "    </tr>\n",
       "    <tr>\n",
       "      <th>토마토 파스타</th>\n",
       "      <td>['daum_open', 'daum_open', 'google_open', 'goo...</td>\n",
       "      <td>24</td>\n",
       "      <td>['https://www.10000recipe.com/recipe/6865946',...</td>\n",
       "      <td>13</td>\n",
       "      <td>https://pangsoon.tistory.com/214</td>\n",
       "    </tr>\n",
       "  </tbody>\n",
       "</table>\n",
       "</div>"
      ],
      "text/plain": [
       "                                                    source  num_ads  \\\n",
       "드라마 파스타  ['daum_open', 'daum_open', 'daum_open', 'daum_...        4   \n",
       "파스타 종류   ['daum_open', 'daum_open', 'daum_suggest', 'da...       21   \n",
       "파스타 만들기  ['daum_open', 'daum_open', 'google_open', 'dau...       21   \n",
       "파스타 맛집   ['daum_open', 'daum_open', 'daum_suggest', 'da...       15   \n",
       "토마토 파스타  ['daum_open', 'daum_open', 'google_open', 'goo...       24   \n",
       "\n",
       "                                                 all_links  \\\n",
       "드라마 파스타  ['https://namu.wiki/w/%ED%8C%8C%EC%8A%A4%ED%83...   \n",
       "파스타 종류   ['https://namu.wiki/w/%ED%8C%8C%EC%8A%A4%ED%83...   \n",
       "파스타 만들기  ['https://www.10000recipe.com/recipe/6865946',...   \n",
       "파스타 맛집   ['https://m.post.naver.com/viewer/postView.nav...   \n",
       "토마토 파스타  ['https://www.10000recipe.com/recipe/6865946',...   \n",
       "\n",
       "        tistory_rank_at_google             top_tistory_at_google  \n",
       "드라마 파스타                   노출없음                              노출없음  \n",
       "파스타 종류                      20  https://huni1013.tistory.com/202  \n",
       "파스타 만들기                   노출없음                              노출없음  \n",
       "파스타 맛집                    노출없음                              노출없음  \n",
       "토마토 파스타                     13  https://pangsoon.tistory.com/214  "
      ]
     },
     "metadata": {},
     "output_type": "display_data"
    }
   ],
   "source": [
    "collected_keywords_info = file_manager.get_keywords(what_keywords='collected_keywords') # 수집한 전체키워드 정보\n",
    "collected_keywords = collected_keywords_info.index.to_list()\n",
    "screened_keywords_info = file_manager.get_keywords(what_keywords='screened_keywords') # 수집한 전체키워드 정보\n",
    "screened_keywords = screened_keywords_info.index.to_list()\n",
    "\n",
    "print('총 키워드의 갯수 : ', len(collected_keywords))\n",
    "print('선별 키워드의 갯수 : ', len(screened_keywords))\n",
    "display(collected_keywords_info.head())"
   ]
  },
  {
   "cell_type": "markdown",
   "metadata": {},
   "source": [
    "# 3. 글작성하기 (AIAgent 클래스) \n",
    "- 3.1 키워드 적정성 판단\n",
    "- 3.2 벡터스토어\n",
    "    - 3.2.1. 벡터스토어 생성\n",
    "    - 3.2.2. 벡터스토어에 키워드 저장\n",
    "    - 3.2.3. 벡터스토 유사성 검색을 통한 유사키워드 선정\n",
    "- 3.3 글작성하기\n",
    "    - 3.3.1. 소제목 \n",
    "    - 3.3.2. 프롤로그\n",
    "    - 3.3.3. 제목\n",
    "    - 3.3.4. 자료수집\n",
    "    - 3.3.5. 본문 \n",
    "    - 3.3.6. 이미지수집\n",
    "- 3.4 포맷팅하기 (HTML 형식 만들기)\n",
    "- 3.5 저장하기\n"
   ]
  },
  {
   "cell_type": "markdown",
   "metadata": {},
   "source": [
    "## 3.1. 키워드 적정성 판단"
   ]
  },
  {
   "cell_type": "code",
   "execution_count": 6,
   "metadata": {},
   "outputs": [
    {
     "name": "stderr",
     "output_type": "stream",
     "text": [
      "c:\\hellodear\\tistory_ebook\\venv\\Lib\\site-packages\\langchain_core\\_api\\deprecation.py:119: LangChainDeprecationWarning: The method `BaseChatModel.predict` was deprecated in langchain-core 0.1.7 and will be removed in 0.2.0. Use invoke instead.\n",
      "  warn_deprecated(\n"
     ]
    },
    {
     "name": "stdout",
     "output_type": "stream",
     "text": [
      "❌ 피스타치오 콜드브루 적정성 : no\n",
      "❌ 피스타치오 크림라떼 적정성 : no\n",
      "✅ 파스타 소스 소비기한 적정성 : yes\n",
      "❌ 피스타치오 크림 콜드브루 적정성 : no\n",
      "✅ 스파게티와 파스타의 차이점 적정성 : yes\n",
      "✅ 초간단 스파게티 만들기 적정성 : yes\n",
      "✅ 파스타와 스파게티의 차이점 적정성 : yes\n",
      "✅ 파스타 종류 레시피 적정성 : yes\n",
      "✅ 다이소 파스타냄비 적정성 : yes\n",
      "✅ 이탈리아 파스타 역사 면 종류 적정성 : yes\n",
      "❌ 피스타치오 아보카도 초콜릿 프라푸치노 적정성 : no\n",
      "✅ 크림 파스타 종류 적정성 : yes\n",
      "✅ 파스타 샐러드 만들기 적정성 : yes\n",
      "✅ 파스타 소스 없을때 적정성 : yes\n",
      "✅ 롤링파스타 까르보나라 적정성 : yes\n",
      "❌ 피스타치오 부작용 적정성 : no\n",
      "✅ 파스타 삶기 종류 적정성 : yes\n",
      "✅ 강릉 파스타 맛집 적정성 : yes\n",
      "✅ 파스타 스파게티 차이 적정성 : yes\n",
      "✅ 토마토 파스타 스파게티 차이 적정성 : yes\n",
      "❌ 피스타치오 하루 권장량 적정성 : no\n",
      "✅ 일산 파스타 맛집 적정성 : yes\n",
      "✅ 대전 파스타 맛집 적정성 : yes\n",
      "✅ 파스타 종류별 삶기 적정성 : yes\n",
      "❌ 피스타치오 하루 섭취량 적정성 : no\n",
      "✅ 롤링파스타 토마토파스타 적정성 : yes\n",
      "✅ 스파게티 메뉴 적정성 : yes\n",
      "✅ 파스타 면 미리 삶기 적정성 : yes\n",
      "✅ 파스타 면 빨리 삶기 적정성 : yes\n",
      "✅ 스파게티 면 삶기 소금 적정성 : yes\n",
      "✅ 통밀 파스타 삶는 시간 적정성 : yes\n",
      "✅ 삶은 파스타면 칼로리 적정성 : yes\n",
      "✅ 파스타면 종류별 삶는 시간 적정성 : yes\n",
      "✅ 전주 파스타 맛집 적정성 : yes\n",
      "✅ 전주 프리모파스타 메뉴 적정성 : yes\n",
      "✅ 파스타 맛집 홍대 적정성 : yes\n",
      "✅ 스파게티 의 특징 적정성 : yes\n",
      "✅ 우유로 크림파스타 만들기 적정성 : yes\n",
      "✅ 파스타 종류별 요리법 적정성 : yes\n",
      "✅ 생토마토 파스타 적정성 : yes\n",
      "❌ 쫄면 성분 적정성 : no\n",
      "✅ 드라마 파스타 결말 적정성 : yes\n",
      "✅ 강남 파스타 맛집 적정성 : yes\n",
      "✅ 분위기 좋은 파스타 맛집 적정성 : yes\n",
      "✅ 파스타 맛집 강남 적정성 : yes\n",
      "✅ 파스타 면 불 세기 적정성 : yes\n",
      "✅ 천안 파스타 맛집 적정성 : yes\n",
      "❌ 롤링파스타 맛없음 적정성 : no\n",
      "✅ 파스타면 종류 삶기 적정성 : yes\n",
      "✅ 부산 파스타 맛집 적정성 : yes\n",
      "✅ 인천 파스타 맛집 적정성 : yes\n",
      "✅ 롤링 파스타 세트메뉴 적정성 : yes\n",
      "✅ 롤링 파스타 추천 메뉴 적정성 : yes\n",
      "✅ 롤링파스타 추천메뉴 적정성 : yes\n",
      "✅ 트러플 오일 파스타 적정성 : yes\n",
      "✅ 파스타 소스 리조또 적정성 : yes\n",
      "✅ 파스타면 칼로리 적정성 : yes\n",
      "✅ 롤링파스타 영업시간 적정성 : yes\n",
      "✅ 근처 파스타 적정성 : yes\n",
      "✅ 파스타면 삶는 시간 적정성 : yes\n",
      "✅ 스파게티면 시간 적정성 : yes\n",
      "✅ 파스타 면 삶는 시간 적정성 : yes\n",
      "✅ 해물 토마토 파스타 적정성 : yes\n",
      "✅ 롤링파스타 메뉴 가격 적정성 : yes\n",
      "✅ 파스타 면 삶기 시간 적정성 : yes\n",
      "✅ 오일파스타 칼로리 적정성 : yes\n",
      "✅ 크림 파스타 맛집 적정성 : yes\n",
      "❌ 생크림 없이 크림파스타 적정성 : no\n",
      "✅ 파스타 다이어트 후기 적정성 : yes\n",
      "✅ 파스타면 성분표 적정성 : yes\n",
      "✅ 폰타나 파스타 소스 레시피 적정성 : yes\n",
      "✅ 크림파스타 소스 활용 적정성 : yes\n",
      "✅ 크림파스타 칼로리 적정성 : yes\n",
      "✅ 파스타면 삶기 시간 적정성 : yes\n",
      "dict contents saved as csv :  c:\\hellodear\\tistory_ebook\\pasta_blog\\창고\\[[pasta_blog]]_((ko))_``suitable_keywords``.csv\n"
     ]
    }
   ],
   "source": [
    "suitable_keywords = keyword_ai.suitability_checker([theme] * len(screened_keywords), screened_keywords)\n",
    "suitable_keywords_info = screened_keywords_info.loc[suitable_keywords]\n",
    "\n",
    "file_manager.saveGeneratedDict2CSV(\n",
    "    subject = blogname, \n",
    "    language='ko', \n",
    "    contents='suitable_keywords', \n",
    "    folder_category='storage', \n",
    "    data=suitable_keywords_info.to_dict())"
   ]
  },
  {
   "cell_type": "code",
   "execution_count": 7,
   "metadata": {},
   "outputs": [
    {
     "name": "stdout",
     "output_type": "stream",
     "text": [
      "총 키워드의 갯수 :  364\n",
      "선별 키워드의 갯수 :  74\n",
      "적정 키워드의 갯수 :  64\n"
     ]
    }
   ],
   "source": [
    "print('총 키워드의 갯수 : ', len(collected_keywords))\n",
    "print('선별 키워드의 갯수 : ', len(screened_keywords))\n",
    "print('적정 키워드의 갯수 : ', len(suitable_keywords))"
   ]
  },
  {
   "cell_type": "markdown",
   "metadata": {},
   "source": [
    "## 3.2. 벡터스토어"
   ]
  },
  {
   "cell_type": "markdown",
   "metadata": {},
   "source": [
    "### 3.2.1 벡터스토어 생성"
   ]
  },
  {
   "cell_type": "markdown",
   "metadata": {},
   "source": [
    "### 3.2.2. 벡터스토어에 키워드 저장"
   ]
  },
  {
   "cell_type": "code",
   "execution_count": 8,
   "metadata": {},
   "outputs": [
    {
     "name": "stdout",
     "output_type": "stream",
     "text": [
      "✅ 벡토어스토어 내 새 문서 추가 완료\n"
     ]
    },
    {
     "data": {
      "text/html": [
       "<div>\n",
       "<style scoped>\n",
       "    .dataframe tbody tr th:only-of-type {\n",
       "        vertical-align: middle;\n",
       "    }\n",
       "\n",
       "    .dataframe tbody tr th {\n",
       "        vertical-align: top;\n",
       "    }\n",
       "\n",
       "    .dataframe thead th {\n",
       "        text-align: right;\n",
       "    }\n",
       "</style>\n",
       "<table border=\"1\" class=\"dataframe\">\n",
       "  <thead>\n",
       "    <tr style=\"text-align: right;\">\n",
       "      <th></th>\n",
       "      <th>data</th>\n",
       "      <th>id</th>\n",
       "    </tr>\n",
       "  </thead>\n",
       "  <tbody>\n",
       "    <tr>\n",
       "      <th>0</th>\n",
       "      <td>파스타 소스 소비기한</td>\n",
       "      <td>1e683d99-c4dd-4c58-b9a4-ff8767ce7895</td>\n",
       "    </tr>\n",
       "    <tr>\n",
       "      <th>1</th>\n",
       "      <td>스파게티와 파스타의 차이점</td>\n",
       "      <td>e280edbc-e930-4bd8-9fe6-f16dcb650242</td>\n",
       "    </tr>\n",
       "    <tr>\n",
       "      <th>2</th>\n",
       "      <td>초간단 스파게티 만들기</td>\n",
       "      <td>a3511074-cc57-41cf-9b89-dee82f2533c3</td>\n",
       "    </tr>\n",
       "    <tr>\n",
       "      <th>3</th>\n",
       "      <td>파스타와 스파게티의 차이점</td>\n",
       "      <td>9eccd119-bed5-484d-8be5-7346fd7d2ddb</td>\n",
       "    </tr>\n",
       "    <tr>\n",
       "      <th>4</th>\n",
       "      <td>파스타 종류 레시피</td>\n",
       "      <td>c83a7b14-a2a8-4bda-a2b4-82d3324ae3af</td>\n",
       "    </tr>\n",
       "    <tr>\n",
       "      <th>...</th>\n",
       "      <td>...</td>\n",
       "      <td>...</td>\n",
       "    </tr>\n",
       "    <tr>\n",
       "      <th>123</th>\n",
       "      <td>파스타면 성분표</td>\n",
       "      <td>7f3c19b3-3d5c-4d9c-bb61-1ca60a66732a</td>\n",
       "    </tr>\n",
       "    <tr>\n",
       "      <th>124</th>\n",
       "      <td>폰타나 파스타 소스 레시피</td>\n",
       "      <td>481302f7-0ed3-4c40-b386-3e5877c88a94</td>\n",
       "    </tr>\n",
       "    <tr>\n",
       "      <th>125</th>\n",
       "      <td>크림파스타 소스 활용</td>\n",
       "      <td>40b9fc3f-5897-4150-80da-5681a315dd4b</td>\n",
       "    </tr>\n",
       "    <tr>\n",
       "      <th>126</th>\n",
       "      <td>크림파스타 칼로리</td>\n",
       "      <td>67756c4b-0d0f-429a-9838-8e69d5819381</td>\n",
       "    </tr>\n",
       "    <tr>\n",
       "      <th>127</th>\n",
       "      <td>파스타면 삶기 시간</td>\n",
       "      <td>7b3418e9-3321-4111-8331-c0a7e779e207</td>\n",
       "    </tr>\n",
       "  </tbody>\n",
       "</table>\n",
       "<p>128 rows × 2 columns</p>\n",
       "</div>"
      ],
      "text/plain": [
       "               data                                    id\n",
       "0       파스타 소스 소비기한  1e683d99-c4dd-4c58-b9a4-ff8767ce7895\n",
       "1    스파게티와 파스타의 차이점  e280edbc-e930-4bd8-9fe6-f16dcb650242\n",
       "2      초간단 스파게티 만들기  a3511074-cc57-41cf-9b89-dee82f2533c3\n",
       "3    파스타와 스파게티의 차이점  9eccd119-bed5-484d-8be5-7346fd7d2ddb\n",
       "4        파스타 종류 레시피  c83a7b14-a2a8-4bda-a2b4-82d3324ae3af\n",
       "..              ...                                   ...\n",
       "123        파스타면 성분표  7f3c19b3-3d5c-4d9c-bb61-1ca60a66732a\n",
       "124  폰타나 파스타 소스 레시피  481302f7-0ed3-4c40-b386-3e5877c88a94\n",
       "125     크림파스타 소스 활용  40b9fc3f-5897-4150-80da-5681a315dd4b\n",
       "126       크림파스타 칼로리  67756c4b-0d0f-429a-9838-8e69d5819381\n",
       "127      파스타면 삶기 시간  7b3418e9-3321-4111-8331-c0a7e779e207\n",
       "\n",
       "[128 rows x 2 columns]"
      ]
     },
     "execution_count": 8,
     "metadata": {},
     "output_type": "execute_result"
    }
   ],
   "source": [
    "# 키워드 벡터스토어 저장 (keyword_ai)\n",
    "keyword_ai.vectorstore_save_texts(suitable_keywords)"
   ]
  },
  {
   "cell_type": "markdown",
   "metadata": {},
   "source": [
    "### 3.2.3. 벡터스토 유사성 검색을 통한 유사키워드 선정"
   ]
  },
  {
   "cell_type": "code",
   "execution_count": 9,
   "metadata": {},
   "outputs": [
    {
     "name": "stdout",
     "output_type": "stream",
     "text": [
      "🟢 이번에 사용할 키워드는 \"파스타 소스 소비기한\"입니다.\n"
     ]
    }
   ],
   "source": [
    "# 글을 쓸 첫번째 키워드를 가져옵니다.\n",
    "my_keyword = suitable_keywords[0]\n",
    "print(f'🟢 이번에 사용할 키워드는 \"{my_keyword}\"입니다.')"
   ]
  },
  {
   "cell_type": "code",
   "execution_count": 10,
   "metadata": {},
   "outputs": [
    {
     "name": "stdout",
     "output_type": "stream",
     "text": [
      "🟢 파스타 소스 소비기한 연관 키워드이자 사용할 키워드 : ['파스타 소스 소비기한', '파스타 소스 소비기한', '파스타 소스 없을때', '파스타 소스 없을때']\n"
     ]
    }
   ],
   "source": [
    "# 관련 키워드 선별 및 벡터스토어 삭제 확인 extract\n",
    "my_keywords = keyword_ai.vectorstore_similarity_search(my_keyword, score_threshold=0.55)\n",
    "print(f\"🟢 {my_keyword} 연관 키워드이자 사용할 키워드 : {my_keywords}\")\n"
   ]
  },
  {
   "cell_type": "markdown",
   "metadata": {},
   "source": [
    "## 3.3 글작성하기"
   ]
  },
  {
   "cell_type": "markdown",
   "metadata": {},
   "source": [
    "### 3.3.1. 소제목 "
   ]
  },
  {
   "cell_type": "code",
   "execution_count": 11,
   "metadata": {},
   "outputs": [
    {
     "name": "stdout",
     "output_type": "stream",
     "text": [
      "🟢 topic ['파스타 소스 보관 방법', '파스타 소스 종류', '파스타 소스 대체품']\n"
     ]
    }
   ],
   "source": [
    "# 소제목 3개 생성\n",
    "topics = posting_ai.create_subject('파스타', my_keywords, num_topic=3, save=True)\n",
    "print(\"🟢 topic\",topics)"
   ]
  },
  {
   "cell_type": "markdown",
   "metadata": {},
   "source": [
    "### 3.3.2. 프롤로그"
   ]
  },
  {
   "cell_type": "code",
   "execution_count": 12,
   "metadata": {},
   "outputs": [
    {
     "name": "stdout",
     "output_type": "stream",
     "text": [
      "🟢 prologue 파스타 소스는 다양한 요리에 활용되는 중요한 재료 중 하나입니다. 이 블로그 포스트에서는 **파스타 소스 소비기한**과 **파스타 소스 없을때**를 고려하여, **파스타 소스 보관 방법**, **파스타 소스 종류**, 그리고 **파스타 소스 대체품**에 대해 알아보겠습니다. 파스타를 더 맛있게 즐기고자 하는 분들을 위해 유용한 정보를 제공해드리니, 함께 살펴보시기 바랍니다.\n"
     ]
    }
   ],
   "source": [
    "# 프롤로그 생성\n",
    "prologue = posting_ai.create_prologue(posting_ai.results['topics'], posting_ai.results['keywords'], save=True)\n",
    "print(\"🟢 prologue\",prologue)"
   ]
  },
  {
   "cell_type": "markdown",
   "metadata": {},
   "source": [
    "### 3.3.3. 제목"
   ]
  },
  {
   "cell_type": "code",
   "execution_count": 13,
   "metadata": {},
   "outputs": [
    {
     "name": "stdout",
     "output_type": "stream",
     "text": [
      "🟢 title : \"파스타 소스 소비기한 및 대체품: 보관 방법과 종류도 알아보세요!\"\n"
     ]
    }
   ],
   "source": [
    "# 제목 생성\n",
    "title = posting_ai.create_title(posting_ai.results['topics'], posting_ai.results['keywords'], save=True)\n",
    "print(f\"🟢 title : {title}\")"
   ]
  },
  {
   "cell_type": "markdown",
   "metadata": {},
   "source": [
    "중간점검"
   ]
  },
  {
   "cell_type": "code",
   "execution_count": 14,
   "metadata": {},
   "outputs": [
    {
     "data": {
      "text/plain": [
       "{'title': '\"파스타 소스 소비기한 및 대체품: 보관 방법과 종류도 알아보세요!\"',\n",
       " 'prologue': '파스타 소스는 다양한 요리에 활용되는 중요한 재료 중 하나입니다. 이 블로그 포스트에서는 **파스타 소스 소비기한**과 **파스타 소스 없을때**를 고려하여, **파스타 소스 보관 방법**, **파스타 소스 종류**, 그리고 **파스타 소스 대체품**에 대해 알아보겠습니다. 파스타를 더 맛있게 즐기고자 하는 분들을 위해 유용한 정보를 제공해드리니, 함께 살펴보시기 바랍니다.',\n",
       " 'keywords': ['파스타 소스 소비기한', '파스타 소스 소비기한', '파스타 소스 없을때', '파스타 소스 없을때'],\n",
       " 'theme': '파스타',\n",
       " 'topics': ['파스타 소스 보관 방법', '파스타 소스 종류', '파스타 소스 대체품'],\n",
       " 'contents': [],\n",
       " 'images': [],\n",
       " 'documents_urls': [],\n",
       " 'documents': [],\n",
       " 'html_for_upload': None}"
      ]
     },
     "execution_count": 14,
     "metadata": {},
     "output_type": "execute_result"
    }
   ],
   "source": [
    "posting_ai.results"
   ]
  },
  {
   "cell_type": "markdown",
   "metadata": {},
   "source": [
    "### 3.3.4. 자료수집"
   ]
  },
  {
   "cell_type": "markdown",
   "metadata": {},
   "source": [
    "3.3.4.1 자료수집"
   ]
  },
  {
   "cell_type": "code",
   "execution_count": 15,
   "metadata": {},
   "outputs": [
    {
     "name": "stdout",
     "output_type": "stream",
     "text": [
      "🟢 processing topic : 파스타 소스 보관 방법\n",
      "🟢 파스타 소스 보관 방법에 관한 문서 5개 수집완료\n",
      "🟢 processing topic : 파스타 소스 종류\n",
      "🟢 파스타 소스 종류에 관한 문서 5개 수집완료\n",
      "🟢 processing topic : 파스타 소스 대체품\n",
      "🟢 파스타 소스 대체품에 관한 문서 5개 수집완료\n"
     ]
    }
   ],
   "source": [
    "# 자료수집\n",
    "for topic in posting_ai.results['topics'] :\n",
    "    print(f\"🟢 processing topic : {topic}\")\n",
    "    hrefs, documents = crawler.ddgsearch_reducing(topic)    \n",
    "    print(f\"🟢 {topic}에 관한 문서 {len(documents)}개 수집완료\")\n",
    "    posting_ai.results['documents'].append(documents)\n",
    "    posting_ai.results['documents_urls'].append(hrefs)    \n"
   ]
  },
  {
   "cell_type": "markdown",
   "metadata": {},
   "source": [
    "중간점검"
   ]
  },
  {
   "cell_type": "markdown",
   "metadata": {},
   "source": [
    "3.3.4.2 자료 벡토스토어 저장"
   ]
  },
  {
   "cell_type": "code",
   "execution_count": 16,
   "metadata": {},
   "outputs": [
    {
     "name": "stdout",
     "output_type": "stream",
     "text": [
      "✅ 벡토어스토어 내 새 문서 추가 완료\n",
      "🟢 15 개의 문서를 벡터스토어에 저장하였습다..\n",
      "총 327개의 문서로 쪼개어 저장하였습니다..\n"
     ]
    },
    {
     "data": {
      "text/html": [
       "<div>\n",
       "<style scoped>\n",
       "    .dataframe tbody tr th:only-of-type {\n",
       "        vertical-align: middle;\n",
       "    }\n",
       "\n",
       "    .dataframe tbody tr th {\n",
       "        vertical-align: top;\n",
       "    }\n",
       "\n",
       "    .dataframe thead th {\n",
       "        text-align: right;\n",
       "    }\n",
       "</style>\n",
       "<table border=\"1\" class=\"dataframe\">\n",
       "  <thead>\n",
       "    <tr style=\"text-align: right;\">\n",
       "      <th></th>\n",
       "      <th>data</th>\n",
       "      <th>id</th>\n",
       "    </tr>\n",
       "  </thead>\n",
       "  <tbody>\n",
       "    <tr>\n",
       "      <th>0</th>\n",
       "      <td>파스타소스 소비기한 그냥 버리지 마세요! : 네이버 블로그\\n본문 바로가기\\n블로그...</td>\n",
       "      <td>fb54322d-21a8-4064-ad16-ab3f4df80766</td>\n",
       "    </tr>\n",
       "    <tr>\n",
       "      <th>1</th>\n",
       "      <td>가\\n 공감하기\\n공유하기 \\nURL복사 \\n신고하기 \\n​제가 너무너무 좋아하는 ...</td>\n",
       "      <td>6edab55f-e4a4-4b5b-8fdc-a93e72078c68</td>\n",
       "    </tr>\n",
       "    <tr>\n",
       "      <th>2</th>\n",
       "      <td>​파스타 면과 소스만 한번 사두면, 면을 삶고 소스를 섞어서 원할 때마다 간단한 방...</td>\n",
       "      <td>72be3882-60ed-45c3-9b35-fa7a44f572e4</td>\n",
       "    </tr>\n",
       "    <tr>\n",
       "      <th>3</th>\n",
       "      <td>​​그냥 버리긴 아까워서 파스타소스 소비기한에대해 알아봤는데요. 야호! 다행히도 파...</td>\n",
       "      <td>b7ed0505-579e-47b7-b206-25f3de4e892e</td>\n",
       "    </tr>\n",
       "    <tr>\n",
       "      <th>4</th>\n",
       "      <td>​혹시 유통기한과 소비기한의 차이를모르시는 분들 계실까요? 모르시는분들을 위해 간단...</td>\n",
       "      <td>bee007be-ba79-469b-aaa3-56b350cf4e01</td>\n",
       "    </tr>\n",
       "  </tbody>\n",
       "</table>\n",
       "</div>"
      ],
      "text/plain": [
       "                                                data  \\\n",
       "0  파스타소스 소비기한 그냥 버리지 마세요! : 네이버 블로그\\n본문 바로가기\\n블로그...   \n",
       "1  가\\n 공감하기\\n공유하기 \\nURL복사 \\n신고하기 \\n​제가 너무너무 좋아하는 ...   \n",
       "2  ​파스타 면과 소스만 한번 사두면, 면을 삶고 소스를 섞어서 원할 때마다 간단한 방...   \n",
       "3  ​​그냥 버리긴 아까워서 파스타소스 소비기한에대해 알아봤는데요. 야호! 다행히도 파...   \n",
       "4  ​혹시 유통기한과 소비기한의 차이를모르시는 분들 계실까요? 모르시는분들을 위해 간단...   \n",
       "\n",
       "                                     id  \n",
       "0  fb54322d-21a8-4064-ad16-ab3f4df80766  \n",
       "1  6edab55f-e4a4-4b5b-8fdc-a93e72078c68  \n",
       "2  72be3882-60ed-45c3-9b35-fa7a44f572e4  \n",
       "3  b7ed0505-579e-47b7-b206-25f3de4e892e  \n",
       "4  bee007be-ba79-469b-aaa3-56b350cf4e01  "
      ]
     },
     "execution_count": 16,
     "metadata": {},
     "output_type": "execute_result"
    }
   ],
   "source": [
    "# 긁어들인 글들을 벡터스토어에 저장하기\n",
    "collected_documents = []\n",
    "for document in posting_ai.results['documents'] :\n",
    "    collected_documents.extend(document)\n",
    "posting_ai.vectorstore_recursive_save_texts(collected_documents)\n",
    "\n",
    "# 결과 출력\n",
    "print(\"🟢\", len(collected_documents),\"개의 문서를 벡터스토어에 저장하였습다..\")\n",
    "print(f\"총 {len(posting_ai.vectorstore_list)}개의 문서로 쪼개어 저장하였습니다..\")\n",
    "posting_ai.vectorstore_list.head()\n"
   ]
  },
  {
   "cell_type": "markdown",
   "metadata": {},
   "source": [
    "결과표시"
   ]
  },
  {
   "cell_type": "code",
   "execution_count": 17,
   "metadata": {},
   "outputs": [
    {
     "name": "stdout",
     "output_type": "stream",
     "text": [
      "\"파스타 소스 보관 방법\"에 대한 참고문서 검색 결과 :\n"
     ]
    },
    {
     "data": {
      "text/plain": [
       "['파스타 소스의 종류와 선택 방법',\n",
       " '파스타소스 냉동 보관방법 남은 소스 페스토 소분보관 : 네이버 블로그\\nNAVER\\n블로그\\n주며느리의 일상\\n블로그 검색\\n이 블로그에서 검색\\n공감\\n\\t\\n\\t\\n\\t댓글\\n\\t\\n\\t\\n\\t\\n\\t1\\n\\t\\n\\t\\n공유하기\\n메뉴 바로가기\\n본문 바로가기\\n내 블로그 \\n이웃블로그\\n블로그 홈 \\n로그인\\n주며느리의 일상\\n블로그 메뉴\\n프롤로그\\n블로그\\n홈카페/인테리어\\nIT/전자\\n해외여행\\n임신/육아\\n안부\\n\\xa0\\xa0\\xa0\\xa0\\xa0\\xa0\\xa0\\xa0\\xa0\\xa0\\xa0\\xa0\\n검색\\n글 검색\\n블로그\\n글쓰기\\n가벼운 글쓰기툴 퀵에디터가 오픈했어요!\\n전체보기 2,063개의 글\\r\\n\\t\\n전체보기목록열기\\n간단요리',\n",
       " '\\u200b파스타 소스 보관 방법은 미개봉 기준, 직사광선을 피한 서늘한 곳에서 보관해주시면 돼요. 딱히 냉장 보관이나 냉동보관을 해줄 필요도 없고, 유통기한도길기 때문에 보관이 매우 쉬운 편입니다.\\u200b그러나 개봉한 파스타 소스는 냉장 보관을하더라도 보관 기간이 매우 짧은 편! 유통기한이 많이 남았더라도, 개봉을 한 이상보관 기간이 매우 짧아지기 때문에 가급적한 번에 모두 소비하는 것이 좋고요. 한 번에소비를 못했다면 최대한 빠른 시일 내로남은 파스타 소스를 소비해 주셔야 해요.\\u200b\\u200b\\u200b\\u200b\\u200b',\n",
       " '안녕하세요!주며느리 입니다. : )\\u200b파스타소스나 아보카도 살사소스모든 소스류를 냉장고에오래 보관하게 되면 뚜껑 주변으로 곰팡이가생기더라구요요 ㅜㅜ 버린 경우가 많아서 너무나 아깝...\\u200b그래서!파스타 소스 한번 개봉하면무조건 소분해서 냉동실에 보관하고 있답니다.\\u200b파스타 소스 뿐만 아니라 사용하고 남은 모든 소스! 다소분해서 냉동보관하면 보관기간도 길고좋아요~\\u200b',\n",
       " '전체보기목록열기\\n간단요리\\n파스타소스 냉동 보관방법 남은 소스 페스토 소분보관 \\n주며느리\\n ・ \\n2023. 9. 15. 11:24\\nURL 복사\\n 이웃추가\\n본문 기타 기능\\n                   공유하기\\n                \\n신고하기\\n \\n파스타소스 냉동 보관방법 남은 소스 페스토 소분보관',\n",
       " '파스타 소스의 종류와 선택 방법 : 네이버 블로그\\nNAVER\\n블로그\\n메마른꽃빵\\n블로그 검색\\n이 블로그에서 검색\\n공감\\n\\t\\n\\t첫 댓글을 남겨보세요\\n\\t\\n\\t\\n\\t\\n공유하기\\n메뉴 바로가기\\n본문 바로가기\\n내 블로그 \\n이웃블로그\\n블로그 홈 \\n로그인\\n메마른꽃빵\\n블로그 메뉴\\n프롤로그\\n블로그\\n지도\\n서재\\n안부\\n블로그\\n글쓰기\\n가벼운 글쓰기툴 퀵에디터가 오픈했어요!\\n전체보기 83개의 글\\r\\n\\t\\n전체보기목록열기\\n게시판\\n파스타 소스의 종류와 선택 방법\\n기쁜우리4만\\n ・ \\n2024. 3. 3. 9:51\\nURL 복사\\n 이웃추가',\n",
       " '더 오래 사용하세요~\\u200b감사합니다.\\u200b\\u200b\\u200b\\u200b#스파게티냉동 #냉동스파게티 #스파게티소스냉동보관 #스파게티소스냉동 #파스타소스냉동 #파스타소스보관방법 #스파게티소스보관 #스파게티소스보관방법',\n",
       " '먹다 남은 파스타 보관법\\n남은 파스타를 보관할 때는 몇 가지 요령이 필요합니다. 소스가 있는 파스타와 소스가 없는 파스타를 다르게 보관하는 것이 좋습니다. 소스가 있는 파스타는 그대로 밀폐 용기에 넣어 냉장 보관하면 됩니다. 반면, 소스가 없는 파스타는 약간의 올리브 오일이나 식용유를 섞어 냉장 보관하면 덩어리지지 않고 신선함을 유지할 수 있습니다. 또한, 냉동 보관도 가능합니다. 이 경우, 파스타를 작은 분량으로 나누어 랩이나 냉동용 백에 담아 냉동실에 보관합니다. 냉동 보관 시에는 최대 1-2개월까지 보관할 수 있습니다.\\n\\xa0\\n\\xa0\\n파스타면 보관 기간',\n",
       " '스파게티 소스 냉동보관법 [파스타소스 냉동보관] : 네이버 블로그\\nNAVER\\n블로그\\n욘쨩의 블로그\\n블로그 검색\\n이 블로그에서 검색\\n공감\\n\\t\\n\\t첫 댓글을 남겨보세요\\n\\t\\n\\t\\n\\t\\n공유하기\\n메뉴 바로가기\\n본문 바로가기\\n내 블로그 \\n이웃블로그\\n블로그 홈 \\n로그인\\n욘쨩의 블로그\\n블로그 메뉴\\n프롤로그\\n블로그\\nApple 정보\\n제품리뷰\\n이벤트 할인\\n지도\\n서재\\n메모\\n태그\\n안부\\n\\xa0\\xa0\\xa0\\xa0\\xa0\\xa0\\xa0\\xa0\\xa0\\xa0\\xa0\\xa0\\n블로그\\n글쓰기\\n가벼운 글쓰기툴 퀵에디터가 오픈했어요!\\n전체보기 35개의 글\\r\\n\\t\\n전체보기목록열기\\n생활꿀팁',\n",
       " \"요약\\n파스타는 맛있고 다양하게 활용할 수 있는 식재료입니다. 하지만 올바른 보관 방법을 따르지 않으면 신선도와 맛이 떨어질 수 있습니다. '먹다 남은 스파게티 보관'에서는 식힌 후 밀봉하여 냉장 보관하는 것이 중요합니다. '먹다 남은 파스타 보관법'에서는 소스 유무에 따라 보관 방법이 다르며, 냉동 보관도 가능함을 알 수 있습니다. 마지막으로 '파스타면 보관 기간'에서는 미개봉 및 개봉 후의 파스타면 보관 방법과 기간에 대해 알아보았습니다. 이러한 방법들을 통해 파스타를 신선하게 유지하고, 맛있게 재사용할 수 있을 것입니다.\\n\\xa0\\n공유하기\"]"
      ]
     },
     "execution_count": 17,
     "metadata": {},
     "output_type": "execute_result"
    }
   ],
   "source": [
    "# 참고문서 호출\n",
    "q = posting_ai.results['topics'][0]\n",
    "print(f'\"{q}\"에 대한 참고문서 검색 결과 :')\n",
    "posting_ai.vectorstore_similarity_search(q, score_threshold = 0.25, k=10)"
   ]
  },
  {
   "cell_type": "markdown",
   "metadata": {},
   "source": [
    "### 3.3.5. 본문"
   ]
  },
  {
   "cell_type": "code",
   "execution_count": 18,
   "metadata": {},
   "outputs": [],
   "source": [
    "# 글 작성\n",
    "contents = posting_ai.create_content(\n",
    "    topics = topics, \n",
    "    language='English', \n",
    "    score_threshold=0.25,  \n",
    "    k=10,  \n",
    "    save=True)"
   ]
  },
  {
   "cell_type": "markdown",
   "metadata": {},
   "source": [
    "결과표시"
   ]
  },
  {
   "cell_type": "code",
   "execution_count": 19,
   "metadata": {},
   "outputs": [
    {
     "data": {
      "text/plain": [
       "{'title': '\"파스타 소스 소비기한 및 대체품: 보관 방법과 종류도 알아보세요!\"',\n",
       " 'prologue': '파스타 소스는 다양한 요리에 활용되는 중요한 재료 중 하나입니다. 이 블로그 포스트에서는 **파스타 소스 소비기한**과 **파스타 소스 없을때**를 고려하여, **파스타 소스 보관 방법**, **파스타 소스 종류**, 그리고 **파스타 소스 대체품**에 대해 알아보겠습니다. 파스타를 더 맛있게 즐기고자 하는 분들을 위해 유용한 정보를 제공해드리니, 함께 살펴보시기 바랍니다.',\n",
       " 'keywords': ['파스타 소스 소비기한', '파스타 소스 소비기한', '파스타 소스 없을때', '파스타 소스 없을때'],\n",
       " 'theme': '파스타',\n",
       " 'topics': ['파스타 소스 보관 방법', '파스타 소스 종류', '파스타 소스 대체품'],\n",
       " 'contents': ['### 파스타 소스 보관 소개\\n\\n파스타 소스는 많은 요리에 다재다능하고 맛있게 추가할 수 있지만 신선도와 풍미를 유지하려면 적절한 보관이 필수적입니다. 집에서 만든 파스타 소스를 다루든 상점에서 구입한 파스타 소스를 다루든 올바른 보관 방법을 알면 수명과 맛에 상당한 차이를 만들 수 있습니다. 파스타 소스를 최대한 오랫동안 신선하고 맛있게 유지하기 위해 올바르게 보관하는 방법에 대해 자세히 알아보겠습니다.\\n\\n#### 개봉하지 않은 파스타 소스 보관\\n\\n개봉하지 않은 파스타 소스의 경우 보관 요구 사항은 비교적 간단합니다. 개봉하지 않은 파스타 소스는 직사광선을 피해 서늘하고 어두운 곳에 보관하는 것이 가장 좋습니다. 소스가 안정적인 온도의 식료품 저장실이나 찬장에 보관되는 한 냉장이나 냉동이 필요하지 않습니다.\\n\\n#### 개봉 파스타 소스 취급\\n\\n파스타 소스가 담긴 병이나 용기를 열면 보관 요구 사항이 크게 변경됩니다. 개봉한 파스타 소스는 박테리아의 성장을 늦추고 품질을 유지하기 위해 즉시 냉장 보관해야 합니다. 냉장고에 넣기 전에 용기를 뚜껑으로 단단히 밀봉하거나 밀폐 용기에 소스를 옮기는 것이 중요합니다.\\n\\n#### 남은 파스타 소스 냉장 보관\\n\\n식사에서 남은 파스타 소스가 있는 경우 안전하게 섭취하려면 적절한 냉장 보관이 중요합니다. 남은 소스는 밀폐용기에 옮겨 담아 조리 후 2시간 이내에 냉장고에 넣어둔다. 올바르게 보관하면 남은 파스타 소스는 냉장고에서 최대 5일 동안 보관할 수 있습니다.\\n\\n#### 장기 보관을 위한 냉동 파스타 소스\\n\\n장기 보관을 위해서는 파스타 소스를 얼리는 것이 좋습니다. 얼리면 소스의 신선도와 풍미를 몇 달 동안 보존하는 데 도움이 될 수 있습니다. 파스타 소스를 얼리려면 나중에 사용하기 위해 더 작은 부분으로 나눕니다. 소스를 냉동실에 안전한 용기나 다시 밀봉할 수 있는 비닐 봉지에 넣고 팽창할 수 있는 공간을 남겨두고 용기에 날짜를 표시하십시오.\\n\\n#### 냉동 파스타 소스 해동 및 재가열\\n\\n냉동 파스타 소스를 사용할 준비가 되면 냉동실에서 냉장고로 옮겨 밤새 해동합니다. 또는 더 빠른 해동 과정을 위해 전자레인지나 찬물 한 그릇에 소스를 해동할 수 있습니다. 해동되면 파스타 소스가 안전한 내부 온도에 도달할 때까지 쿡탑이나 전자레인지에서 다시 데우고 가끔 저어주어 균일하게 가열합니다.\\n\\n#### 파스타 소스 저장 공간 극대화를 위한 팁\\n\\n- 파스타 소스는 소스의 맛에 영향을 줄 수 있으므로 반응성 금속으로 만든 용기에 보관하지 마십시오.\\n- 파스타 소스를 퍼낼 때는 오염을 방지하기 위해 항상 깨끗한 도구나 숟가락을 사용하십시오.\\n- 해동과 재가열을 더 편리하게 하기 위해 얼리기 전에 소스를 더 작은 용기에 나누어 담는 것을 고려하십시오.\\n- 파스타 소스의 각 용기에 준비 날짜를 표시하여 신선도를 추적하고 적시에 섭취할 수 있도록 합니다.\\n\\n### 결론\\n\\n파스타 소스를 적절하게 보관하는 것은 품질, 풍미 및 소비 안전성을 유지하는 데 필수적입니다. 냉장 보관을 선택하든 냉동 보관을 선택하든 올바른 보관 지침을 따르면 원할 때마다 향긋한 소스와 함께 맛있는 파스타 요리를 즐길 수 있습니다. 파스타 소스 보관을 위한 모범 사례를 이해하면 음식물 쓰레기를 최소화하고 좋아하는 파스타 레시피의 즐거움을 극대화할 수 있습니다.',\n",
       "  '### 파스타 소스 품종 소개\\n\\n전 세계적으로 가장 사랑받고 다재다능한 요리 중 하나인 파스타는 함께 제공되는 소스에 맛과 특성의 많은 부분을 빚지고 있습니다. 파스타 소스의 종류는 방대하고 다양하여 모든 입맛에 맞는 무수한 맛과 질감을 제공합니다. 고전적인 토마토 기반 소스부터 크림 같은 혼합물에 이르기까지 각 소스 유형은 장식하는 파스타 요리에 독특한 트위스트를 제공합니다. 이 블로그 게시물에서는 파스타 소스 품종의 세계를 탐구하고 파스타 게임의 수준을 높이는 데 도움이 되는 재료, 풍미 및 이상적인 페어링을 탐색합니다.\\n\\n### 토마토 파스타 소스\\n\\n토마토 기반 파스타 소스는 파스타 애호가들에게 가장 인기 있고 전통적인 선택 중 하나입니다. 이 소스는 일반적으로 신선한 토마토, 양파, 마늘 및 올리브 오일을 베이스로 하여 생생하고 톡 쏘는 풍미 프로필을 만듭니다. 가장 유명한 토마토 기반 소스 중 하나는 토마토, 마늘, 바질, 올리브 오일을 결합하여 고전적인 이탈리아 맛을 제공하는 마리나라 소스입니다. 마리나라 소스는 스파게티, 펜네, 해산물 요리와 매우 잘 어울리며 짭짤한 맛이 가득합니다.\\n\\n### 크림 베이스 파스타 소스\\n\\n향긋한 토마토 소스와 달리 크림 베이스의 파스타 소스는 파스타 가닥을 고급스럽게 코팅하는 풍부하고 벨벳 같은 질감을 제공합니다. 버터, 크림, 파마산 치즈의 크리미한 블렌드인 알프레도 소스는 감미롭고 관대한 파스타 경험을 갈망하는 사람들에게 사랑받는 선택입니다. 이 소스는 페투치니 및 기타 납작한 파스타 품종을 보완하여 편안한 음식에 대한 갈망을 만족시킬 퇴폐적인 요리를 만듭니다.\\n\\n### 페스토와 허브 소스\\n\\n신선하고 허브 풍미 프로필을 찾는 사람들에게는 페스토와 허브 기반 소스가 완벽한 선택입니다. 신선한 바질, 올리브 오일, 잣, 파마산 치즈, 마늘로 만든 페스토 소스는 전통적인 파스타 소스에 대한 생생하고 향긋한 대안을 제공합니다. 이 소스는 스파게티, 뇨끼와 아름답게 어울리며 샌드위치나 브루스케타에 풍미 가득한 스프레드로도 좋습니다. 또한 오레가노 또는 파슬리 기반 변형과 같은 허브 주입 소스는 파스타 요리에 향긋하고 짭짤한 맛을 더하여 신선함을 더합니다.\\n\\n### 특선 파스타 소스\\n\\n고전적인 토마토와 크림 기반 소스 외에도 특수 파스타 소스는 독특하고 모험적인 요리 경험을 제공합니다. 올리브, 케이퍼, 멸치, 토마토의 톡 쏘는 맛이 어우러진 푸타네스카 소스는 파스타 요리에 대담하고 짭짤한 펀치를 제공하여 식사에 지중해 풍미를 더합니다. 매콤한 고추와 마늘이 들어간 아라비아타 소스는 미각을 자극하는 매운 맛을 선사해 강렬한 맛을 즐기는 분들에게 탁월한 선택입니다.\\n\\n### 결론\\n\\n파스타 소스 품종의 세계는 요리의 즐거움의 보고이며, 각 소스 유형은 파스타 요리에 독특한 맛과 개성을 제공합니다. 알프레도 소스의 편안한 크리미함을 선호하든 마리나라의 톡 쏘는 풍미를 선호하든 모든 분위기와 상황에 맞는 다양한 파스타 소스가 있습니다. 다양한 파스타 소스를 살펴보면 간단한 파스타 한 접시를 오감을 즐겁게 하고 영혼을 만족시키는 미식 식사 경험으로 바꿀 수 있습니다. 소스 만들기의 예술을 받아들이고 이 감칠맛 나는 파스타 소스 종류로 파스타 게임의 수준을 높이십시오.',\n",
       "  '### 파스타 소스 대용품 소개\\n\\n파스타 소스는 모든 파스타 요리의 중요한 구성 요소로, 맛, 질감 및 식사에 전반적인 매력을 제공합니다. 그러나 특정 파스타 소스가 부족하거나 새로운 맛을 실험하려는 경우가 있을 수 있습니다. 이러한 경우 파스타 소스 대용품에 대한 지식이 있으면 도움이 될 수 있습니다. 맛과 품질을 손상시키지 않으면서 전통적인 파스타 소스를 대체할 수 있는 몇 가지 대안을 살펴보겠습니다.\\n\\n### 크림 기반 대체품\\n\\n크림 베이스의 소스는 풍부하고 크리미한 질감으로 인기가 있습니다. 알프레도 소스가 부족하다면 헤비 크림, 버터, 파마산 치즈를 조합하여 비슷한 크림 같은 질감을 만드는 것을 고려할 수 있습니다. 또는 우유와 옥수수 전분의 혼합물은 크림 기반 소스의 두께를 모방할 수도 있습니다.\\n\\n### 토마토 기반 대체품\\n\\n마리나라 또는 뽀모도로와 같은 토마토 기반 소스는 다양한 옵션으로 대체할 수 있습니다. 통조림 토마토 소스가 부족하다면 이탈리안 시즈닝과 마늘을 섞은 깍둑썰기한 토마토를 빠르고 쉽게 대체할 수 있습니다. 또한 구운 고추 소스나 햇볕에 말린 토마토 페스토는 전통적인 토마토 기반 소스에 독특한 트위스트를 제공할 수 있습니다.\\n\\n### 페스토와 허브 대용품\\n\\n바질 페스토의 신선한 맛을 갈망하지만 재료가 부족한 사람들에게는 루꼴라 페스토 또는 시금치 페스토와 같은 대안이 풍미 있는 대체품이 될 수 있습니다. 또한 바질, 파슬리, 오레가노와 같은 신선한 허브를 올리브 오일과 견과류와 혼합하면 파스타 요리를 위한 다재다능한 허브 기반 소스를 만들 수 있습니다.\\n\\n### 올리브 오일과 마늘 대용품\\n\\n간단하면서도 풍미 있는 올리브 오일과 마늘 소스는 칠리, 레몬 또는 허브 오일과 같은 맛의 주입된 올리브 오일로 쉽게 대체할 수 있습니다. 마늘과 함께 볶은 샬롯이나 양파도 요리에 깊이를 더하여 고전적인 올리브 오일과 마늘 소스에 대한 짭짤한 대안을 만들 수 있습니다.\\n\\n### 치즈 기반 대체품\\n\\n치즈 애호가들은 전통적인 파스타 소스를 대체할 수 있는 다양한 치즈 기반 대체품으로 기뻐할 수 있습니다. 레몬 제스트와 허브를 블렌딩한 리코타 치즈는 크리미하고 톡 쏘는 소스를 만들 수 있으며, 염소 치즈와 크림을 혼합하면 클래식 치즈 소스에 대한 풍부하고 퇴폐적인 대안을 제공할 수 있습니다.\\n\\n### 파스타 소스 대용품 실험\\n\\n파스타 소스 대용품을 탐색할 때 다양한 맛 조합과 재료를 실험하는 것을 두려워하지 마십시오. 매콤한 아라비아타 대체품부터 흙 냄새가 나는 버섯 라구 대체품에 이르기까지 파스타 소스 대체품의 세계는 다양하고 흥미진진합니다. 부엌에서 창의성을 발휘하고 미뢰가 독특하고 맛있는 파스타 창작물로 안내하도록 하십시오.'],\n",
       " 'images': [],\n",
       " 'documents_urls': [['https://m.blog.naver.com/il5612/223261037375',\n",
       "   'https://ccgv.tistory.com/entry/스파게티-보관',\n",
       "   'https://m.blog.naver.com/iiliillli/223395572794',\n",
       "   'https://blog.naver.com/PostView.naver?blogId=ottlh7&logNo=221930927254',\n",
       "   'https://blog.naver.com/PostView.naver?blogId=wnwkwnwk&logNo=223212104222'],\n",
       "  ['https://dotoritas.com/파스타-소스-종류/',\n",
       "   'https://namu.wiki/w/파스타/종류',\n",
       "   'https://dotoritas.com/파스타면-종류/',\n",
       "   'https://m.blog.naver.com/atriumkorea/221615180385',\n",
       "   'https://food.daily.co.kr/read312716833'],\n",
       "  ['https://m.blog.naver.com/kyakya_4001/221996022043',\n",
       "   'https://blog.naver.com/PostView.naver?blogId=review7083&logNo=223371455162',\n",
       "   'https://ko.bakeitwithlove.com/tomato-sauce-substitute/',\n",
       "   'https://m.blog.naver.com/mixutopa/222220077021',\n",
       "   'https://ko.bakeitwithlove.com/worcestershire-sauce-substitute/']],\n",
       " 'documents': [['파스타소스 소비기한 그냥 버리지 마세요! : 네이버 블로그\\n본문 바로가기\\n블로그\\n카테고리 이동\\n전국렌탈 LG전자 공식판매점\\n검색\\nMY메뉴 열기\\n일상 이야기\\n파스타소스 소비기한 그냥 버리지 마세요! \\n전국렌탈\\n2023. 11. 10. 13:33\\n\\t\\n 이웃추가\\n본문 기타 기능\\n본문 폰트 크기 조정\\n본문 폰트 크기 작게 보기\\n본문 폰트 크기 크게 보기\\n가\\n 공감하기\\n공유하기 \\nURL복사 \\n신고하기 \\n\\u200b제가 너무너무 좋아하는 음식들 중 하나인 파스타! 여러분들은 평소파스타 좋아하시나요? 파스타는 직접 소스를 만들어 먹어도 당연히맛있겠지만, 요즘은 시판용 파스타소스도 굉장히 잘 나오기 때문에굳이 소스를 만들 필요도 없습니다.\\u200b\\u200b\\u200b\\u200b\\u200b\\n \\n\\u200b파스타 면과 소스만 한번 사두면, 면을 삶고 소스를 섞어서 원할 때마다 간단한 방법으로한 끼를 해결할 수 있어요. 그래서 저희 집에는 항상 파스타 면과 소스가 구비되어 있답니다.\\u200b그런데 요즘 배달을 너무 많이 먹다 보니 .. 저희 집에 구매해둔 파스타 소스 유통기한이지나버렸더라고요? 파스타 소스 유통기한이꽤나 긴 걸로 알고 있는데 .. 요즘 배달 음식을너무 많이 먹긴 했나 봐요. 반성 반성 😥😓\\u200b\\u200b\\n \\n \\n\\u200b\\u200b그냥 버리긴 아까워서 파스타소스 소비기한에대해 알아봤는데요. 야호! 다행히도 파스타 소스소비기한은 유통기한 +1년이더라고요. 파스타소스뿐만 아니라, 병에 들어있는 소스류 소비기한은 대부분 유통기한 +1년이라고 합니다 :D\\u200b따라서 유통기한 지난 파스타 소스도, 유통기한후 1년까지는 섭취가 가능한 것이죠. 다만 개봉을하지 않은 소스 기준! 파스타소스 소비기한이 지나지 않았다 하더라도, 개봉을 했다면 무조건폐기해 주셔야 한다는 점을 꼭 알아주세요 ~~~\\u200b\\u200b\\u200b\\u200b\\u200b\\n \\n\\u200b혹시 유통기한과 소비기한의 차이를모르시는 분들 계실까요? 모르시는분들을 위해 간단하게 설명드리자면유통기한은 다들 아시다시피, 해당식품을 유통 및 판매할 수 있는 기간을뜻합니다. 따라서 유통기한이 지난식품을 절대로 판매할 수 없게 돼요.\\u200b그리고 소비 기한은 해당 식품을 섭취해도 이상이 없을 것으로 판단되는시한! 그렇기 때문에 유통기한이 지난 음식이라도, 소비기한이 지나지 않은 경우 섭취가 가능할 수 있는 거예요. 하지만 섭취 최종시한인 만큼, 식품의 소비기한까지 지났다면 절대로 해당 식품을 섭취하는 일이 없어야 되겠죠?\\u200b\\u200b\\n \\n \\n\\u200b\\u200b또한 소비기한은 어디까지나 미개봉 상태로, 올바른 환경에서 보관했을 때의 기준입니다. 한 번이라도 식품을 개봉했다면, 유통기한이 지난 이상 바로 폐기해 주시는 것이 맞아요.\\u200b소비기한이 지나지 않은 미개봉 식품을 섭취할 때도 꼭 한 번에 모두 섭취해 주세요 ~ 개봉한 이상 재보관은 안된답니다! 남더라도 절대 다시보관하지 말고, 아깝더라도 모두 폐기해 주기!\\u200b\\u200b\\u200b\\u200b\\u200b\\n \\n\\u200b파스타 소스 보관 방법은 미개봉 기준, 직사광선을 피한 서늘한 곳에서 보관해주시면 돼요. 딱히 냉장 보관이나 냉동보관을 해줄 필요도 없고, 유통기한도길기 때문에 보관이 매우 쉬운 편입니다.\\u200b그러나 개봉한 파스타 소스는 냉장 보관을하더라도 보관 기간이 매우 짧은 편! 유통기한이 많이 남았더라도, 개봉을 한 이상보관 기간이 매우 짧아지기 때문에 가급적한 번에 모두 소비하는 것이 좋고요. 한 번에소비를 못했다면 최대한 빠른 시일 내로남은 파스타 소스를 소비해 주셔야 해요.\\u200b\\u200b\\u200b\\u200b\\u200b\\n \\n\\u200b당분간 파스타를 또 먹을 계획이 없다면,애초에 남은 파스타 소스는 냉동 보관을하는 것도 좋은 방법입니다. 소스를 용기째얼리면 나중에 사용하기가 어려워지니까,실리콘 얼음틀에 소스를 넣고 얼려보세요.\\u200b파스타 소스가 완전히 얼은 후에는, 틀에서 빼낸 후 지퍼백에 옮겨 담아줍니다. 이렇게 지퍼백에 큐브 형태의 파스타 소스를 보관하면, 나중에 파스타를 먹을 때마다 필요한 만큼만 꺼내 사용할 수 있어 매우 간단해요.\\u200b그리고 이때 우유나 토마토, 치즈 등 집에있는 재료들을 첨가하면 더 맛있어집니다.\\u200b\\u200b\\u200b\\u200b\\u200b\\n \\n\\u200b사실 파스타 소스는 파스타 외에도 활용할 수 있는 요리가 정말 많죠. \\u200b파스타 면을 삶아서 정석대로 파스타를 만들어 먹는 것도 좋지만, 파스타 면이 대신 밥을 넣어 리소토로 만들 수도 있답니다.\\u200b 또는 집에서 피자를 직접 만들어 먹을 때도 좋은 피자 소스 재료가 되고요. 요즘 유행하는 에그인 헬을 만들 때에도 파스타 소스만 있다면 아주 간단하고쉽게 만들 수 있으니 꼭 도전해 보세요.\\u200b에그인 헬은 캠핑 요리로도 유명한데요. 에그인 헬에 빵을 찍어 먹으면 정말 맛있기때문에 저도 너무 좋아하는 요리랍니다.\\u200b\\u200b\\u200b\\u200b\\u200b\\n \\n\\u200b지금까지 파스타소스 소비기한 및 보관 방법, 활용법에 대해 정리해 보았으니 마지막으로 파스타면 보관 팁 하나 알려드리고 포스팅 마무리해보도록 할게요.\\u200b파스타 면은 삶는 시간이 ±8분 정도로 꽤나 오래 걸리잖아요? 평소 파스타를 자주 드시는 분들은 파스타면을 미리 삶아 소분해둔 뒤, 파스타를 먹을 때마다 1인분 양만 꺼내 조리하시는 것을 추천드립니다.\\u200b이 방법으로 파스타를 조리하면 파스타를 만들 때 걸리는 시간을 눈에 띄게 줄일 수 있어요. 파스타 면이 불고 딱딱해질까 봐걱정되시겠지만, 삶은 면을 소분해 주신 뒤보관할 때 올리브유를 면에 섞어 보관하면 면이 딱딱해지는 것을 방지할 수 있거든요.\\u200b 올리브유를 섞은 뒤 잘 밀봉해서 바로 먹을 거라면 냉장, 며칠 후에 먹을, 예정이라면 냉동 보관해 주도록 합니다. 매우 간단하죠?\\u200b\\u200b\\n \\n \\n\\u200b그럼 다들 제가 알려드린 방법으로 파스타 면및 소스 잘 보관하셔서, 맛있게 드실 수 있길바라며! 저는 포스팅 마무리해보도록 할게요.마지막까지 읽어주셔서 너무너무 감사합니다!\\u200b\\u200b\\u200b\\u200b\\u200b\\n \\n#파스타소스소비기한\\n공감한 사람 보러가기\\n댓글 156\\n공유하기\\n전국렌탈\\n일상·생각\\n✔ LG전자 가전제품 \\n    렌탈 본사 직영점\\n✔ 1644 - 5612\\n✔ 공식 홈페이지\\n    전국렌탈.net\\n이웃추가\\n이 블로그\\xa0\\n일상 이야기\\n\\xa0카테고리 글\\n이전\\n이전\\n다음\\n다음\\n{\"title\":\"파스타소스 소비기한 그냥 버리지 마세요!\",\"source\":\"https://blog.naver.com/il5612/223261037375\",\"blogName\":\"전국렌탈 ..\",\"blogId\":\"il5612\",\"domainIdOrBlogId\":\"il5612\",\"logNo\":223261037375,\"smartEditorVersion\":4,\"cafeDisplay\":true,\"blogDisplay\":true,\"lineDisplay\":true,\"outsideDisplay\":true,\"meDisplay\":true}\\n 맨 위로\\nPC버전으로 보기\\n닫기\\n카테고리\\n 이 블로그 홈\\n \\n이 블로그\\xa0\\n일상 이야기\\n\\xa0카테고리 글\\n이전\\n이전\\n다음\\n다음\\n공감한 사람 보러가기\\n댓글 156\\n공유하기\\n전국렌탈(il5612)\\n님을 이웃추가하고 새글을 받아보세요\\n취소\\n이웃추가',\n",
       "   \"먹다 남은 스파게티 보관, 먹다 남은 파스타 보관법, 파스타면 보관 기간 총 정리\\n먹다 남은 스파게티 보관, 먹다 남은 파스타 보관법, 파스타면 보관 기간 총 정리\\n파스타는 전 세계적으로 사랑받는 음식 중 하나입니다. 집에서 파스타를 만들 때 자주 남기 쉬운데, 이를 올바르게 보관하는 방법을 아는 것은 중요합니다. 오늘은 '먹다 남은 스파게티 보관', '먹다 남은 파스타 보관법', 그리고 '파스타면 보관 기간'에 대해 자세히 알아보겠습니다. 이 세 가지 주제는 파스타를 안전하게 보관하고 맛있게 재사용하는 데 필수적인 요소들입니다. 각각의 보관 방법은 파스타의 신선도와 맛을 유지하는 데 도움이 될 뿐만 아니라 식품 낭비를 줄이는 데에도 기여합니다. 이 글을 통해 파스타 보관의 기본 원칙과 유용한 팁을 제공하여, 여러분의 일상 생활에 실질적인 도움이 되기를 바랍니다.\\n\\xa0\\n\\xa0\\n먹다 남은 스파게티 보관\\n먹다 남은 스파게티를 보관하는 것은 간단하지만 몇 가지 주의 사항이 필요합니다. 먼저, 스파게티를 식힌 후에 보관하는 것이 중요합니다. 온도가 너무 높으면 박테리아가 번식할 수 있으므로, 실온에서 식힌 후 냉장고에 보관하는 것이 좋습니다. 냉장 보관을 할 때는 스파게티를 공기가 통하지 않는 용기나 비닐 랩에 밀봉하여 보관합니다. 이렇게 하면 스파게티가 건조해지거나 냄새가 배는 것을 방지할 수 있습니다. 보관 기간은 2-3일이 적당합니다.\\n\\xa0\\n\\xa0\\n먹다 남은 파스타 보관법\\n남은 파스타를 보관할 때는 몇 가지 요령이 필요합니다. 소스가 있는 파스타와 소스가 없는 파스타를 다르게 보관하는 것이 좋습니다. 소스가 있는 파스타는 그대로 밀폐 용기에 넣어 냉장 보관하면 됩니다. 반면, 소스가 없는 파스타는 약간의 올리브 오일이나 식용유를 섞어 냉장 보관하면 덩어리지지 않고 신선함을 유지할 수 있습니다. 또한, 냉동 보관도 가능합니다. 이 경우, 파스타를 작은 분량으로 나누어 랩이나 냉동용 백에 담아 냉동실에 보관합니다. 냉동 보관 시에는 최대 1-2개월까지 보관할 수 있습니다.\\n\\xa0\\n\\xa0\\n파스타면 보관 기간\\n미개봉 상태의 파스타면은 보통 1-2년의 유통 기한을 가지고 있습니다. 그러나 개봉 후에는 습기와 공기에 노출되어 품질이 빠르게 저하될 수 있습니다. 따라서 개봉 후에는 밀폐 용기에 담아 건조하고 서늘한 곳에 보관하는 것이 좋습니다. 삶은 파스타의 경우, 3-5일 이내에 소비하는 것이 바람직합니다. 파스타면의 보관 기간은 보관 환경과 상태에 따라 달라질 수 있으므로, 보관 기간을 넘기지 않도록 주의하는 것이 중요합니다.\\n\\xa0\\n\\xa0\\n요약\\n파스타는 맛있고 다양하게 활용할 수 있는 식재료입니다. 하지만 올바른 보관 방법을 따르지 않으면 신선도와 맛이 떨어질 수 있습니다. '먹다 남은 스파게티 보관'에서는 식힌 후 밀봉하여 냉장 보관하는 것이 중요합니다. '먹다 남은 파스타 보관법'에서는 소스 유무에 따라 보관 방법이 다르며, 냉동 보관도 가능함을 알 수 있습니다. 마지막으로 '파스타면 보관 기간'에서는 미개봉 및 개봉 후의 파스타면 보관 방법과 기간에 대해 알아보았습니다. 이러한 방법들을 통해 파스타를 신선하게 유지하고, 맛있게 재사용할 수 있을 것입니다.\\n\\xa0\\n공유하기\\n게시글 관리\\n구독하기일상 정보 다이소봄\\n저작자표시 비영리 변경금지\\n \\n 검색 바로가기 \\n 인기글 \\n화재 시 행동요령, 화재 발생 시 대처법, 화재대피 매뉴얼 총 정리\\n지진 시 행동요령, 지진 발생 후 대처 방법, 지진 대피 매뉴얼 총 정리\\n필레아페페 로미오이데스 키우기, 필레아페페 가격 총 정리\\n사계귤나무 키우기, 사계절나무, 블랙 레몬 총 정리\\n 나만 모르는 실시간 뉴스\\n티스토리툴바\",\n",
       "   '보기만 해도 영양가득! 토마토의 효능부터 선택과 보관방법까지 : 네이버 블로그\\n본문 바로가기\\n블로그\\n카테고리 이동\\n요리조리쿡쿡\\n검색\\nMY메뉴 열기\\n식재료\\xa0효능\\xa0및\\xa0보관방법\\n보기만 해도 영양가득! 토마토의 효능부터 선택과 보관방법까지\\n소희\\n2024. 3. 26. 10:36\\n\\t\\n 이웃추가\\n본문 기타 기능\\n본문 폰트 크기 조정\\n본문 폰트 크기 작게 보기\\n본문 폰트 크기 크게 보기\\n가\\n 공감하기\\n공유하기 \\nURL복사 \\n신고하기 \\n\\xa0빨간색의 예쁜 토마토는 샐러드나 파스타, 피자 등의 요리에 필수적인 채소입니다. 비타민 C, 비타민 A, 식이섬유를 비롯한 다양한 영양소가 풍부하며, 특히 레시틴과 카로틴은 나이 듬에 따른 눈 건강 문제를 예방하는데 도움을 줍니다. 또한, 토마토에는 항산화 성분인 리코펜이 많이 포함되어 있어 암 예방 및 심혈관 질환 예방에 효과적입니다.\\xa0토마토를 고를 때는 색깔, 굳은 정도, 표면의 상태 등을 살펴볼 필요가 있습니다. 무엇보다 중요한 점은 한결같이 붉은 색을 띄며 탱글탱글한 것을 선택하는 것입니다. 색깔이나 기둥 부분에서 시들거나 썩은 부분이 있다면 신선도가 떨어집니다.\\xa0\\xa0토마토의 보관방법은 실온과 냉동, 냉장 등에 따라 다릅니다. 실온에서는 통풍이 잘 되는 제빵 바구니나 통풍이 잘 되는 곳에 놓으면 됩니다. 한편, 냉동은 장기간 보관할 경우 추천하지 않습니다. 종종 냉장고에 넣어두면 맛이 떨어진다고 알려져 있지만, 완전히 익지 않은 토마토나 잘게 자른 토마토는 반드시 냉장고에 보관해야 합니다.\\xa0토마토는 다양한 요리에 활용됩니다. 대표적으로 토마토 스프, 파스타 소스, 샐러드, 피자 등이 있습니다. 또한, 참치와 함께 볶거나 스크램블 에그에 넣어도 깊은 맛을 낼 수 있습니다.\\n공감한 사람 보러가기\\n댓글 1\\n공유하기\\n소희\\n요리·레시피\\n환영합니다! \"요리조리쿡쿡\" 블로그에 방문해주셔서 감사합니다. 일상에서 벌어지는 소소한 요리 이야기와 레시피, 비법들을 세심하게 담아내려 해요. 또한 건강 상식도 나누고 싶어요. 함께해주세요!\\n이웃추가\\n이 블로그\\xa0\\n식재료\\xa0효능\\xa0및\\xa0보관방법\\n\\xa0카테고리 글\\n이전\\n이전\\n다음\\n다음\\n{\"title\":\"보기만 해도 영양가득! 토마토의 효능부터 선택과 보관방법까지\",\"source\":\"https://blog.naver.com/iiliillli/223395572794\",\"blogName\":\"요리조리쿡..\",\"blogId\":\"m2821004\",\"domainIdOrBlogId\":\"iiliillli\",\"logNo\":223395572794,\"smartEditorVersion\":3,\"lineDisplay\":true,\"outsideDisplay\":true,\"cafeDisplay\":true,\"blogDisplay\":true,\"meDisplay\":true}\\n 맨 위로\\nPC버전으로 보기\\n닫기\\n카테고리\\n 이 블로그 홈\\n \\n이 블로그\\xa0\\n식재료\\xa0효능\\xa0및\\xa0보관방법\\n\\xa0카테고리 글\\n이전\\n이전\\n다음\\n다음\\n공감한 사람 보러가기\\n댓글 1\\n공유하기\\n소희(iiliillli)\\n님을 이웃추가하고 새글을 받아보세요\\n취소\\n이웃추가',\n",
       "   '스파게티 소스 냉동보관법 [파스타소스 냉동보관] : 네이버 블로그\\nNAVER\\n블로그\\n욘쨩의 블로그\\n블로그 검색\\n이 블로그에서 검색\\n공감\\n\\t\\n\\t첫 댓글을 남겨보세요\\n\\t\\n\\t\\n\\t\\n공유하기\\n메뉴 바로가기\\n본문 바로가기\\n내 블로그 \\n이웃블로그\\n블로그 홈 \\n로그인\\n욘쨩의 블로그\\n블로그 메뉴\\n프롤로그\\n블로그\\nApple 정보\\n제품리뷰\\n이벤트 할인\\n지도\\n서재\\n메모\\n태그\\n안부\\n\\xa0\\xa0\\xa0\\xa0\\xa0\\xa0\\xa0\\xa0\\xa0\\xa0\\xa0\\xa0\\n블로그\\n글쓰기\\n가벼운 글쓰기툴 퀵에디터가 오픈했어요!\\n전체보기 35개의 글\\r\\n\\t\\n전체보기목록열기\\n생활꿀팁\\n스파게티 소스 냉동보관법 [파스타소스 냉동보관] \\n욘쨩\\n ・ \\n2020. 4. 30. 6:50\\nURL 복사\\n 이웃추가\\n본문 기타 기능\\n                   공유하기\\n                \\n신고하기\\n안녕하세요\\u200b욘쨩블로그 입니다.\\u200b요즘 1인가구가 늘어나면서 \\u200b아래와 같이 1인분 전용 스파게티 소스가 생겨나고 있습니다.\\u200b(협찬 아닙니다, 청정원의 홍보대사도 아닙니다 ㅜㅜ)\\u200b\\n \\n \\n\\u200b\\n \\n청정원 로제 스파게티 소스\\nCOUPANG\\ncoupa.ng\\n \\n파트너스 활동을 통해 일정액의 수수료를 제공받을 수 있습니다\\u200b\\u200b사실 굉장히 편리해 진건 사실입니다.\\u200b1인분으로 뜯어서 바로 먹을 수 있으니까요\\u200b\\n \\n \\n\\u200b그러나 제가 구매한 것은 이마트 노브랜드 로제 스파게티 소스입니다.\\u200b저는 개인적으로 이 노브랜드의 로제 스파게티 소스를 좋아합니다.\\u200b\\u200b그러나 2인분이므로, 사실 좀 양이 많습니다.\\u200b그래서 스파게티 냉동보관을 할수 없을까 생각하다가\\u200b결론은 스파게티 소스 냉동보관 할수 있습니다.\\u200b근거는 다음과 같습니다.\\u200b냉동 스파게티가 있습니다.\\u200b\\n \\n오뚜기 피자게티 용기 (냉동)\\nCOUPANG\\ncoupa.ng\\n \\n파트너스 활동을 통해 일정액의 수수료를 제공받을 수 있습니다\\u200b\\u200b이런식으로 냉동으로 파는 제품들은 수도 없이 많이 있습니다.\\u200b물론, 방부제와 같은 것들이 들어있어서 보관기간은 좀 더 길 수 있으나\\u200b결론적으로 저 제품들도 전자렌지에 돌리면 소스가 해동이 되니\\u200b스파게티도 냉동보관이 가능하다는 결론에 이르게 되었습니다.\\u200b\\u200b\\u200b결과는 성공적입니다.\\u200b잘 냉동이 되었고\\u200b다음에 사용할 때 미리 꺼내두어 해동시켜 이용할 예정입니다.\\u200b여러분들도 남는 스파게티 소스 냉장보관해서 버리지 마시고\\u200b냉동보관으로 조금 더 오래 사용하세요~\\u200b감사합니다.\\u200b\\u200b\\u200b\\u200b#스파게티냉동 #냉동스파게티 #스파게티소스냉동보관 #스파게티소스냉동 #파스타소스냉동 #파스타소스보관방법 #스파게티소스보관 #스파게티소스보관방법\\n \\n저작자 명시 필수\\n영리적 사용 불가\\n내용 변경 불가\\n\\t\\n\\t 저작자 명시 필수\\n\\t\\n\\t- 영리적 사용 불가\\n\\t\\n\\t- 내용 변경 불가\\n\\t\\n\\t\\n태그\\n취소\\n확인\\n공감\\n이 글에 공감한 블로거 열고 닫기\\n 댓글\\n\\t\\n\\t쓰기\\n\\t\\n이 글에 댓글 단 블로거 열고 닫기\\n인쇄\\n\\t\\n\\t\\n댓글쓰기\\n1/1\\n이전\\n다음\\n\\t이 블로그\\n\\t\\n\\t\\n\\t  전체 \\n\\t\\n\\t\\n\\t\\n\\t카테고리 글\\n\\t\\n전체글 보기\\n화면 최상단으로 이동\\nRSS 2.0\\nRSS 1.0\\nATOM 0.3\\n검색\\n글 검색\\n이 블로그의 저작물은 별도표시가 없는 한 아래 조건에따라 사용 가능합니다\\n저작자 명시 필수\\n영리적 사용 불가\\n내용 변경 불가\\nPOWERED BY\\nNAVER\\nBLOG\\n태그\\n최근 |\\n인기\\n\\xa0\\xa0\\xa0\\xa0\\xa0\\xa0\\xa0\\xa0\\xa0\\n안녕하세요.이 포스트는 네이버 블로그에서 작성된 게시글입니다.자세한 내용을 보려면 링크를 클릭해주세요.감사합니다.\\n글 보내기 서비스 안내\\n2009년 6월 30일 네이버 여행 서비스가 종료되었습니다. 네이버 여행 서비스를 이용해 주신 여러분께 감사드리며, 더 좋은 서비스로 보답할 수 있도록 노력하겠습니다.\\n악성코드가 포함되어 있는 파일입니다.\\n{FILENAME}\\n백신 프로그램으로 치료하신 후 다시 첨부하시거나, 치료가 어려우시면파일을 삭제하시기 바랍니다. \\n네이버 백신으로 치료하기\\n고객님의 PC가 악성코드에 감염될 경우 시스템성능 저하,개인정보 유출등의 피해를 입을 수 있으니 주의하시기 바랍니다.\\n작성자 이외의 방문자에게는 이용이 제한되었습니다.\\n{ALERTMESSAGE}\\n이용제한 파일 : {FILENAME}\\n내PC 저장\\nN드라이브 저장\\n카메라 모델\\n해상도\\n노출시간\\n노출보정\\n프로그램모드\\nISO감도\\n조리개값\\n초점길이\\n측광모드\\n촬영일시\\n글보내기 제한 공지\\n저작권 침해가 우려되는 컨텐츠가 포함되어 있어 글보내기 기능을 제한합니다. \\n네이버는 블로그를 통해 저작물이 무단으로 공유되는 것을 막기 위해,\\n\\t저작권을 침해하는 컨텐츠가 포함되어 있는 게시물의 경우 글보내기 기능을 제한하고 있습니다.\\n상세한 안내를 받고 싶으신 경우 네이버 고객센터로 문의주시면 도움드리도록 하겠습니다.\\n\\t건강한 인터넷 환경을 만들어 나갈 수 있도록 고객님의 많은 관심과 협조를 부탁드립니다.\\n주제 분류 제한 공지\\n저작권 침해가 우려되는 컨텐츠가 포함되어 있어 주제 분류 기능을 제한합니다.\\n네이버는 블로그를 통해 저작물이 무단으로 공유되는 것을 막기 위해,\\n\\t저작권을 침해하는 컨텐츠가 포함되어 있는 게시물의 경우 주제 분류 기능을 제한하고 있습니다.\\n상세한 안내를 받고 싶으신 경우 네이버 고객센터로 문의주시면 도움드리도록 하겠습니다.\\n\\t건강한 인터넷 환경을 만들어 나갈 수 있도록 고객님의 많은 관심과 협조를 부탁드립니다.\\n작성하신 게시글에 사용이 제한된 문구가 포함되어 일시적으로  등록이 제한됩니다.\\n이용자 분들이 홍보성 도배, 스팸 게시물로 불편을 겪지 않도록 다음과 같은 경우 해당 게시물 등록이 일시적으로 제한됩니다.\\n특정 게시물 대량으로 등록되거나 해당 게시물에서 자주 사용하는\\n\\t  문구가 포함된 경우\\n특정 게시물이 과도하게 반복 작성되거나 해당 게시물에서 자주 사용하는문구가 포함된 경우\\n스팸 게시물이 확대 생성되는 것을 방지하기 위하여 문구 및 사용 제한기간을상세하게 안내해 드리지 못하는 점 양해 부탁 드립니다. 모두가 행복한 인터넷문화를 만들기 위한 네이버의 노력이오니 회원님의 양해와 협조 부탁드립니다.\\n더 궁금하신 사항은 고객센터로 문의하시면 자세히 알려드리겠습니다.\\n수정하신 후 다시 등록해 주세요.\\n확인\\n회원님의 안전한 서비스 이용을 위해 비밀번호를 확인해 주세요.\\n다시 한번 비밀번호 확인 하시면 이용중인 화면으로 돌아가며, 작성 중이던내용을 정상적으로 전송 또는 등록하실 수 있습니다.\\n \\n1일 안부글 작성횟수를 초과하셨습니다.\\n\\t네이버 블로그에서는 프로그램을 이용한\\n\\t안부글 자동등록 방지를 위해 1일 안부글 작성횟수에\\n\\t제한을 두고 있습니다.\\n\\t\\n1일 안부글 작성횟수를 초과하셨습니다.\\n\\t고객님이 남기신 안부글에 대한 다수의 신고가 접수되어\\n\\t1일 안부글 작성 횟수가 5회로 제한되었습니다.\\n\\t\\n\\t네이버 블로그는 여러 사람이 함께 모여 즐거움을 나누는\\n\\t공간으로 모든 분들이 기분좋게 블로그를 이용할 수 있도록\\n\\t고객님의 이해와 협조 부탁 드립니다.\\n\\t\\n공감을 삭제하시겠습니까?\\n이 글의 공감수도 함께 차감됩니다.\\n이웃으로 추가하시겠어요?\\n욘쨩\\n욘쨩의 블로그\\n이웃추가\\n이웃추가 레이어 닫기\\n작성하신 에 이용자들의 신고가 많은 표현이 포함되어 있습니다.\\n신고가 많은 표현\\n다른 표현을 사용해주시기 바랍니다.\\n\\t건전한 인터넷 문화 조성을 위해 회원님의 적극적인 협조를 부탁드립니다.\\n더 궁금하신 사항은 고객센터로 문의하시면 자세히 알려드리겠습니다.\\n확인\\n블로그 마켓 가입 완료\\n내 상품 관리에서 배송비 설정 후 상품 판매를 시작해보세요!\\n배송비 설정하기\\n블로그 마켓 가입 완료 레이어 닫기\\n블로그 마켓 탈퇴가완료되었습니다.\\n문의사항은 블로그 마켓 고객센터로 연락주세요.\\n확인',\n",
       "   '파스타소스 냉동 보관방법 남은 소스 페스토 소분보관 : 네이버 블로그\\nNAVER\\n블로그\\n주며느리의 일상\\n블로그 검색\\n이 블로그에서 검색\\n공감\\n\\t\\n\\t\\n\\t댓글\\n\\t\\n\\t\\n\\t\\n\\t1\\n\\t\\n\\t\\n공유하기\\n메뉴 바로가기\\n본문 바로가기\\n내 블로그 \\n이웃블로그\\n블로그 홈 \\n로그인\\n주며느리의 일상\\n블로그 메뉴\\n프롤로그\\n블로그\\n홈카페/인테리어\\nIT/전자\\n해외여행\\n임신/육아\\n안부\\n\\xa0\\xa0\\xa0\\xa0\\xa0\\xa0\\xa0\\xa0\\xa0\\xa0\\xa0\\xa0\\n검색\\n글 검색\\n블로그\\n글쓰기\\n가벼운 글쓰기툴 퀵에디터가 오픈했어요!\\n전체보기 2,063개의 글\\r\\n\\t\\n전체보기목록열기\\n간단요리\\n파스타소스 냉동 보관방법 남은 소스 페스토 소분보관 \\n주며느리\\n ・ \\n2023. 9. 15. 11:24\\nURL 복사\\n 이웃추가\\n본문 기타 기능\\n                   공유하기\\n                \\n신고하기\\n \\n파스타소스 냉동 보관방법 남은 소스 페스토 소분보관\\n \\n \\n안녕하세요!주며느리 입니다. : )\\u200b파스타소스나 아보카도 살사소스모든 소스류를 냉장고에오래 보관하게 되면 뚜껑 주변으로 곰팡이가생기더라구요요 ㅜㅜ 버린 경우가 많아서 너무나 아깝...\\u200b그래서!파스타 소스 한번 개봉하면무조건 소분해서 냉동실에 보관하고 있답니다.\\u200b파스타 소스 뿐만 아니라 사용하고 남은 모든 소스! 다소분해서 냉동보관하면 보관기간도 길고좋아요~\\u200b\\n \\n\\u200b시금치가 너무 많아서 만들어봤었던시금치 페스토!\\u200b시금치 페스토 진짜... 생각보다 너무나 꿀맛이라빵에도 스프레드해서 발라먹고소스처럼 찍어먹고 파스타에 넣어서맛있게 만들어먹었는데,\\u200b워낙 양이 많다보니 보관을 잘 해야겠더라구요.냉장고에 보관하면 금방 상할 수 있어서냉동실에 소분해서 보관했답니다.\\u200b\\n \\n \\n시금치 페스토 만드는 방법 정말 간단하니요거 참고하세요!\\u200b\\n \\n시금치활용 페스토 만드는 방법 베티스 엑스트라버진올리브오일 간단레시피\\n시금치페스토 만드는 방법 베티스 엑스트라버진올리브오일 활용 레시피 안녕하세요~ 주며느리 입니다. : ) ...\\nblog.naver.com\\n \\n \\n\\u200b파스타소스를 냉동실에 통째로 넣어 얼리게 되면 꺼냈을 때 정말 난감하죠.\\u200b녹을때까지 기다릴 수도 없고녹였다가 다시 얼릴수도 없으니까요 ㅜㅜ\\u200b조금만 남았다면 괜찮지만,여러번 나눠 먹어야 하는 양이라면소분 후 얼리는 거 추천드려요!\\u200b\\n \\n\\u200b평평한 트레이 위에 종이호일을 깔아줬어요.종이호일을 깔아준 이유는 \\u200b종이호일만 버리면 되니뒤처리 하기에도 편하고 얼린 파스타 소스를떼어내기에도 편해요.\\u200b\\n \\n\\u200b 종이호일 위에 한 덩이씩한 번에 먹을 양만큼 파스타소스를 숟가락으로 퍼서 올려준 뒤 다시 종이 호일로 덮어서 (위생상 ㅎㅎ)냉동실에 넣어줍니다.\\u200b제가 만든 페스토는 꾸덕해서모양이 딱딱 잡혔는데,액체같은 소스는 칸막이가 있는 그릇이나각각 반찬통이나 봉지에 넣어 얼리면될 것 같아요.\\u200b\\n \\n\\u200b냉동실에서 모양 그대로 꽝꽝 얼었어요. 하나씩 똑똑 떼어 지퍼팩에 넣어줄까 하다가종이호일 그대로 말아서 지퍼팩에 넣었어요!\\u200b요렇게 하면 서로서로 붙지않고더 좋더라구요?ㅎㅎ\\u200b이 상태로 냉동실에 넣어두고 사용하니하나씩 꺼내먹기도 정말 편하고,보관기간도 길어져서 너무너무 좋아요~\\u200b\\n \\n\\u200b부피도 확 작아져서 냉동실 한 쪽에넣어두기도 좋고,먹을만큼 한 덩이씩 꺼내먹을 수 있어서완전 편리함 그 자체 ㅎㅎ\\u200b냉동해도 맛 똑같아요.파스타소스나 음식 만들고 소스가 남았다면무조건 소분해서 얼려보세요~\\u200b\\n \\n \\n\\u200b이상 파스타소스 냉동 보관방법 남은 소스 소분 보관방법 후기였습니다.\\u200b#파스타소스보관 #파스타소스냉동보관 #남은소스보관방법 #소스냉동보관\\n \\n저작자 명시 필수\\n영리적 사용 불가\\n내용 변경 불가\\n\\t\\n\\t 저작자 명시 필수\\n\\t\\n\\t- 영리적 사용 불가\\n\\t\\n\\t- 내용 변경 불가\\n\\t\\n\\t\\n태그\\n취소\\n확인\\n공감\\n이 글에 공감한 블로거 열고 닫기\\n 댓글\\n\\t\\n\\t1\\n\\t\\n이 글에 댓글 단 블로거 열고 닫기\\n인쇄\\n\\t\\n\\t\\n댓글쓰기\\n1/1\\n이전\\n다음\\n\\t이 블로그\\n\\t\\n\\t\\n\\t  전체 \\n\\t\\n\\t\\n\\t\\n\\t카테고리 글\\n\\t\\n전체글 보기\\n화면 최상단으로 이동\\nRSS 2.0\\nRSS 1.0\\nATOM 0.3\\n안녕하세요.이 포스트는 네이버 블로그에서 작성된 게시글입니다.자세한 내용을 보려면 링크를 클릭해주세요.감사합니다.\\n글 보내기 서비스 안내\\n2009년 6월 30일 네이버 여행 서비스가 종료되었습니다. 네이버 여행 서비스를 이용해 주신 여러분께 감사드리며, 더 좋은 서비스로 보답할 수 있도록 노력하겠습니다.\\n악성코드가 포함되어 있는 파일입니다.\\n{FILENAME}\\n백신 프로그램으로 치료하신 후 다시 첨부하시거나, 치료가 어려우시면파일을 삭제하시기 바랍니다. \\n네이버 백신으로 치료하기\\n고객님의 PC가 악성코드에 감염될 경우 시스템성능 저하,개인정보 유출등의 피해를 입을 수 있으니 주의하시기 바랍니다.\\n작성자 이외의 방문자에게는 이용이 제한되었습니다.\\n{ALERTMESSAGE}\\n이용제한 파일 : {FILENAME}\\n내PC 저장\\nN드라이브 저장\\n카메라 모델\\n해상도\\n노출시간\\n노출보정\\n프로그램모드\\nISO감도\\n조리개값\\n초점길이\\n측광모드\\n촬영일시\\n글보내기 제한 공지\\n저작권 침해가 우려되는 컨텐츠가 포함되어 있어 글보내기 기능을 제한합니다. \\n네이버는 블로그를 통해 저작물이 무단으로 공유되는 것을 막기 위해,\\n\\t저작권을 침해하는 컨텐츠가 포함되어 있는 게시물의 경우 글보내기 기능을 제한하고 있습니다.\\n상세한 안내를 받고 싶으신 경우 네이버 고객센터로 문의주시면 도움드리도록 하겠습니다.\\n\\t건강한 인터넷 환경을 만들어 나갈 수 있도록 고객님의 많은 관심과 협조를 부탁드립니다.\\n주제 분류 제한 공지\\n저작권 침해가 우려되는 컨텐츠가 포함되어 있어 주제 분류 기능을 제한합니다.\\n네이버는 블로그를 통해 저작물이 무단으로 공유되는 것을 막기 위해,\\n\\t저작권을 침해하는 컨텐츠가 포함되어 있는 게시물의 경우 주제 분류 기능을 제한하고 있습니다.\\n상세한 안내를 받고 싶으신 경우 네이버 고객센터로 문의주시면 도움드리도록 하겠습니다.\\n\\t건강한 인터넷 환경을 만들어 나갈 수 있도록 고객님의 많은 관심과 협조를 부탁드립니다.\\n작성하신 게시글에 사용이 제한된 문구가 포함되어 일시적으로  등록이 제한됩니다.\\n이용자 분들이 홍보성 도배, 스팸 게시물로 불편을 겪지 않도록 다음과 같은 경우 해당 게시물 등록이 일시적으로 제한됩니다.\\n특정 게시물 대량으로 등록되거나 해당 게시물에서 자주 사용하는\\n\\t  문구가 포함된 경우\\n특정 게시물이 과도하게 반복 작성되거나 해당 게시물에서 자주 사용하는문구가 포함된 경우\\n스팸 게시물이 확대 생성되는 것을 방지하기 위하여 문구 및 사용 제한기간을상세하게 안내해 드리지 못하는 점 양해 부탁 드립니다. 모두가 행복한 인터넷문화를 만들기 위한 네이버의 노력이오니 회원님의 양해와 협조 부탁드립니다.\\n더 궁금하신 사항은 고객센터로 문의하시면 자세히 알려드리겠습니다.\\n수정하신 후 다시 등록해 주세요.\\n확인\\n회원님의 안전한 서비스 이용을 위해 비밀번호를 확인해 주세요.\\n다시 한번 비밀번호 확인 하시면 이용중인 화면으로 돌아가며, 작성 중이던내용을 정상적으로 전송 또는 등록하실 수 있습니다.\\n \\n1일 안부글 작성횟수를 초과하셨습니다.\\n\\t네이버 블로그에서는 프로그램을 이용한\\n\\t안부글 자동등록 방지를 위해 1일 안부글 작성횟수에\\n\\t제한을 두고 있습니다.\\n\\t\\n1일 안부글 작성횟수를 초과하셨습니다.\\n\\t고객님이 남기신 안부글에 대한 다수의 신고가 접수되어\\n\\t1일 안부글 작성 횟수가 5회로 제한되었습니다.\\n\\t\\n\\t네이버 블로그는 여러 사람이 함께 모여 즐거움을 나누는\\n\\t공간으로 모든 분들이 기분좋게 블로그를 이용할 수 있도록\\n\\t고객님의 이해와 협조 부탁 드립니다.\\n\\t\\n공감을 삭제하시겠습니까?\\n이 글의 공감수도 함께 차감됩니다.\\n이웃으로 추가하시겠어요?\\n주며느리\\n주며느리의 일상\\n이웃추가\\n이웃추가 레이어 닫기\\n작성하신 에 이용자들의 신고가 많은 표현이 포함되어 있습니다.\\n신고가 많은 표현\\n다른 표현을 사용해주시기 바랍니다.\\n\\t건전한 인터넷 문화 조성을 위해 회원님의 적극적인 협조를 부탁드립니다.\\n더 궁금하신 사항은 고객센터로 문의하시면 자세히 알려드리겠습니다.\\n확인\\n블로그 마켓 가입 완료\\n내 상품 관리에서 배송비 설정 후 상품 판매를 시작해보세요!\\n배송비 설정하기\\n블로그 마켓 가입 완료 레이어 닫기\\n블로그 마켓 탈퇴가완료되었습니다.\\n문의사항은 블로그 마켓 고객센터로 연락주세요.\\n확인'],\n",
       "  ['대표적인 파스타 소스 종류 9가지 - 주방의 비밀\\nSkip to content \\n \\n \\nMenu \\nHome\\n요리과학\\n술과 와인\\n레시피\\n맛집\\n주방\\n칼연마\\n주방용품\\n \\n \\n대표적인 파스타 소스 종류 9가지 \\n2월 16, 2024 \\n목차\\nToggle\\n파스타 소스 종류토마토 베이스 파스타 소스 종류마리나라 소스볼로네제 소스아라비아타 소스크림 베이스 파스타 소스 종류알프레도 소스카르보나라 소스오일 베이스 파스타 소스 종류알리오 올리오페스토 소스특별한 파스타 소스 종류푸타네스카 소스방울 토마토와 바질 소스마무리\\n파스타 소스 종류\\n파스타는 전 세계적으로 사랑 받는 요리 중 하나 이고 한국에서도 식당은 물론 배달 시장에서도 인기 있는 메뉴이다.\\n파스타의 맛을 결정하는 것은 소스 이기 때문에 이 글에서는 다양하고 인기 있는 파스타 소스 종류들을 소개하며, 각 파스타 소스의 특징을 살펴본다.\\n토마토 베이스 파스타 소스 종류\\n마리나라 소스\\n마리나라는 토마토, 마늘, 바질, 그리고 올리브 오일로 만들어지며, 이탈리아 요리의 기본이 되는 소스이다.\\n마리나라 소스는 간단하면서도 맛있고 짧은 시간 내에 준비할 수 있으며, 피자, 파스타, 해산물 요리에 잘 어울리는 소스이다.\\n볼로네제 소스\\n토마토와 간 고기를 기반으로 한 볼로네제 소스는 라구 소스의 대표적인 예로 풍부하고 진한 맛을 자랑한다.\\n전통적으로는 소고기와 돼지고기를 섞어 사용하며, 셀러리, 당근, 양파와 함께 천천히 조리한다. 볼로네제 소스는 진한 풍미와 함께 풍부한 질감을 원하는 사람들에게 이상적인 파스타 소스이다.\\n아라비아타 소스\\n아라비아타 소스는 이탈리아어로 화난 이란 뜻으로 그 이름에서 알 수 있듯이 매운 토마토 소스이다.\\n신선한 토마토, 마늘, 건고추를 사용하여 만들며, 매콤한 맛을 좋아하는 사람들에게 적합한 파스타 소스이다. 아라비아타 소스는 강렬한 맛과 함께 파스타에 생기를 불어넣어 준다.\\n크림 베이스 파스타 소스 종류\\n알프레도 소스\\n부드러운 크림, 버터, 그리고 파마산 치즈의 조합으로 만들어진 알프레도 소스는 부드럽고 크리미한 맛이 특징인 파스타 소스이다.\\n이 소스는 페투치니 알프레도와 같은 요리에 잘 어울리며, 달콤한 크림 맛과 치즈의 짭짤함이 좋은 조화를 이룬다.\\n카르보나라 소스\\n카르보나라 소스는 달걀, 치즈(페코리노 또는 파마산), 판체타 또는 구이 베이컨, 그리고 후추를 사용하여 만드는 파스타 소스이다.\\n카르보나라 소스는 크림을 사용하지 않고도, 달걀과 치즈의 조합으로 자연스러운 크리미함을 만들어 낸다. 카르보나라는 진정한 이탈리안 음식으로 깊은 맛과 풍부한 질감이 특징이다.\\n오일 베이스 파스타 소스 종류\\n알리오 올리오\\n알리오 올리오는 간단하면서도 강렬한 맛의 소스로, 올리브 오일, 마늘, 건 고추, 때때로 파슬리를 사용하여 만들어 진다.\\n이 소스는 재료의 단순함에도 불구하고 깊은 맛을 내며, 빠르고 쉽게 준비할 수 있어 바쁜 사람들을 위해 이상적인 파스타 소스이다.\\n페스토 소스\\n페스토는 신선한 바질, 올리브 오일, 잣, 파마산 치즈, 그리고 마늘을 갈아 만든 소스이다.\\n페스토 소스는 향긋하고 신선한 맛이 특징이며, 파스타는 물론 샌드위치나 샐러드 드레싱으로도 다양하게 활용될 수 있다.\\n특별한 파스타 소스 종류\\n푸타네스카 소스\\n푸타네스카 소스는 올리브, 케이퍼, 안초비, 토마토로 만들어지며, 강렬하고 짭짤한 맛이 특징인 파스타 소스이다.\\n이 푸타네스카 소스는 특유의 맛으로 인해 사랑 받고 있으며 풍부한 지중해의 맛을 파스타에 더할 수 있다.\\n방울 토마토와 바질 소스\\n방울 토마토와 바질 소스는 신선한 방울 토마토와 바질을 올리브 오일과 함께 가볍게 조리 하여 만든다.\\n방울 토마토의 달콤함과 바질의 신선함이 조화를 이루어, 가벼우면서도 맛있는 파스타 요리를 만들 수 있다.\\n파스타면 종류와 어울리는 소스 완전 정리\\n초보자를 위한 파스타면 끓이는 시간\\n맛있는 요리를 위한 셰프의 요리팁 29가지\\n마무리\\n파스타 소스를 선택할 때는 사용할 재료와 요리할 시간, 그리고 개인의 취향을 고려해야 한다. 소스와 파스타의 조합은 무궁무진하므로, 다양한 소스를 시도해 보며 자신만의 최애 조합을 찾는 것이 중요하다.\\n예를 들어, 가벼운 식사를 원한다면 알리오 올리오와 같은 오일 베이스 소스가 적합하고, 더 풍부한 맛을 원한다면 볼로네제나 카르보나라 소스를 선택할 수 있을 것다.\\nCategories 요리과학 Tags 볼로네제, 파스타, 파스타 소스 \\n가성비 카베르네 소비뇽 와인 추천 13일본의 관동과 관서 요리의 특징 비교 \\nLeave a Comment 응답 취소댓글을 달기 위해서는 로그인해야합니다. \\n상권분석시스템\\n염도 계산표\\n와인페어링차트\\n셰프의 요리팁\\n요리기본상식\\n \\n개인정보 처리방침\\nContact\\n소개글\\n \\n\\tCopyright © 2024. dotoritas.\\t\\n error: Content is protected !!\\n \\nSearch for:',\n",
       "   '파스타/종류 - 나무위키  최근 변경  최근 토론  특수 기능              파스타/종류 \\n\\t최근 수정 시각: 2024-04-27 01:29:34  25   편집 요청     편집 요청  이용중인 IP는 문서 훼손행위가 자주 발생하는 IP이므로 로그인이 필요합니다.(이 메세지는 같은 인터넷 공급업체를 사용하는 다른 누군가로 인해 발생했을 가능성이 높습니다.) (#8602972)만료일: 무기한사유: https://board.namu.wiki/b/report/2799930 / 문서 훼손이 잦은 대역. 로그인 후 이용바랍니다.  \\n\\t편집 권한이 부족한 경우 아래의 \\'편집 요청\\' 버튼으로 편집 요청을 생성할 수 있습니다.\\n\\t[편집 요청 도움말] 편집 요청 닫기  토론  역사         분류 파스타      \\xa0 상위 문서: 파스타1. 개요2. 면에 따른 구별2.1. 롱 파스타2.2. 숏 파스타2.3. 스터프트 파스타2.4. 파스타가 없을 경우3. 소스에 따른 구별3.1. 토마토 소스3.2. 크림 소스3.3. 페스토 소스3.4. 올리브유3.5. 그 외4. 재료에 따른 구별1. 개요[편집]파스타의 종류를 서술한 문서.일반적으로 파스타의 이름은 (면 + alla[1] + 소스 또는 주방장이름, 지역명)의 형식을 가지고 있는 경우가 많다. 예를들어 흔히 말하는 미트소스 스파게티는 스파게티 알라 볼로네제(spaghetti alla bolognese)라고 한다.2. 면에 따른 구별[편집]🍝 파스타의 종류 [ 펼치기 · 접기 ]롱링귀네 · 마팔데 · 바베떼 · 부카티니 · 비골리 · 스파게티 · 카펠리니 · 타야린 · 탈리아텔레 · 파파르델레 · 페투치네 · 피치숏가르가넬리 · 라디아토리 · 로텔레 · 리가토니 · 마카로니· 말로레두스 · 말탈리아티 · 메체 마니케 · 세다니 · 스키아포니 · 스트로차프레티 · 오레키에테 · 제멜리 · 지티 · 카바타피 · 카사레체 · 칼라마라타 · 캄파넬레 · 콘킬리에 · 키페리 · 토르틸리오니 · 투베티 · 트로피에 · 푸실리 · 파르팔레 · 파케리 · 파타토 · 펜네 · 필레야파스티나 스텔레 · 스텔리니 · 아넬리 · 아넬리니 · 오르초 · 쿠스쿠수 · 트리폴리네 · 파르팔리네 · 파스티나 · 프레골라리피에나뇨키 · 라자냐 · 아뇰로티 · 카넬로니 · 토르텔리니 · 라비올리 · 루마케2.1. 롱 파스타[편집]일반면스파게티(Spaghetti)스파게토니(Spaghettoni)두께가 2mm 정도 되는 스파게티, 까르보나라에 주로 쓰인다.스파게티니(Spaghettini)두께 1.6mm 정도인 스파게티페델리니(Fedelini)두께 1.3mm~1.5mm 정도의 스파게티카펠리니(Capellini)부카티니(Bucatini)\"구멍이 뚫린\"이라는 뜻의 bucato에서 유래된 이름처럼 가운데에 구멍이 뚫려 관처럼 생긴 면이다. 겉에서 보면 매우 두껍지만 구멍 덕분에 익는 시간이 생각보다 짧다. 그래도 상대적으로는 오래 걸리는 편.납작면페투치네(Fettuccine)계란 들어가고 납작한 파스타. 말린 것은 폭 6밀리미터, 두께 1밀리미터 정도 된다. 두꺼운 칼국수 면발을 말린듯한 모양이지만 맛은 많이 다르다.링귀네(Linguine)생긴 건 페투치네하고 비슷하게 납작한 모양인데, 면발의 굵기는 딱 스파게티 면을 눌러놓은 듯한 정도로 가늘다. 작은 혀라는 이탈리아어에서 온 이름.탈리아텔레(Tagliatelle)페투치네를 좀 더 얇게 만든 것. 페투치네가 어느정도 굵은 국수라면 이건 매우 얇은 라자냐를 길게 잘라놓은 거라고 보면 된다. 이탈리아에서는 라구(미트)소스를 주로 이것에 곁들인다.파파르델레(Pappardelle)탈리아텔레와는 반대로 페투치네를 좀 더 굵게 만든 것. 진한 맛의 걸쭉한 소스에 잘 어울린다.2.2. 숏 파스타[편집]거의 길쭉길쭉하고 비슷하게 생긴 롱 파스타와는 달리 다 개성있게 생겼다.펜네(Penne)이탈리아 요리에서 널리 사용되는 파스타 종류. 끝이 대각선으로 잘려 있어 소스와 잘 어우러지는 것이 특징.리가토니(Rigatoni)펜네의 확대 버전 파스타.마카로니(Macaroni)푸실리(Fusilli)나선형 모양의 파스타. 북미 지역에서는 로티니(Rotini)라고 불린다. 오뚜기에선 후실리로 판매된다.파르팔레(Farfalle)나비 모양 또는 리본 모양으로 생긴 파스타.쿠스쿠스(Couscous)북아프리카 등지에서 먹는 좁쌀처럼 작은 모양의 밀가루 반죽.프레골라(Fregola)얼핏 보기엔 파스타라기보다는 좀 큰 좁쌀 같은 형태의 파스타. 이찬오 셰프가 즐겨 다룬다. 쿠스쿠스나 프레골라처럼 작은 파스타는 단독으로 먹기보다는 수프나 샐러드에 넣어 먹는 용도로 쓰인다.오르초(Orzo)밥알 모양의 파스타.루오테(Ruote)수레바퀴 모양의 파스타. 로텔레(Rotelle)라고도 한다.오레키에테(Orecchiette)작은 귀라는 뜻 처럼 적혈구 모양의 파스타로, 밀가루가 아닌 보리가루로 반죽한다.제멜리(Gemelli)꽈배기 모양 파스타.[2]스텔리니(Stellini)별 모양 파스타. 크기가 숏파스타들 중에서도 작은 편이다.[3]파케리(Paccheri)큰 튜브 모양의 파스타. 리가토니 보다 짧고 굵으며 더 통통하다.투베티니(tubettini)작은 관 모양 파스타. 디탈리니(Ditalini) 라고도 하지만, 이 두가지를 구별 하기도 한다.투베티(Tubetti)작은 관 모양 파스타. 투베티니의 큰 버전.카넬로니(Cannelloni)관 형태의 파스타 마티코니와 비슷한 모양이다.마니코티(Manicotti)4인치 길이 1 인치 폭 크기의 관 모양 파스타. 크레페로 분류 되기도 한다.파타토(Patato)애벌레 모양 파스타. 감자로 반죽한다.콘킬리에(Conchiglie)조개 모양 파스타. 안쪽의 공간이 넓어서 소를 채워서 요리하기도 한다.요즘 나오는 것 중에는 동물이나 알파벳 모양처럼 더욱 아기자기하게 만든 것도 있다. 심지어 디즈니 캐릭터 모양이나 스파르타 병사 모양도 있다.2.3. 스터프트 파스타[4][편집]라자냐(Lasagna)넓은 판면으로 소스와 함께 층층이 쌓아 만든 파스타.뇨키(Gnocchi)작은 덩어리 모양의 파스타. 부드러우면서 쫄깃한 식감이 특징.토르텔리니(Tortellini)이탈리아풍 만두. 주로 치즈가 안에 들어있으며, 경우에 따라 돼지고기를 넣기도 한다. 일반적인 만두를 기대하고 먹었다가 의외의 식감에 놀랄 수 있다. 좀 큰 녀석은 토르텔로니라고 한다.라비올리(Ravioli)토르텔리니와 함께 이탈리아풍 만두. 토르텔리니에 비해 크기가 큰 편이고, 그만큼 재료도 다양하게 들어간다. 속에 치즈나 햄을 넣기도 하고, 야채를 넣기도 한다.루마케(Lumache)달팽이 모양의 파스타.2.4. 파스타가 없을 경우[편집]파스타가 없을 경우 라면사리만 사거나 보통 라면에서 스프는 다 버리고 라면사리만 살짝 데친 후 스파게티 소스를 부으면 나름 훌륭한 요리가 된다. 파스타가 원래 살짝 딱딱한 편이니 보통 라면 먹듯이 라면사리가 불어버릴 때까지 익히는게 아니라 살짝 익히는게 포인트. 게다가 파스타 요리는 조리 후 올리브유에 버무리는 절차가 있는데 라면 역시 기름에 튀긴 유탕 제품이라 꽤 좋은 대용품이다.[5]사실 라면사리뿐만 아니라 소면, 칼국수면 등 식감만 맞다면 아무거나 써도 먹을 순 있다. 면마다 차이가 있는 적당히 익는 시간만 잘 체크해주자. 또 소금간이 이미 되어있는 면의 경우 굳이 면수에 소금 칠 필요는 없다. 간을 보면서 조절하자.3. 소스에 따른 구별[편집]3.1. 토마토 소스[편집]말 그대로 토마토 소스를 이용한 요리. 토마토가 지용성이라 아무래도 기름(오일)을 이용한 요리에 궁합이 좋은 편이다.뽀모도로(Pomodoro)토마토를 사용한 파스타의 총칭. 소스를 만들어 사용해도 되고(로사), 잘라 넣어 볶아도(비앙카) 된다.볼로네제(Bolognese), 라구(ragu)볼로냐 지방에서 유래한 소스. 다만 두 가지가 있는데 정통 볼로냐 식의 간 고기를 오랫동안 볶아 만드는 라구 알라 볼로네제(ragu alla bolognese)가 있고, 토마토를 베이스로 하고 간 고기를 넣는, 흔히 미트소스라고 부르는 볼로네제 소스가 있다. 보통 볼로네제라고 하면 후자. 국내에서 정통 볼로냐 식으로 간 고기를 위주로 해서 토마토를 아주 약간 첨가하거나 하는 것은 그냥 라구 소스라고 하는 경우가 많다. 볼로냐에서 유래했지만 이탈리아 전국에서 보편적으로 먹는다.아마트리치아나(Amatriciana)페코리노 로마노 치즈와 관찰레가 들어간 이탈리아 중부 아마트리체의 소스이다. 토마토가 들어가게 된 건 수도 로마에서 개량된 나중의 일.아라비아따(Arrabbiata)페페론치노(고추)가 들어간 파스타를 일컫는 말.푸타네스카(Puttanesca)시간이 없어 재료를 긁어모아 재빠르게 만들어 먹던 것에서 유래했다고 한다. 푸타네스카는 이탈리아어로 매춘부라는 뜻도 있는데, 여기에 얽힌 카더라성 이야기도 존재.나폴리탄 스파게티케첩을 주재료로 사용하는 일본식 스파게티.Spaghetti all’Assassina이탈리아 Bari 지방 고유의 레시피로 면을 삶지 않고 구워버리는 파스타. 기름을 두른 뒤 면을 그대로 넣고 굽는다. 이후 소스와 물을 넣고 강불에 졸이며 적당히 태운다. 얼핏 보면 간단할 것 같지만 너무 덜익지도, 너무 익지도 않도록 소리를 들어가며 조절하는 노하우가 필요하다고 한다.3.2. 크림 소스[편집]말 그대로 크림소스를 이용한 요리. 카르보나라는 후술되어있듯 국내의 인식과 달리 원래는 크림 소스가 아니다. 이탈리아 현지에서는 크림소스 파스타를 잘 취급하지 않으며, 보통 미국식이다.알프레도(Alfredo)알프레도 디 렐리오라는 이탈리아 요리사가 만든 버터크림소스. 이탈리아보단 미국에서 더 유행해 지금은 미국식 크림소스의 정점이 되어있다. 크림소스에 넓은면(페투치니)을 써야 한다는 공식도 여기서 나온 것인데, 이 요리사의 자신작이 페투치니 알프레도(Fettuccine Alfredo)였기 때문. 크림소스에 단면적이 좁고 표면적이 넓은 페투치니를 쓰면 밀맛이 적게 느껴지고 크림을 많이 머금어 전체적으로 더욱 크리미하게 즐길 수 있다고 하지만정작 이탈리아에선 카펠리니-부카티니 만큼이나 차이가 나는 것이 아닌 이상 크게 신경쓰지 않는다. 즉, 평범한 파스타에 면의 종류는 그냥 취향차 정도로 받아들이는 편.로제(Rosé)쉽게 말해 토마토 소스랑 크림 소스를 섞은 것이다. 마트에서도 팔지만, 토마토 소스에다가 생크림이나 우유 넣어도 비슷한 맛이 난다. Rosé는 프랑스어로 \\'분홍빛의\\'라는 뜻이다. 2020년대에 \"고추장 베이스\"의 로제 소스가 등장했기 때문에 혼동할 수 있다.투움바 파스타아웃백 스테이크하우스의 독자 메뉴로, 이름은 호주 투움바 지역에서 오긴 했으나 해당 지역과 별 관계가 없고 이름만 갖다 쓴 것. 매운맛이 첨가된 크림 파스타이다. 이 문서의 내용 중 전체 또는 일부는 투움바떡볶이투움바떡볶이 문서의 r12 판, 번 문단에서 가져왔습니다. 이전 역사 보러 가기 이 문서의 내용 중 전체 또는 일부는 다른 문서에서 가져왔습니다. [ 펼치기 · 접기 ]투움바떡볶이투움바떡볶이 문서의 r12 판, 번 문단 (이전 역사) 문서의 r 판, 번 문단 (이전 역사) 문서의 r 판, 번 문단 (이전 역사) 문서의 r 판, 번 문단 (이전 역사) 문서의 r 판, 번 문단 (이전 역사) 문서의 r 판, 번 문단 (이전 역사) 문서의 r 판, 번 문단 (이전 역사) 문서의 r 판, 번 문단 (이전 역사) 문서의 r 판, 번 문단 (이전 역사) 문서의 r 판, 번 문단 (이전 역사) 문서의 r 판, 번 문단 (이전 역사) 문서의 r 판, 번 문단 (이전 역사) 문서의 r 판, 번 문단 (이전 역사) 문서의 r 판, 번 문단 (이전 역사) 문서의 r 판, 번 문단 (이전 역사) 문서의 r 판, 번 문단 (이전 역사) 문서의 r 판, 번 문단 (이전 역사) 문서의 r 판, 번 문단 (이전 역사) 문서의 r 판, 번 문단 (이전 역사) 문서의 r 판, 번 문단 (이전 역사) 문서의 r 판, 번 문단 (이전 역사) 문서의 r 판, 번 문단 (이전 역사) 문서의 r 판, 번 문단 (이전 역사) 문서의 r 판, 번 문단 (이전 역사) 문서의 r 판, 번 문단 (이전 역사) 문서의 r 판, 번 문단 (이전 역사) 문서의 r 판, 번 문단 (이전 역사) 문서의 r 판, 번 문단 (이전 역사) 문서의 r 판, 번 문단 (이전 역사) 문서의 r 판, 번 문단 (이전 역사) 문서의 r 판, 번 문단 (이전 역사) 문서의 r 판, 번 문단 (이전 역사) 문서의 r 판, 번 문단 (이전 역사) 문서의 r 판, 번 문단 (이전 역사) 문서의 r 판, 번 문단 (이전 역사) 문서의 r 판, 번 문단 (이전 역사) 문서의 r 판, 번 문단 (이전 역사) 문서의 r 판, 번 문단 (이전 역사) 문서의 r 판, 번 문단 (이전 역사) 문서의 r 판, 번 문단 (이전 역사) 문서의 r 판, 번 문단 (이전 역사) 문서의 r 판, 번 문단 (이전 역사) 문서의 r 판, 번 문단 (이전 역사) 문서의 r 판, 번 문단 (이전 역사) 문서의 r 판, 번 문단 (이전 역사) 문서의 r 판, 번 문단 (이전 역사) 문서의 r 판, 번 문단 (이전 역사) 문서의 r 판, 번 문단 (이전 역사) 문서의 r 판, 번 문단 (이전 역사) 문서의 r 판, 번 문단 (이전 역사)3.3. 페스토 소스[편집] \\xa0 페스토은(는) 여기로 연결됩니다. 유비트 시리즈의 작품에 대한 내용은 유비트 페스토 문서를의 번 문단을의  부분을, 에 대한 내용은  문서를의 번 문단을의 번 문단을의  부분을의  부분을, 에 대한 내용은  문서를의 번 문단을의 번 문단을의  부분을의  부분을, 에 대한 내용은  문서를의 번 문단을의 번 문단을의  부분을의  부분을, 에 대한 내용은  문서를의 번 문단을의 번 문단을의  부분을의  부분을, 에 대한 내용은  문서를의 번 문단을의 번 문단을의  부분을의  부분을, 에 대한 내용은  문서를의 번 문단을의 번 문단을의  부분을의  부분을, 에 대한 내용은  문서를의 번 문단을의 번 문단을의  부분을의  부분을, 에 대한 내용은  문서를의 번 문단을의 번 문단을의  부분을의  부분을, 에 대한 내용은  문서를의 번 문단을의 번 문단을의  부분을의  부분을 참고하십시오.허브+견과류(주로 잣)+단단한 치즈+마늘+올리브유+소금 등을 갈아서 만든 소스.[6]이탈리아에서는 자주 볼 수 있지만, 정통 이탈리안을 표방하는 곳이 아니고서는 국내에서는 파스타의 메인 소스로 쓰는 경우는 거의 찾기 힘들다. 때문에 페스토 소스 파스타를 처음 접하는 사람들은 흡사 시금치 간듯한[7] 초록색 소스에 버무려진 파스타가 무척 생소하게 보일 수도 있다. 사실 파스타 소스보다는 다른 요리의 부재료로 더 많이 들어가는 편. 재료가 구하기 까다로우므로[8], 어지간하면 그냥 시판 소스를 사는 편이 좋다. 게다가 의외로 저렴한 편. 하지만 시판용은 단가 문제로 대부분 잣 대신 캐슈넛을 쓰는 데다 보존성을 위해 가열 후 병에 밀봉하기 때문에, 가열을 하지 않고 직접 만드는 페스토 소스와 비교하면 맛에 큰 차이가 있다. 사람에 따라서는 서로 별개의 소스로 느낄 정도. 바게트 등 빵에 발라 먹기에는 직접 만든 소스가 훨씬 잘 어울리고 맛있다.제노베제(Genovese)보통 페스토 소스 하면 페스토 알라 제노베제(Pesto Alla Genovese), 즉 바질 페스토(Basil Pesto)를 가리킨다. 제노바에서 유래했으며 바질에 잣, 치즈(파르미지아노 레지아노 등의 경성 치즈), 올리브유, 굵은 소금을 빻아서 만든다.[9]피스토(Pistou)프로방스식. 바질 페스토에서 잣이 빠진다. 이 지역에서는 잣 같은 견과류가 나지 않았기 때문. 바질도 원래는 주재료가 아니었고, 원래는 치즈와 기름을 메인으로 썼다고 한다.페스토 로쏘(Pesto Rosso)시칠리아식. 잣 대신 아몬드를 쓰고 토마토를 더한다.유명한 것들은 이 정도이지만, 갈아서 만드는 재료가 정해진 것이 아니다 보니 피스타치오 페스토, 차조기 페스토, 아보카도 페스토, 밤 페스토 심지어 탕수육 페스토 등 응용 방법은 무궁무진하다. 한국에서는 구하기 쉬운 깻잎을 이용해 만든 깻잎 페스토도 자주 볼 수 있다. 냉장고를 부탁해에서는 임원희 편에서 쑥으로 페스토를 만들기도 했다. 열무로 만드는 레시피도 있다.3.4. 올리브유[편집]별다른 소스를 쓰지 않고 그냥 파스타와 재료만을 올리브유에 볶아서 먹는 형태. 그래도 어지간하면 마늘은 거의 반드시 들어간다.[10] 극단적으로 가면 마늘과 기름만 사용해도 되는 알리오 올리오(Aglio e Olio)가 대표적.[11] 사실 이게 가장 기본 형태고 여기서 재량껏 추가하면 된다. 알리오 올리오 외 유명한 것이 봉골레(Vongole) 파스타.초심자가 도전하기 적합한 요리라는 인식이 널리 퍼져있지만, 재료가 간략할 뿐이지 조리 난이도는 꽤나 있는 요리이기 때문에 간단히 입문하기에는 결코 쉽지 않다. 토마토 소스나 크림 소스는 기성품이 널리 퍼져있기에 그만큼 초심자들도 소스를 구입해서 만들면 최소한의 퀄리티가 보장되지만, 올리브유를 사용하는 파스타는 녹말이 함유된 면수와 기름을 유화시키는 만테까레라는 과정이 필수적으로 들어가며, 여기서 기본적인 불 조절 능력이나 팬을 다루는 스킬이 요구된다. 자칫 잘못하면 기름이 사방팔방으로 튀어 다칠 수도 있기에 초심자에게는 조금 부적합하다.육수나 화이트와인 등을 더해서 맛을 내기도 하고 기타 재료나 마무리로 치즈 등을 약간 뿌리기도 한다. 올리브유를 살짝 더 뿌려주면 향이 더 살아난다는 의견도 있지만, 마늘 향을 덮을 수 있어 비추한다는 의견도 있는 등 결국 취향에 따라 갈린다. 한국에선 마늘을 워낙 좋아하고 마늘 품질도 좋기 때문에 많이 넣어도 잘 거북하지 않아 알리오올리오가 알리오알리오(...)가 되는 경우도 허다하다. 즉 기본적인 것만 지키면 여러 방법으로 레시피 변형이 가능하다.3.5. 그 외[편집]카르보나라(Carbonara)국내에서 카르보나라라고 하면 크림 파스타의 간판격 존재지만, 원래 이탈리아식은 크림 없이 관찰레와 치즈, 달걀, 후추만으로 맛을 내는 파스타이다.마카로니 앤 치즈(Macaroni and cheese)마카로니와 함께 버터와 우유 그리고 각종 치즈를 넣은 파스타이다.제노베제(Genovese)상술한 제노베제와는 다른 파스타로, 이름과 달리 나폴리에서 유래했다. 대량의 양파를 약간의 고기와 함께 캐러멜라이징 시켜 거의 양파 크림 수준의 소스를 곁들여 먹는 파스타이다. 양파와 고기의 풍미가 어우러져 짜장면 느낌도 난다.4. 재료에 따른 구별[편집]페스카토레(Pescatore)페스카토레는 어부라는 뜻으로, 해산물을 주재료로 쓰는 스파게티를 말한다. 보통 토마토 소스를 많이 쓴다.프루티 디 마레(Frutti di mare)바다의 열매라는 뜻으로, 조개를 의미한다. 해산물 파스타 중에서도 조개가 메인인 것.봉골레(Vongole)봉골레는 모시조개라는 뜻. 이름 그대로 모시조개가 대량으로 들어간다. 적어도 국내에서는 오일 파스타의 간판격 존재. 대신 가격 문제로 보통 바지락을 쓴다 나폴리와 베네치아에서 대충 만들어 먹던 어촌 음식이다. 그런데 이 둘 중 어디가 원조인지는 서로 입배틀중이나, 아직까지는 나폴리가 우세하다.프리마베라(Primavera)봄이라는 뜻을 가진 파스타로, 브로콜리나 완두콩, 당근 등의 야채를 주재료로 쓴다. 다만 기원은 이탈리아가 아닌 미국. 오일에 파마산 치즈만 살짝 정도로 소스를 무겁게 쓰지 않게 만들기도 하지만, 크림을 넣어서 만드는 것도 인기가 있다.네로(Nero)네로는 검은 색이라는 뜻으로 (니그로와 어원이 같다.) 오징어 먹물로 염색한 파스타 면을 말한다. 면의 색을 살리기 위해 오일로 만드는 게 보통인 듯하지만 크림소스도 흔한 편. 면 대신 소스에 오징어 먹물을 넣기도 한다. 베네치아에서 유래했다고 한다.[12]카쵸 에 페페(Cacio e Pepe)이름을 번역하면 치즈와 후추[13] 토마토 소스가 전래되기 이전에 만들어 먹던 파스타로, 파스타에 치즈와 흑후추만 뿌려 먹는다.리모네(Limone)레몬 파스타. 파스타에 버터를 듬뿍 넣고 레몬즙(1인분에 레몬 반 개 정도가 필요하다)에 볶는다. 무슨 괴식이냐 싶겠지만 의외로 굉장히 맛있다. 당연하지만 버터를 좋은 걸 쓸 수록 맛있고, 크림을 조금 더해도 좋다. 이탈리아 요리에서는 흔치 않은 버터를 내세운 요리 중 하나다.명란젓 스파게티주로 일본식 명란젓이나 타라코라고 부르는 대구알 젓갈을 사용하는게 대표적.파스타 알라 노르마(Pasta alla Norma)시칠리아식 전통 파스타이다. 가지, 토마토 그리고 리코타 치즈를 넣는다.간장 파스타퓨전 요리에서 쓰이는 조합[14]으로, 주로 간장+버터 조합을 사용한다.비골리 인 살사(Bigoli in Salsa)앤초비와 양파가 주재료, 파스타는 비골리[15]를 사용한 파스타.[16]참치 파스타             [1] alla, al, ali 등 명사의 성별, 단수/복수 여부에 따라 달라진다. 영어로 하면 to the 정도. 예를 들어 A alla B라고 하면 B에 A 넣은 것(혹은 섞은 것)이라고 생각하면 쉽다. 또 e는 and, di는 of라는 뜻. [2] 피자헛 레스토랑의 셀러드 바에 있는 셀러드중 이 제멜리를 사용해 차갑게 한 파스타 요리가 있다.[3] 모양이 마치 한국 과자 미쯔를 별모양으로 바꿔놓은 것처럼 생겼다.[4] stuffed pasta. 만두처럼 속을 채워넣은 종류를 말한다.[5] 파스타도 부드러운 식감 좋아하는 경우라면 푹 익히는 경우도 있다. 최소 10분 이상 삶아야 부드러운 식감이 나온다.[6] 레몬즙과 레몬 껍질(레몬 필)은 허브의 신선함과 고유의 향을 해치기 때문에 넣지 않으며, 페스토는 기본적으로 \\'갈아낸다\\'는 개념이 아닌 \\'빻아서\\' 크림화하는 소스이다. 그렇기 때문에 산성 성분인 레몬즙을 넣으면 크림화가 잘 이루어지지 않는다.[7] 재미있는게 시금치 소스 파스타가 실제로 검색해보면 있다.[8] 생 바질 역시 구하기 어렵지만, 무엇보다 잣 가격이 정말 어마무시하다.[9] 이탈리아 셰프의 전통 바질 페스토 영상처럼 심지를 제거한 마늘, 살짝 볶은 잣, 굵은 바다소금, 어린 바질 잎사귀, 산도가 낮은 고급 올리브유, 경성 치즈를 엄격한 순서에 따라 차갑게 냉각된 절구에 넣은 뒤 빻아내는 과정을 통해 크림화한 소스이다. 언급한 것처럼 잣과 올리브유, 치즈의 지방 성분을 이용해 크림화하기 위해 재료들을 빻아내는 절구는 차갑게 냉각시켜야 하며, 냉기를 오래 유지할 수 있는 대리석 또는 화강암 재질의 돌 절구를 사용하는 것이 전통 방식이다. 빻아내어 크림화하는 것이 핵심이므로 단순히 재료를 곱게 갈아내기만 하는 믹서기나 푸드 프로페서를 사용하여 만드는 것은 엄밀한 관점에서 페스토 소스가 아니다.[10] 취향에 따라 마늘 대신 단맛이 더 강한 양파 등 다른 채소를 대체해쓰기도 한다.[11] 사실 현지인들에겐 거의 인스턴트 야식 비슷한 개념이라, 레스토랑에서 정식 메뉴로 내는 경우는 잘 없다. 다만 알리오 올리오가 올리브유 파스타의 가장 기본적인 형태라 모르면 진행이 안되긴 한다. 국내외 식당에선 정통은 아니지만 맛을 내기 위해 치즈나 치킨 스톡 등 몇몇 치트키재료들을 첨가하는 편이다.[12] 죠죠의 기묘한 모험 2부의 주인공 죠셉 죠스타는 먹물 파스타를 처음 접하자 화를 냈다가 일단 먹어보라고 어떻게든 진정시키는 웨이터 말을 듣고 먹은 뒤 뚝딱 접시를 말끔히 비웠다. 나중에 시저를 엿먹이기 위해 그의 얼굴에 붙이려고 파문을 이용해 3가닥을 날리지만 반격당해 되돌아왔다. 그렇게 돌아온 그 3가닥도 먹어서 완식했다.[13] cacio는 이탈리아 일부 지역, 특히 중남부에서 치즈를 지칭하는 단어이다. 북부 및 이탈리아 전역에서는 formaggio라는 단어가 더 널리 쓰인다[14] 간장은 이탈리아에선 일반적인 식재료가 아니다. 서양에서 생소한 한자문화권 식재료라는 면이 크기도 하지만.[15] 비골리(Bigoli): 길고 굵은 튜브처럼 생긴 파스타. 전통적으로는 메밀 가루로 만들었지만 최근에는 통밀가루로 반죽하여 사용한다.[16] 이는 이탈리아 방송인 알베르토 몬디가 자신이 출연하는 톡파원 25시에서 직접 소개했다.     이 저작물은 CC BY-NC-SA 2.0 KR에 따라 이용할 수 있습니다. (단, 라이선스가 명시된 일부 문서 및 삽화 제외)기여하신 문서의 저작권은 각 기여자에게 있으며, 각 기여자는 기여하신 부분의 저작권을 갖습니다.나무위키는 백과사전이 아니며 검증되지 않았거나, 편향적이거나, 잘못된 서술이 있을 수 있습니다.나무위키는 위키위키입니다. 여러분이 직접 문서를 고칠 수 있으며, 다른 사람의 의견을 원할 경우 직접 토론을 발제할 수 있습니다.  실시간 검색어 \\n\\t\\xa0\\n\\t\\n\\t\\xa0\\n\\t\\n\\t\\xa0\\n\\t\\n\\t\\xa0\\n\\t\\n\\t\\xa0\\n\\t\\n\\t\\xa0\\n\\t\\n\\t\\xa0\\n\\t\\n\\t\\xa0\\n\\t\\n\\t\\xa0\\n\\t\\n\\t\\xa0\\n\\t  최근 변경  \\n\\t\\xa0\\n\\t\\n\\t\\xa0\\n\\t\\n\\t\\xa0\\n\\t\\n\\t\\xa0\\n\\t\\n\\t\\xa0\\n\\t\\n\\t\\xa0\\n\\t\\n\\t\\xa0\\n\\t\\n\\t\\xa0\\n\\t\\n\\t\\xa0\\n\\t\\n\\t\\xa0\\n\\t    나무뉴스  \\n\\t\\xa0\\n\\t\\n\\t\\xa0\\n\\t\\n\\t\\xa0\\n\\t\\n\\t\\xa0\\n\\t\\n\\t\\xa0\\n\\t 더 보기     namu.wiki Contáctenos Términos de uso Operado por umanle S.R.L. Hecho con ❤️ en Asunción, República del Paraguay \\n\\tSu zona horaria es GMT Impulsado por the seed engine \\n\\tThis site is protected by reCAPTCHA and the Google\\n\\tPrivacy Policy\\n\\tand\\n\\tTerms of Service\\n\\tapply. This site is protected by hCaptcha and its\\n\\tPrivacy Policy\\n\\tand\\n\\tTerms of Service\\n\\tapply.\\n\\t   ',\n",
       "   '파스타면 종류와 어울리는 소스 완전 정리 - 주방의 비밀\\nSkip to content \\n \\n \\nMenu \\nHome\\n요리과학\\n술과 와인\\n레시피\\n맛집\\n주방\\n칼연마\\n주방용품\\n \\n \\n파스타면 종류와 어울리는 소스 완전 정리 \\n12월 19, 20239월 2, 2023 \\n목차\\nToggle\\n1. 서론2. 파스타의 역사3. 파스타면 종류3.1 펜네 – 크림소스용 파스타3.2 스파게티 – 미트볼 파스타3.3 리가토니 – 라구파스타3.4 파르팔레 – 샐러드용 파스타3.5 마카로니 – 맥앤치즈3.6 링귀니 – 봉골레 파스타3.7 라비올리 – 다양하게 사용하는 파스타3.8 푸실리 – 토마토 소스용 파스타3.9 라자냐 – 캐서롤용 파스타3.10 탈리올리니 – 볼로네제 소스용 파스타3.11 파파델리 – 다양하게 잘 어울리는 파스3.12 페투치네 – 알프레도 소스용 파스타3.13 스파게티니 – 토마토소스나 올리브오일3.14 엔젤헤어 – 해산물용 파스타3.15 카펠리니3.16 뇨키3.17 콘치글레 – 샐러드와 진한 고기 소스용 파스타3.18 딸리아뗄레 – 미트볼용 파스타3.19 부카티니3.20 파케 리- 토마토 소스4. 파스타면 고르기5. 결론\\n1. 서론\\n파스타면 종류는 모양과 생산지에 따라 350가지가 넘는다고 한다. 파스타는 이탈리아 음식이지만 싫어하는 사람들이 없을 정도로 호불호가 없는 음식 중 하나다.\\n우리 중 많은 사람들이 파스타를 생각할 때 일반적으로 스파게티, 펜네 또는 링귀니와 같은 인기 있는 스타일을 생각 하지만 실제로는 수십 가지의 다양한 유형의 파스타가 있다. 고유한 맛 프로필과 요리에 적용할 때 모양에 따라 고르는 것이 좋다.\\n2. 파스타의 역사\\n밀가루와 계란 또는 물로 만들어 끈이나 다른 모양, 즉 국수로 성형한 음식은 수천 년 동안 존재해 왔다. 이탈리아에서 파스타가 어떻게 유래 되었는지에 대한 가장 유명한 이야기 중 하나는 베네치아의 유명한 탐험가 마르코 폴로가 발견한 국수를 중국에서 이탈리아로 가져왔다는 것이다.\\n그러나 일부 역사가들은 이탈리아의 많은 파스타 형태가 그보다 훨씬 더 오래되었다고 믿고 있다. 기원전 3세기경 그리스인들이 나폴리라는 도시를 세웠을 때, 그 지역 원주민들은 이미 보리 가루와 햇볕에 말린 물로 만든 ‘마카리아’라는 요리를 가지고 있었다.\\n그리고 라자냐의 전신으로 알려진 “라가눔” 또는 “라가나스”라고 불리는 파스타 같은 요리에 대한 언급도 있었다. 기원전 106년부터 43년까지 살았던 로마 정치가 키케로는 파스타에 대한 열정이 있다고 말했다.\\n많은 고고학자들은 또한 최초의 파스타 국수가 실제로 마르코 폴로가 이 지역에 오기 수천 년 전인 중앙아시아에서 만들어졌다고 믿고 있다. 그리고 그곳에서 유목민 아랍 부족을 거쳐 유럽으로 서쪽으로 이동했다. 어떤 이야기가 사실이든 파스타는 오늘날 세계에서 가장 사랑받는 음식 중 하나이며 한국에서도 많은 사랑을 받고 있다.\\n3. 파스타면 종류\\n3.1 펜네 – 크림소스용 파스타\\n펜네 파스타는 작은 원통 모양이 특징으로 소비량 기준으로 세계 10대 인기 파스타 중 하나이다. 시칠리아에서 생겨나 이탈리아 전역에서 완성된 펜네는 종종 다양한 충전재(예: 시금치, 리코타)로 속을 채우고 펜네 알 아라비아타와 같은 다양한 토마토 기반 소스 또는 펜네 알라 보드카와 같은 크림 소스 또는 야채와 함께 제공된다. 펜네는 차갑게 먹을경우 오리엔탈 드레싱과도 잘 어울린다.\\n3.2 스파게티 – 미트볼 파스타\\n스파게티는 아마도 세계에서 가장 일반적으로 사용되는 파스타 중 하나일 것이다. 스파게티는 중국에서 유래된 것으로 알려져 있으며 유명한 상인 여행자 마르코 폴로를 통해 베니스로 수입되었다.\\n스파게티 국수는 매우 길고 가늘며 둥근 모양이며 일반적으로 마리나라 소스, 미트볼, 버섯을 포함한 다양한 소스, 고기 및 야채와 함께 요리다. 이 유형의 파스타 로 가장 유명한 요리 중 하나는 스파게티 알라 카르보나라이다.\\n3.3 리가토니 – 라구파스타\\n리가토니는 작은 튜브 형태로 생긴 파스타로서 펜네 보다 약간 크며 종종 미트 소스 라구파스타뿐만 아니라 살사 로사 레시피의 리가토니와 같은 다양한 가볍고 무거운 소스와 함께 제공된다. 또한 속을 채워 넣는 파스타를 만들 때 사용되기도 한다.\\n3.4 파르팔레 – 샐러드용 파스타\\n에밀리아로마냐와 롬바르디아 지역에서 탄생한 파르팔레는 모양이 비슷해 ‘나비 넥타이 파스타’로 널리 알려져 있으며, 가벼운 소스가 필요한 요리와 차가운 파스타 샐러드에 흔히 사용된다. 큰것은 파르팔로네 작은 것은 파르팔리네라고 부른다.\\n3.5 마카로니 – 맥앤치즈\\n마카로니 라고도 알려진 마케로니는 아마도 세계에서 가장 인기 있는 파스타 스타일 중 하나일 것이다. 이탈리아 북부와 중부에서 유래한 이 제품은 작고 약간 구부러진 관 모양이 특징으로 매우 다재 다능하다. 마케로니는 일반적으로 구운 파스타요리, 수프에 사용되거나 파스타 알라 노르마처럼 치즈 나 야채 소스와 함께 버무린다. 치즈와 함께 조리한 맥앤치즈도 유명한다.\\n3.6 링귀니 – 봉골레 파스타\\n링귀니는 트레네테와 페투치네와 비슷한 납작한 형태의 파스타이다. 비는 스파게티면보다는 조금 넓지만 페투치네만큼 넓지는 않다. 링귀니는 캄파니아주에서 인기가 있으면 링귀니 파스타를 사용하는 요리로는 링귀니 알레 봉골레(조개를 넣은 링귀니)와 트레네테 알 페스토등이 있다.\\n링귀니는 이탈리아어로 ‘작은 혀’라는 뜻으로 새의 혀와 유사하다고 해서 붙은 이름이라고 한다. 링귀니는 해산물이나 바질페스토 등 페스토와 함께 먹는 경우가 많다.\\n3.7 라비올리 – 다양하게 사용하는 파스타\\n이 매우 인기 있는 파스타 모양의 기원은 다소 모호하지만, 전설에 따르면 롬바르디아 지역이 인기를 확산시키는 데 큰 역할을 했다고 한다. 가장자리에 주름이 잡힌 사각형 모양의 파스타로, 랍스터 라비올리 레시피처럼 고기, 치즈, 야채, 조개류 등 다양한 재료를 사용한 요리가 많다.\\n3.8 푸실리 – 토마토 소스용 파스타\\n이 길고 두꺼운 코르크 모양의 파스타는 원래 캄파니아 지역에서 유래되었으며 가장 일반적으로 토마토 소스와 치즈 와 함께 제공된다.\\n3.9 라자냐 – 캐서롤용 파스타\\n라자냐는 나폴리에서 유래되었으며 가장자리가 물결 모양인 길고 납작한 직사각형 파스타 모양이 특징이다. 다양한 소스, 치즈 및 기타 재료를 섞은 라자냐 층으로 만든 구운 캐서롤 요리로 즐긴다.\\n3.10 탈리올리니 – 볼로네제 소스용 파스타\\n리구리아(Liguria), 마르케(Marche) 및 에밀리아로마냐(Emilia-Romagna) 지역에 뿌리를 둔 탈리오리니(tagliolini)는 페투치니 와 비슷한 긴 리본 모양의 파스타 로 너비가 약 1/4인치이다. 탈리오리니는 일반적으로 다양한 소스와 함께 요리되며, 가장 인기 있는 소스 중 하나는 볼로네제 소스이다.\\n3.11 파파델리 – 다양하게 잘 어울리는 파스\\n이탈리아 투스카니 중 남부 지역이 원산지인 파파르델레는 넓은 페투치네와 달리 매우 넓은 모양으로 자른 납작한 리본 스타일의 파스타이다. 파파르델레는 고기 부터 조개류, 야채, 크림 소스에 이르기까지 다양한 소스와 잘 어울리는 파스타 유형 중 하나다.\\n3.12 페투치네 – 알프레도 소스용 파스타\\n이 매우 인기 있는 파스타 유형은 이탈리아의 여러 지역에서 다양한 이름으로 불리기 때문에 다소 수수께끼 같은 파스타이지만, 페투치네 파스타는 길고 납작한 모양의 파스타로 적당한 두께를 갖고 있으며 일반적으로 길이가 10인치, 너비가 약 1/4인치이다. 페투치네는 모든 종류의 요리에 다양하게 사용된다. 하지만 이탈리아 이외의 지역에서는 크리미한 알프레도 소스와 함께 사용하는 것으로 가장 일반적으로 알려져 있다.\\n3.13 스파게티니 – 토마토소스나 올리브오일\\n더 작고 얇은 버전의 스파게티를 상상할 수 있다면 그것이 바로 스파게티니이다. 다양한 모양과 이탈리아 스파게티니는 두께 기준으로 스파게티보다 얇으며 일반적으로 토마토 기반 또는 올리브 오일 기반 소스와 함께 요리한다.\\n3.14 엔젤헤어 – 해산물용 파스타\\n엔젤헤어 파스타라고도 알려진 카펠리 당젤로(Capelli d’angelo)는 스파게티 와 같은 끈 파스타의 일종이다. 이름에서도 알 수 있듯이 일반적으로 직경이 매우 얇다. 수프와 해산물 요리 또는 가벼운 소스와 함께 사용되는 경우가 많다. 조리 시간 은 2~4분 정도이며 새 둥지 형태로 판매되는 경우가 많다. 고전적인 모양 중 하나이며 14 세기 부터 이탈리아 반도에서 인기 있는 파스타였다. 엔젤헤어 파스타는 미국에서도 인기가 많아 이를 활용한 이탈리아계 미국인 파스타 레시피가 많다.\\n3.15 카펠리니\\n엔젤헤어보다 약간 두꺼운 파스타인 카펠리니는 종종 엔젤헤어로 오인되기도 합니다. 아마도 수프나 가벼운 소스에 자주 사용되는 얇고 \\u200b\\u200b섬세한 스트링 파스타이기 때문일 것이다. 그러나 유사성에도 불구하고 카펠리니는 실제로는 다른 파스타로 간주된다. 직경은 일반적으로 엔젤헤어보다 살짝 두꺼우며 조리 시간은 약 2~6분입니다.\\n3.16 뇨키\\n뇨끼의 정확한 유래는 로마제국 시대부터 있어왔기 때문에 다소 단정하기 어렵지만 확실히 이탈리아에서 대중화되었다. 뇨키는 작은 조각으로 자른 반죽 만두의 일종으로, 종종 감자, 시금치, 리코타 치즈, 계란, 고르곤졸라 뇨키 레시피와 같은 치즈가 들어가거나 버터와 세이지와 함께 팬에 튀겨지는 경우 가 많다.\\n3.17 콘치글레 – 샐러드와 진한 고기 소스용 파스타\\n콘치글레(Conchiglie)는 소라 껍질 모양의 파스타이다. 가장 작은 껍질 모양을 콘킬리에뜨(conchigliette)라고 하고 가장 큰 껍질 모양을 콘킬리오니(conchiglioni)라고 한다. 이 콘치글레는 각각은 모양은 동일하지만 크기가 다르다. 이 세 가지 모양은 모두 파스타 샐러드와 진한 고기 소스에 일반적으로 사용된다.\\n콘치글레 대신 사용할 수 있는 다른 유형의 파스타로는 파르팔레, 푸실리, 게멜리, 마카로니, 리가토니 또는 지티가 있다. 콘치글레는 다양한 충전재를 담을 수 있는 모양과 기능으로 인해 소비자들 사이에서 인기가 있다. 이 파스타 모양은 속을 채우거나 구울 수 있으며 주방에서 다양한 용도로 사용할 수 있다.\\n3.18 딸리아뗄레 – 미트볼용 파스타\\n탈리아텔레는 페투치니와 비슷한 긴 리본 모양의 파스타이다. 파스타는 낭만적인 기원으로 널리 알려져 있다. 이 이론은 사실이 아닌 것으로 밝혀졌지만, 1847년에 탈리아텔레는 요리사가 신부의 유명한 금발 머리를 기리기 위해 이전에는 볼 수 없었던 새로운 파스타 모양을 만들었다고 한다. 탈리아텔레는 이탈리아인들이 “스파게티와 미트볼”에 자주 사용한다. 그 이유는 두툼한 소스와 잘 어울리고 테이블에 한 번 더 쉽게 접시에 담아서 다룰 수 있기 때문이다.\\n3.19 부카티니\\n가운데에 구멍이 뚫린 좀 더 두꺼운 버전의 스파게티를 상상할 수 있다면 그것은 부카티니 파스타 종류일 것이다. 실제로 이 유형의 파스타 이름은 “구멍”을 의미하는 이탈리아어 “buco”에서 유래되었다. 부카티니 파스타는 이탈리아의 나폴리, 리구리아, 라치오 지역에서 유래되었으며 일반적으로 판체타, 전통적인 부카 티니 올 아마트리치아나 소스 레시피의 구안시알레(절인 고기), 치즈, 달걀, 멸치, 정어리와 같은 맛있는 음식과 함께 제공된다.\\n3.20 파케 리- 토마토 소스\\n인기가 높은 이 유형의 파스타 스타일은 칼라브리아(Calabria)와 캄파니아(Campania) 지역에서 유래되었으며 정원 호스 조각과 거의 같은 커다란 관 모양이 특징이다. 그들은 라구 나폴레타노 레시피를 곁들인 이 파케리, 해산물 소스 레시피 또는 진한 마늘 액센트가 있는 모든 유형의 파스타 요리와 같은 토마토 기반 소스 기반 레시피 에 일반적으로 사용된다.\\n4. 파스타면 고르기\\n파스타면의 종류와 특징을 알았다면, 이제 어떤 소스와 어울리는지에 따라 선택할 수 있습니다. 예를 들어, 크림 소스를 좋아한다면 펜네나 리가토니가 좋을 것입니다. 반면 토마토 소스를 선호한다면 스파게티를 선택하는 것이 좋습니다.\\n5. 결론\\n파스타면은 다양한 종류와 형태, 크기로 제공되며, 각각의 특징에 따라 다른 소스와 잘 어울립니다. 따라서 파스타를 즐길 때는 그 특징을 알고 선택하면 더욱 맛있는 파스타를 즐길 수 있습니다. 파스타를 만들기 전에 이 글을 참고하여, 어떤 면과 소스가 잘 어울리는지 알아보는 것이 좋겠습니다.\\n초보자를 위한 파스타면 끓이는 시간\\nCategories 요리과학 Tags 요리, 종류, 특징, 파스타, 파스타면 \\n오렌지 마멀레이드와 잼의 차이점과 만드는 법전통 방식으로 만든 쌀조청의 매력 \\nLeave a Comment 응답 취소댓글을 달기 위해서는 로그인해야합니다. \\n상권분석시스템\\n염도 계산표\\n와인페어링차트\\n셰프의 요리팁\\n요리기본상식\\n \\n개인정보 처리방침\\nContact\\n소개글\\n \\n\\tCopyright © 2024. dotoritas.\\t\\n error: Content is protected !!\\n \\nSearch for:',\n",
       "   '스파게티종류? 파스타소스종류 정리 1탄 \\'오일편\\' : 네이버 블로그\\n본문 바로가기\\n블로그\\n카테고리 이동\\n도심의 별장 대구 아트리움\\n검색\\nMY메뉴 열기\\nATRIUM MANNER\\n스파게티종류? 파스타소스종류 정리 1탄 \\'오일편\\' \\n아트리움\\n2019. 8. 13. 16:24\\n\\t\\n 이웃추가\\n본문 기타 기능\\n본문 폰트 크기 조정\\n본문 폰트 크기 작게 보기\\n본문 폰트 크기 크게 보기\\n가\\n 공감하기\\n공유하기 \\nURL복사 \\n신고하기 \\n \\n \\n\\u200b\\u200b\\u200b활용하기에 따라서 수만 가지 소스로변신할 수 있는 매력적인 파스타 소스들!\\u200b\\u200b그렇기 때문에 파스타 소스의 종류도다양하고 그만큼 스파게티 종류도 무궁무진하죠\\u200b하나를 더 추가하거나 빼거나 색다른조합으로 훨씬 풍부한 맛을 표현할 수 있는파스타 소스 종류에 대해 알아보고\\u200b같은 토마토소스 아니야?\\u200b라고 묘하게 알쏭달쏭 헷갈렸던 소스의차이점에 대해서 알아보도록 합시다!\\u200b\\u200b\\u200b\\u200b\\n \\n \\n \\n\\u200b\\u200b\\u200b기본 중의 기본! 오일 파스타\\u200b파스타를 함에 있어서 가장 기본이라고말할 수 있는 오일 파스타도 추가적으로들어가는 재료에 따라서 이름이 달라집니다\\u200b\\u200b\\u200b\\n \\n \\n \\n\\u200b\\u200b\\u200b1. 알리오 올리오(Aglio e olio)\\u200b가장 베이직이라 할 수 있는 오일 소스의파스타 알리오 올리오는 이탈리아어로\\u200b\\n \\n\\'마늘\\'을 뜻하는 \\'알리오\\'와오일을 의미하는 \\'올리오\\'가 합쳐진이름 그대로의 정직한 파스타입니다\\n\\u200b이탈리아 캄파니아 지방에서 유래되어오일에 밴 향긋한 마늘향이 특징인데요\\u200b편으로 썬 마늘을 올리브오일에 익혀만드는 것으로 이탈리아 고추인페퍼론치노를 함께 넣기도 합니다\\u200b\\u200b\\n \\n \\n \\n\\u200b\\u200b2. 페스토(Pesto)\\u200b\\n \\n찧다, 혹은 빻다라는 뜻을 가진 이탈리아어페스토는 바질을 빻고 올리브오일과 마늘,파마산 치즈 등을 함께 갈아서 만든 그린 소스로\\n\\u200b오일 파스타에 추가하면 허브인바질의 산뜻한 향과 함께 추가적으로들어간 재료들의 풍비를 함께 느낄 수 있습니다\\u200b페스토는 파스타 소스 외에도 빵, 피자,메인 요리 등 다양하게 활용되기도 하며\\u200b따뜻할 때도 맛있지만 냉파스타로즐기면 제대로 그 맛을 느낄 수 있습니다\\u200b\\u200b\\u200b\\u200b\\n \\n \\n \\n\\u200b\\u200b3. 안초비(Anchovy)\\u200b\\n \\n멸치 소금에 절여 발효시킨 안초비는약간 짜면서도 특유의 향이 나는데\\n\\u200b한국 사람들의 입맛에 잘 맞기 때문에안초비 파스타라는 메뉴로 자주 제공됩니다\\u200b기본 알리오 올리오 파스타를베이스로 해 캔, 또는 병에 절여져 판매되는\\u200b안초비를 곁들이면 누구나 쉽게안초비 파스타를 만들 수 있습니다\\u200b\\u200b\\u200b\\n \\n \\n \\n\\u200b\\u200b\\u200b4. 봉골레(Vongole)\\u200b\\n \\n너무 익숙한 파스타 종류, 봉골레는이탈리아어로 조개를 뜻하는 단어이며올리브오일에 마늘과 조개를 넣고 볶아\\n\\u200b조개에서 나오는 감칠맛 덕분에담백하면서도 시원한 맛이 특징인데요\\u200b취향에 따라 페퍼론치노와 함께 볶거나새우, 바질 페스토 등 추가적인 재료를넣는 것으로 훨씬 풍미를 살릴 수 있습니다\\u200b\\u200b\\u200b\\u200b\\n \\n \\n \\n\\u200b\\u200b5. 네로 / 먹물 파스타 (Nero)\\u200b\\u200b\\n \\n검은고양이 네로로 익숙한 단어 네로는검은색을 뜻하는데요, 오징어 먹물로염색한 파스타면을 사용하거나\\n소스에 오징어 먹물을 넣은 파스타를네로 파스타 또는 먹물 파스타라고 합니다\\u200b면의 색상을 살리기 위해서 오일로만드는 것이 기본이지만 최근에는크림소스와의 조합도 흔해졌는데요\\u200b오징어 먹물 특유의 감칠맛이살아있는 먹물 파스타는 베네치아에서유행해 전 세계로 퍼지게 되었지만\\u200b먹고 난 다음 입 주변이 검게 변하지않았는지 체크는 필수 중의 필수!\\u200b\\u200b\\u200b\\u200b\\n \\n \\n \\n\\u200b\\u200b오늘은 아트리움과 함께 스파게티 종류\\u200b\\u200b그중에서도 1탄으로 준비한오일 파스타 종류에 대해서 알아봤는데요\\u200b\\n \\n단순히 오일만 사용하는 것이 아니라추가적으로 들어가는 재료에 따라서무궁무진한 파스타 종류로 변신하는파스타 소스 종류들!!!\\n\\u200b다음에는 토마토소스와 크림소스를세세하게 나눠 알아보도록 할 테니\\u200b아트리움 스파게티 종류 / 파스타 소스 종류2탄도 기대해주세요 ^^!!\\u200b\\u200b\\u200b\\n \\n파스타소스추천 : 크림파스타종류 & 토마토파스타종류 정리 2탄!\\n\\u200b\\u200b대구 30년 전통의 프렌치 레스토랑아트리움에서 정리해주는 파스타소스추천!\\u200b오늘은 어떤 크림파스타...\\nblog.naver.com\\n \\n수많은 종류의 토마토소스와 크림 소스들!제대로 구분하고 제대로 골라먹기 위한 2탄!!\\n \\n#스파게티종류\\n#스파게티소스종류\\n#파스타종류\\n#파스타소스종류\\n#오일파스타\\n#오일파스타종류\\n#오일파스타만드는법\\n#알리오올리오\\n#봉골레\\n#바질페스토\\n#안초비\\n#네로\\n#먹물\\n#오일파스타레시피종류\\n#아트리움\\n#대구아트리움\\n#대구레스토랑\\n#범어동레스토랑\\n공감한 사람 보러가기\\n댓글 1\\n공유하기\\n아트리움\\n요리·레시피\\nSINCE 1989\\n정통 프렌치 레스토랑\\n도심의 별장 \\n아트리움\\n* 12 : 00 - 22 : 00\\nlunch 12:00 ~ 16:00\\nlunch last order 14:00\\ndinner 17:00 ~ 22:00\\ndinner last order 20:00\\n이웃추가\\n예약하기\\n이 블로그\\xa0\\nATRIUM MANNER\\n\\xa0카테고리 글\\n이전\\n이전\\n다음\\n다음\\n{\"title\":\"스파게티종류? 파스타소스종류 정리 1탄 \\'오일편\\'\",\"source\":\"https://blog.naver.com/atriumkorea/221615180385\",\"blogName\":\"도심의 별..\",\"blogId\":\"atriumkorea\",\"domainIdOrBlogId\":\"atriumkorea\",\"logNo\":221615180385,\"smartEditorVersion\":4,\"lineDisplay\":true,\"outsideDisplay\":true,\"cafeDisplay\":true,\"blogDisplay\":true,\"meDisplay\":true}\\n 맨 위로\\nPC버전으로 보기\\n닫기\\n카테고리\\n 이 블로그 홈\\n \\n이 블로그\\xa0\\nATRIUM MANNER\\n\\xa0카테고리 글\\n이전\\n이전\\n다음\\n다음\\n공감한 사람 보러가기\\n댓글 1\\n공유하기\\n아트리움(atriumkorea)\\n님을 이웃추가하고 새글을 받아보세요\\n취소\\n이웃추가',\n",
       "   \"���ϸ�Ǫ��\\n���ϸ�\\n�α���\\n��������\\n����������\\n��������\\n���ϸ��� �̵�\\n�˻�\\n������\\n���ϸ�Ǫ��\\n�˻�\\n��ü\\n����\\n����\\n�±�\\n�˻�\\n��Ʃ��\\n���ϸ�Ǫ�� ��\\u07b4�\\nȨ\\n�\\u05f8�\\n����\\n������\\n����\\n������ ���\\n���ϸ�Ǫ�� ����\\u07b4�\\n��ü\\n���ϸ� Ǫ��\\n����\\n����\\n��� ����Ʈ\\n�˽��\\u07bd��� �̸��� ���� �Ľ�Ÿ �ҽ� ����\\n\\r\\n\\t�� : Ȳ����\\t\\n\\xa0\\xa0�Ľ�Ÿ�� �츮���� ģ���� �����̴�. ������ �Ľ�Ÿ �\\u07b4��� ���� ������. �Ľ�Ÿ�� ��Ż������ ���� �������� ��� �\\u07b4��� ��Ż���ƾ�� �Ǿ� �ִ�. ��Ȥ ��Ż���� ��������� ���� '����ġ�� ��������', 'Ż�����ڷ� ���γ�' �� �˽��\\u07bd��� ��Ż���ƾ�� ���� �\\u07b4��� ��Ȳ�ϰ� �Ѵ�. �\\u0530� ���� �\\u07b4��� �������� ���ؼ��� �ƴ϶� �\\u07b4��� ���� ���� �������� ���ϴ� ��찡 �ִ�. �̶� ��, �� ������ ����ϸ� �ȴ�. �Ľ�Ÿ �̸��� ���ƹ��� ��� ���������� �˰� ���� ���� �Ľ�Ÿ��� �ҽ��� �����ϰ� �ִ� ��. �\\u07b4� �̸��� ��κ� '�Ľ�Ÿ�� �̸� + �ҽ� �̸�(��: ����ġ�� ��+ �������� �ҽ�)'���� �̷���� �־� ��� �ҽ��� ������ �˸� ���� ������ �� �ִ�. ���� �ð��� �پ��� �Ľ�Ÿ�� ������ ���� �˾ƺ����� �̹����� �پ��� �Ľ�Ÿ �ҽ� ������ ���� �˾ƺ���.\\xa0\\xa0\\n[1. ���� �ҽ�]�˸��� �ø���(Aglio e olio)���� �⺻���� ���� �ҽ� �Ľ�Ÿ. �̸��� �����ϰ� ��ᰡ �巯�� �ִ� �ҽ���. ��Ż���ƾ�� �˸����� '����' �ø����� '����'�� ���Ѵ�. ��Ż���� į�ĴϾ� ���濡�� ������ ������, ���Ͽ� �� ����� ���� ���� Ư¡�̴�. ������ �� ������ �ø�����Ͽ� ���� ���� ���� ����, ��Ż���� ������ ���۷�ġ�븦 ���Ƽ� ���� ����� �� ���� ��鿩 �Դ´�. \\xa0�佺��(Pesto)�佺��� '���� Ȥ�� ����'��� ���� ���� ��Ż���ƾ�� ������ ���� �ø������, ����, �ĸ��\\u07bb� ġ��, �� ���� �Բ� �־� ���� ���� �\\u05f8� �ҽ���. �ַ�, �Ľ�Ÿ �ҽ��� �������� ��, ����, ���� �丮 �� �� Ȱ����� �پ��ϴ�. �佺�� ������ ���� ǳ�̸� �츮���� ���� ������ �ʰ�, ��¦ ������ �Դ� ���� ����.���ʺ�(Anchovy)���ʺ�� ��ġ�� �ұݿ� ���� ��ȿ��Ų ������ �츮������ ������ ����ϴ�. ��Ż���ƿ��� �Ľ�Ÿ �ҽ� ���� ���Ǵµ�, �츮���� �Ը��� �� �¾� ��Ż���� ��������� ���� '���ʺ� �Ľ�Ÿ'��� �\\u07b4��� ���� ���� �� �ִ�. ���ʺ�� �ణ ¥�� Ư���� ���� ���µ�, ���İ�Ƽ ��� �Բ� ��鿩 ������ �� ��︰��. �ø�����Ͽ� ����, ���ʺ� �ְ� ���� ���� ���� ��鿩 �Դ´�.\\xa0����(Vongole)���\\U00077e74� ��Ż���ƾ�� '����'�� ���Ѵ�. �̸�ó�� �����ϰ� ������ ���� ���� �Ľ�Ÿ��, �ø�����Ͽ� ���ð� ������ �ְ� ���� ����ϰ� �ÿ��� ���� Ư¡�̴�. ������ ������ ����ġ�� ���濡�� ���۵� ������ �ױ� ���忡 ��� ��ε��� ���� �鿡 ���� ġ�\\uee26 ��� �Դ� �Ϳ� �������� ���� �� ��� �� ������ �ְ� �丮�� ������ �������� ���� ���� �Ľ�Ÿ�� ��������ٰ� �Ѵ�.\\xa0\\n[2. �丶��ҽ�]�Ǹ\\U00035d77�(Pomodoro)��Ż���ƾ�� '�丶��'��� ���� ���� '�Ǹ\\U00035d77�'�� �̸� �״�� �丶��ҽ��� ��\\uec23 ��� �丶��ҽ��� ��Ī�ϴ� ���̴�. ���� ������ �丶��ҽ��� �ø�����Ͽ� ���ĸ� ���� ����� ���� �߰��Ͽ� �丶�� Ƕ���� ���� ���Ƴ� ���� ���Ѵ�. ��ó�� �Ǹ\\U00035d77δ� ������ �Ľ�Ÿ�� �Ա\\u2d75 �ϰ�, �ٸ� �丶��ҽ��� ���̽��� Ȱ���ϱ\\u2d75 �Ѵ�.\\xa0���γ���(Bolognase)������ �丶��ҽ�. �ҷγ���� ��Ż���� ���γ� ���濡�� ó�� ������� �� �������� �̸��� �ٿ�������, ���� �\\U000f1e3cҽ� Ȥ�� ��Ʈ�ҽ��� �Ҹ���. ���γ���� ���� ����, ����, �丶��Ƕ�� ���� �־� ���� �ð� ������ ���� ����� ���� Ư¡�̴�. �ð��� ���ϼ��� ���� ���� ����, ���� ������ ǳ�̰� ������ �ҽ���.\\xa0����Ƽ �� ����(Al frutti di mare)�ϸ� �丶��ҽ� �ػ깰 �Ľ�Ÿ. ������ '�ٴ�'�� ���ϴ� ��Ż���ƾ��, ����Ƽ �� ������ ������, ����, ������, ȫ��, ��¡�� �� �پ��� �ػ깰�� �丶�並 �̿��� ���� �ҽ��� ���Ѵ�. ��Ż���ƴ� ����� �ٴ��� �ݵ� ������ �ػ깰�� ���� ���� �� ���� �Ӹ� �ƴ϶� �̽��� ������ �ػ깰�� �־� �ٴ��� ���� ǳ���ϰ� ���� �� �ִ�.\\xa0�Ƹ�Ʈ��ġ�Ƴ�(Amatriciana)�Ƹ�Ʈ��ü ������ ���� �Ľ�Ÿ �ҽ�. �Ƹ�Ʈ��ġ�Ƴ��� �Ƹ�Ʈ��ü �������� ó�� ������ ������ �丶��ҽ��� �������� ���ܰ� ���ڸ��� ġ��, ������ �־� ���� ����. ������ ���� ���� ������ ��Ÿ�Ϸ� �����ġ�븦 �־� ��¦ ������ ���� Ư¡�̴�.\\xa0�ƶ��Ƶ�(Arrabbiata)�丶��ҽ� �߿��� ��ǥ���� �ſ� �Ľ�Ÿ �ҽ�. ��Ż���ƾ�� '�ʴ�, �����ϴ�'�� ���ϴ� �ƶ���Ÿ �ҽ��� �ſ� ���߰� �־� �ſ���� ���� �丶��ҽ��� ���Ѵ�. �ø�����Ͽ� ����, ����, �丶��ҽ��� �־� �ణ ��ŭ�ϰ� �ſ���� ����, �ѱ����� �Ը��� ���� �� �¾� �αⰡ ����.\\xa0[3. ũ���ҽ�]��������(Alfredo)ġ�\\uec21 ��Ƶ�� �� ���� ġ�� ���� ũ�� �Ľ�Ÿ. ���� �⺻���� ũ�� �Ľ�Ÿ�� ����, �ĸ��\\u07bb� ġ��, ũ������ ���� �Ľ�Ÿ �ҽ���. �����̳� �߰��� �� ���� ������ ���� ���� �־� ����� Ư��, �̱��� ĳ���� �� �Ϲ� �������� �αⰡ ���� �ҽ���.\\xa0ī��������(Carbonara)ī���� '��ź'�� ���ϴ� ��Ż���ƾ��, ī���������� ���ʴ� ���ε��� �ұݿ� ���� ����� �ް��� �Ա� ������ �Ϳ��� �����Ǿ���. ��κ� ����������� ī�������� ũ�� �Ľ�Ÿ�� ����� �Ǹ�������, ���������� ũ�� ���� ���� �ް��븥��, �������� �Ǵ� ������, ġ��θ� �����. �ܼ������� ���簡�� ǳ���ϰ�, �����ϴ� ����� ���� �Ǹ��ϴ�.\\xa0����������(Primavera)��Ż���ƾ�� '��'�� ���ϴ� ����������� '���� �Ľ�Ÿ'�� �Ҹ��� ũ���ҽ� �Ľ�Ÿ��. �Ľ�Ÿ �鿡 ����ݸ�, �ϵ���, ���, ����, ǲ���� �� �پ��� ä�Ҹ� ��鿩 �Դ� ũ�� �Ľ�Ÿ�� �˷��� ������, ���� ���������� �ҽ��� �ø�����Ͽ� ����, �ĸ��\\u07bb� ġ��, ũ���� ÷���ϴ� ���´�. ��ᵵ Ǫ���ϰ� ������ ������ �Ľ�Ÿ�� ũ���� ���ϰ� �ε巯�� ���� ��� �� �ִ�. \\u200b\\nȲ���� press@daily.co.kr\\n������ ������ ����\\n�Ƚ� �Ŀ��Ҵ� ������̱� XHS-701\\n��ǰ����\\n \\n�Ƚ� Ʈ�� ���� �ĸ� ���ä XMR-301\\n��ǰ����\\n \\n�Ƚ� �����ڽ� �ٵ� �\\u05fc�ķ XAC-302\\n��ǰ����\\n \\nũ�δ�Ŭ 3���� �ʼ��� �\\u05fcǹٵ�ķ\\n��ǰ����\\n \\n�Ƚ� ���� ����� �\\u07b4�� û�ұ� XVC-301\\n��ǰ����\\n���۱��� �� ���ϸ�. �������� �� ����� ����.\\n�� ���̹� ����Ʈ �ٷΰ���\\n�� īī��1boon �ٷΰ���\\n�� ��Ʃ�� �ٷΰ���\\n�� ���̹�TV �ٷΰ���\\n�� īī��TV �ٷΰ���\\n#����������Ŀ��\\n#������\\n#����Ŀ��\\n#����������Ŀ����õ\\n#����������Ŀ������\\n#������������\\n#����������õ\\n#�����̻�ũ����\\n#��\\u05f7��̻�ũ����\\n#���ֿ������������ġ\\n13266|283|160|13851|13852|12898|2449|13853|13854|13855\\n�������\\n\\r\\n\\t�Ҽ� ���� �α�������\\r\\n\\t�����ϰ� ����� ���ܺ�����!\\r\\n\\t\\n�ݱ�\\nīī���� ��۴ޱ�\\n���̹��� ��۴ޱ�\\nƮ���ͷ� ��۴ޱ�\\n���ϸ��� ��۴ޱ�\\n�ݱ�\\n�����α���\\r\\n\\t\\r\\n\\t�Ҽ� �α������� �����ϰ� �α��� ���ּ���.\\r\\n\\r\\n\\t\\n\\r\\n\\tīī��\\r\\n\\t\\n\\r\\n\\t���̹�\\r\\n\\t\\n\\r\\n\\tƮ����\\r\\n\\t\\n\\r\\n\\t���ϸ�\\r\\n\\t\\n\\r\\n        ��� 0��\\r\\n        �α\\u05feƿ�\\nSNS�� ����� �ۼ��غ�����.\\n�Ҽ� ��� �ۼ��ϱ�\\n������ ����\\n���� ���\\n���\\n1 / 150\\nBEST\\n�ֽż�\\n��õ��\\n�ݴ��\\n\\r\\n\\t����� �����ϴ�.\\r\\n\\t\\n \\n��ü ��� ������ \\n������ \\n /\\n1\\n1\\n�ݱ�\\n�ݱ�\\n���� �̹����Դϴ�.�� �հ����� �̿��� �̹�����Ȯ�� �Ǵ� ����Ͻ� �� �ֽ��ϴ�.\\n����� ���� ���� ���\\n���� ������� �����ؿ�\\n���ϸ� �� ���� �;��?\\nǪ��, �Դ� ��ſ��� ���\\nǪ�� �� ���� �;��?\\n������ Ǫ�� �̾߱�\\nǪ�� ���� �� ���� �;��?\\n�Ʒ��� URL�� ��ü �����Ͽ������ϼ���.\\n�ݱ�\\n\\r\\n\\t���ϸ��� ģ���� �Ǿ��ּ���\\r\\n\\t�ݱ�\\nīī�� �÷��� ģ�� �α�\\n���̽��� ģ���α�\\n\\r\\n\\t���ϸ��� ģ���� �ǽø� ��� �̺�Ʈ �ҽİ� ������\\r\\n\\t�ֽ� �ҽ��� ���� ������ Ȯ���Ͻ� �� �ֽ��ϴ�.\\r\\n\\t\\n�� �������� �����մϴ�.\\nīī����\\n���̽���\\nX\\n���̹����α�\\n���̹����\\nURL����\\ntop\\ndown\\nX\\xa0\\n\\t\\n�α���\\n��������\\n����/����\\nȸ��Ұ�\\n�̿���\\n�������� ó����ħ\\n�Ź���������\\n��������\\n��ȣ : ���ϸ�Ǫ�� | ����Ư���� ������ ������ 418, �\\u07b8պ��� 3�� | ��ǥ��ȭ : 02-501-7893\\n�ѽ� : 02-501-7894 | ��Ϲ�ȣ : ����, ��04985 | ����� : 2018.02.26\\n������ : �ڹα� | ������ : �輺�� | û�ҳ⺸ȣå���� : ������\\nCopyright © HumanWorks Corp. All Rights Reserved.\\n�α���\\n��������\\n����/����\\n��������\\n(��) �\\u07b8տ��� ����� ����\\n��ȣ : ���ϸ�Ǫ��\\n��Ϲ�ȣ : ����, ��04985  ������� : 2018.02.26\\n������ : �ڹα�  ������ : ������\\nû�ҳ⺸ȣ��å(å���� : ������)\\n����Ư���� ������ ������ 418, �\\u07b8պ��� 3��\\nCopyright ⓒ HumanWorks Corp. All Rights Reserved.\\nTEL : 02-501-7893\\nFAX : 02-501-7894\\nȸ��Ұ�\\n�̿���\\n�������� ó����ħ\\n�Ź���������\\n����������\\n\\r\\n\\t�α����� ���ּ���\\r\\n\\r\\n\\t\\n�ݱ�\\n�α���\\n��������\\n�\\u05f8�\\n����\\n������\\n����\\n������ ���\\n����\\n�α���\\nȸ��Ұ�|�̿���|�������� ó����ħ\\n© HumanWorks Corp. |  ��������\"],\n",
       "  ['라면만큼 쉬운 홈파스타! 파스타소스 7종류 : 네이버 블로그\\n본문 바로가기\\n블로그\\n카테고리 이동\\nA || E\\n검색\\nMY메뉴 열기\\n식품 \\n라면만큼 쉬운 홈파스타! 파스타소스 7종류 \\n캬아캬아\\n2020. 6. 10. 12:43\\n\\t\\n 이웃추가\\n본문 기타 기능\\n본문 폰트 크기 조정\\n본문 폰트 크기 작게 보기\\n본문 폰트 크기 크게 보기\\n가\\n 공감하기\\n공유하기 \\nURL복사 \\n신고하기 \\n라면만큼 쉬운 홈파스타를 위한 파스타소스 7\\n \\n \\n \\n\\u200b INTRO \\u200b\\u200b대표적인 양식 음식중 하나인 파스타. 레스토랑에서 먹으면 되게 비싸지만, 직접 해먹으면 별로 부담스럽지 않아요. 조리방법은 라면 정도로 쉽고, 시판제품들을 직접 구매하면 단가도 엄청 저렴해지니까. 스파게티 건면은 라면사리 수준의 가격이고, 소스는 1병 에 3~5000원 수준으로 2회분 정도 됩니다. \\u200b이번에는 집에서 간편하게 사용할 수 있는 시판 파스타소스 7종을 소개합니다. \\u200b\\n \\n라면만큼 쉬운 홈파스타! (ง •̀_•́)ง 만들어볼 파스타소스 7종류 : 모먼트\\n대표적인 양식 중 하나로 손꼽히는 파스타. \\n근사하고 비싼 요리지만, 직접 만들어보면 라면만큼 초간단! \\n파스타소스만 있으면 누구나 만들 수 있다.\\nnaver.me\\n \\n\\u200b영상 / 글: 입맛 관대한 캬캬 \\u200b\\u200b\\u200b\\n \\n \\n\\u200b\\u200b파스타소스 7 \\u200b\\n \\n \\n\\u200b총 6개 브랜드이고 7 종의 소스 입니다. 오뚜기, 청정원, 폰타나 등은 국내 브랜드이고, 아그네시, 레고스, 아리기 등은 수입 브랜드 입니다. 절반 이상이 빨간색 컬러를 띄는걸 보면 토마토소스가 파스타 업계의 가장 큰 지분을 가진듯 합니다. ㅎ \\u200b물건을 고르면서 브랜드와 소스가 가급적 겹치지 않게 하려고 했어요. 근데, 나중에 보니 청정원 제품이 2개인데다가, 로제소스가 2종류더군요. ㅠㅠ \\u200b\\u200b\\u200b\\n \\n검색키워드\\n오뚜기 파스타\\n폰타나 파스타\\n청정원 파스타\\n레고스 파스타\\n아그네시 파스타\\n아리기 파스타\\n월간검색수(2020.5.)\\n240\\n640\\n330\\n40\\n60\\n20\\n \\n브랜드별 인지도 비교\\n브랜드명에 일괄적으로 파스타 를 붙여서 검색했습니다. 인지도는 폰타나가 가장 높네요. 제품마다 블로그 리뷰를 따로 했는데, 제 블로그 이웃님들도 폰타나를 많이 언급하시더군요. 그 외에 외국 수입제품들은 눈에 보일때 한번씩 구매해보는 정도의 인지도인거 같습니다. \\u200b\\u200b\\u200b\\n \\n제품명\\n오뚜기 로제스파게티소스\\n폰타나 볼로네제소스\\n청정원 봉골레파스타소스\\n레고스 까르보나라소스\\n아그네시 포모도로 마스카포네\\n아리기 바질페스토\\n청정원 아라비아따\\n식품의유형\\n소스\\n소스\\n소스\\n소스\\n소스\\n소스\\n소스\\n중량 (g)\\n685\\n430\\n360\\n490\\n400\\n190\\n600\\n용량 (회)\\n4\\n4\\n4\\n4\\n4\\n-\\n4\\n주요원재료\\n토마토 60.6%휘핑크림 13%\\n베이컨 0.5%쇠고기 2.5%돼지고기 5%\\n조개 5.37%화이트와인 5%올리브유 5%\\n치즈 6%크림 6%\\n토마토 27%마스카포네치즈 11%\\n바질 35%\\n토마토 65.4%\\n홈플러스가격 (원)\\n3980\\n4900\\n4790\\n5900\\n3490\\n4490\\n3990\\n1회 당단가 (원)\\n995\\n1225\\n1198\\n1475\\n869\\n-\\n998\\n \\n식품 기본정보\\n소스별 특징에 따라 주요 원재료의 구성이 다릅니다. \\u200b가격은 폰타나가 제일 비쌀줄 알았는데, 수입 까르보나라 소스가 가장 비싸네요. 저렴한건 역시 오뚜기 제품이고요. 참고로, 같은종류가 아닌 다른 종류의 소스들의 수치이므로 비교데이터로의 의미는 두지 마세요. ^_^ \\u200b그리고 용기당 3~4회 분량이라고 표기되어 있습니다만, 실제로는 1~2회 분량인듯 해요. 표기된 분량만큼 사용하면 소스가 너무 빠듯해서, 맛을 제대로 못느끼므로 2배 이상 사용해야 하거든요. \\u200b\\u200b\\u200b\\n \\n \\n\\u200b\\u200b오뚜기 로제스파게티소스\\u200b\\n \\n \\n토마토 60.6%, 휘핑크림 13%\\n로제는 장미를 말하는 단어죠. 스파게티의 이름으로 사용되었을때는, 토마토와 크림스파게티의 믹싱 형태를 말합니다. 소스의 컬러도 중간정도로 장미같은 색상이어서 로제 라는 이름을 붙인듯 해요. 맛도 두 소스가 섞인듯한 맛으로 두 음식의 장점을 다 느낄 수 있습니다. \\u200b\\u200b\\n \\n \\n주요재료\\n토마토, 휘핑크림\\n컬러\\n로제컬러 (토마토와 크림의 중간)\\n맛\\n토마토소스 새콤함 + 유제품 고소한맛\\n질감\\n부드럽고 다소 꾸덕함\\n \\n\\u200b사진과 영상은 너무 토마토스러운 색감으로 나왔는데 ... 실제는 저것보다 좀 크리미한 느낌입니다. 맛을 보면 토마토소스의 새콤함에 유제품인 크림소스의 고소함이 느껴저요. 두가지 소스를 다 느낄 수 있다는 점이 재밌어요. 장점과 장점을 모아놓은 느낌? \\u200b질감은 부드러우면서도 약간 꾸덕한 편입니다. \\u200b\\u200b\\u200b\\n \\n \\n\\u200b\\u200b청정원 봉골레파스타소스\\u200b\\n \\n \\n조개 5.37%, 화이트와인 5%, 올리브유 5%\\n봉골레 라는건 조개를 뜻하는 이태리 말입니다. 그러니까 조개를 곁들인 파스타 라고 할 수 있겠죠? 맛은 해산물 특유의 감칠맛이 더해진 오일파스타 라고 보면 됩니다. 오일리하면서도, 간간한 감칠맛이 좋아요. \\u200b\\u200b\\u200b\\n \\n \\n주요재료\\n조개, 화이트와인, 올리브유\\n컬러\\n투명\\n맛\\n조개국물맛, 와인향\\n질감\\n오일리함\\n \\n\\u200b조개 5.37% 함유되었다고 하는데, 새끼손톱만한 관자 3개 들었더군요. 요건 대량생산 소스니까 ... 그냥 그러려니 했습니다. 근데, 직접 만들어먹는 봉골레파스타에는 조개가 많이 들어가는거 아시죠 ? \\u200b참고로 간은 많이 세더군요. 제품마다 정도가 다른듯 한데 ... 이건 너무 셌어요. 오일파스타의 오일리함을 뚫고 짠맛이 느껴질 정도니까. \\u200b요 소스와 물을 1대 3비율로 섞어서 라면사리 넣고 끓여봤는데, 국물이 싱겁거나 하지 않더라고요. ㅎ 다른 파스타소스 등과 혼합해서 사용해도 괜찮지 않을까 싶었습니다. \\u200b\\u200b\\u200b\\n \\n \\n\\u200b\\u200b폰타나 볼로냐 베이컨 볼로네제 소스\\u200b\\n \\n \\n순베이컨 0.5%, 소고기 2.5%, 돼지고기 5%\\n볼로네제는건 이태리 볼로냐 지방에서 만드는 라구소스를 말합니다. 라구소스는 미트소스의 일종으로 고기를 다져 야채와 함께 조리하고, 토마토 등을 넣어 졸여서 만든 소스입니다. 조리방식은 십 수 가지라고 하는데, 그 중 유명한것의 하나가 바로 볼로네제 소스라고 하네요.  \\u200b그니까 볼로네제 파스타, 라구파스타, 미트파스타가 똑같은 음식을 지칭한다는 듯? \\u200b\\u200b\\u200b\\n \\n \\n주요재료\\n순베이컨, 쇠고기, 돼지고기, 토마토페이스트\\n컬러\\n토마토색\\n맛\\n새콤함 없는 토마토소스 맛, 고기 맛\\n질감\\n고기질감이 생각보다 쩜쩜쩜\\n \\n\\u200b파스타전문점에서 먹는 미트파스타 종류는 소스에서 고기를 느낄 수 있죠? 다진고기라고는 해도, 민찌처럼 어느정도 크기와 질감이 있습니다. \\u200b그런데 시판소스는 공장도라 그런지 몰라도 ... 완전 가루를 내었나봐요 .고기 향이 느껴지긴 하지만, 씹는 재미는 전혀 없었네요. 씹는 재미 역시 미트소스의 중요한 맛일텐데. ㅠㅠ \\u200b토마토소스 맛이 느껴지긴 하는데, 새콤한 맛은 안느껴졌어요. \\u200b\\u200b\\u200b\\u200b\\n \\n \\n\\u200b\\u200b레고스 까르보나라 파스타소스\\u200b\\n \\n \\n치즈 6%, 크림 6%, 양파 4.5%\\n이태리 오리지널 까르보나라는 사실 오일파스타인거 아시죠? 치즈가루를 뿌리고, 흑후추를 갈아서 석탄가루 연출을 하고, 달걀 노른자를 얹어주는걸로 마무리합니다. 근데 이게 미국으로 전해졌다가 한국으로 전해져 로컬라이징 되었습니다. 그게 크림소스를 어마어마하게 들이붓는 한국식 까르보나라 입니다. \\u200b근데, 요 소스도 크림소스인데 까르보나라 라고 적혀있어요. 한국으로 수출하려고 일부러 만든 제품인지, 호주 까르보나라도 크림 듬뿍인지는 모르겠네요. \\u200b\\u200b\\n \\n \\n주요재료\\n치즈, 크림, 양파 \\n컬러\\n크림치즈색\\n맛\\n고소한 유제품 맛\\n질감\\n아주 꾸덕한 질감\\n \\n\\u200b소스 참 꾸덕하더군요. 죄다 면에 들러붙더라고요. 스파게티면 퍼진거 아니고 딱 알덴테로 삶았는데, 떡지게 만들정도의 꾸덕함. 포크로 돌돌이 해서, 면이 아래에서 위로 감기는 방향도 떨어지지 않고 들러붙어있어요. \\u200b맛을 보니 유제품 특유의 고소함과 부드러움은 있었고, 살짝 간도 되어 있는듯. 하지만 짠 맛의 별첨재료를 준비했으면 더 좋았을거 같아요. 베이컨이나 소세지같은거 있었으면, 짠맛으로 혓바닥에 활력을 더해주었을 듯. \\u200b\\u200b\\u200b\\n \\n \\n\\u200b\\u200b아그네시 포모도로 마스카포네 소스\\u200b\\n \\n \\n토마토 27%, 토마토농축액 15%, 마스카포네치즈 11%, 탈지분유 12%\\n포모도로 라고 써져 있길래, 다른 소스인줄 알았습니다. 그런데 알아보니, 토마토를 뜻하는 이태리 단어라고 하더라고요. 마스카포네는 이태리에서 생산하는 크림치즈에요. 그니까, 로제소스인거죠. -ㅂ- \\u200b\\u200b\\n \\n \\n주요재료\\n토마토, 마스카포네치즈\\n컬러\\n로제컬러\\n맛\\n토마토맛, 크림치즈맛\\n질감\\n꾸덕한 질감\\n \\n\\u200b오뚜기 로제스파게티소스랑 같은 로제컬러 소스입니다만, 맛은 좀 다르더군요. 토마토소스의 새콤한맛이 확연히 강했어요. 그리고 감칠맛이 빠진듯한? 느낌이어서, 뭔가 거세된듯한 맛. 먹으면서 뭔가 부족한듯한 느낌이 있었습니다. \\u200b질감은 굉장히 꾸덕한 편이었어요. 마스카포네치즈가 크림치즈라더니, 그래서 그런가봐요. \\u200b\\u200b\\u200b\\n \\n \\n\\u200b\\u200b아리기 바질페스토 \\u200b\\n \\n \\n바질 35%\\n생바질과 여러 재료들을 으깨고 갈아서 만든 페스토 입니다. 페스토는 페이스트 를 뜻하는 이태리 말인데, 우리말로 하면 \\'곤죽\\' 정도로 이해하면 된답니다. 대표적인 그린소스 중 하나이며, 주로 파스타에 사용되곤 한다네요. 단독으로 사용한다기보다 오일파스타에 조미료처럼 첨가하는 형태로 사용하는듯 합니다. \\u200b\\u200b\\n \\n \\n주요재료\\n바질, 해바라기씨유, 캐슈넛, 치즈\\n컬러\\n그린컬러\\n맛\\n바질향, 쑥덕맛 (?)\\n질감\\n오일리함\\n \\n\\u200b빨간색, 흰색하고는 다른 소스들과 뉘앙스가 확연히 달라요. 뭔가, 건강해 보이는 느낌이랄까? ㅎ \\u200b특유의 향이 있는데, 저는 쑥떡 비슷한 인상을 받았어요. 마카로니 질감이 굳은 절편 비슷한 감촉이어서, 더 쑥덖 비슷하게 느낀거 같기도 합니다. \\u200b\\u200b\\u200b\\u200b\\n \\n \\n\\u200b\\u200b청정원 아라비아따 스파게티소스\\u200b\\n \\n \\n토마토 65.4%\\n토마토소스에 매운맛을 더한 파스타소스입니다. 보통 할라피뇨, 페퍼론치노 등의 고추를 첨가한다더군요. 다만, 매운맛의 농도는 한국사람이 생각하는 매운음식 기준에서는 대부분 수준이하입니다. 소스를 넉넉하게 사용해야 매운맛이 얼추 느껴지는 정도지요. \\u200b\\u200b\\n \\n \\n주요재료\\n토마토, 양파, 고추\\n컬러\\n토마토컬러\\n맛\\n토마토소스맛 + 매콤한맛 살짝\\n질감\\n일반적인 토마토소스\\n \\n\\u200b전형적인 토마토스파게티 비주얼이지만 매콤함이 약간 가미되었다는게 다른점입니다. 근데 조리법의 비율대로 조리하면 매운맛은 거의 못느껴요. 면 1인분에 소스 2인분 이상 해야 매콤함이 있다는걸 인지할 수 있습니다. \\u200b토마토소스의 맛이고, 질감은 일반적인 느낌입니다. 다소 걸죽한 정도이므로 면을 계속 뒤집어 소스를 듬뿍 묻혀야 맛있습니다. \\u200b\\u200b\\u200b\\u200b\\n \\n \\n\\u200b\\u200b\\u200b파스타소스 활용 레시피 \\u200b\\n \\n토마토라면 만들기, 라면사리굵은면에 토마토소스 더하기\\n라면사리 굵은면과 파스타용 토마토소스를 활용한토마토라면 만들기\\u200b\\u200bINTRO \\u200b\\u200b푸드탐구생활 콘텐...\\nblog.naver.com\\n \\n스파게티면 대신 라면사리를 넣어 먹어도 재밌습니다. 일종의 볶음면이 되는건데 간단하고 먹을만 해요. 스트레이트하고 무뚝뚝한 스파게티면보다 말랑말랑한 감촉을 좋아한다면? 라면사리를 사용해보세요. \\u200b\\u200b\\u200b\\n \\n마카로니로 바질페스토 파스타 향 좋네요\\n그윽한 풀 향이 좋은 바질페스토 파스타 \\u200b\\u200b\\u200bINTRO \\u200b\\u200b익히지 않은 허브를 사용해서 만드는 대표적...\\nblog.naver.com\\n \\n스파게티면은 수 많은 파스타면 중 하나일 뿐입니다.여러가지 형태의 파스타면을 사용하면 같은 소스지만 다른음식을 먹는듯한 기분을 즐길 수 있어요. 마카로니를 이용해 떠먹는 파스타를 즐기는건 어떤가요? \\u200b\\u200b\\u200b\\n \\n봉골레소스로 만들어본 봉골레라면 제법 맛나요\\n청정원소스와 건면사리면을 조합한 봉골레라면 \\u200b\\u200bINTRO \\u200b\\u200b이번에 기획포스팅 작성하느라 파스타소...\\nblog.naver.com\\n \\n봉골레소스를 이용해 국물봉골레라면을 끓여봤습니다. 소스의 맛이 진하고 짜다는것에서 착안해 물을붓고 끓인거에요. 이렇게 먹으니 생각보다 입에 맞더라고요. \\u200b\\u200b\\u200b\\n \\n \\n\\u200bOUTRO \\n \\n \\n파스타의 종류가 많은만큼 소스도 다양하게 즐길 수 있어요\\n\\u200b\\n \\n#파스타소스7\\n#홈파스타\\n#식품리뷰\\n#푸드탐구생활\\n#푸드탐구생활5기\\n#네이버푸드\\n공감한 사람 보러가기\\n댓글 14\\n공유하기\\n캬아캬아\\n영화\\n개인 리뷰어.   \\n네이버 인플루언서. \\n이웃추가\\n톡톡하기\\n캬아캬아\\n님의 인플루언서 홈\\n이 블로그\\xa0\\n식품 \\n\\xa0카테고리 글\\n이전\\n이전\\n다음\\n다음\\n{\"title\":\"라면만큼 쉬운 홈파스타! 파스타소스 7종류\",\"source\":\"https://blog.naver.com/kyakya_4001/221996022043\",\"blogName\":\"A || E\",\"blogId\":\"kyakya_4001\",\"domainIdOrBlogId\":\"kyakya_4001\",\"logNo\":221996022043,\"smartEditorVersion\":4,\"outsideDisplay\":true,\"cafeDisplay\":true,\"blogDisplay\":true,\"meDisplay\":true,\"lineDisplay\":true}\\n 맨 위로\\nPC버전으로 보기\\n닫기\\n카테고리\\n 이 블로그 홈\\n \\n이 블로그\\xa0\\n식품 \\n\\xa0카테고리 글\\n이전\\n이전\\n다음\\n다음\\n공감한 사람 보러가기\\n댓글 14\\n공유하기\\n캬아캬아(kyakya_4001)\\n님을 이웃추가하고 새글을 받아보세요\\n취소\\n이웃추가',\n",
       "   '파스타 소스의 종류와 선택 방법 : 네이버 블로그\\nNAVER\\n블로그\\n메마른꽃빵\\n블로그 검색\\n이 블로그에서 검색\\n공감\\n\\t\\n\\t첫 댓글을 남겨보세요\\n\\t\\n\\t\\n\\t\\n공유하기\\n메뉴 바로가기\\n본문 바로가기\\n내 블로그 \\n이웃블로그\\n블로그 홈 \\n로그인\\n메마른꽃빵\\n블로그 메뉴\\n프롤로그\\n블로그\\n지도\\n서재\\n안부\\n블로그\\n글쓰기\\n가벼운 글쓰기툴 퀵에디터가 오픈했어요!\\n전체보기 83개의 글\\r\\n\\t\\n전체보기목록열기\\n게시판\\n파스타 소스의 종류와 선택 방법\\n기쁜우리4만\\n ・ \\n2024. 3. 3. 9:51\\nURL 복사\\n 이웃추가\\n본문 기타 기능\\n                   공유하기\\n                \\n신고하기\\n파스타 소스의 종류와 선택 방법\\n파스타를 먹을 때 가장 중요한 것 중 하나는 소스의 선택입니다 파스타 소스는 그 종류에 따라 전체 음식의 맛과 향을 결정짓는 중요한 역할을 합니다 다양한 종류의 파스타 소스를 알아보고, 어떤 상황에 어떤 소스를 선택해야 하는지 알아봅시다  1 토마토 소스: 토마토 소스는 가장 기본적이고 인기 있는 파스타 소스 중 하나입니다 신선한 토마토, 양파, 마늘, 올리브 오일 등을 사용해 만들어지며, 산뜻하고 상큼한 맛이 특징입니다  토마토 소스는 스파게티, 페토치니, 레이가테 등과 잘 어울리며, 특히 해산물이나 채소를 곁들여 먹으면 더욱 맛있습니다 2 크림 소스: 크림 소스는 부드럽고 진한 크림으로 만들어지는데, 부드러운 맛과 풍부한 질감이 특징입니다 \\n파스타 소스의 종류와 선택 방법\\n 크림 소스는 페토치니, 리가토네, 스파게티 등과 잘 어울리며, 해산물이나 버섯, 닭고기와 잘 어울립니다 3 페스토 소스: 페스토 소스는 바질, 파마산 치즈, 올리브 오일, 마늘, 피넛 등을 갈아 만든 소스로, 상큼하고 풍부한 향이 특징입니다  페스토 소스는 페토치니나 스파게티와 잘 어울리며, 새우, 토마토, 파스타 살라미 등과 함께 먹으면 맛이 더욱 돋보입니다 4 알리오 올리오: 알리오 올리오 소스는 올리브 오일과 마늘을 볶아 만든 간단하면서도 풍부한 향을 가진 소스입니다  알리오 올리오는 간단한 \\n태그\\n취소\\n확인\\n공감\\n이 글에 공감한 블로거 열고 닫기\\n 댓글\\n\\t\\n\\t쓰기\\n\\t\\n이 글에 댓글 단 블로거 열고 닫기\\n인쇄\\n\\t\\n\\t\\n댓글쓰기\\n1/1\\n이전\\n다음\\n\\t\\n\\t이 블로그\\n\\t\\n\\t\\n\\t\\n\\t  전체 카테고리 글\\n\\t\\n\\t\\n\\t\\n\\t\\n전체글 보기\\n글 목록\\n글 제목\\n작성일\\n화면 최상단으로 이동\\n\\xa0\\xa0\\xa0\\xa0\\xa0\\xa0\\xa0\\xa0\\xa0\\xa0\\xa0\\xa0\\n활동정보\\n\\xa0\\xa0\\xa0\\xa0\\xa0\\xa0\\xa0\\nRSS 2.0\\nRSS 1.0\\nATOM 0.3\\n검색\\n글 검색\\n안녕하세요.이 포스트는 네이버 블로그에서 작성된 게시글입니다.자세한 내용을 보려면 링크를 클릭해주세요.감사합니다.\\n글 보내기 서비스 안내\\n2009년 6월 30일 네이버 여행 서비스가 종료되었습니다. 네이버 여행 서비스를 이용해 주신 여러분께 감사드리며, 더 좋은 서비스로 보답할 수 있도록 노력하겠습니다.\\n악성코드가 포함되어 있는 파일입니다.\\n{FILENAME}\\n백신 프로그램으로 치료하신 후 다시 첨부하시거나, 치료가 어려우시면파일을 삭제하시기 바랍니다. \\n네이버 백신으로 치료하기\\n고객님의 PC가 악성코드에 감염될 경우 시스템성능 저하,개인정보 유출등의 피해를 입을 수 있으니 주의하시기 바랍니다.\\n작성자 이외의 방문자에게는 이용이 제한되었습니다.\\n{ALERTMESSAGE}\\n이용제한 파일 : {FILENAME}\\n내PC 저장\\nN드라이브 저장\\n카메라 모델\\n해상도\\n노출시간\\n노출보정\\n프로그램모드\\nISO감도\\n조리개값\\n초점길이\\n측광모드\\n촬영일시\\n글보내기 제한 공지\\n저작권 침해가 우려되는 컨텐츠가 포함되어 있어 글보내기 기능을 제한합니다. \\n네이버는 블로그를 통해 저작물이 무단으로 공유되는 것을 막기 위해,\\n\\t저작권을 침해하는 컨텐츠가 포함되어 있는 게시물의 경우 글보내기 기능을 제한하고 있습니다.\\n상세한 안내를 받고 싶으신 경우 네이버 고객센터로 문의주시면 도움드리도록 하겠습니다.\\n\\t건강한 인터넷 환경을 만들어 나갈 수 있도록 고객님의 많은 관심과 협조를 부탁드립니다.\\n주제 분류 제한 공지\\n저작권 침해가 우려되는 컨텐츠가 포함되어 있어 주제 분류 기능을 제한합니다.\\n네이버는 블로그를 통해 저작물이 무단으로 공유되는 것을 막기 위해,\\n\\t저작권을 침해하는 컨텐츠가 포함되어 있는 게시물의 경우 주제 분류 기능을 제한하고 있습니다.\\n상세한 안내를 받고 싶으신 경우 네이버 고객센터로 문의주시면 도움드리도록 하겠습니다.\\n\\t건강한 인터넷 환경을 만들어 나갈 수 있도록 고객님의 많은 관심과 협조를 부탁드립니다.\\n작성하신 게시글에 사용이 제한된 문구가 포함되어 일시적으로  등록이 제한됩니다.\\n이용자 분들이 홍보성 도배, 스팸 게시물로 불편을 겪지 않도록 다음과 같은 경우 해당 게시물 등록이 일시적으로 제한됩니다.\\n특정 게시물 대량으로 등록되거나 해당 게시물에서 자주 사용하는\\n\\t  문구가 포함된 경우\\n특정 게시물이 과도하게 반복 작성되거나 해당 게시물에서 자주 사용하는문구가 포함된 경우\\n스팸 게시물이 확대 생성되는 것을 방지하기 위하여 문구 및 사용 제한기간을상세하게 안내해 드리지 못하는 점 양해 부탁 드립니다. 모두가 행복한 인터넷문화를 만들기 위한 네이버의 노력이오니 회원님의 양해와 협조 부탁드립니다.\\n더 궁금하신 사항은 고객센터로 문의하시면 자세히 알려드리겠습니다.\\n수정하신 후 다시 등록해 주세요.\\n확인\\n회원님의 안전한 서비스 이용을 위해 비밀번호를 확인해 주세요.\\n다시 한번 비밀번호 확인 하시면 이용중인 화면으로 돌아가며, 작성 중이던내용을 정상적으로 전송 또는 등록하실 수 있습니다.\\n \\n1일 안부글 작성횟수를 초과하셨습니다.\\n\\t네이버 블로그에서는 프로그램을 이용한\\n\\t안부글 자동등록 방지를 위해 1일 안부글 작성횟수에\\n\\t제한을 두고 있습니다.\\n\\t\\n1일 안부글 작성횟수를 초과하셨습니다.\\n\\t고객님이 남기신 안부글에 대한 다수의 신고가 접수되어\\n\\t1일 안부글 작성 횟수가 5회로 제한되었습니다.\\n\\t\\n\\t네이버 블로그는 여러 사람이 함께 모여 즐거움을 나누는\\n\\t공간으로 모든 분들이 기분좋게 블로그를 이용할 수 있도록\\n\\t고객님의 이해와 협조 부탁 드립니다.\\n\\t\\n공감을 삭제하시겠습니까?\\n이 글의 공감수도 함께 차감됩니다.\\n이웃으로 추가하시겠어요?\\n기쁜우리4만\\n메마른꽃빵\\n이웃추가\\n이웃추가 레이어 닫기\\n작성하신 에 이용자들의 신고가 많은 표현이 포함되어 있습니다.\\n신고가 많은 표현\\n다른 표현을 사용해주시기 바랍니다.\\n\\t건전한 인터넷 문화 조성을 위해 회원님의 적극적인 협조를 부탁드립니다.\\n더 궁금하신 사항은 고객센터로 문의하시면 자세히 알려드리겠습니다.\\n확인\\n블로그 마켓 가입 완료\\n내 상품 관리에서 배송비 설정 후 상품 판매를 시작해보세요!\\n배송비 설정하기\\n블로그 마켓 가입 완료 레이어 닫기\\n블로그 마켓 탈퇴가완료되었습니다.\\n문의사항은 블로그 마켓 고객센터로 연락주세요.\\n확인',\n",
       "   '최고의 토마토 소스 대체품(요리에 사용할 수 있는 10가지 쉬운 대안!)\\n \\n \\n 메인 컨텐츠로 가기 차 사이드로 건너 뛰기 바닥 글로 이동사랑으로 구워조리법\\n저녁 식사\\n캐서롤\\n반찬\\n아침 식사\\n전채\\n디저트\\n쿠키 및 바\\n소개\\n팀과 미팅\\n가게\\n자세한 설명서\\nContact \\n메뉴 아이콘\\n가입\\n검색 아이콘\\n검색저녁 식사\\n조리법\\n메인 디쉬\\n디저트\\n반찬\\n소개\\n가게\\n자세한 설명서\\n확인\\n×홈 » 조리법 » 대체by 안젤라 @ BakeItWithLove.com · 댓글 4토마토 소스 대용품\\n레시피로 이동\\n궁금할 때 최고의 토마토 소스 대용품이 될 수 있는 것, 가장 잘 작동하는 대안에 대한 모든 것을 읽을 수 있습니다! 음식이 부족하거나 알레르기가 있거나 편식하는 사람을 해결하기 위해 노력하고 있는지 여부에 관계없이 우리는 좋은 결과를 위해 사용할 수 있는 가장 쉬운 재료!\\n톡 쏘고 약간 달고 완전 맛있는 토마토 소스는 우리 모두가 알고 사랑하는 고전 요리의 기본 재료입니다!\\n토마토 소스의 진한 맛은 전 세계 많은 사람들에게 친숙한 맛입니다. 이 다재다능한 소스는 인기있는 선택입니다 파스타 요리와 피자의 경우 일반적으로 이탈리아 음식과 관련이 있습니다.\\n하지만 토마토 소스는 다양한 요리에 사용 우리 중 많은 사람들이 사랑하는 고전적인 이탈리아 요리를 넘어. 많은 멕시코 요리와 전 세계의 더 많은 요리법이 토마토 소스를 사용합니다. \\n이동 :대체 이유최고의 토마토 기반 대체품1. 토마토 페이스트2. 스튜 토마토 통조림3. 깍둑썰기한 토마토 통조림4. 신선한 토마토5. 토마토 수프6. 케첩토마토 무료 대체품7. 가지 퓌레8. 피망 퓌레9. 비트와 당근 퓌레10. 노마토 소스📖 레시피 카드💬 리뷰\\n토마토 소스도 칠리, 스튜의 공통 베이스, 그리고 다른 왕성한 수프. 또한, 토마토 소스도 맛있는 토핑을 만듭니다.\\n이 간단한 재료를 사용하는 방법이 너무 많기 때문에 식품 저장실에 몇 개의 캔이나 병을 보관하는 것이 좋습니다. 식료품 저장실 스테이플에 몇 개의 캔을 비축해 두더라도 훌륭한 대안이 필요하다 토마토 소스용.\\n할 때 두려워하지 마십시오. 우리는 여기에서 우리가 가장 좋아하는 스왑을 공유하고 있습니다.!\\n대체 이유\\n대체품에 대한 가장 일반적인 요구 사항 중 하나는 단순히 재료가 부족하다는 것입니다. 그것은 우리 모두에게 일어납니다! \\n매장으로 달려가는 것보다 하지만 부엌에 사용할 수 있는 다른 토마토 기반 스테이플이 있을 수 있습니다.\\n토마토 소스가 부족한 것 외에도 다른 이유로 대체품이 필요할 수 있습니다. 의 회원으로서 밤나무 가족, 너 (또는 당신이 요리하는 사람) 염증을 증가시킬 수 있으므로 이 가족의 음식을 피할 수 있습니다.\\n또 다른 이유는 당신은 토마토에 알레르기가 있습니다, 또는 단순히 즐기지 않습니다. 이 경우 사용할 수 있는 몇 가지 비토마토 기반 대체품이 있습니다. \\n이 대용품은 요리의 풍미를 바꿔주지만 여전히 견고하고 풍부한 풍미를 제공합니다..\\n최고의 토마토 기반 대체품\\n머물고 싶다면 요리의 의도한 맛에 최대한 가깝게, 그렇다면 다른 토마토 기반 대체품이 최선의 방법입니다. 운 좋게도 몇 가지 훌륭한 선택이 있습니다!\\n1. 토마토 페이스트\\n토마토 페이스트는 대부분의 레시피에서 토마토 소스를 대체할 수 있는 탁월한 선택입니다. 본질적으로 농축 토마토 소스. 그러나 이 대안을 사용할 때 고려해야 할 몇 가지 차이점이 있습니다.\\n농축된 형태로 인해 토마토 페이스트는 순수한 토마토 맛을 냅니다. 이에 비해 많은 토마토 소스는 토마토 맛이 더 부드럽고 향신료와 자주 섞이기 때문입니다.\\n일부 소스에는 강한 토마토 맛을 줄이기 위해 설탕이 첨가되기도 합니다. 이 가벼운 맛의 차이는 대부분의 레시피에서 쉽게 재현할 수 있습니다. 약간의 향신료와 약간의 설탕만 추가하면.\\n사용할 토마토 페이스트를 준비하려면, 물과 섞어 소스의 일관성을 만들기 위해. 페이스트에 대한 물의 비율은 원하는 농도에 따라 달라집니다. 소량으로 시작하여 필요에 따라 천천히 추가하십시오.\\n원하는 농도에 도달하면 희석된 토마토 페이스트 측정 레시피에 있는 토마토 소스와 1:1 교환하세요.\\n2. 스튜 토마토 통조림\\n토마토 소스이기 때문에 본질적으로 퓌레 토마토, 스튜 토마토 통조림으로 나만의 토마토 소스를 쉽게 만들 수 있습니다. 이들은 요리된 다음 전체 형태로 통조림으로 만들어진 토마토입니다.\\n토마토 캔을 푸드 프로세서에 넣고 갈아주기만 하면 됩니다. 도달할 때까지 혼합 선호하는 질감(두툼하거나 부드러운). 원하는 농도에 도달하면 레시피의 토마토 소스와 1:1 교환하여 측정합니다.\\n토마토 페이스트와 마찬가지로 설탕이나 향신료를 추가 할 수 있습니다 레시피에 추가하기 전에 가장 잘 어울리는 맛을 내기 위해. \\n또한 일부 통조림 토마토는 이미 양념이 되어 있습니다(불에 구운 통조림 토마토와 같은). 그러므로, 당신은 필요하지 않을 수 있습니다 추가 조미료.\\n3. 깍둑썰기한 토마토 통조림\\n깍둑썰기한 토마토는 통조림으로 만든 토마토 통조림과 본질적으로 동일하며 더 작은 조각으로 잘립니다. 따라서 다음을 수행할 수 있습니다. 통조림으로 만든 스튜 토마토에 대해서도 동일한 지침을 따르십시오. (위) 자신의 소스를 만들기 위해.\\n4. 신선한 토마토\\n토마토 소스는 볶은 토마토로 만들지만, 신선한 토마토를 사용할 수 있습니다 나만의 토마토 소스 만들기. 푸드 프로세서에 토마토 몇 개를 넣고 섞기만 하면 됩니다. 올리브 오일을 약간 추가하면 부드러운 소스를 만들 수도 있습니다.\\n신선한 토마토는 구운 토마토보다 자연적으로 더 밝은 맛을 제공합니다. 그래서 좀 더 본격적인 맛의 소스를 원하신다면 - 토마토를 굽다 혼합하기 전에 오븐에서. \\n추가로 설탕과 소금을 약간 넣어주세요 맛의 균형을 위해 (원하는 다른 향신료뿐만 아니라).\\n소스가 다 나오면 1:1 교체로 사용 어떤 조리법을 위해.\\n5. 토마토 수프\\n토마토 수프는 식료품 저장실의 필수품입니다. 추운 겨울 날을 위해 손에 들고. 뜨거운 한 그릇을 좋아하지 않는 사람 토마토 수프 및 구운 치즈 샌드위치!\\n토마토 수프는 그 자체로도 맛있지만 특정 요리법에서는 토마토 소스를 대신할 수도 있습니다. 이것을 대용품으로 사용할 때 기억해야 할 가장 중요한 것은 토마토 수프에는 설탕이 꽤 많이 첨가되어 있습니다. 그것. \\n즉, 토마토 소스보다 달콤한 베이스를 사용하게 됩니다. 단맛이 더해지면서 토마토 수프에는 일반적으로 여분의 물이 있습니다. 또는 우유를 첨가하십시오. \\n이것은 더 부드러운 토마토 맛을 제공하고 너무 많은 수분 특정 조리법에서. 그러나 토마토 소스와 크림을 섞어 만든 분홍색 소스에는 아주 잘 어울립니다.\\n토마토 수프 대용으로 사용할 경우 토마토 소스 대용으로 1:1로 계량해 주세요. 여분의 수분을 수용하기 위해, 다른 추가 액체의 ¼ 컵을 남겨 두십시오. (물, 우유 또는 기름).\\n도움을주기 위해 단맛을 잘라, 추가 짭짤한 향신료와 추가 소금을 추가합니다.\\n6. 케첩\\n케첩은 토마토로 만들어지기 때문에 소량으로 토마토 소스 대용으로 사용할 수 있습니다. 하지만 토마토 외에도 케첩에는 식초와 설탕도 들어 있습니다..\\n이것은 특정 풍미 프로필 일반 토마토 소스와는 차원이 다릅니다. 일관성도 다릅니다.\\n강한 맛의 차이로 인해 케첩은 토마토 소스가 들어간 요리에 가장 잘 사용됩니다. 주성분이 아닌 또는 소량으로 사용되는 경우. \\n또한 다음과 같이 제안합니다. 추가 조미료를 추가 독특한 케첩 맛의 균형을 유지하는 데 도움이 됩니다.\\n이러한 차이점에도 불구하고 케첩은 여전히 \\u200b\\u200b사용할 수 있습니다. 간편한 1:1 교환으로 토마토 소스용.\\n토마토 무료 대체품\\n건강상의 이유로 토마토를 피하고 싶거나 맛이 싫어서 토마토를 피하고 싶거나 몇 가지 맛있는 토마토가 없는 대안. 이 대용품으로 여전히 맛있는 토마토 요리를 즐길 수 있습니다!\\n최고의 토마토 프리 대체품 그것은 여전히 \\u200b\\u200b\\u200b\\u200b채소 기반입니다. 구운 토마토를 퓌레로 만들면 토마토 소스가 되는 것과 같은 방식으로 다른 채소도 비슷한 농도를 얻을 수 있습니다.\\n다른 구운 채소와 퓌레로 만든 채소는 고유의 풍부한 풍미를 제공할 뿐만 아니라 토마토 소스에 일반적으로 사용되는 조미료와 잘 어울립니다. 따라서 토마토 맛이 나지는 않지만 이러한 대체품은 멋진 배경을 제공할 것입니다 당신이 좋아하는 조미료 맛 조합을 위해.\\n7. 가지 퓌레\\n모든 사람이 가지를 좋아하는 것은 아니지만 그것은 많은 요리에 사용됩니다 토마토 소스와 잘 어울린다. 그래서 같은 조미료와 자연스럽게 궁합이 잘 맞는다.토마토 맛 빼기).\\n가지도 밤채소지만. 따라서 염증을 유발할 수 있는 음식을 줄이고 싶다면 아래의 사탕무와 당근 대체품을 시도해 보세요.\\n퓌레를 준비하려면 가지 1-2개를 썰어주세요. 그런 다음 볶거나 굽습니다. 다 익으면 껍질을 벗겨주세요. 피부를 제거한 상태에서 삶은 가지를 푸드 프로세서나 믹서기에 넣고.\\n올리브유 1큰술(또는 카놀라유나 식물성 기름과 같은 중성 맛 기름) 혼합을 시작합니다. 기름 외에, 혼합하면서 천천히 물을 혼합물에 첨가하십시오.\\n계속 물(그리고 원한다면 더 많은 기름을) 비슷해질 때까지 혼합물에 토마토 소스의 일관성. 또한 소금과 다른 조미료를 약간 첨가하여 더 풍미 있는 소스를 만들 수 있습니다.\\n1 개의 큰 가지가 나올 것입니다. 소스 약 1컵. 그러나 이것은 가지의 크기와 소스에 추가하는 기름과 물의 양에 따라 달라질 수 있습니다.\\n소스가 준비되면 1:1 비율로 측정 당신의 조리법에 있는 토마토 소스에. 이 대체품은 이탈리아에서 영감을 받은 요리에 가장 잘 어울리지만 다른 소스를 선택하고 싶을 수도 있습니다. 구운 가지 파마산.\\n8. 피망 퓌레\\n나는 이 대용품으로 빨간 피망을 사용하는 것을 좋아한다. 토마토 소스와 같은 색상을 제공합니다.. 피망은 모두 비슷한 맛 프로필을 가지고 있기 때문에 가지고 있는 피망을 사용할 수 있습니다. \\n당신은 심지어 준비 할 수 있습니다 좋은 혼합물 빨강, 노랑, 주황 피망.\\n그러나 이 대안은 밤나무 가족의 또 다른 구성원. 따라서 항염증제를 섭취하는 경우 피하십시오.\\n파프리카는 씻어 씨를 제거한다. 그런 다음 요리(오븐에 볶거나 볶다). 따르다 가지를 퓌레로 만드는 데 사용되는 것과 동일한 방법. 피망은 가지보다 밀도가 낮기 때문에 최소 2개의 피망(아마도 더) 소스 1컵을 생성합니다.\\n볶은 붉은 피망은 사랑스럽고 풍부한 맛을 가지고 있어 다양한 요리와 잘 어울립니다. 파스타 소스로 특히 맛있다, 샌드위치, 피자.\\n귀하의 사용 1:1 비율로 퓌레 피망 토마토 소스로.\\n9. 비트와 당근 퓌레\\nBowman의 두 가지 채소 토마토 소스에 대한 흥미로운 대체품처럼 보일 수 있습니다. 하지만 구운 비트와 당근은 많은 요리법에서 토마토 소스의 역할과 유사한 풍부한 흙 맛을 냅니다.\\n껍질을 벗기고 자르고 비트와 당근을 올리브 오일에 던지십시오. 베이킹 시트에 비트와 당근을 놓고 부드러워질 때까지 오븐에서 굽다. 식으면 블렌더에 넣고 위와 같은 방법으로 가지를 퓌레로 만드세요.\\n이 두 가지 야채가 결합된 질감 유쾌한 놀랍도록 풍부한 소스를 만듭니다. 수프와 스튜의 기초로. 파스타와 피자 소스에도 사용할 수 있습니다.\\n다른 대체품과 마찬가지로, 추가 향신료 추가 더 복잡한 풍미 프로필을 만드는 데 도움이 됩니다.\\n퓌레로 만든 비트와 당근을 레시피의 토마토 소스로 1:1 비율로 사용하십시오. 레시피에 따라 다르니 참고하세요. 당신은 퓌레 채소를 얇게 할 수 있습니다 측정하기 전에 물이나 육수로\\n야채 퓌레에 대한 참고 사항\\n올리브 오일은 야채를 퓌레로 만들 때 부드러운 일관성을 만드는 데 도움이 될 뿐만 아니라 풍미를 더해 주지만 필수는 아닙니다. 너가 선호한다면, 물이나 국물을 사용하여 퓌레를 만들 수 있습니다. 위의 야채 중 하나.\\n10. 노마토 소스\\n이 브랜드는 밤색 무첨가, 토마토 유사 제품 많은 소매점에서 구할 수 있는 케첩과 마리나라 스타일 소스와 함께. 알레르기가 있는 경우 토마토 소스로 쉽게 대체할 수 있습니다.\\nNomato는 성분을 다음과 같이 나열합니다. 당근, 물, 사탕무, 양파, 마늘, 천일염, 레몬즙농축액, 천일염, 마늘, 아스코르빈산, 비트즙농축액, 구연산, 바질, 오레가노. \\n마리나라 스타일 소스 참고하세요. 이탈리아에서 영감을 받은 요리에 가장 잘 어울리고 노마토 케첩은 다른 많은 요리법에 사용할 수 있습니다. (다른 브랜드의 케첩을 사용하는 것처럼).\\n두 제품 중 하나를 사용 토마토 소스와 1:1 비율로 동일하게 여관에 어떤 요리법을 요청했습니다.\\n주의\\n시도한 레시피가 마음에 드시나요? 떠나주세요 별 5개 🌟평가 아래 레시피 카드 및/또는 페이지 아래의 댓글 섹션에 있는 리뷰를 참조하세요. 계속 연락해 @ 소셜 미디어를 통해\\xa0핀터레스트,\\xa0페이스북, 인스타그램및 트위터! 확인 오늘 뉴스레터로 (스팸 없음, 약속합니다)! 제 레시피 중 하나를 시도할 때 저를 태그하는 것을 잊지 마세요!\\n📖 레시피 카드\\n 레시피 인쇄\\n 코멘트를 남겨주세요\\n 이 레시피가 마음에 드시나요?그것을 평가하려면 별을 클릭하십시오!\\n4.91 에 11 리뷰\\n최고의 토마토 소스 대체품: 토마토 페이스트, 노마토 소스(+더 좋은 대안!)\\n최고의 토마토 소스 대용품이 무엇인지 궁금할 때 가장 효과가 좋은 대체품에 대한 모든 것을 읽을 수 있습니다! 음식이 부족하거나 알레르기가 있거나 편식하는 사람이 있든 상관없이 훌륭한 결과를 위해 사용할 수 있는 가장 쉬운 재료를 공유합니다!\\n저자 | 안젤라\\n게재 횟수 : 1 피복재\\n칼로리 : 7kcal\\n예습 2 분 분\\n요리 0 분 분\\n총 시간 2 분 분\\n 핀 레시피\\n 페이스북 공유\\n성분\\xa0미국 관습법메트릭1x2x3x옵션 1 - 토마토 페이스트▢ ½ 식탁 용 스푼 토마토 페이스트 (1 큰술과 동일하게 희석)옵션 2 - 노마토 페이스트▢ 1 식탁 용 스푼 노마토 소스 (마리나라 스타일 또는 케첩 사용)\\n 도와주세요!레시피가 마음에 드신다면 꼭 다시 방문하여 평가를 공유해 주세요. 이는 미래의 사용자에게 도움이 되며 계속해서 무료 레시피를 공유할 수 있게 해줍니다! 안젤라\\n명령옵션 1 - 토마토 페이스트토마토 페이스트 ½테이블스푼을 물과 섞어 비슷한 토마토 소스의 농도로 만든 다음 토마토 소스 1테이블스푼에 맞게 계량합니다.옵션 2 - 노마토 페이스트모든 레시피에 동일한 1:1 비율로 노마토 소스 제품(마리나라 스타일 또는 케첩)을 사용하십시오.\\n노트*영양정보는 토마토 페이스트 옵션에 대해서만 계산한 것입니다.\\n영양소칼로리 : 7kcal | 탄수화물 : 2g (1의 %) | 단백질: 1g (2의 %) | 지방: 1g (2의 %) | 포화 지방: 1g (6의 %) | 고도 불포화 지방 : 1g | 단일 불포화 지방 : 1g | 나트륨: 63mg (3의 %) | 칼륨: 81mg (2의 %) | 섬유: 1g (4의 %) | 설탕: 1g (1의 %) | 비타민 A : 122IU (2의 %) | 비타민 C : 2mg (2의 %) | 칼슘: 3mg | 철: 1mg (6의 %)\\n   이 레시피를 시도해 보셨습니까? 아래에서 평가하세요!결과를보고 싶어요! 언급하다  안녕하세요. 또는 태그 #bake_it_with_love!\\n최고의 토마토 소스 대안, 밤색 없음, 대체품, 토마토 소스 대체품\\n코스 조미료, 대체품요리 미국식, 이탈리아 식\\n안젤라 @ BakeItWithLove.comAngela는 할머니의 부엌에서 어린 나이에 요리와 베이킹에 대한 모든 것에 대한 열정을 키운 가정 요리사입니다. 음식 서비스 업계에서 수년을 보낸 후, 그녀는 이제 Bake It With Love에서 가족이 좋아하는 모든 요리법을 공유하고 맛있는 저녁 식사와 놀라운 디저트 요리법을 만드는 것을 즐깁니다!\\n베이크잇위드러브.com/about/\\n더 많은 대체품마가린 대체품그레이엄 크래커 대체품과립 설탕 대체품아나토 씨앗 대체품 \\n\\t이 조리법을 공유하십시오!\\t\\n \\n공유\\n \\n핀\\n \\nX\\n \\nYummly\\n \\n이메일\\n독자의 상호 작용코멘트 \\n와줘서 고마워! 당신이 무슨 생각을하는지 제게 알려주세요: 답장을 취소귀하의 이메일 주소는 공개되지 않습니다. *표시항목은 꼭 기재해 주세요. *\\n레서피 등급 \\n레서피 등급\\n \\nComment * 성함 \\n이메일 \\n \\nΔ \\n이 사이트는 Akismet을 사용하여 스팸을 줄입니다. 댓글 데이터 처리 방법 알아보기.\\n테리 앤더슨 라고 \\n05 9 월 2023, 6 : 22의 오후 \\n저는 가지고 있던 작은 토마토 소스 캔을 사용하여 껍질을 벗긴 신선한 토마토 3개와 신선한 바질을 섞었습니다. 다음에는 올리브 오일과 다진 양파를 추가할 수도 있겠지만, 급하게 다른 재료가 없어서 아주 맛있었어요.\\n댓글\\n조앤 피네트 라고 \\n05 8 월 2023, 12 : 29의 오후 \\n이 레시피 감사합니다. 남편은 토마토를 좋아하지 않아서(저도 이탈리아 사람이에요!) 대신 호박 소스를 만들려고 하지만 레시피에는 여전히 토마토와 토마토 소스가 필요합니다. 이 레시피를 찾게 되어 기뻤습니다. 행운을 빕니다!\\n댓글\\n브렌다 라고 \\n05 12 월 2022, 3 : 34의 오후 \\n이 게시물에 정말 감사합니다! 마지막 순간에 저녁 식사를 위해 만들고 있던 것을 변경해야 했고 토마토 소스 대신 귀하의 대체품을 사용하여 작동하게 만들 수 있었습니다. 당신은 하루를 구했습니다!\\n댓글\\n아니타 하트게링크 라고 \\n04 유월 2022, 3 : 35의 오후 \\n감사! 가게에 갈 기분이 아니어서 토마토 페이스트 대신 쓸 수 있는 게 있으면 볼까 생각했어요!\\n댓글\\n기본 사이드 바\\n안녕하세요, 저는 안젤라입니다\\n저는 열렬한 빈티지 요리책 수집가이자 요리사, 제빵사이자 완전한 미식가입니다. 저는 할머니가 만드셨던 것처럼 새롭고 재미있고 창의적인 요리법과 훌륭하고 고전적인 요리법을 공유하는 것을 좋아합니다! BIWL의 모든 레시피는 모든 경험 수준의 요리사가 성공할 수 있도록 테스트되었습니다.\\nBake It With Love에 오신 것을 환영합니다. 즐기다!\\n나에 대한 추가 정보 ->\\n아침 식사\\n크림칩 비프 온 토스트(SOS)키슈 만드는 방법: 최고의 가이드최고의 발렌타인 데이 아침 식사컨트리 프라이드 프라임립도넛 팬 없이 도넛을 굽는 방법팬케이크를 얼리는 방법바나나 팬케이크팬케이크를 다시 데우는 방법\\n저녁 식사 아이디어\\n만들 수 있는 예산 친화적인 저녁 식사이탈리아 소시지를 곁들인 속을 채운 마니코티리코타 치즈와 이탈리안 소시지를 곁들인 구운 지티구운 돼지갈비슬로우 쿠커 라자냐 수프성 패트릭의 날 이후에 만들 남은 콘비프 요리법최고의 성금요일 식사: 단식일을 위한 쉬운 요리법최고의 쇠고기 스트로가노프를 만드는 방법\\n바닥 글\\n위에 보인대로\\n↑ 맨위로\\n소개\\n안젤라 소개\\n팀과 미팅\\n사진 공유\\n개인 정보 보호 정책\\n언어\\n나와 함께 일하세요\\nContact \\n자주하는 질문\\n홈\\n접근성 정책\\n확인\\n기사\\n조리법\\n저녁 식사\\n디저트\\n반찬\\n아침 식사\\n전채\\n조미료\\n에어 프라이어\\n슬로우 쿠커\\n즉석 냄비\\n캐서롤\\n쿠키 및 바\\n휴가\\n동영상\\n사회 얻으십시오\\n즐겨찾는 소셜 미디어 플랫폼을 방문하세요!\\n또는 다음에서 예정된 독점 콘텐츠를 확인하세요. Patreon!\\n저작권 © 2024 사랑으로 구워',\n",
       "   '최근 잘 팔리는 파스타소스 TOP100 추천제품 입니다. : 네이버 블로그\\n본문 바로가기\\n블로그\\n카테고리 이동\\n모든지 일단 섞어\\n검색\\nMY메뉴 열기\\n순위리스트\\n최근 잘 팔리는 파스타소스 TOP100 추천제품 입니다.\\n믹스마스터\\n2021. 1. 26. 5:39\\n 이웃추가\\n본문 기타 기능\\n본문 폰트 크기 조정\\n본문 폰트 크기 작게 보기\\n본문 폰트 크기 크게 보기\\n가\\n 공감하기\\n공유하기 \\nURL 복사 \\n신고하기 \\n폰타나 뽀모도로 토마토 파스타소스 430g + 베이컨&머쉬룸 크림 파스타소스 430g, 1세트9,240원[ 제품상세 및 구매평 ]\\xa0지오바니 유기농 토마토 바질 파스타 소스, 709g, 1개8,330원[ 제품상세 및 구매평 ]\\xa0청정원 토마토 스파게티소스, 2kg, 1개8,650원[ 제품상세 및 구매평 ]\\xa0오뚜기 프레스코 미트 파스타 소스, 400g, 1개3,970원[ 제품상세 및 구매평 ]\\xa0청정원 로제 스파게티소스, 2kg, 1개11,300원[ 제품상세 및 구매평 ]\\xa0청정원 아라비아따 스파게티소스, 2kg, 1개8,480원[ 제품상세 및 구매평 ]\\xa0청정원 베이컨 앤 크림 까르보나라 파스타 소스, 350g, 1개4,700원[ 제품상세 및 구매평 ]\\xa0청정원 조개 앤 화이트와인 봉골레 파스타 소스, 360g, 1개4,700원[ 제품상세 및 구매평 ]\\xa0샘표 폰타나 시칠리아 피칸테 크림 파스타 소스, 450g, 1개5,880원[ 제품상세 및 구매평 ]\\xa0폰타나 크림치즈 로제 파스타소스 430g + 베이컨 볼로네제 파스타소스 430g, 1세트9,400원[ 제품상세 및 구매평 ]\\xa0청정원 토마토와생크림 로제 스파게티소스, 600g, 1개3,510원[ 제품상세 및 구매평 ]\\xa0청정원 구운마늘과 양파 토마토 스파게티소스, 600g, 1개3,510원[ 제품상세 및 구매평 ]\\xa0청정원 토마토 스파게티 소스, 170g, 8개9,900원[ 제품상세 및 구매평 ]\\xa0청정원 유기농 토마토 스파게티소스 리뉴얼, 600g, 1개8,070원[ 제품상세 및 구매평 ]\\xa0오뚜기 프레스코 미트 파스타 소스, 685g, 1개3,300원[ 제품상세 및 구매평 ]\\xa0폰타나 카르니아 베이컨&머쉬룸 크림 파스타소스 430g + 볼로냐 베이컨 볼로네제 파스타소스 430g 기획, 1세트9,600원[ 제품상세 및 구매평 ]\\xa0청정원 머쉬룸투움바 파스타소스, 350g, 1개4,690원[ 제품상세 및 구매평 ]\\xa0오뚜기 프레스코 토마토 스파게티소스, 400g, 1개3,410원[ 제품상세 및 구매평 ]\\xa0청정원 알프레도 생크림&치즈 파스타소스, 350g, 1개4,310원[ 제품상세 및 구매평 ]\\xa0폰타나 제노바 치즈&크림 바질페스토 파스타소스, 430g, 1개5,350원[ 제품상세 및 구매평 ]\\xa0하인즈 클래시코 구운토마토와 마늘 파스타 소스, 680g, 1개4,840원[ 제품상세 및 구매평 ]\\xa0백설 아라비아따 토마토 파스타 소스, 455g, 1개3,140원[ 제품상세 및 구매평 ]\\xa0오뚜기 프레스코 토마토 스파게티소스, 685g, 1개3,300원[ 제품상세 및 구매평 ]\\xa0폰타나 파르마 콰트로치즈 크림 파스타소스, 430g, 1개5,480원[ 제품상세 및 구매평 ]\\xa0백설 토마토 스파게티소스, 610g, 1개3,950원[ 제품상세 및 구매평 ]\\xa0청정원 로제 스파게티 소스, 170g, 8개11,840원[ 제품상세 및 구매평 ]\\xa0폰타나 베네치아 페페론치노 앤 갈릭 봉골레 파스타소스, 430g, 1개4,490원[ 제품상세 및 구매평 ]\\xa0위크위크서울 바질페스토 파스타소스, 105g, 1개15,800원[ 제품상세 및 구매평 ]\\xa0오뚜기 프레스코 마늘 & 양파 스파게티소스, 685g, 1개3,300원[ 제품상세 및 구매평 ]\\xa0폰타나 카르니아 베이컨 앤 머쉬룸 크림 파스타소스, 430g, 12개47,690원[ 제품상세 및 구매평 ]\\xa0오뚜기 프레스코 토마토 스파게티소스, 685g, 2개9,900원[ 제품상세 및 구매평 ]\\xa0폰타나 나폴리 뽀모도로 토마토 파스타소스 430g x 2p + 카르니아 베이컨&머쉬룸 크림 파스타소스 430g, 1세트12,500원[ 제품상세 및 구매평 ]\\xa0[오뚜기] 오쉐프, 3kg, 1개8,830원[ 제품상세 및 구매평 ]\\xa0상하목장 슬로우키친 크림 파스타소스, 145g, 3개5,980원[ 제품상세 및 구매평 ]\\xa0폰타나 카르니아 베이컨 앤 머쉬룸 크림 파스타 소스, 430g, 1개4,500원[ 제품상세 및 구매평 ]\\xa0폰타나 아브루초 피칸테 알리오올리오 파스타소스, 430g, 12개입49,800원[ 제품상세 및 구매평 ]\\xa0Fontana 봉골레파스타소스430g, 430g, 12개46,080원[ 제품상세 및 구매평 ]\\xa0청정원 알리오올리오 파스타소스 갈릭&페페로치노, 360g, 1개4,210원[ 제품상세 및 구매평 ]\\xa0청정원 구운마늘과 양파 토마토 스파게티소스, 600g, 12개38,280원[ 제품상세 및 구매평 ]\\xa0오뚜기 프레스코 까르보나라 스파게티소스, 360g, 1개3,300원[ 제품상세 및 구매평 ]\\xa0하인즈 클래시코 토마토&바질 파스타 소스, 680g, 1개4,760원[ 제품상세 및 구매평 ]\\xa0청정원 토마토 스파게티 소스, 600g, 2개입10,370원[ 제품상세 및 구매평 ]\\xa0노브랜드 크림 스파게티 소스(2인분)400g x 3개입 (무료배송), 3개, 400g8,080원[ 제품상세 및 구매평 ]\\xa0청정원 토마토와생크림 로제 스파게티소스, 600g, 12개38,280원[ 제품상세 및 구매평 ]\\xa0청정원 로제 스파게티 소스, 600g, 2개입11,900원[ 제품상세 및 구매평 ]\\xa0레고스 볼로네이즈 청키 파스타소스, 500g, 2개7,520원[ 제품상세 및 구매평 ]\\xa0백설 아라비아따 토마토 스파게티소스, 610g, 12개38,460원[ 제품상세 및 구매평 ]\\xa0청정원 토마토 스파게티소스 싱글파우치, 170g, 16개입18,900원[ 제품상세 및 구매평 ]\\xa0하인즈 클래시코 바질 페스토, 230g, 1개5,930원[ 제품상세 및 구매평 ]\\xa0코다노 토마토스파게티소스, 2kg, 1개7,060원[ 제품상세 및 구매평 ]\\xa0하인즈 클래시코 토마토바질 파스타 소스 680g x 3p + 파스타면 500g, 1세트19,000원[ 제품상세 및 구매평 ]\\xa0레고스 카르보나라 파스타소스, 490g, 2개10,460원[ 제품상세 및 구매평 ]\\xa0레고스 로스트갈릭 청키 파스타소스, 500g, 2개7,900원[ 제품상세 및 구매평 ]\\xa0쉐프원 크림파스타 소스 2kg, 1개6,600원[ 제품상세 및 구매평 ]\\xa0폰타나 나폴리 뽀모도로 토마토 파스타소스, 430g, 2개입5,380원[ 제품상세 및 구매평 ]\\xa0폰타나 시칠리아 페페론치노 아라비아따 파스타소스, 430g, 1개2,940원[ 제품상세 및 구매평 ]\\xa0폰타나 밀라노 크림치즈 로제 파스타소스, 430g, 1개2,900원[ 제품상세 및 구매평 ]\\xa0청정원 로제 파스타 소스, 300g, 12개24,480원[ 제품상세 및 구매평 ]\\xa0MENU 바질페스토, 810g, 6개입158,460원[ 제품상세 및 구매평 ]\\xa0폰타나 볼로냐 베이컨 볼로네제 파스타소스, 430g, 12개42,410원[ 제품상세 및 구매평 ]\\xa0청정원 싱글파우치 까르보나라소스150g x10개, 1개12,900원[ 제품상세 및 구매평 ]\\xa0레고스 알프레도 파스타소스, 490g, 6개입24,840원[ 제품상세 및 구매평 ]\\xa0오뚜기 포모도로 파스타소스, 180g, 3개6,940원[ 제품상세 및 구매평 ]\\xa0청정원 알리오올리오 스파게티소스 2kg [아이스박스+아이팩] 무료배송, 1개13,600원[ 제품상세 및 구매평 ]\\xa0오뚜기 트러플 크림 스파게티 소스, 360g, 12개39,600원[ 제품상세 및 구매평 ]\\xa0청정원 로제 스파게티소스 싱글파우치, 170g, 16개입18,770원[ 제품상세 및 구매평 ]\\xa0클래시코 크리미 알프레도 파스타소스, 425g, 3개14,190원[ 제품상세 및 구매평 ]\\xa0셀렉티아 트러플 소스, 75g, 1개12,190원[ 제품상세 및 구매평 ]\\xa0청정원 까르보나라 파스타소스 싱글파우치, 150g, 16개입18,770원[ 제품상세 및 구매평 ]\\xa0스파게티 토마토비프소스, 3kg, 1개16,900원[ 제품상세 및 구매평 ]\\xa0백설 치즈 크림 파스타 소스 파우치, 140g, 20개27,850원[ 제품상세 및 구매평 ]\\xa0바이오노바 유기농 베이크드 빈 인 토마토소스, 340g, 6개입28,610원[ 제품상세 및 구매평 ]\\xa0디벨라 토마토퓨레, 680g, 2개6,580원[ 제품상세 및 구매평 ]\\xa0청정원 싱글파우치 까르보나라소스150g x5개, 1개7,900원[ 제품상세 및 구매평 ]\\xa0폰타나 시칠리아 피칸테 크림 파스타소스, 450g, 12개60,060원[ 제품상세 및 구매평 ]\\xa0하인즈 파우치 토마토 페이스트, 3.15kg, 1개8,980원[ 제품상세 및 구매평 ]\\xa0청정원 명란크림 파스타소스, 350g, 1개4,690원[ 제품상세 및 구매평 ]\\xa0Cara Mia 쥴리엔느 스타일 선 드라이 토마토 통조림, 227g, 1개5,080원[ 제품상세 및 구매평 ]\\xa0몬티 바질 페스토 소스, 500g, 1개8,460원[ 제품상세 및 구매평 ]\\xa0메뉴 바질 패스토, 810g, 1개36,300원[ 제품상세 및 구매평 ]\\xa0그린페스토, 140g14,700원[ 제품상세 및 구매평 ]\\xa0폰타나 이탈리안 퀴진 세트, 1세트26,600원[ 제품상세 및 구매평 ]\\xa0셀렉티아 포르치니 트러플소스, 260g, 1개38,460원[ 제품상세 및 구매평 ]\\xa0위크위크서울 트러플 풍기 페스토 파스타소스, 105g, 1개15,800원[ 제품상세 및 구매평 ]\\xa0바릴라 로스티드 갈릭 소스, 1개, 680g2,970원[ 제품상세 및 구매평 ]\\xa0스타 미트볼 라구소스 소시지, 360g, 1개8,830원[ 제품상세 및 구매평 ]\\xa0레고스 까르보나라 파스타 소스, 490g, 6개입23,450원[ 제품상세 및 구매평 ]\\xa0레고스 알프레도 파스타소스, 490g, 2개8,780원[ 제품상세 및 구매평 ]\\xa0디벨라 홀토마토 통조림, 400g, 1개2,120원[ 제품상세 및 구매평 ]\\xa0노브랜드 (무료배송)노브랜드토마토스파게티소스400g X 3개입, 3개, 400g8,230원[ 제품상세 및 구매평 ]\\xa0사비니타르투피 트러플 바질 페스토, 180g, 1개35,880원[ 제품상세 및 구매평 ]\\xa0폰타나 카르니아 베이컨&머쉬룸 크림 파스타소스, 450g, 3개입15,300원[ 제품상세 및 구매평 ]\\xa0드랄로 심플리 페스토 트레디셔널 바질, 180g, 1개6,680원[ 제품상세 및 구매평 ]\\xa0폰타나 시칠리아 페페론치노 아라비아따 파스타소스 2개(430gx2개)간편, 430g, 2개9,300원[ 제품상세 및 구매평 ]\\xa0레고스 페스토 트레디셔날 바질 소스, 190g, 2개8,030원[ 제품상세 및 구매평 ]\\xa0카디아 로스티드 갈릭 파스타 소스, 710g, 1개5,900원[ 제품상세 및 구매평 ]\\xa0폰타나 제노바 치즈&크림 바질페스토 파스타소스, 430g, 2개12,500원[ 제품상세 및 구매평 ]\\xa0폰타나 밀라노 크림치즈 로제 파스타소스, 430g, 2개7,760원[ 제품상세 및 구매평 ]\\xa0샘표 폰타나 볼로냐 베이컨 볼로네제 파스타 소스, 430g, 1개4,140원[ 제품상세 및 구매평 ]\\xa0스타 라구소스 엑스트라 구스토 캔, 180g, 2개입7,450원[ 제품상세 및 구매평 ]\\xa0\"쿠팡 파트너스의 일환으로 일정액의 수수료를 지급 받을 수 있음\"\\xa0\\n공감한 사람 보러가기\\n댓글 0\\n공유하기\\n믹스마스터\\n상품리뷰\\n일단 섞고 보는 블로그\\n뭐가 되었든 결과물이 나옴.\\n이웃추가\\n이 블로그\\xa0\\n순위리스트\\n\\xa0카테고리 글\\n이전\\n이전\\n다음\\n다음\\n{\"title\":\"최근 잘 팔리는 파스타소스 TOP100 추천제품 입니다.\",\"source\":\"https://blog.naver.com/mixutopa/222220077021\",\"blogName\":\"모든지 일..\",\"blogId\":\"mixutopa\",\"domainIdOrBlogId\":\"mixutopa\",\"logNo\":222220077021,\"smartEditorVersion\":2,\"lineDisplay\":true,\"outsideDisplay\":true,\"meDisplay\":true,\"cafeDisplay\":true,\"blogDisplay\":true}\\n 맨 위로\\nPC버전으로 보기\\n닫기\\n카테고리\\n 이 블로그 홈\\n \\n이 블로그\\xa0\\n순위리스트\\n\\xa0카테고리 글\\n이전\\n이전\\n다음\\n다음\\n공감한 사람 보러가기\\n댓글 0\\n공유하기\\n믹스마스터(mixutopa)\\n님을 이웃추가하고 새글을 받아보세요\\n취소\\n이웃추가',\n",
       "   '최고의 우스터셔 소스 대체품: 13가지 맛있는 대안\\n \\n \\n 메인 컨텐츠로 가기 차 사이드로 건너 뛰기 바닥 글로 이동사랑으로 구워조리법\\n저녁 식사\\n캐서롤\\n반찬\\n아침 식사\\n전채\\n디저트\\n쿠키 및 바\\n소개\\n팀과 미팅\\n가게\\n자세한 설명서\\nContact \\n메뉴 아이콘\\n가입\\n검색 아이콘\\n검색저녁 식사\\n조리법\\n메인 디쉬\\n디저트\\n반찬\\n소개\\n가게\\n자세한 설명서\\n확인\\n×홈 » 조리법 » 대체by 안젤라 @ BakeItWithLove.com · 댓글 1우스터셔 소스 대체품\\n레시피로 이동\\nBowman의 우스터셔 소스 대체품 여기에 공유된 옵션은 모든 레시피에 사용할 수 있는 맛있는 대안을 제공할 것입니다! 빠른 재료 교체부터 홈메이드 소스 레시피에 이르기까지 모든 필요에 맞는 것이 있습니다! 당신에게 가장 잘 맞는 선택을 찾아 즐기세요!\\n최고의 우스터셔 소스 대안\\nWorcestershire의 독특한 풍미 없이는 동일하지 않을 훌륭한 요리법이 너무 많습니다! 다양하고 맛이 좋으며 접근하기 쉬운 우스터셔 소스 주방 식료품 저장실 필수품입니다!\\n풍미 가득한 우스터셔 소스는 요리를 훌륭하게 만드는 주요 재료입니다! 그러나 손에 아무 것도 없는 경우가 있을 수 있습니다. \\n이동 :최고의 우스터셔 소스 대안우스터셔 소스란?나만의 우스터셔 소스 만드는 방법일반 우스터셔 소스 대체품1. 발사믹 식초2. 셰리 식초 3. 레드와인 식초와 타마린드 페이스트 4. 간장 5. 코코넛 아미노6. 생선 소스7. 바베큐 소스8. 소흥 요리 술9. A1 스테이크 소스10. 굴 소스11. 물에 멸치장아찌12. 된장과 물요리를 위한 특정 우스터셔 대체품❓ 자주 묻는 질문😋 더 많은 대체 재료📖 레시피 카드💬 리뷰\\n우스터셔 소스란?\\n우스터셔 소스는 일반적으로 풍부하고 다이나믹한 풍미 육수, 육수, 고기 끓이는 액체, 야채, 차우더, 냄비 파이, 샐러드 드레싱, 마리네이드, 블러디 메리 등을 포함하여 다양한 조리법에 적용할 수 있습니다. \\n본질적으로, 그것은 우마미를 추가합니다 (XNUMX가지 기본 맛 중 하나, 짠맛을 의미), 산도, 단맛이 있으며 간장이나 액젓과 유사하게 사용할 수 있습니다.\\n때문에 멸치는 흔한 재료, 완전채식을 하는 사람들은 재료를 염두에 두고 라벨을 읽거나 인기 있는 소스의 완전채식 친화적인 버전을 찾아야 합니다.\\n하지만 이 편리한 소스를 손에 넣었다가 다 떨어졌다고 해서 당황하지 마세요. 여기에 나열된 쉬운 대체품 그것은 또한 훌륭한 맛을 제공합니다!\\n나만의 우스터셔 소스 만드는 방법\\n원한다면 집에서 우스터셔 소스를 쉽게 만들 수 있습니다! 그것은 매우 간단하고 무엇이 들어가는지 정확히 알고 있습니다!\\n성분\\n맥아 식초 - 엿기름 식초 1컵.\\n당밀 - 당밀 ¼컵.\\n간장 - 간장 ¼컵.\\n브라우닝 소스 - 브라우닝 소스 2큰술.\\n타마린드 페이스트 - 타마린드 페이스트 2큰술.\\n겨자 씨앗 - 겨자씨 1½큰술.\\n소금 - 소금 1큰술.\\n양파 - 다진 노란 양파 1큰술.\\n마늘 - 다진마늘 1작은술.\\n멸치 - 다진 멸치 필레 1티스푼(약 1-2 필레). \\n검은 후추 - 검은 통후추 ½티스푼.\\n정향 - 전체 정향 ½ 티스푼.\\n생강 - 다진 신선한 생강 ½티스푼.\\n카레의 힘 - 카레 가루 ¼티스푼.\\n계피 - 계피 가루 약간.\\n카 다몸 - 으깬 카다멈 꼬투리 2개.\\n칠레 드 아르볼 - 다진 칠레 드 아르볼 1개. \\n*재료, 정확한 양, 팁이 포함된 지침은 아래 무료 인쇄 가능한 레시피 카드를 확인하세요!*\\n홈메이드 우스터셔 소스 만들기\\n직접 만든 우스터셔 소스 시간이 좀 걸립니다 모든 맛이 진정으로 함께 섞일 수 있도록. 그래도 만들기는 쉬워요! \\n이 레시피로 우스터셔 소스 1컵을 만들 수 있습니다. \\n결합. 큰 냄비에 모든 소스 재료(엿기름 식초 1컵(237ml), 당밀 ¼컵(84g), 간장 ¼컵(59ml), 브라우닝 소스 2큰술(36g), 타마린드 페이스트 2큰술(32g), 겨자씨 1큰술(16.5g), 소금 1큰술(18g), 노란 양파 1큰술(10g), 다진 마늘 1작은술(3g), 멸치살 1작은술(2g), ½작은술 검은 통후추 2g, 정향 ½티스푼(2.5g), 신선한 다진 생강 ½티스푼(1g), 카레 가루 ¼티스푼(0.5g), 간 계피 한 꼬집, 으깬 카다멈 꼬투리 2개 , 다진 칠리 드 아르볼 2개).\\n종기. 소스를 팔팔 끓여주세요 중간 열. 끓어오르면 약불로 줄여 15분간 끓인다. \\n시원한. 불에서 내려 식힌 다음 소독된 병에 옮겨 단단히 밀봉합니다.\\n냉기. 냉장 보관하고 어우러지는 소스맛 최소 2주, 바람직하게는 3-4주 동안. 사용하기 전에 소스를 깨끗한 그릇에 걸러내고 고형물을 버립니다.\\n스토어. Worcestershire 소스를 깨끗한 항아리 최대 8개월 동안 냉장 보관할 수 있습니다.\\n일반 우스터셔 소스 대체품\\n우스터 소스의 기본 재료를 명심하십시오: 식초, 발효 양파, 발효 마늘, 당밀, 타마린드 페이스트, 소금, 설탕, 멸치, 고수, 겨자씨, 정향, 후추, 감귤 껍질과 같은 향신료. \\n당신이 만들고 있는 조리법에 대해 생각하십시오. \\n감귤류가 요리의 다른 재료를 보완할까요? \\n향신료 또는 열이 요리의 중요한 요소입니까?  \\n아래의 기본 대체를 사용하고 자유롭게 실험해 보십시오. 당신이 따라가는 동안 맛보기. 물론 대체품에 열 요소가 부족하다고 생각되면 언제든지 레드 칠리 페퍼 플레이크 또는 핫 소스를 추가할 수 있으며, 톡 쏘는 무언가가 누락된 경우 항상 감귤류를 추가할 수 있습니다. \\n1. 발사믹 식초\\n이 식초는 단맛, 신맛, 신맛 및 톡 쏘는 맛을 포함하여 우스터셔 소스와 동일한 특성을 많이 가지고 있습니다. \\n또한 색상이 어둡고 발효 재료로 만들어졌습니다. \\n우스터셔 소스 대신 사용 대담한 맛을 위해 과 타마린드 페이스트와 동일한 부분을 혼합하는 것을 고려하십시오. 보다 정확하고 두꺼운 질감을 구현합니다. \\n마리네이드와 드레싱에 가장 잘 사용됩니다.\\n2. 셰리 식초 \\n셰리 식초는 우스터셔보다 색이 더 밝고 덜 맵지만 맛이 매우 비슷하기 때문에 훌륭한 대안으로 사용할 수 있습니다. \\n대체할 경우 1:1 비율을 사용하십시오!\\n3. 레드와인 식초와 타마린드 페이스트 \\n적포도주 식초와 타마린드 페이스트를 같은 비율로 섞습니다. 두 재료가 잘 섞일 때까지 섞는다.\\n우스터셔 소스를 대체하려면, 이 조합의 양의 절반을 사용, 풍미가 우스터셔보다 더 달콤하고 시큼하며 톡 쏘는 맛이 나기 때문입니다.\\n4. 간장 \\n간장은 그것으로 유명합니다 감칠맛 풍미 따라서 Worcestershire 소스와 매우 상호 교환이 가능합니다. \\n스테이크, 햄버거, 파이, 마리네이드와 같은 육류 요리를 대체할 수 있습니다.\\n혼합 고려 동일한 부분의 간장과 케첩 우스터셔를 모방하기 위해.\\n간장과 설탕 \\n이것은 훌륭한 조합입니다 풍부한 파스타 요리나 쇠고기 스튜용. \\n간장은 레시피대로 반만 사용하고 황설탕을 조금 넣으면 짭짤하고 고소한 단맛이 난다. 예를 들어 레시피에 우스터셔 소스 1테이블스푼이 필요한 경우, 간장 ½ 큰 술과 흑설탕 한 꼬집을 사용하십시오..\\n간장과 케첩 \\n미트 로프, 버거, 스튜에 최고, 그리고 요리할 다른 것들에 간장과 케첩을 같은 비율로 섞으면 너무 묽지 않지만 너무 걸쭉하지 않은 짠맛, 신맛, 달콤한 소스가 됩니다.\\n사과 주스를 곁들인 간장\\n간장에 사과즙을 넣으면 간장만 사용해서 얻을 수 있는 단맛이 더해진다. \\n같은 부분을 함께 섞는다 Worcestershire 대신 사용하십시오!\\n호이신 소스와 사과 식초를 곁들인 간장\\n혼성 같은 부분 간장과 호이신 소스 우스터셔에 가까운 풍미를 얻기 위한 일반적인 조합입니다. \\n이 조합에 대한 마지막 터치는 사과 사이다 식초를 추가하는 것입니다. 스플래시만 사용 약간의 신맛을 추가하고 혼합물을 희석하십시오.\\n5. 코코넛 아미노\\n완전 채식주의자, 채식주의자 또는 생선을 반대하는 사람들에게 좋은 코코넛 아미노는 발효된 바다 소금과 코코넛 야자수 수액으로 만들어집니다. \\n이 우마미 소스는 짭짤하고 풍미가 좋으며 1:1 비율로 수프, 딥, 마리네이드에 잘 어울립니다.\\n6. 생선 소스\\n발효 멸치로 만든 이 짭짤하고 짭짤한 소스는 우스터셔의 훌륭한 대용품입니다. \\n달지는 않지만 간장, 생선 소스 및 타마 린드 농축액을 같은 비율로 혼합하여 다음을 모방 할 수 있습니다. 우스터 소스.\\n간장과 흑설탕을 곁들인 생선 소스 \\n요리할 무언가를 만들고 있다면 Worcestershire 대신 이 대안이 적합합니다! \\n 같은 부분의 생선 소스와 간장, 함께 섞고 큰 것을 첨가하십시오 흑설탕 약간, 휘젓기용해될 때까지. \\n일단 요리되면 설탕이 레시피에 녹아 우스터셔 소스 맛을 만듭니다.\\n레몬 주스와 크랜베리 \\u200b\\u200b주스를 곁들인 생선 소스\\n이 재료들의 조합은 짠맛, 짭짤한 맛, 신맛, 과일 향, 톡 쏘는 맛을 모두 함께 혼합합니다. \\n동일한 양의 각 재료를 함께 섞어 우스터셔의 1:1 대체품으로 사용하십시오.\\n7. 바베큐 소스\\n일반적인 가정용 식료품 저장실 재료인 바베큐 소스는 우스터셔 소스의 대안으로 사용할 수 있습니다. 우스터셔보다 단맛이 나지만 그 외에는 맛이 비슷하고 같은 방식으로 사용할 수 있습니다.\\n8. 소흥 요리 술\\n이 중국 막걸리는 소금에 절여서 우스터셔 소스 대체품으로 적합합니다.\\n그것은 가지고있다 요리해야 할 높은 알코올 도수, 열로 조리할 요리에만 사용하십시오.\\n9. A1 스테이크 소스\\nA1 스테이크 소스는 토마토 퓌레, 식초, 옥수수 시럽, 건포도 페이스트, 오렌지 퓌레 및 소금으로 만들어지므로 우스터셔와 동일한 풍미 노트가 많이 나옵니다. \\n덜 매운 반면 훌륭한 대안이며 1:1 비율로 사용할 수 있습니다.\\n10. 굴 소스\\n또 다른 감칠맛이 나는 굴 소스는 간장, 옥수수 전분, 카라멜화 된 굴 주스로 만듭니다. \\n1:1 비율로 우스터셔 대신 사용.\\n11. 물에 멸치장아찌\\n우스터셔 소스의 주재료는 멸치라 이 조합은 그리 멀지 않다. \\n멸치 페이스트는 소금에 절인 멸치, 올리브 오일, 식초 및 설탕으로 만듭니다. \\n조리법에서 우스터셔 소스에 필요한 양의 물을 멸치 페이스트에 추가합니다. 또는 항아리에서 전체 멸치 필레를 퓌레로 만들고 여기에 물을 추가할 수 있습니다. \\n참고하여 주시기 바랍니다 이 대안은 조리된 요리에 가장 잘 사용됩니다.\\n12. 된장과 물\\n된장을 발효시키기 때문에 우스터셔 소스의 훌륭한 대안이 됩니다. 추가하다 물과 된장을 같은 비율로, 잘 섞은 다음 이 맛있는 콤보를 즐기십시오.\\n요리를 위한 특정 우스터셔 대체품\\n육수용\\n쇠고기 육수를 만들 때 우스터 소스를 추가해야 하는데 없으면 간장 대안 간장과 설탕 또는 간장과 케첩과 같이 위에 나열된 것과 같이 풍부하고 쇠고기 국물 맛을 연상시킵니다.\\n셰퍼드 파이의 경우\\n위의 많은 조합이 Shepard\\'s Pie의 Worcestershire 소스에 대한 적합한 대안이 될 수 있지만 이 조리법의 재료를 생각하면 가장 좋은 대안은 다음과 같습니다. A1 스테이크 소스, 코코넛 아미노, 간장과 흑설탕을 곁들인 액젓, 또는 모든 간장 조합으로 Shepard\\'s Pie의 단순한 요소가 빛날 수 있습니다.\\n미트로프용\\n미트 로프는 Shepard \\'s Pie 및 쇠고기 국물과 같이 쇠고기로 만들기 때문에 유사한 대안이 제안됩니다. \\n간장과 식초 대용물은 무엇이든 사용할 수 있습니다. A1 소스, 바베큐 소스, 코코넛 아미노 또는 된장국과 물 대체여전히 미트 로프에 톡 쏘는 풀 바디 풍미의 역동적인 느낌을 줄 것입니다.\\n>>>>참조 내 모든 요리법 여기<<<<\\n❓ 자주 묻는 질문\\n개봉한 우스터셔 소스는 냉장 보관해야 합니까?  예, 아니요, 다릅니다! 개봉하지 않은 우스터셔 소스는 식료품 저장실이나 캐비닛과 같이 건조하고 어두운 곳에 보관해야 합니다. 우스터셔 소스를 개봉한 후에도 식료품 저장실에 보관할 수 있습니다. (또는 캐비닛), 또는 냉장고에 보관할 수 있습니다. 식초, 당밀, 간장과 같은 우스터셔의 주요 재료는 냉장하지 않으면 상하지 않지만 오래 지속되지는 않습니다. 그래서 우스터 소스를 자주 사용한다면 냉장보관할 필요 없이 6~12개월 정도 지속되지만, 자주 사용하지 않을 경우 냉장고에 넣어두면 더 오래 보관할 수 있다 . Worcestershire 소스를 올바르게 보관하는 데 가장 중요한 것은 뚜껑을 단단히 밀봉하는 것입니다.   Worcestershire는 고기 연화제 역할을 할 수 있습니까?  전적으로! 우스터 소스에는 식초가 많이 들어 있어 고기의 섬유질을 분해하므로 고기를 연하게 해줍니다. 농축되어 부드러운 고기를 준비하기 위한 완벽한 마리네이드를 만드는 짠맛, 단맛, 톡 쏘는 특성과 함께 역동적인 우마미 풍미가 있습니다. 적절한 식품 취급 지침에는 고기를 최대 XNUMX일 동안 재울 수 있다고 나와 있지만, 고기를 과도하게 재울 경우 고기가 너무 맛있고 부드러워질 수 있음을 명심하십시오. 아침에 고기를 재워 그날 밤 늦게 먹거나 밤새도록 다음날 먹도록 하십시오.   Worcestershire Sauce를 어떻게 발음합니까? 이 맛있는 조미료가 다양한 방식으로 발음되는 것을 들어 보셨을 것입니다! 그러나 정답은 하나뿐입니다. 우스터셔 소스는 wuss-terr-sherr로 발음됩니다.   \\n😋 더 많은 대체 재료\\n요리 대용품허브 및 향신료 대체품베이킹 대용품사과 식초베이 리프타피오카 전분향유로즈마리(신선 및 건조)옥수수 가루마르살라 와인심황감자 전분디종 겨자셀러리 소금코코넛 설탕양 고추 냉이타라곤버터 밀크레드 와인 식초카 다몸 브라운 슈가마사 하리 나파프리카칡 분말크림 치즈 고춧가루옥수수 가루크림 프레 이슈실란트로쇼트닝우스터 셔 소스바닐라 추출물숄로레몬 엑기스모든 요리와 베이킹에 도움이 되는 더 훌륭한 대체 페이지!\\n시도한 레시피가 마음에 드시나요? 떠나주세요 별 5개 🌟평가 아래 레시피 카드 및/또는 페이지 아래의 댓글 섹션에 있는 리뷰를 참조하세요. 계속 연락해 @ 소셜 미디어를 통해\\xa0핀터레스트,\\xa0페이스북, 인스타그램및 트위터! 확인 오늘 뉴스레터로 (스팸 없음, 약속합니다)! 제 레시피 중 하나를 시도할 때 저를 태그하는 것을 잊지 마세요!\\n📖 레시피 카드\\n 레시피 인쇄\\n 코멘트를 남겨주세요\\n 이 레시피가 마음에 드시나요?그것을 평가하려면 별을 클릭하십시오!\\n5 에 15 리뷰\\n우스터셔 소스 대용품: 수제 우스터셔 소스(+더!)\\nBowman의 우스터셔 소스 대체품 여기에 공유된 옵션은 모든 레시피에 사용할 수 있는 맛있는 대안을 제공할 것입니다! 빠른 재료 교체부터 홈메이드 소스 레시피에 이르기까지 모든 필요에 맞는 것이 있습니다! 당신에게 가장 잘 맞는 선택을 찾아 즐기세요!\\n저자 | 안젤라\\n게재 횟수 : 16 서빙\\n칼로리 : 41kcal\\n예습 5 분 분\\n요리 15 분 분\\n식히는 시간 14 일 일\\n총 시간 14 일 일 20 분 분\\n 핀 레시피\\n 페이스북 공유\\n성분\\xa0미국 관습법메트릭1x2x3x▢ 1 컵 맥아 식초▢ ¼ 컵 당밀▢ ¼ 컵 간장▢ 2 식탁 용 스푼 브라우닝 소스▢ 2 식탁 용 스푼 타마린드 페이스트▢ 1 ½ 식탁 용 스푼 겨자 씨앗▢ 1 식탁 용 스푼 소금▢ 1 식탁 용 스푼 노란 양파 (다진 것)▢ 1 찻 숟가락 마늘 (다진 것)▢ 1 찻 숟가락 멸치 필레 (다진 것 - 필레 1~2개)▢ ½ 찻 숟가락 전체 검은 후추▢ ½ 찻 숟가락 전체 정향▢ ½ 찻 숟가락 생강 (신선한, 깍둑썰기한)▢ ¼ 찻 숟가락 카레 가루▢ 1 꼬집기 지상 계피▢ 2 모든 카 다몬 포드 (밀어 넣는)▢ 2 모든 칠레 드 아르볼 (손으로 찢거나 다진 것)\\n 도와주세요!레시피가 마음에 드신다면 꼭 다시 방문하여 평가를 공유해 주세요. 이는 미래의 사용자에게 도움이 되며 계속해서 무료 레시피를 공유할 수 있게 해줍니다! 안젤라\\n명령큰 냄비에 모든 소스 재료(맥아 식초, 당밀, 간장, 브라우닝 소스, 타마린드 페이스트, 겨자씨, 소금, 노란 양파, 다진 마늘, 멸치 필레, 통 검은 후추, 통 정향, 신선한 다진 생강, 카레 가루, 계피 가루, 으깬 카다멈 꼬투리, 다진 칠리 드 아르볼). 소스를 중간 불로 끓입니다. 끓어오르면 약한 불로 줄여 15분간 끓인다. 열에서 제거하고 식힌 다음 살균된 병에 옮기고 단단히 밀봉합니다. 최소 2주, 바람직하게는 3-4주 동안 냉장 보관하고 소스 맛이 섞이도록 둡니다. 사용하기 전에 소스를 깨끗한 그릇에 걸러내고 고형물을 버리십시오. 우스터셔 소스를 깨끗한 병에 다시 넣고 최대 8개월 동안 냉장 보관합니다.\\n노트\\n우스터셔 소스 약 1컵을 만듭니다.\\n영양소칼로리 : 41kcal (2의 %) | 탄수화물 : 8g (3의 %) | 단백질: 1g (2의 %) | 지방: 1g (2의 %) | 포화 지방: 1g (6의 %) | 고도 불포화 지방 : 1g | 단일 불포화 지방 : 1g | 콜레스테롤 : 1mg | 나트륨: 642mg (28의 %) | 칼륨: 112mg (3의 %) | 섬유: 1g (4의 %) | 설탕: 8g (9의 %) | 비타민 A : 2IU | 비타민 C : 1mg (1의 %) | 칼슘: 19mg (2의 %) | 철: 1mg (6의 %)\\n   이 레시피를 시도해 보셨습니까? 아래에서 평가하세요!결과를보고 싶어요! 언급하다  안녕하세요. 또는 태그 #bake_it_with_love!\\n수제, 대체품, 우스터셔 소스\\n코스 조미료, 대체품요리 미국 사람안젤라 @ BakeItWithLove.comAngela는 할머니의 부엌에서 어린 나이에 요리와 베이킹에 대한 모든 것에 대한 열정을 키운 가정 요리사입니다. 음식 서비스 업계에서 수년을 보낸 후, 그녀는 이제 Bake It With Love에서 가족이 좋아하는 모든 요리법을 공유하고 맛있는 저녁 식사와 놀라운 디저트 요리법을 만드는 것을 즐깁니다!\\n베이크잇위드러브.com/about/\\n더 많은 대체품마가린 대체품그레이엄 크래커 대체품과립 설탕 대체품아나토 씨앗 대체품 \\n\\t이 조리법을 공유하십시오!\\t\\n \\n공유\\n \\n핀\\n \\nX\\n \\nYummly\\n \\n이메일\\n독자의 상호 작용코멘트 \\n와줘서 고마워! 당신이 무슨 생각을하는지 제게 알려주세요: 답장을 취소귀하의 이메일 주소는 공개되지 않습니다. *표시항목은 꼭 기재해 주세요. *\\n레서피 등급 \\n레서피 등급\\n \\nComment * 성함 \\n이메일 \\n \\nΔ \\n이 사이트는 Akismet을 사용하여 스팸을 줄입니다. 댓글 데이터 처리 방법 알아보기.\\n아드리아나 데 파울라 실바 라고 \\n23 4 월 2023, 8 : 12 오전 \\n아이디어로 Adorei\\n\"아이디어가 마음에 들었다\"\\n댓글\\n기본 사이드 바\\n안녕하세요, 저는 안젤라입니다\\n저는 열렬한 빈티지 요리책 수집가이자 요리사, 제빵사이자 완전한 미식가입니다. 저는 할머니가 만드셨던 것처럼 새롭고 재미있고 창의적인 요리법과 훌륭하고 고전적인 요리법을 공유하는 것을 좋아합니다! BIWL의 모든 레시피는 모든 경험 수준의 요리사가 성공할 수 있도록 테스트되었습니다.\\nBake It With Love에 오신 것을 환영합니다. 즐기다!\\n나에 대한 추가 정보 ->\\n아침 식사\\n크림칩 비프 온 토스트(SOS)키슈 만드는 방법: 최고의 가이드최고의 발렌타인 데이 아침 식사컨트리 프라이드 프라임립도넛 팬 없이 도넛을 굽는 방법팬케이크를 얼리는 방법바나나 팬케이크팬케이크를 다시 데우는 방법\\n저녁 식사 아이디어\\n만들 수 있는 예산 친화적인 저녁 식사이탈리아 소시지를 곁들인 속을 채운 마니코티리코타 치즈와 이탈리안 소시지를 곁들인 구운 지티구운 돼지갈비슬로우 쿠커 라자냐 수프성 패트릭의 날 이후에 만들 남은 콘비프 요리법최고의 성금요일 식사: 단식일을 위한 쉬운 요리법최고의 쇠고기 스트로가노프를 만드는 방법\\n바닥 글\\n위에 보인대로\\n↑ 맨위로\\n소개\\n안젤라 소개\\n팀과 미팅\\n사진 공유\\n개인 정보 보호 정책\\n언어\\n나와 함께 일하세요\\nContact \\n자주하는 질문\\n홈\\n접근성 정책\\n확인\\n기사\\n조리법\\n저녁 식사\\n디저트\\n반찬\\n아침 식사\\n전채\\n조미료\\n에어 프라이어\\n슬로우 쿠커\\n즉석 냄비\\n캐서롤\\n쿠키 및 바\\n휴가\\n동영상\\n사회 얻으십시오\\n즐겨찾는 소셜 미디어 플랫폼을 방문하세요!\\n또는 다음에서 예정된 독점 콘텐츠를 확인하세요. Patreon!\\n저작권 © 2024 사랑으로 구워']],\n",
       " 'html_for_upload': None}"
      ]
     },
     "execution_count": 19,
     "metadata": {},
     "output_type": "execute_result"
    }
   ],
   "source": [
    "posting_ai.results"
   ]
  },
  {
   "cell_type": "markdown",
   "metadata": {},
   "source": [
    "### 3.3.6. 이미지수집"
   ]
  },
  {
   "cell_type": "code",
   "execution_count": 20,
   "metadata": {},
   "outputs": [],
   "source": [
    "# 이미지 수집하기\n",
    "crawler = Crawler(verbose=False)\n",
    "try :\n",
    "    topics = posting_ai.results['topics']\n",
    "    for topic in topics : \n",
    "        images = crawler.ddgsearch_get_images(topic)\n",
    "        posting_ai.results['images'].append(images)    \n",
    "finally :    \n",
    "    crawler.driver.quit()       \n",
    "\n"
   ]
  },
  {
   "cell_type": "markdown",
   "metadata": {},
   "source": [
    "결과표시"
   ]
  },
  {
   "cell_type": "code",
   "execution_count": 21,
   "metadata": {},
   "outputs": [
    {
     "data": {
      "text/plain": [
       "[[{'title': 'Ultimate Guide to ROME SOUVENIRS & the best gifts from Rome!',\n",
       "   'image': 'https://www.roamthegnome.com/wp-content/uploads/2020/01/rome-souvenirs-pasta-shop-800.jpg',\n",
       "   'thumbnail': 'https://tse4.mm.bing.net/th?id=OIP.lzbeSRmykTpp-w-giJ9h1AHaFi&pid=Api',\n",
       "   'url': 'https://roamthegnome.com/what-to-buy-in-rome-souvenirs/',\n",
       "   'height': 598,\n",
       "   'width': 800,\n",
       "   'source': 'Bing'}],\n",
       " [{'title': 'Jars Of Homemade Spaghetti Sauce Free Stock Photo - Public Domain Pictures',\n",
       "   'image': 'https://www.publicdomainpictures.net/pictures/230000/velka/jars-of-homemade-spaghetti-sauce.jpg',\n",
       "   'thumbnail': 'https://tse2.mm.bing.net/th?id=OIP.7EGWXtKTEHYm2Br4DtQw8AHaE8&pid=Api',\n",
       "   'url': 'https://www.publicdomainpictures.net/en/view-image.php?image=222283&picture=jars-of-homemade-spaghetti-sauce',\n",
       "   'height': 1280,\n",
       "   'width': 1920,\n",
       "   'source': 'Bing'}],\n",
       " [{'title': 'Free Images : food, blackberry, ingredient, fruit, plant, cuisine ...',\n",
       "   'image': 'https://c.pxhere.com/images/f6/80/0e88073a19f835fddc2b90989804-1639126.jpg!s',\n",
       "   'thumbnail': 'https://tse4.mm.bing.net/th?id=OIP.a81OoOjcxQsb9y-FNbb0sgHaE8&pid=Api',\n",
       "   'url': 'https://pxhere.com/en/photo/1551595',\n",
       "   'height': 340,\n",
       "   'width': 509,\n",
       "   'source': 'Bing'}]]"
      ]
     },
     "execution_count": 21,
     "metadata": {},
     "output_type": "execute_result"
    }
   ],
   "source": [
    "posting_ai.results['images']"
   ]
  },
  {
   "cell_type": "markdown",
   "metadata": {},
   "source": [
    "## 3.4 포맷팅하기 (HTML 형식 만들기)"
   ]
  },
  {
   "cell_type": "code",
   "execution_count": 22,
   "metadata": {},
   "outputs": [
    {
     "name": "stdout",
     "output_type": "stream",
     "text": [
      "\n",
      "        파스타 소스는 다양한 요리에 활용되는 중요한 재료 중 하나입니다. 이 블로그 포스트에서는 **파스타 소스 소비기한**과 **파스타 소스 없을때**를 고려하여, **파스타 소스 보관 방법**, **파스타 소스 종류**, 그리고 **파스타 소스 대체품**에 대해 알아보겠습니다. 파스타를 더 맛있게 즐기고자 하는 분들을 위해 유용한 정보를 제공해드리니, 함께 살펴보시기 바랍니다.\n",
      "        \n",
      "                <h2>파스타 소스 보관 방법</h2>                        \n",
      "            \n",
      "                    <figure style='align-items: center; text-align : center;'>\n",
      "                         <img src=\"https://www.roamthegnome.com/wp-content/uploads/2020/01/rome-souvenirs-pasta-shop-800.jpg\" alt=\"파스타 소스 보관 방법\" style='width=400px'>\n",
      "                        <figcaption>\n",
      "                            파스타 소스 보관 방법 (출처 : https://roamthegnome.com/what-to-buy-in-rome-souvenirs/)\n",
      "                        </figcaption>\n",
      "                    </figure>\n",
      "                    \n",
      "                <h3>파스타 소스 보관 소개</h3>\n",
      "\n",
      "<p>파스타 소스는 많은 요리에 다재다능하고 맛있게 추가할 수 있지만 신선도와 풍미를 유지하려면 적절한 보관이 필수적입니다. 집에서 만든 파스타 소스를 다루든 상점에서 구입한 파스타 소스를 다루든 올바른 보관 방법을 알면 수명과 맛에 상당한 차이를 만들 수 있습니다. 파스타 소스를 최대한 오랫동안 신선하고 맛있게 유지하기 위해 올바르게 보관하는 방법에 대해 자세히 알아보겠습니다.</p>\n",
      "\n",
      "<h4>개봉하지 않은 파스타 소스 보관</h4>\n",
      "\n",
      "<p>개봉하지 않은 파스타 소스의 경우 보관 요구 사항은 비교적 간단합니다. 개봉하지 않은 파스타 소스는 직사광선을 피해 서늘하고 어두운 곳에 보관하는 것이 가장 좋습니다. 소스가 안정적인 온도의 식료품 저장실이나 찬장에 보관되는 한 냉장이나 냉동이 필요하지 않습니다.</p>\n",
      "\n",
      "<h4>개봉 파스타 소스 취급</h4>\n",
      "\n",
      "<p>파스타 소스가 담긴 병이나 용기를 열면 보관 요구 사항이 크게 변경됩니다. 개봉한 파스타 소스는 박테리아의 성장을 늦추고 품질을 유지하기 위해 즉시 냉장 보관해야 합니다. 냉장고에 넣기 전에 용기를 뚜껑으로 단단히 밀봉하거나 밀폐 용기에 소스를 옮기는 것이 중요합니다.</p>\n",
      "\n",
      "<h4>남은 파스타 소스 냉장 보관</h4>\n",
      "\n",
      "<p>식사에서 남은 파스타 소스가 있는 경우 안전하게 섭취하려면 적절한 냉장 보관이 중요합니다. 남은 소스는 밀폐용기에 옮겨 담아 조리 후 2시간 이내에 냉장고에 넣어둔다. 올바르게 보관하면 남은 파스타 소스는 냉장고에서 최대 5일 동안 보관할 수 있습니다.</p>\n",
      "\n",
      "<h4>장기 보관을 위한 냉동 파스타 소스</h4>\n",
      "\n",
      "<p>장기 보관을 위해서는 파스타 소스를 얼리는 것이 좋습니다. 얼리면 소스의 신선도와 풍미를 몇 달 동안 보존하는 데 도움이 될 수 있습니다. 파스타 소스를 얼리려면 나중에 사용하기 위해 더 작은 부분으로 나눕니다. 소스를 냉동실에 안전한 용기나 다시 밀봉할 수 있는 비닐 봉지에 넣고 팽창할 수 있는 공간을 남겨두고 용기에 날짜를 표시하십시오.</p>\n",
      "\n",
      "<h4>냉동 파스타 소스 해동 및 재가열</h4>\n",
      "\n",
      "<p>냉동 파스타 소스를 사용할 준비가 되면 냉동실에서 냉장고로 옮겨 밤새 해동합니다. 또는 더 빠른 해동 과정을 위해 전자레인지나 찬물 한 그릇에 소스를 해동할 수 있습니다. 해동되면 파스타 소스가 안전한 내부 온도에 도달할 때까지 쿡탑이나 전자레인지에서 다시 데우고 가끔 저어주어 균일하게 가열합니다.</p>\n",
      "\n",
      "<h4>파스타 소스 저장 공간 극대화를 위한 팁</h4>\n",
      "\n",
      "<ul>\n",
      "<li>파스타 소스는 소스의 맛에 영향을 줄 수 있으므로 반응성 금속으로 만든 용기에 보관하지 마십시오.</li>\n",
      "<li>파스타 소스를 퍼낼 때는 오염을 방지하기 위해 항상 깨끗한 도구나 숟가락을 사용하십시오.</li>\n",
      "<li>해동과 재가열을 더 편리하게 하기 위해 얼리기 전에 소스를 더 작은 용기에 나누어 담는 것을 고려하십시오.</li>\n",
      "<li>파스타 소스의 각 용기에 준비 날짜를 표시하여 신선도를 추적하고 적시에 섭취할 수 있도록 합니다.</li>\n",
      "</ul>\n",
      "\n",
      "<h3>결론</h3>\n",
      "\n",
      "<p>파스타 소스를 적절하게 보관하는 것은 품질, 풍미 및 소비 안전성을 유지하는 데 필수적입니다. 냉장 보관을 선택하든 냉동 보관을 선택하든 올바른 보관 지침을 따르면 원할 때마다 향긋한 소스와 함께 맛있는 파스타 요리를 즐길 수 있습니다. 파스타 소스 보관을 위한 모범 사례를 이해하면 음식물 쓰레기를 최소화하고 좋아하는 파스타 레시피의 즐거움을 극대화할 수 있습니다.</p>\n",
      "\n",
      "                \n",
      "                <h2>파스타 소스 종류</h2>                        \n",
      "            \n",
      "                    <figure style='align-items: center; text-align : center;'>\n",
      "                         <img src=\"https://www.publicdomainpictures.net/pictures/230000/velka/jars-of-homemade-spaghetti-sauce.jpg\" alt=\"파스타 소스 종류\" style='width=400px'>\n",
      "                        <figcaption>\n",
      "                            파스타 소스 종류 (출처 : https://www.publicdomainpictures.net/en/view-image.php?image=222283&picture=jars-of-homemade-spaghetti-sauce)\n",
      "                        </figcaption>\n",
      "                    </figure>\n",
      "                    \n",
      "                <h3>파스타 소스 품종 소개</h3>\n",
      "\n",
      "<p>전 세계적으로 가장 사랑받고 다재다능한 요리 중 하나인 파스타는 함께 제공되는 소스에 맛과 특성의 많은 부분을 빚지고 있습니다. 파스타 소스의 종류는 방대하고 다양하여 모든 입맛에 맞는 무수한 맛과 질감을 제공합니다. 고전적인 토마토 기반 소스부터 크림 같은 혼합물에 이르기까지 각 소스 유형은 장식하는 파스타 요리에 독특한 트위스트를 제공합니다. 이 블로그 게시물에서는 파스타 소스 품종의 세계를 탐구하고 파스타 게임의 수준을 높이는 데 도움이 되는 재료, 풍미 및 이상적인 페어링을 탐색합니다.</p>\n",
      "\n",
      "<h3>토마토 파스타 소스</h3>\n",
      "\n",
      "<p>토마토 기반 파스타 소스는 파스타 애호가들에게 가장 인기 있고 전통적인 선택 중 하나입니다. 이 소스는 일반적으로 신선한 토마토, 양파, 마늘 및 올리브 오일을 베이스로 하여 생생하고 톡 쏘는 풍미 프로필을 만듭니다. 가장 유명한 토마토 기반 소스 중 하나는 토마토, 마늘, 바질, 올리브 오일을 결합하여 고전적인 이탈리아 맛을 제공하는 마리나라 소스입니다. 마리나라 소스는 스파게티, 펜네, 해산물 요리와 매우 잘 어울리며 짭짤한 맛이 가득합니다.</p>\n",
      "\n",
      "<h3>크림 베이스 파스타 소스</h3>\n",
      "\n",
      "<p>향긋한 토마토 소스와 달리 크림 베이스의 파스타 소스는 파스타 가닥을 고급스럽게 코팅하는 풍부하고 벨벳 같은 질감을 제공합니다. 버터, 크림, 파마산 치즈의 크리미한 블렌드인 알프레도 소스는 감미롭고 관대한 파스타 경험을 갈망하는 사람들에게 사랑받는 선택입니다. 이 소스는 페투치니 및 기타 납작한 파스타 품종을 보완하여 편안한 음식에 대한 갈망을 만족시킬 퇴폐적인 요리를 만듭니다.</p>\n",
      "\n",
      "<h3>페스토와 허브 소스</h3>\n",
      "\n",
      "<p>신선하고 허브 풍미 프로필을 찾는 사람들에게는 페스토와 허브 기반 소스가 완벽한 선택입니다. 신선한 바질, 올리브 오일, 잣, 파마산 치즈, 마늘로 만든 페스토 소스는 전통적인 파스타 소스에 대한 생생하고 향긋한 대안을 제공합니다. 이 소스는 스파게티, 뇨끼와 아름답게 어울리며 샌드위치나 브루스케타에 풍미 가득한 스프레드로도 좋습니다. 또한 오레가노 또는 파슬리 기반 변형과 같은 허브 주입 소스는 파스타 요리에 향긋하고 짭짤한 맛을 더하여 신선함을 더합니다.</p>\n",
      "\n",
      "<h3>특선 파스타 소스</h3>\n",
      "\n",
      "<p>고전적인 토마토와 크림 기반 소스 외에도 특수 파스타 소스는 독특하고 모험적인 요리 경험을 제공합니다. 올리브, 케이퍼, 멸치, 토마토의 톡 쏘는 맛이 어우러진 푸타네스카 소스는 파스타 요리에 대담하고 짭짤한 펀치를 제공하여 식사에 지중해 풍미를 더합니다. 매콤한 고추와 마늘이 들어간 아라비아타 소스는 미각을 자극하는 매운 맛을 선사해 강렬한 맛을 즐기는 분들에게 탁월한 선택입니다.</p>\n",
      "\n",
      "<h3>결론</h3>\n",
      "\n",
      "<p>파스타 소스 품종의 세계는 요리의 즐거움의 보고이며, 각 소스 유형은 파스타 요리에 독특한 맛과 개성을 제공합니다. 알프레도 소스의 편안한 크리미함을 선호하든 마리나라의 톡 쏘는 풍미를 선호하든 모든 분위기와 상황에 맞는 다양한 파스타 소스가 있습니다. 다양한 파스타 소스를 살펴보면 간단한 파스타 한 접시를 오감을 즐겁게 하고 영혼을 만족시키는 미식 식사 경험으로 바꿀 수 있습니다. 소스 만들기의 예술을 받아들이고 이 감칠맛 나는 파스타 소스 종류로 파스타 게임의 수준을 높이십시오.</p>\n",
      "\n",
      "                \n",
      "                <h2>파스타 소스 대체품</h2>                        \n",
      "            \n",
      "                    <figure style='align-items: center; text-align : center;'>\n",
      "                         <img src=\"https://c.pxhere.com/images/f6/80/0e88073a19f835fddc2b90989804-1639126.jpg!s\" alt=\"파스타 소스 대체품\" style='width=400px'>\n",
      "                        <figcaption>\n",
      "                            파스타 소스 대체품 (출처 : https://pxhere.com/en/photo/1551595)\n",
      "                        </figcaption>\n",
      "                    </figure>\n",
      "                    \n",
      "                <h3>파스타 소스 대용품 소개</h3>\n",
      "\n",
      "<p>파스타 소스는 모든 파스타 요리의 중요한 구성 요소로, 맛, 질감 및 식사에 전반적인 매력을 제공합니다. 그러나 특정 파스타 소스가 부족하거나 새로운 맛을 실험하려는 경우가 있을 수 있습니다. 이러한 경우 파스타 소스 대용품에 대한 지식이 있으면 도움이 될 수 있습니다. 맛과 품질을 손상시키지 않으면서 전통적인 파스타 소스를 대체할 수 있는 몇 가지 대안을 살펴보겠습니다.</p>\n",
      "\n",
      "<h3>크림 기반 대체품</h3>\n",
      "\n",
      "<p>크림 베이스의 소스는 풍부하고 크리미한 질감으로 인기가 있습니다. 알프레도 소스가 부족하다면 헤비 크림, 버터, 파마산 치즈를 조합하여 비슷한 크림 같은 질감을 만드는 것을 고려할 수 있습니다. 또는 우유와 옥수수 전분의 혼합물은 크림 기반 소스의 두께를 모방할 수도 있습니다.</p>\n",
      "\n",
      "<h3>토마토 기반 대체품</h3>\n",
      "\n",
      "<p>마리나라 또는 뽀모도로와 같은 토마토 기반 소스는 다양한 옵션으로 대체할 수 있습니다. 통조림 토마토 소스가 부족하다면 이탈리안 시즈닝과 마늘을 섞은 깍둑썰기한 토마토를 빠르고 쉽게 대체할 수 있습니다. 또한 구운 고추 소스나 햇볕에 말린 토마토 페스토는 전통적인 토마토 기반 소스에 독특한 트위스트를 제공할 수 있습니다.</p>\n",
      "\n",
      "<h3>페스토와 허브 대용품</h3>\n",
      "\n",
      "<p>바질 페스토의 신선한 맛을 갈망하지만 재료가 부족한 사람들에게는 루꼴라 페스토 또는 시금치 페스토와 같은 대안이 풍미 있는 대체품이 될 수 있습니다. 또한 바질, 파슬리, 오레가노와 같은 신선한 허브를 올리브 오일과 견과류와 혼합하면 파스타 요리를 위한 다재다능한 허브 기반 소스를 만들 수 있습니다.</p>\n",
      "\n",
      "<h3>올리브 오일과 마늘 대용품</h3>\n",
      "\n",
      "<p>간단하면서도 풍미 있는 올리브 오일과 마늘 소스는 칠리, 레몬 또는 허브 오일과 같은 맛의 주입된 올리브 오일로 쉽게 대체할 수 있습니다. 마늘과 함께 볶은 샬롯이나 양파도 요리에 깊이를 더하여 고전적인 올리브 오일과 마늘 소스에 대한 짭짤한 대안을 만들 수 있습니다.</p>\n",
      "\n",
      "<h3>치즈 기반 대체품</h3>\n",
      "\n",
      "<p>치즈 애호가들은 전통적인 파스타 소스를 대체할 수 있는 다양한 치즈 기반 대체품으로 기뻐할 수 있습니다. 레몬 제스트와 허브를 블렌딩한 리코타 치즈는 크리미하고 톡 쏘는 소스를 만들 수 있으며, 염소 치즈와 크림을 혼합하면 클래식 치즈 소스에 대한 풍부하고 퇴폐적인 대안을 제공할 수 있습니다.</p>\n",
      "\n",
      "<h3>파스타 소스 대용품 실험</h3>\n",
      "\n",
      "<p>파스타 소스 대용품을 탐색할 때 다양한 맛 조합과 재료를 실험하는 것을 두려워하지 마십시오. 매콤한 아라비아타 대체품부터 흙 냄새가 나는 버섯 라구 대체품에 이르기까지 파스타 소스 대체품의 세계는 다양하고 흥미진진합니다. 부엌에서 창의성을 발휘하고 미뢰가 독특하고 맛있는 파스타 창작물로 안내하도록 하십시오.</p>\n",
      "\n",
      "                \n"
     ]
    }
   ],
   "source": [
    "# 글 포맷팅하기\n",
    "formatted_contents = posting_ai.create_HTML_formmater(save=True)\n",
    "print(formatted_contents)"
   ]
  },
  {
   "cell_type": "markdown",
   "metadata": {},
   "source": [
    "# 3.5 저장하기"
   ]
  },
  {
   "cell_type": "code",
   "execution_count": 23,
   "metadata": {},
   "outputs": [
    {
     "name": "stdout",
     "output_type": "stream",
     "text": [
      "[Errno 22] Invalid argument: 'c:\\\\hellodear\\\\tistory_ebook\\\\pasta_blog\\\\창고\\\\[[파스타]]_((ko))_``\"파스타 소스 소비기한 및 대체품: 보관 방법과 종류도 알아보세요!\"``.json'\n",
      "An error occurred: [Errno 22] Invalid argument: 'c:\\\\hellodear\\\\tistory_ebook\\\\pasta_blog\\\\업로드할것\\\\[[파스타]]_((ko))_``\"파스타 소스 소비기한 및 대체품: 보관 방법과 종류도 알아보세요!\"``.txt'\n"
     ]
    }
   ],
   "source": [
    "# 수집 및 생성한 모든 자료를 json으로 저장합니다.\n",
    "file_manager.saveGeneratedDict2Json(\n",
    "    data = posting_ai.results,\n",
    "    subject = theme,\n",
    "    language = 'ko',\n",
    "    contents = posting_ai.results['title'],\n",
    "    folder_category='storage'\n",
    ")\n",
    "\n",
    "# 포스팅할 문서를 txt로 저장합니다.\n",
    "file_manager.saveGeneratedText2Text(\n",
    "    data = posting_ai.results['html_for_upload'],\n",
    "    subject = theme,\n",
    "    language = 'ko',\n",
    "    contents = posting_ai.results['title'],\n",
    "    folder_category='for_upload'\n",
    ")\n"
   ]
  }
 ],
 "metadata": {
  "kernelspec": {
   "display_name": "venv",
   "language": "python",
   "name": "python3"
  },
  "language_info": {
   "codemirror_mode": {
    "name": "ipython",
    "version": 3
   },
   "file_extension": ".py",
   "mimetype": "text/x-python",
   "name": "python",
   "nbconvert_exporter": "python",
   "pygments_lexer": "ipython3",
   "version": "3.11.5"
  }
 },
 "nbformat": 4,
 "nbformat_minor": 2
}
