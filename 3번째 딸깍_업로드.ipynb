{
 "cells": [
  {
   "cell_type": "markdown",
   "metadata": {},
   "source": [
    "# 기본설정"
   ]
  },
  {
   "cell_type": "code",
   "execution_count": 1,
   "metadata": {},
   "outputs": [],
   "source": [
    "# 경고를 무시합니다.\n",
    "import warnings\n",
    "warnings.filterwarnings(\"ignore\")\n",
    "\n",
    "# 환경변수 저장 (.env) 확인\n",
    "from dotenv import load_dotenv\n",
    "import os\n",
    "load_dotenv()\n",
    "\n",
    "# 블로그 기본사항을 입력합니다.\n",
    "blogname = 'pasta_blog' # 명칭은 영어로 지정해주어야 합니다.\n",
    "\n",
    "\"\"\" 테마는 실제 블로그의 테마이기 보다는 수집할 키워드들의 테마입니다.\n",
    "파스타는 예시사항입니다.\n",
    "1. 저는 블로그에 파스타와 관련된 사항들을 작성합니다.\n",
    "2. 키워드 '파스타'로부터 모든 키워드들을 끌어모을 작정입니다.\n",
    "3. 키워드의 블로그 게시 적정성 판단기준이 '파스타'가 됩니다.\n",
    "\n",
    "파스타가 아니라 '여행', '영화' 또는 '여행과 영화' 와 같이 2개 이상의 주제를 가져도 좋습니다.\n",
    "\"\"\"\n",
    "\n",
    "theme = '파스타'\n",
    "\n",
    "# os.environ[f'{blogname}_ID'] = \"여기에 아이디를 입력하세요\"\n",
    "# os.environ[f'{blogname}_PW'] = \"여기에 비밀번호를 입력하세요\"\n",
    "# os.environ[f'{blogname}_NEW_POST_URL'] = \"포스팅 주소를 입력하세요\""
   ]
  },
  {
   "cell_type": "code",
   "execution_count": 2,
   "metadata": {},
   "outputs": [
    {
     "name": "stdout",
     "output_type": "stream",
     "text": [
      "[WinError 183] 파일이 이미 있으므로 만들 수 없습니다: 'c:\\\\hellodear\\\\tistory_ebook\\\\pasta_blog'\n",
      "[WinError 183] 파일이 이미 있으므로 만들 수 없습니다: 'c:\\\\hellodear\\\\tistory_ebook\\\\pasta_blog\\\\업로드할것'\n",
      "[WinError 183] 파일이 이미 있으므로 만들 수 없습니다: 'c:\\\\hellodear\\\\tistory_ebook\\\\pasta_blog\\\\업로드완료'\n",
      "[WinError 183] 파일이 이미 있으므로 만들 수 없습니다: 'c:\\\\hellodear\\\\tistory_ebook\\\\pasta_blog\\\\창고'\n",
      "✅ 기존 벡터스토어 로드되었습니다.\n",
      "✅ 기존 벡터스토어 로드되었습니다.\n"
     ]
    }
   ],
   "source": [
    "\n",
    "# 정의한 클래스들을 호출합니다.\n",
    "from module.Crawler import Crawler\n",
    "from module.AIAgent import AIAgent\n",
    "from module.File_manager import File_manager\n",
    "from module.Uploader import Uploader\n",
    "\n",
    "# 클래스의 인스턴스들을 설정합니다.\n",
    "# 크롤러 클래스 호출\n",
    "crawler = Crawler(verbose=True)\n",
    "# 파일매니저 클래스 호출\n",
    "file_manager = File_manager(\n",
    "    blogname=blogname, \n",
    "    verbose=True) # 현재위치에서 시작을 가정합니다.\n",
    "# 인공지능 클래스 호출 - 포스팅용\n",
    "posting_ai = AIAgent(\n",
    "        blogname = blogname, \n",
    "        index = 'my_contents',             \n",
    "        verbose=True)\n",
    "# 인공지능 클래스 호출 - 키워드관리용\n",
    "keyword_ai = AIAgent(\n",
    "        blogname = blogname, \n",
    "        index = 'my_keywords',             \n",
    "        verbose=True)\n",
    "# 업로더 클래스 호출\n",
    "uploader = Uploader(\n",
    "    blogname=blogname, # 아이디와 비밀번호를 지정하지 않으면 환경변수에서 가져옵니다.        \n",
    "    verbose=True)    "
   ]
  },
  {
   "cell_type": "markdown",
   "metadata": {},
   "source": [
    "## 2.2. 로컬파일로 저장한 키워드 다시 불러오기\n",
    "\n",
    "벡터스토어를 활용하기 위해서는 충분한 양의 키워드가 누적되어야 합니다.\\\n",
    "미리 준비해 둔 키워드들을 다운로드 받아서 활용하겠습니다."
   ]
  },
  {
   "cell_type": "code",
   "execution_count": 3,
   "metadata": {},
   "outputs": [
    {
     "name": "stdout",
     "output_type": "stream",
     "text": [
      "Data loaded from text file:\n",
      "업로드 할 문서의 갯수는 1개 입니다.\n"
     ]
    },
    {
     "data": {
      "text/plain": [
       "[\" \\n        이 블로그 포스트에서는 파스타 소스의 소비기한 관리 방법과 함께 파스타 소스가 부족할 때 대체할 수 있는 다양한 재료들에 대해 알아보겠습니다. 뿐만 아니라, 파스타 소스를 다양하게 활용할 수 있는 아이디어들도 소개할 예정이니 계속해서 읽어보세요!\\n\\n            <h2>파스타 소스 보관법</h2>                        \\n        \\n                <figure style='align-items: center; text-align : center;'>\\n                    # <img src=https://www.roamthegnome.com/wp-content/uploads/2020/01/rome-souvenirs-pasta-shop-800.jpg alt=파스타 소스 보관법 style='width=400px'>\\n                    <figurecaption>\\n                        파스타 소스 보관법 <br>(출처 : https://www.roamthegnome.com/wp-content/uploads/2020/01/rome-souvenirs-pasta-shop-800.jpg)\\n                    </figurecaption>\\n                </figure>\\n                \\n            <h3>파스타 소스 보관 소개</h3>\\n\\n<p>파스타 소스는 많은 가정에서 필수품으로 식사에 풍미와 다양성을 더합니다. 그러나 일단 개봉한 파스타 소스는 신선도와 맛을 유지하기 위해 적절하게 보관하는 것이 중요합니다. 이 블로그 게시물에서는 파스타 소스의 수명과 품질을 보장하기 위해 효과적으로 보관하는 다양한 방법과 팁을 살펴보겠습니다.</p>\\n\\n<h3>적절한 파스타 소스 보관이 중요한 이유</h3>\\n\\n<p>파스타 소스 보관의 세부 사항을 알아보기 전에 적절한 보관이 중요한 이유를 이해하는 것이 중요합니다. 파스타 소스, 특히 토마토, 허브, 향신료와 같은 재료가 포함된 소스는 올바르게 보관하지 않으면 부패하기 쉽습니다. 공기 노출, 온도 변화 및 빛과 같은 요인은 모두 시간이 지남에 따라 소스의 품질에 영향을 미칠 수 있습니다. 권장 보관 방법을 따르면 파스타 소스의 유통 기한을 연장하고 조기에 상하는 것을 방지할 수 있습니다.</p>\\n\\n<h3>냉장 보관: 신선도의 열쇠</h3>\\n\\n<p>개봉한 파스타 소스를 보관하는 가장 일반적인 방법 중 하나는 냉장 보관입니다. 파스타 소스를 냉장 보관할 때는 남은 소스를 밀폐 용기에 옮기는 것이 필수입니다. 소스를 용기에 밀봉하면 풍미 손실과 부패로 이어질 수 있는 공기 노출을 방지할 수 있습니다. 또한 파스타 소스를 냉장고에 보관하면 신선도를 유지하고 해로운 박테리아의 성장을 방지하는 데 도움이 됩니다.</p>\\n\\n<h3>장기 보존을 위한 동결</h3>\\n\\n<p>파스타 소스의 유통 기한을 장기간 연장하려는 사람들에게는 냉동이 탁월한 선택입니다. 파스타 소스를 얼리는 것은 소스를 더 작은 부분으로 나누어 밀폐 용기나 냉동 백에 보관하는 간단한 과정입니다. 파스타 소스를 얼리면 몇 달 동안 맛과 품질을 유지할 수 있어 원할 때마다 좋아하는 소스를 즐길 수 있습니다.</p>\\n\\n<h3>파스타 소스 냉동 팁</h3>\\n\\n<p>파스타 소스를 얼릴 때 최적의 결과를 얻으려면 다음 팁을 고려하십시오.</p>\\n\\n<ul>\\n<li><strong>부분 조절:</strong> 소스를 더 작은 부분으로 나누어 쉽게 해동하고 나눌 수 있습니다.</li>\\n<li><strong>라벨링:</strong> 신선도를 추적하기 위해 각 용기에 냉동 날짜를 명확하게 표시하십시오.</li>\\n<li><strong>공기 제거:</strong> 냉동실 화상을 방지하기 위해 밀봉하기 전에 냉동실 백에서 과도한 공기를 제거하십시오.</li>\\n<li><strong>해동:</strong> 냉동 파스타 소스를 냉장고에서 밤새 해동하면 최상의 결과를 얻을 수 있습니다.</li>\\n</ul>\\n\\n<h3>결론</h3>\\n\\n<p>결론적으로 파스타 소스의 품질과 풍미를 유지하기 위해서는 파스타 소스의 적절한 보관이 필수적입니다. 단기간 사용하기 위해 냉장 보관하든 장기 보존을 위해 냉동하든 권장 보관 방법을 따르면 좋아하는 파스타 소스를 장기간 즐길 수 있습니다. 이러한 보관 요령을 일상에 통합하면 파스타 소스를 신선하고 맛있게 유지하고 필요할 때마다 식사를 향상시킬 수 있습니다.</p>\\n\\n            \\n            <h2>파스타 소스 다양한 활용법</h2>                        \\n        \\n                <figure style='align-items: center; text-align : center;'>\\n                    # <img src=https://www.publicdomainpictures.net/pictures/230000/velka/jars-of-homemade-spaghetti-sauce.jpg alt=파스타 소스 다양한 활용법 style='width=400px'>\\n                    <figurecaption>\\n                        파스타 소스 다양한 활용법 <br>(출처 : https://www.publicdomainpictures.net/pictures/230000/velka/jars-of-homemade-spaghetti-sauce.jpg)\\n                    </figurecaption>\\n                </figure>\\n                \\n            <h3>파스타 소스 이해: 다양한 유형 및 다양한 용도에 대한 가이드</h3>\\n\\n<h4>소개</h4>\\n\\n<p>파스타 소스는 맛있는 파스타 요리의 심장이자 영혼입니다. 그들의 다재다능함은 단순한 스파게티 접시를 요리의 걸작으로 바꿀 수 있습니다. 다양한 종류의 파스타 소스를 사용할 수 있으므로 다양하고 풍미 있는 파스타 요리를 만들 수 있는 가능성은 무궁무진합니다.</p>\\n\\n<h4>파스타 소스의 세계 탐험</h4>\\n\\n<p>파스타 소스는 그 종류가 엄청납니다. 풍부하고 푸짐한 토마토 소스부터 크리미하고 달콤한 화이트 소스에 이르기까지 각 유형은 파스타 요리를 새로운 차원으로 끌어올릴 수 있는 독특한 풍미 프로필을 제공합니다. 몇 가지 인기 있는 파스타 소스 품종의 차이점을 살펴보겠습니다.</p>\\n\\n<h5>토마토 소스</h5>\\n\\n<p>토마토 기반 소스는 파스타 요리의 필수품입니다. 마리나라에서 아라비아타에 이르기까지, 이 소스는 강력한 풍미와 다재다능함으로 유명합니다. 간단한 토마토와 바질 소스를 선호하든 매운 아라비아타를 선호하든 토마토 소스는 파스타 요리에 깊이와 생동감을 더합니다.</p>\\n\\n<h5>크림 소스</h5>\\n\\n<p>알프레도(Alfredo)나 까르보나라(Carbonara)와 같은 크림 베이스의 소스는 파스타에 고급스럽고 벨벳 같은 질감을 제공합니다. 크림 소스는 풍부하고 관대하며 버섯과 베이컨에서 해산물과 닭고기에 이르기까지 다양한 재료와 잘 어울립니다.</p>\\n\\n<h5>유성 소스</h5>\\n\\n<p>aglio e olio 또는 pesto와 같은 오일 기반 소스는 크림 및 토마토 소스에 대한 더 가벼운 대안을 제공합니다. 이 소스는 고품질 올리브 오일, 마늘, 허브 및 견과류에 의존하여 파스타를 위한 풍미 있고 향긋한 코팅을 만듭니다. 더 간단하면서도 만족스러운 파스타 경험을 원하는 사람들에게 적합합니다.</p>\\n\\n<h4>파스타 소스와 파스타 유형 페어링</h4>\\n\\n<p>소스를 보완할 올바른 파스타 모양을 선택하는 것은 조화로운 요리를 만드는 데 매우 중요합니다. 개인 취향이 중요한 역할을 하지만 특정 파스타 모양은 전통적으로 최적의 맛과 질감을 위해 특정 소스와 짝을 이룹니다.</p>\\n\\n<h5>롱 파스타</h5>\\n\\n<p>스파게티나 링귀니와 같은 긴 파스타 모양은 가벼운 유성 소스나 섬세한 토마토 소스에 가장 적합합니다. 가느다란 형태 덕분에 소스가 각 가닥을 고르게 코팅할 수 있어 포크를 먹을 때마다 균형 잡힌 씹을 수 있습니다.</p>\\n\\n<h5>쇼트 파스타</h5>\\n\\n<p>펜네, 리가토니 또는 푸실리와 같은 짧은 파스타 모양은 볼로네제나 크리미한 알프레도와 같은 푸짐한 소스에 이상적입니다. 짧은 파스타 모양의 구석구석이 소스를 가두어 한 입 먹을 때마다 풍미가 폭발합니다.</p>\\n\\n<h5>속을 채운 파스타</h5>\\n\\n<p>라비올리나 토르텔리니와 같은 속을 채운 파스타 종류는 크림 소스나 간단한 오일 기반 드레싱과 아름답게 어울립니다. 속을 채운 파스타의 풍부한 속재료가 크림 소스와 조화를 이루고, 가벼운 오일 기반 드레싱은 속재료의 섬세한 풍미를 빛나게 합니다.</p>\\n\\n<h4>소스로 파스타 요리를 향상시키는 팁</h4>\\n\\n<p>파스타 요리의 수준을 더욱 높이려면 파스타 소스를 창의적으로 사용하기 위한 다음 팁을 고려하세요.</p>\\n\\n<ul>\\n<li>신선한 허브, 치즈 또는 단백질과 같은 재료 첨가를 실험하여 소스를 맞춤화하십시오.</li>\\n<li>파스타 물을 사용하여 소스의 농도를 조정하고 파스타에 더 잘 붙도록 합니다.</li>\\n<li>크림 소스에 레몬즙이나 식초로 약간의 산미를 더하거나 토마토 기반 소스에 설탕 한 꼬집으로 단맛을 더하여 맛의 균형을 맞춥니다.</li>\\n<li>파스타 요리에 고급 올리브 오일, 강판 치즈 또는 갓 으깬 후추를 뿌려 시각적 매력과 풍미를 더하세요.</li>\\n</ul>\\n\\n<h4>결론</h4>\\n\\n<p>결론적으로 파스타 소스는 파스타 요리의 세계에서 중추적인 역할을 하며 무수한 맛, 질감 및 가능성을 제공합니다. 다양한 소스 유형의 뉘앙스를 이해하고, 올바른 파스타 모양과 페어링하고, 창의적인 기술을 통합하면 자신의 주방에서 요리의 즐거움의 세계를 열 수 있습니다. 상상력을 발휘하고 다양한 파스타 소스를 실험하여 잊을 수 없는 식사 경험을 만들어 보세요. 즐거운 요리 되세요!</p>\\n\\n            \\n            <h2>파스타 소스 대체재료</h2>                        \\n        \\n                <figure style='align-items: center; text-align : center;'>\\n                    # <img src=https://images.pexels.com/photos/1714442/pexels-photo-1714442.jpeg?cs=srgb&dl=flour-parmesan-1714442.jpg&fm=jpg alt=파스타 소스 대체재료 style='width=400px'>\\n                    <figurecaption>\\n                        파스타 소스 대체재료 <br>(출처 : https://images.pexels.com/photos/1714442/pexels-photo-1714442.jpeg?cs=srgb&dl=flour-parmesan-1714442.jpg&fm=jpg)\\n                    </figurecaption>\\n                </figure>\\n                \\n            <h3>파스타 소스의 대체 재료</h3>\\n\\n<p>파스타는 전 세계 많은 사람들이 즐기는 다재다능하고 사랑받는 요리입니다. 파스타 요리를 만들거나 깨뜨릴 수 있는 핵심 구성 요소 중 하나는 소스입니다. 전통적인 파스타 소스도 맛있지만 독특하고 풍미 있는 파스타 소스를 만들기 위해 대체 재료를 실험하는 것은 재미있고 흥미로울 수 있습니다. 다음은 파스타 소스를 더 흥미롭게 만드는 데 사용할 수 있는 몇 가지 대체 재료입니다.</p>\\n\\n<h4>1. 견과류와 씨앗류</h4>\\n\\n<p>파스타 소스에 견과류와 씨앗을 넣으면 요리에 풍부하고 고소한 풍미를 더할 수 있습니다. 아몬드, 호두, 잣, 참깨와 같은 재료를 토스트하고 갈아서 반죽을 만들어 크리미하고 풍미 가득한 소스를 만들 수 있습니다. 견과류와 씨앗류는 파스타 소스에 식감을 더할 뿐만 아니라 건강한 양의 단백질과 필수 지방을 제공합니다.</p>\\n\\n<h4>2. 채소</h4>\\n\\n<p>야채는 파스타 소스에 신선함과 영양가를 더할 수 있는 좋은 방법입니다. 구운 피망, 햇볕에 말린 토마토, 아티초크, 호박을 퓌레로 만들고 허브와 향신료와 결합하여 풍미 가득한 야채 기반 소스를 만들 수 있습니다. 시금치, 케일, 루꼴라와 같은 야채도 시들게 하고 마늘과 올리브 오일과 섞어 간단하면서도 맛있는 소스를 만들 수 있습니다.</p>\\n\\n<h4>3. 채소</h4>\\n\\n<p>병아리콩, 렌틸콩, 검은콩과 같은 콩류를 사용하여 푸짐하고 단백질이 풍부한 파스타 소스를 만들 수 있습니다. 익힌 콩류를 토마토, 양파, 허브와 섞어 파스타와 잘 어울리는 걸쭉하고 만족스러운 소스를 만들 수 있습니다. 콩류로 만든 소스는 맛있을 뿐만 아니라 식사의 섬유질과 영양소 함량을 높이는 좋은 방법이기도 합니다.</p>\\n\\n<h4>4. 감귤 류</h4>\\n\\n<p>레몬, 오렌지, 라임과 같은 감귤류 과일은 파스타 소스에 밝고 톡 쏘는 맛을 더할 수 있습니다. 감귤류의 껍질과 과즙을 올리브 오일, 마늘, 허브와 결합하여 해산물 및 구운 야채와 잘 어울리는 상쾌하고 고소한 소스를 만들 수 있습니다. 감귤류 소스는 파스타 요리에 신선함을 더하는 데 적합합니다.</p>\\n\\n<h4>5. 유제품 대안</h4>\\n\\n<p>유당 불내증이 있거나 비건 식단을 따르는 사람들을 위해 코코넛 밀크, 아몬드 밀크, 캐슈 크림과 같은 유제품 대안을 사용하여 크리미하고 퇴폐적인 파스타 소스를 만들 수 있습니다. 이 유제품이 없는 대안은 영양 효모, 된장 또는 타히니로 맛을 내어 치즈의 감칠맛을 모방할 수 있습니다. 유제품 대체품은 크림 파스타 소스를 즐길 수 있는 맛있고 동물 실험을 하지 않은 방법입니다.</p>\\n\\n<h4>결론</h4>\\n\\n<p>파스타 소스에 대체 재료를 실험하면 요리의 가능성의 세계가 열릴 수 있습니다. 고정관념에서 벗어나 견과류, 채소, 콩류, 감귤류 과일 및 유제품 대체품을 소스에 통합하면 미뢰를 즐겁게 할 독특하고 풍미 있는 요리를 만들 수 있습니다. 그러니 부엌에서 창의력을 발휘하고 파스타 소스에서 새롭고 흥미로운 맛을 탐구하는 것을 두려워하지 마십시오!</p>\\n\\n            \"]"
      ]
     },
     "execution_count": 3,
     "metadata": {},
     "output_type": "execute_result"
    }
   ],
   "source": [
    "# 업로드 할 문서를 불러옵니다.\n",
    "filenames = file_manager.get_file_names()\n",
    "\n",
    "upload_titles = []\n",
    "upload_contents = []\n",
    "for filename in filenames :\n",
    "\n",
    "    _, _, title, _ = file_manager.extract_elements_from_filename(filename)\n",
    "    text = file_manager.loadText2Text(filename, 'for_upload')\n",
    "    upload_titles.append(title)\n",
    "    upload_contents.append(text)\n",
    "\n",
    "print(f\"업로드 할 문서의 갯수는 {len(upload_contents)}개 입니다.\")\n",
    "upload_contents\n"
   ]
  },
  {
   "cell_type": "markdown",
   "metadata": {},
   "source": [
    "복제해서 글이 2개인 척 해보겠습니다."
   ]
  },
  {
   "cell_type": "code",
   "execution_count": 4,
   "metadata": {},
   "outputs": [
    {
     "name": "stdout",
     "output_type": "stream",
     "text": [
      "업로드 할 문서의 갯수는 2개 입니다.\n"
     ]
    }
   ],
   "source": [
    "upload_titles += upload_titles\n",
    "upload_contents += upload_contents\n",
    "\n",
    "print(f\"업로드 할 문서의 갯수는 {len(upload_contents)}개 입니다.\")"
   ]
  },
  {
   "cell_type": "markdown",
   "metadata": {},
   "source": [
    "# 4. 티스토리 업로더 (Uploader 클래스)"
   ]
  },
  {
   "cell_type": "code",
   "execution_count": 5,
   "metadata": {},
   "outputs": [
    {
     "name": "stdout",
     "output_type": "stream",
     "text": [
      "💬 클릭\n",
      "✅ 클릭\n",
      "💬 클릭\n",
      "✅ 클릭\n",
      "at alert Message: no such alert\n",
      "  (Session info: chrome=124.0.6367.63)\n",
      "Stacktrace:\n",
      "\tGetHandleVerifier [0x011DC113+48259]\n",
      "\t(No symbol) [0x0116CA41]\n",
      "\t(No symbol) [0x010608A3]\n",
      "\t(No symbol) [0x01052C44]\n",
      "\t(No symbol) [0x0107CEF9]\n",
      "\t(No symbol) [0x010C0E34]\n",
      "\t(No symbol) [0x0107CD51]\n",
      "\t(No symbol) [0x010C0B36]\n",
      "\t(No symbol) [0x0109570D]\n",
      "\t(No symbol) [0x010962CD]\n",
      "\tGetHandleVerifier [0x01496533+2908323]\n",
      "\tGetHandleVerifier [0x014D3B4B+3159739]\n",
      "\tGetHandleVerifier [0x0127505B+674763]\n",
      "\tGetHandleVerifier [0x0127B21C+699788]\n",
      "\t(No symbol) [0x01176244]\n",
      "\t(No symbol) [0x01172298]\n",
      "\t(No symbol) [0x0117242C]\n",
      "\t(No symbol) [0x01164BB0]\n",
      "\tBaseThreadInitThunk [0x76C3FCC9+25]\n",
      "\tRtlGetAppContainerNamedObjectPath [0x77417C5E+286]\n",
      "\tRtlGetAppContainerNamedObjectPath [0x77417C2E+238]\n",
      "\n",
      "at alert Message: no such alert\n",
      "  (Session info: chrome=124.0.6367.63)\n",
      "Stacktrace:\n",
      "\tGetHandleVerifier [0x011DC113+48259]\n",
      "\t(No symbol) [0x0116CA41]\n",
      "\t(No symbol) [0x010608A3]\n",
      "\t(No symbol) [0x01052C44]\n",
      "\t(No symbol) [0x0107CEF9]\n",
      "\t(No symbol) [0x010C0E34]\n",
      "\t(No symbol) [0x0107CD51]\n",
      "\t(No symbol) [0x010C0B36]\n",
      "\t(No symbol) [0x0109570D]\n",
      "\t(No symbol) [0x010962CD]\n",
      "\tGetHandleVerifier [0x01496533+2908323]\n",
      "\tGetHandleVerifier [0x014D3B4B+3159739]\n",
      "\tGetHandleVerifier [0x0127505B+674763]\n",
      "\tGetHandleVerifier [0x0127B21C+699788]\n",
      "\t(No symbol) [0x01176244]\n",
      "\t(No symbol) [0x01172298]\n",
      "\t(No symbol) [0x0117242C]\n",
      "\t(No symbol) [0x01164BB0]\n",
      "\tBaseThreadInitThunk [0x76C3FCC9+25]\n",
      "\tRtlGetAppContainerNamedObjectPath [0x77417C5E+286]\n",
      "\tRtlGetAppContainerNamedObjectPath [0x77417C2E+238]\n",
      "\n",
      "💬 클릭\n",
      "✅ 클릭\n",
      "💬 클릭\n",
      "✅ 클릭\n",
      "💬 클릭\n",
      "✅ 클릭\n",
      "💬 클릭\n",
      "✅ 클릭\n",
      "💬 클릭\n",
      "✅ 클릭\n",
      "💬 클릭\n",
      "✅ 클릭\n",
      "💬 클릭\n",
      "✅ 클릭\n",
      "💬 클릭\n",
      "✅ 클릭\n",
      "글생성완료 파스타 소스 소비기한\n",
      "at alert Message: no such alert\n",
      "  (Session info: chrome=124.0.6367.63)\n",
      "Stacktrace:\n",
      "\tGetHandleVerifier [0x011DC113+48259]\n",
      "\t(No symbol) [0x0116CA41]\n",
      "\t(No symbol) [0x010608A3]\n",
      "\t(No symbol) [0x01052C44]\n",
      "\t(No symbol) [0x0107CEF9]\n",
      "\t(No symbol) [0x010C0E34]\n",
      "\t(No symbol) [0x0107CD51]\n",
      "\t(No symbol) [0x010C0B36]\n",
      "\t(No symbol) [0x0109570D]\n",
      "\t(No symbol) [0x010962CD]\n",
      "\tGetHandleVerifier [0x01496533+2908323]\n",
      "\tGetHandleVerifier [0x014D3B4B+3159739]\n",
      "\tGetHandleVerifier [0x0127505B+674763]\n",
      "\tGetHandleVerifier [0x0127B21C+699788]\n",
      "\t(No symbol) [0x01176244]\n",
      "\t(No symbol) [0x01172298]\n",
      "\t(No symbol) [0x0117242C]\n",
      "\t(No symbol) [0x01164BB0]\n",
      "\tBaseThreadInitThunk [0x76C3FCC9+25]\n",
      "\tRtlGetAppContainerNamedObjectPath [0x77417C5E+286]\n",
      "\tRtlGetAppContainerNamedObjectPath [0x77417C2E+238]\n",
      "\n",
      "at alert Message: no such alert\n",
      "  (Session info: chrome=124.0.6367.63)\n",
      "Stacktrace:\n",
      "\tGetHandleVerifier [0x011DC113+48259]\n",
      "\t(No symbol) [0x0116CA41]\n",
      "\t(No symbol) [0x010608A3]\n",
      "\t(No symbol) [0x01052C44]\n",
      "\t(No symbol) [0x0107CEF9]\n",
      "\t(No symbol) [0x010C0E34]\n",
      "\t(No symbol) [0x0107CD51]\n",
      "\t(No symbol) [0x010C0B36]\n",
      "\t(No symbol) [0x0109570D]\n",
      "\t(No symbol) [0x010962CD]\n",
      "\tGetHandleVerifier [0x01496533+2908323]\n",
      "\tGetHandleVerifier [0x014D3B4B+3159739]\n",
      "\tGetHandleVerifier [0x0127505B+674763]\n",
      "\tGetHandleVerifier [0x0127B21C+699788]\n",
      "\t(No symbol) [0x01176244]\n",
      "\t(No symbol) [0x01172298]\n",
      "\t(No symbol) [0x0117242C]\n",
      "\t(No symbol) [0x01164BB0]\n",
      "\tBaseThreadInitThunk [0x76C3FCC9+25]\n",
      "\tRtlGetAppContainerNamedObjectPath [0x77417C5E+286]\n",
      "\tRtlGetAppContainerNamedObjectPath [0x77417C2E+238]\n",
      "\n",
      "💬 클릭\n",
      "✅ 클릭\n",
      "💬 클릭\n",
      "✅ 클릭\n",
      "💬 클릭\n",
      "✅ 클릭\n",
      "💬 클릭\n",
      "✅ 클릭\n",
      "💬 클릭\n",
      "✅ 클릭\n",
      "💬 클릭\n",
      "✅ 클릭\n",
      "💬 클릭\n",
      "✅ 클릭\n",
      "💬 클릭\n",
      "✅ 클릭\n",
      "글생성완료 파스타 소스 소비기한\n"
     ]
    }
   ],
   "source": [
    "try :\n",
    "    uploader.tistory_upload(\n",
    "        titles = upload_titles,\n",
    "        contents = upload_contents,\n",
    "        # uploading_day 미 지정 시 내일 날짜 기준으로 업로드 ,\n",
    "        uploading_start_hour = 2, \n",
    "        uploading_minute_term = 120) \n",
    "finally :\n",
    "    uploader.driver.quit()\n"
   ]
  },
  {
   "cell_type": "code",
   "execution_count": 6,
   "metadata": {},
   "outputs": [],
   "source": [
    "uploader.driver = uploader.turn_on_selenium(is_headless=False)"
   ]
  },
  {
   "cell_type": "code",
   "execution_count": 8,
   "metadata": {},
   "outputs": [],
   "source": [
    "# 업로드가 완료되었다면 파일을 '업로드완료'폴더로 옮긴다.\n",
    "for filename in filenames :\n",
    "    file_manager.moveComplete(filename)"
   ]
  }
 ],
 "metadata": {
  "kernelspec": {
   "display_name": "venv",
   "language": "python",
   "name": "python3"
  },
  "language_info": {
   "codemirror_mode": {
    "name": "ipython",
    "version": 3
   },
   "file_extension": ".py",
   "mimetype": "text/x-python",
   "name": "python",
   "nbconvert_exporter": "python",
   "pygments_lexer": "ipython3",
   "version": "3.11.5"
  }
 },
 "nbformat": 4,
 "nbformat_minor": 2
}
