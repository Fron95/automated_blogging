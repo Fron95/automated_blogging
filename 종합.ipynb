{
 "cells": [
  {
   "cell_type": "code",
   "execution_count": null,
   "metadata": {},
   "outputs": [],
   "source": [
    "# ✅todo : 1. colab 용으로 requirements.txt을 하나 더 만든다.\n",
    "# ✅ todo : 1. turnonselenium 내용을 colab용으로 추가한다.\n",
    "# ✅todo : 1. blogger를 모듈화해서 사용하기 쉽게 만든다.\n",
    "# ✅todo : 1. 쓰레딩 시키는 것도 함수화한다.\n",
    "# ✅todo : 1. 코랩은 쓰레딩 몇개를 시키는게 적당한지를 확인한다 = 2개 (2코어라서)\n",
    "# ✅todo : 1. 코랩크롤링 시에, user-agent 사용하도록 한다.\n",
    "# todo : duckduckgo 관련자료 서칭 대체품 찾기\n",
    "# todo : 쉬는 시간 가지도록 만들기\n",
    "# todo : 만들어진 컨텐츠들 중에 document 없는 경우 찾기\n",
    "\n",
    "\n",
    "# ✅todo : 1딸깍 테스트\n",
    "# todo : 1딸깍 반복문에 쉬는 시간 부여하기\n",
    "# todo : 2딸깍 테스트\n",
    "# todo : 2딸깍 반복문에 쉬는 시간 부여하기\n",
    "# todo : 3딸깍 테스트\n",
    "# todo : 3딸깍 반복문에 쉬는 시간 부여하기\n",
    "\n",
    "# ✅todo : 1딸깍 테스트 - colab\n",
    "# todo : 2딸깍 테스트 - colab\n",
    "# todo : 3딸깍 테스트 - colab\n",
    "\n",
    "# todo : 추가 키워드 수집 작업 시 기존 csv를 덮어쓸지 말지를 결정하도록 해주세요. - 현재는 덮어씌우지 않는 것으로 되어있음.\n",
    "# todo : 추가 키워드 수집 작업 시 기존 suitable keywords 리스트를 고려하도록 해주세요. (있으면 재반복해서 수행하지는 않는 것으로.)\n",
    "\n",
    "# todo : 업로드가 성공적으로 수행되면은 옮기는 것으로 변경하세요.\n",
    "# todo : 노출순위 따질 때 1) 한번정도는 아래로 스크롤해서 가져오기 2) 네이버 블로그도 순위에 포함시키기.\n",
    "# todo : 글 생성에 사용한 키워드 저장하고 유사키워드 문지방수준  좀 줄여야 할 것 같아. 너무 관계없는 애들도 같이 묶이는 것 같어.\n",
    "# todo : 블로그에 올릴 때, 성공한 글에 대해서만 uploaded로 옮기도록 해야할 것 같어.\n",
    "# todo : suitable check를 할 때, 기존 screened_keywords에 있는 키워드들은 제외하도록 해야할 것 같아. 그러기 위해서는 키워드 수집 시에 collected_keywords에다가 suitability_checked 여부를 표시를 해두어야 할 것 같습니다.\n"
   ]
  },
  {
   "cell_type": "markdown",
   "metadata": {},
   "source": [
    "# 기본실행"
   ]
  },
  {
   "cell_type": "code",
   "execution_count": 1,
   "metadata": {},
   "outputs": [
    {
     "name": "stdout",
     "output_type": "stream",
     "text": [
      "🌐 now loading : statifi.\n",
      "기존에 생성된 폴더가 존재합니다.\n",
      "기존에 생성된 폴더가 존재합니다.\n",
      "기존에 생성된 폴더가 존재합니다.\n",
      "기존에 생성된 폴더가 존재합니다.\n",
      "✅ 기존 벡터스토어 로드되었습니다.\n",
      "✅ 기존 벡터스토어 로드되었습니다.\n",
      "True\n",
      "True\n",
      "Data loaded from JSON\n",
      "🌐 now loading : kindmom.\n",
      "기존에 생성된 폴더가 존재합니다.\n",
      "기존에 생성된 폴더가 존재합니다.\n",
      "기존에 생성된 폴더가 존재합니다.\n",
      "기존에 생성된 폴더가 존재합니다.\n",
      "✅ 기존 벡터스토어 로드되었습니다.\n",
      "✅ 기존 벡터스토어 로드되었습니다.\n",
      "True\n",
      "True\n",
      "Data loaded from JSON\n",
      "🌐 now loading : sweetkiwi.\n",
      "기존에 생성된 폴더가 존재합니다.\n",
      "기존에 생성된 폴더가 존재합니다.\n",
      "기존에 생성된 폴더가 존재합니다.\n",
      "기존에 생성된 폴더가 존재합니다.\n",
      "✅ 기존 벡터스토어 로드되었습니다.\n",
      "✅ 기존 벡터스토어 로드되었습니다.\n",
      "True\n",
      "True\n",
      "Data loaded from JSON\n",
      "🌐 now loading : takuz.\n",
      "기존에 생성된 폴더가 존재합니다.\n",
      "기존에 생성된 폴더가 존재합니다.\n",
      "기존에 생성된 폴더가 존재합니다.\n",
      "기존에 생성된 폴더가 존재합니다.\n",
      "✅ 기존 벡터스토어 로드되었습니다.\n",
      "✅ 기존 벡터스토어 로드되었습니다.\n",
      "True\n",
      "True\n",
      "Data loaded from JSON\n",
      "🌐 now loading : morningbbobbo.\n",
      "기존에 생성된 폴더가 존재합니다.\n",
      "기존에 생성된 폴더가 존재합니다.\n",
      "기존에 생성된 폴더가 존재합니다.\n",
      "기존에 생성된 폴더가 존재합니다.\n",
      "✅ 기존 벡터스토어 로드되었습니다.\n",
      "✅ 기존 벡터스토어 로드되었습니다.\n",
      "True\n",
      "True\n",
      "Data loaded from JSON\n"
     ]
    }
   ],
   "source": [
    "# 기본적인 환경설정을 합니다.\n",
    "isHeadless = True\n",
    "verbose = True\n",
    "\n",
    "\n",
    "from module.Crawler import Crawler\n",
    "from module.File_manager import File_manager\n",
    "from module.Blogger import Blogger\n",
    "from module.AIAgent import AIAgent\n",
    "from module.Uploader import Uploader\n",
    "\n",
    "# 경고를 무시합니다.\n",
    "import warnings\n",
    "warnings.filterwarnings(\"ignore\")\n",
    "\n",
    "# 환경변수 저장 (.env) 확인\n",
    "from dotenv import load_dotenv\n",
    "import os\n",
    "\n",
    "load_dotenv()\n",
    "\n",
    "\n",
    "verbose = True\n",
    "isHeadless = True\n",
    "\n",
    "# # tester용 객체들을 만듭니다.\n",
    "# verbose = True\n",
    "# isHeadless = True\n",
    "# crawler_tester = Crawler(isHeadless = isHeadless, verbose = verbose)\n",
    "# file_manager_tester = File_manager(blogname='tester', verbose=verbose)\n",
    "# aiagent_tester = AIAgent(blogname='tester', verbose = verbose)\n",
    "# uploader_tester = Uploader(blogname='tester', verbose = verbose)\n",
    "# blogger_tester = Blogger(blogname='tester', verbose = verbose, isHeadless = isHeadless)\n",
    "\n",
    "def thread_bloggers(func, bloggers, **kwargs):\n",
    "    import threading\n",
    "\n",
    "    threads = []\n",
    "    for blogger in bloggers.values():\n",
    "        # args 튜플에 blogger를 포함시키고, kwargs 딕셔너리를 threading.Thread에 전달\n",
    "        thread = threading.Thread(target=func, args=(blogger,), kwargs=kwargs)\n",
    "        threads.append(thread)\n",
    "        thread.start()\n",
    "    for thread in threads:\n",
    "        thread.join()\n",
    "def create_partial_bloggers(total_bloggers:dict, selected_bloggers:list) :\n",
    "  partial_bloggers = {}\n",
    "  for blogger in selected_bloggers :\n",
    "    partial_bloggers[blogger] = total_bloggers[blogger]\n",
    "  return partial_bloggers\n",
    "\n",
    "\n",
    "\n",
    "# blogger 클래스를 호출합니다.\n",
    "from module.Blogger import Blogger\n",
    "blog_names = ['statifi', 'kindmom', 'sweetkiwi', 'takuz', 'morningbbobbo']\n",
    "bloggers = {}\n",
    "for blogname in blog_names:\n",
    "    print(f'🌐 now loading : {blogname}.')\n",
    "    bloggers[blogname] = Blogger(blogname = blogname, verbose = verbose, isHeadless = isHeadless)\n",
    "\n",
    "\n"
   ]
  },
  {
   "cell_type": "markdown",
   "metadata": {},
   "source": [
    "# 클릭1 : 키워드 수집"
   ]
  },
  {
   "cell_type": "markdown",
   "metadata": {},
   "source": [
    "쓰레딩\n"
   ]
  },
  {
   "cell_type": "code",
   "execution_count": null,
   "metadata": {},
   "outputs": [],
   "source": [
    "# 환경설정\n",
    "\n",
    "# 깊이 정의\n",
    "depth = int(input('키워드를 수집할 깊이를 입력하세요. (최대 3 이상은 비추천) :'))\n",
    "\n",
    "# 단어 정의\n",
    "recommended = {\n",
    "    \"건강과 웰빙\": [\"요가\", \"마인드풀니스\", \"웰니스 리트릿\", \"건강한 간식\", \"명상\", \"필라테스\", \"건강한 식단\", \"건강 추세\", \"힐링\", \"건강 검진\"],\n",
    "    \"기업과 기업가\": [\"기업가 정신\", \"크라우드펀딩\", \"비즈니스 모델 혁신\", \"기술 벤처\", \"벤처 투자\", \"스타트업 생태계\"],\n",
    "    \"재택 근무 및 자기 계발 블로그\": [\"재택 근무 팁\", \"자기계발 책 추천\", \"온라인 학습 플랫폼\", \"시간 관리 기술\", \"생산성 향상\", \"사이드 허슬\", \"재택 근무 환경\", \"프리랜서 가이드\", \"자기 관리\", \"모티베이션 증진\"],\n",
    "    \"건강 및 웰니스 블로그\": [\"건강한 식단\", \"정신 건강\", \"스트레스 관리\", \"홈 피트니스\", \"명상 기법\", \"웰니스 라이프스타일\", \"영양 정보\", \"건강 검진 가이드\", \"체중 관리\", \"건강한 습관\"],\n",
    "    \n",
    "}\n",
    "\n",
    "subjects_n_words_for_statifi = {}\n",
    "subjects_n_words_for_kindmom = {}\n",
    "subjects_n_words_for_sweetkiwi = {}\n",
    "subjects_n_words_for_takuz = {}\n",
    "subjects_n_words_for_morningbbobbo = {}\n",
    "\n",
    "# 각 블로거의 주제 및 키워드 데이터\n",
    "\n",
    "total_subjects_n_words = {\n",
    "    'statifi': subjects_n_words_for_statifi,\n",
    "    'kindmom': subjects_n_words_for_kindmom,\n",
    "    'sweetkiwi': subjects_n_words_for_sweetkiwi,\n",
    "    'takuz': subjects_n_words_for_takuz,\n",
    "    'morningbbobbo': subjects_n_words_for_morningbbobbo\n",
    "}\n",
    "\n",
    "\n",
    "\n",
    "# 함수정의\n",
    "def collect_keywords_for_blogger(blogger, total_subjects_n_words, depth, save):\n",
    "    subjects_n_words = total_subjects_n_words[blogger.blogname]\n",
    "    blogger.collect_keywords(subjects_n_words=subjects_n_words, depth=depth, save=save)\n",
    "\n",
    "\n",
    "# 실행\n",
    "thread_bloggers(\n",
    "    func=collect_keywords_for_blogger,\n",
    "    bloggers=bloggers,\n",
    "    total_subjects_n_words=total_subjects_n_words,\n",
    "    depth=depth,\n",
    "    save=True\n",
    ")"
   ]
  },
  {
   "cell_type": "markdown",
   "metadata": {},
   "source": [
    "tester 테스트"
   ]
  },
  {
   "cell_type": "code",
   "execution_count": null,
   "metadata": {},
   "outputs": [],
   "source": [
    "# 단일 블로거로 테스트\n",
    "\n",
    "test_blog = 'tester'\n",
    "total_subjects_n_words = {test_blog : {'파이어족' : ['파이어족']} }\n",
    "depth = 1\n",
    "\n",
    "# 함수정의\n",
    "def collect_keywords_for_blogger(blogger, total_subjects_n_words, depth, save):\n",
    "    subjects_n_words = total_subjects_n_words[blogger.blogname]\n",
    "    blogger.collect_keywords(subjects_n_words=subjects_n_words, depth=depth, save=save)\n",
    "\n",
    "\n",
    "collect_keywords_for_blogger(blogger_tester, total_subjects_n_words, depth, save=True)\n",
    "\n",
    "vectorstore_stored_keywords = blogger_tester.keyword_ai.vectorstore_list.index.to_list()\n",
    "if len(vectorstore_stored_keywords) > 0 :\n",
    "    print('🌐 키워드 수집이 완료되었습니다.')    \n",
    "    blogger_tester.keyword_ai.vectorstore_clear()"
   ]
  },
  {
   "cell_type": "markdown",
   "metadata": {},
   "source": [
    "# 클릭 2 : 포스팅 생성"
   ]
  },
  {
   "cell_type": "markdown",
   "metadata": {},
   "source": [
    "순차진행"
   ]
  },
  {
   "cell_type": "code",
   "execution_count": 2,
   "metadata": {},
   "outputs": [
    {
     "name": "stdout",
     "output_type": "stream",
     "text": [
      "Starting thread for statifi\n",
      "🌐 글을 작성할 키워드를 가지고 오는 중... \n",
      "🌐 글 관련 자료 수집 중 ... \n",
      "✅ 벡토어스토어 내 새 문서 추가 완료\n",
      "🌐 글 작성 중 ... \n",
      "list index out of range\n",
      "🌐 글을 작성할 키워드를 가지고 오는 중... \n",
      "🌐 글 관련 자료 수집 중 ... \n"
     ]
    },
    {
     "ename": "KeyboardInterrupt",
     "evalue": "",
     "output_type": "error",
     "traceback": [
      "\u001b[1;31m---------------------------------------------------------------------------\u001b[0m",
      "\u001b[1;31mKeyboardInterrupt\u001b[0m                         Traceback (most recent call last)",
      "Cell \u001b[1;32mIn[2], line 10\u001b[0m\n\u001b[0;32m      7\u001b[0m     blogger\u001b[38;5;241m.\u001b[39mcreate_contents(num_contents_creation)\n\u001b[0;32m      9\u001b[0m \u001b[38;5;28;01mfor\u001b[39;00m blogname \u001b[38;5;129;01min\u001b[39;00m blog_names :\n\u001b[1;32m---> 10\u001b[0m     \u001b[43mcreate_contents\u001b[49m\u001b[43m(\u001b[49m\u001b[43mbloggers\u001b[49m\u001b[43m[\u001b[49m\u001b[43mblogname\u001b[49m\u001b[43m]\u001b[49m\u001b[43m,\u001b[49m\u001b[43m \u001b[49m\u001b[43mnum_contents_creation\u001b[49m\u001b[38;5;241;43m=\u001b[39;49m\u001b[43mnum_contents_creation\u001b[49m\u001b[43m)\u001b[49m\n",
      "Cell \u001b[1;32mIn[2], line 7\u001b[0m, in \u001b[0;36mcreate_contents\u001b[1;34m(blogger, num_contents_creation)\u001b[0m\n\u001b[0;32m      5\u001b[0m \u001b[38;5;28;01mdef\u001b[39;00m \u001b[38;5;21mcreate_contents\u001b[39m(blogger, num_contents_creation\u001b[38;5;241m=\u001b[39m\u001b[38;5;241m5\u001b[39m):\n\u001b[0;32m      6\u001b[0m     \u001b[38;5;28mprint\u001b[39m(\u001b[38;5;124mf\u001b[39m\u001b[38;5;124m\"\u001b[39m\u001b[38;5;124mStarting thread for \u001b[39m\u001b[38;5;132;01m{\u001b[39;00mblogger\u001b[38;5;241m.\u001b[39mblogname\u001b[38;5;132;01m}\u001b[39;00m\u001b[38;5;124m\"\u001b[39m)\n\u001b[1;32m----> 7\u001b[0m     \u001b[43mblogger\u001b[49m\u001b[38;5;241;43m.\u001b[39;49m\u001b[43mcreate_contents\u001b[49m\u001b[43m(\u001b[49m\u001b[43mnum_contents_creation\u001b[49m\u001b[43m)\u001b[49m\n",
      "File \u001b[1;32mc:\\hellodear\\tistory_ebook\\module\\Blogger.py:244\u001b[0m, in \u001b[0;36mBlogger.create_contents\u001b[1;34m(self, num_contents_creation, keyword_score_threshold, kewyord_retriever_k, num_topic, contents_lan, num_images, documents_score_threshold, documents_retriever_k)\u001b[0m\n\u001b[0;32m    242\u001b[0m \u001b[38;5;28;01mif\u001b[39;00m \u001b[38;5;28mself\u001b[39m\u001b[38;5;241m.\u001b[39mverbose : \u001b[38;5;28mprint\u001b[39m(\u001b[38;5;124mf\u001b[39m\u001b[38;5;124m\"\u001b[39m\u001b[38;5;124m🌐 글 관련 자료 수집 중 ... \u001b[39m\u001b[38;5;124m\"\u001b[39m)\n\u001b[0;32m    243\u001b[0m \u001b[38;5;28;01mfor\u001b[39;00m topic \u001b[38;5;129;01min\u001b[39;00m \u001b[38;5;28mself\u001b[39m\u001b[38;5;241m.\u001b[39mposting_ai\u001b[38;5;241m.\u001b[39mresults[\u001b[38;5;124m'\u001b[39m\u001b[38;5;124mtopics\u001b[39m\u001b[38;5;124m'\u001b[39m] :\n\u001b[1;32m--> 244\u001b[0m     documents, hrefs \u001b[38;5;241m=\u001b[39m \u001b[38;5;28;43mself\u001b[39;49m\u001b[38;5;241;43m.\u001b[39;49m\u001b[43mcrawler\u001b[49m\u001b[38;5;241;43m.\u001b[39;49m\u001b[43mddgsearch_reducing\u001b[49m\u001b[43m(\u001b[49m\u001b[43mtopic\u001b[49m\u001b[43m)\u001b[49m    \n\u001b[0;32m    245\u001b[0m     \u001b[38;5;28mself\u001b[39m\u001b[38;5;241m.\u001b[39mposting_ai\u001b[38;5;241m.\u001b[39mresults[\u001b[38;5;124m'\u001b[39m\u001b[38;5;124mdocuments_urls\u001b[39m\u001b[38;5;124m'\u001b[39m]\u001b[38;5;241m.\u001b[39mappend(documents)\n\u001b[0;32m    246\u001b[0m     \u001b[38;5;28mself\u001b[39m\u001b[38;5;241m.\u001b[39mposting_ai\u001b[38;5;241m.\u001b[39mresults[\u001b[38;5;124m'\u001b[39m\u001b[38;5;124mdocuments\u001b[39m\u001b[38;5;124m'\u001b[39m]\u001b[38;5;241m.\u001b[39mappend(hrefs)\n",
      "File \u001b[1;32mc:\\hellodear\\tistory_ebook\\module\\Crawler.py:465\u001b[0m, in \u001b[0;36mCrawler.ddgsearch_reducing\u001b[1;34m(self, keyword, how_many_retrieve)\u001b[0m\n\u001b[0;32m    463\u001b[0m \u001b[38;5;28;01mwhile\u001b[39;00m clear \u001b[38;5;241m<\u001b[39m how_many_retrieve \u001b[38;5;129;01mand\u001b[39;00m idx \u001b[38;5;241m<\u001b[39m \u001b[38;5;28mlen\u001b[39m(urls):\n\u001b[0;32m    464\u001b[0m     url \u001b[38;5;241m=\u001b[39m urls[idx]\n\u001b[1;32m--> 465\u001b[0m     content \u001b[38;5;241m=\u001b[39m \u001b[38;5;28;43mself\u001b[39;49m\u001b[38;5;241;43m.\u001b[39;49m\u001b[43mget_text_from_webpage\u001b[49m\u001b[43m(\u001b[49m\u001b[43murl\u001b[49m\u001b[43m,\u001b[49m\u001b[43m \u001b[49m\u001b[38;5;28;43mself\u001b[39;49m\u001b[38;5;241;43m.\u001b[39;49m\u001b[43mdriver\u001b[49m\u001b[43m)\u001b[49m \u001b[38;5;66;03m# 해당 링크로부터 본문을 수집합니다.\u001b[39;00m\n\u001b[0;32m    466\u001b[0m     \u001b[38;5;28;01mif\u001b[39;00m content:\n\u001b[0;32m    467\u001b[0m         contents\u001b[38;5;241m.\u001b[39mappend(\u001b[38;5;28mself\u001b[39m\u001b[38;5;241m.\u001b[39mclean_blog_content(content)) \u001b[38;5;66;03m# 수집한 본문을 정제합니다.\u001b[39;00m\n",
      "File \u001b[1;32mc:\\hellodear\\tistory_ebook\\module\\Crawler.py:431\u001b[0m, in \u001b[0;36mCrawler.get_text_from_webpage\u001b[1;34m(self, url, driver)\u001b[0m\n\u001b[0;32m    429\u001b[0m \u001b[38;5;250m\u001b[39m\u001b[38;5;124;03m\"\"\"웹페이지에서 텍스트를 수집합니다.\"\"\"\u001b[39;00m\n\u001b[0;32m    430\u001b[0m \u001b[38;5;28;01mtry\u001b[39;00m:\n\u001b[1;32m--> 431\u001b[0m     response \u001b[38;5;241m=\u001b[39m \u001b[43mrequests\u001b[49m\u001b[38;5;241;43m.\u001b[39;49m\u001b[43mget\u001b[49m\u001b[43m(\u001b[49m\u001b[43murl\u001b[49m\u001b[43m)\u001b[49m\n\u001b[0;32m    432\u001b[0m     response\u001b[38;5;241m.\u001b[39mencoding \u001b[38;5;241m=\u001b[39m \u001b[38;5;124m'\u001b[39m\u001b[38;5;124mutf-8\u001b[39m\u001b[38;5;124m'\u001b[39m\n\u001b[0;32m    434\u001b[0m     \u001b[38;5;28;01mif\u001b[39;00m response\u001b[38;5;241m.\u001b[39mstatus_code \u001b[38;5;241m==\u001b[39m \u001b[38;5;241m200\u001b[39m: \u001b[38;5;66;03m# 정상적으로 응답이 왔을 때\u001b[39;00m\n",
      "File \u001b[1;32mc:\\hellodear\\tistory_ebook\\venv\\Lib\\site-packages\\requests\\api.py:73\u001b[0m, in \u001b[0;36mget\u001b[1;34m(url, params, **kwargs)\u001b[0m\n\u001b[0;32m     62\u001b[0m \u001b[38;5;28;01mdef\u001b[39;00m \u001b[38;5;21mget\u001b[39m(url, params\u001b[38;5;241m=\u001b[39m\u001b[38;5;28;01mNone\u001b[39;00m, \u001b[38;5;241m*\u001b[39m\u001b[38;5;241m*\u001b[39mkwargs):\n\u001b[0;32m     63\u001b[0m \u001b[38;5;250m    \u001b[39m\u001b[38;5;124mr\u001b[39m\u001b[38;5;124;03m\"\"\"Sends a GET request.\u001b[39;00m\n\u001b[0;32m     64\u001b[0m \n\u001b[0;32m     65\u001b[0m \u001b[38;5;124;03m    :param url: URL for the new :class:`Request` object.\u001b[39;00m\n\u001b[1;32m   (...)\u001b[0m\n\u001b[0;32m     70\u001b[0m \u001b[38;5;124;03m    :rtype: requests.Response\u001b[39;00m\n\u001b[0;32m     71\u001b[0m \u001b[38;5;124;03m    \"\"\"\u001b[39;00m\n\u001b[1;32m---> 73\u001b[0m     \u001b[38;5;28;01mreturn\u001b[39;00m \u001b[43mrequest\u001b[49m\u001b[43m(\u001b[49m\u001b[38;5;124;43m\"\u001b[39;49m\u001b[38;5;124;43mget\u001b[39;49m\u001b[38;5;124;43m\"\u001b[39;49m\u001b[43m,\u001b[49m\u001b[43m \u001b[49m\u001b[43murl\u001b[49m\u001b[43m,\u001b[49m\u001b[43m \u001b[49m\u001b[43mparams\u001b[49m\u001b[38;5;241;43m=\u001b[39;49m\u001b[43mparams\u001b[49m\u001b[43m,\u001b[49m\u001b[43m \u001b[49m\u001b[38;5;241;43m*\u001b[39;49m\u001b[38;5;241;43m*\u001b[39;49m\u001b[43mkwargs\u001b[49m\u001b[43m)\u001b[49m\n",
      "File \u001b[1;32mc:\\hellodear\\tistory_ebook\\venv\\Lib\\site-packages\\requests\\api.py:59\u001b[0m, in \u001b[0;36mrequest\u001b[1;34m(method, url, **kwargs)\u001b[0m\n\u001b[0;32m     55\u001b[0m \u001b[38;5;66;03m# By using the 'with' statement we are sure the session is closed, thus we\u001b[39;00m\n\u001b[0;32m     56\u001b[0m \u001b[38;5;66;03m# avoid leaving sockets open which can trigger a ResourceWarning in some\u001b[39;00m\n\u001b[0;32m     57\u001b[0m \u001b[38;5;66;03m# cases, and look like a memory leak in others.\u001b[39;00m\n\u001b[0;32m     58\u001b[0m \u001b[38;5;28;01mwith\u001b[39;00m sessions\u001b[38;5;241m.\u001b[39mSession() \u001b[38;5;28;01mas\u001b[39;00m session:\n\u001b[1;32m---> 59\u001b[0m     \u001b[38;5;28;01mreturn\u001b[39;00m \u001b[43msession\u001b[49m\u001b[38;5;241;43m.\u001b[39;49m\u001b[43mrequest\u001b[49m\u001b[43m(\u001b[49m\u001b[43mmethod\u001b[49m\u001b[38;5;241;43m=\u001b[39;49m\u001b[43mmethod\u001b[49m\u001b[43m,\u001b[49m\u001b[43m \u001b[49m\u001b[43murl\u001b[49m\u001b[38;5;241;43m=\u001b[39;49m\u001b[43murl\u001b[49m\u001b[43m,\u001b[49m\u001b[43m \u001b[49m\u001b[38;5;241;43m*\u001b[39;49m\u001b[38;5;241;43m*\u001b[39;49m\u001b[43mkwargs\u001b[49m\u001b[43m)\u001b[49m\n",
      "File \u001b[1;32mc:\\hellodear\\tistory_ebook\\venv\\Lib\\site-packages\\requests\\sessions.py:589\u001b[0m, in \u001b[0;36mSession.request\u001b[1;34m(self, method, url, params, data, headers, cookies, files, auth, timeout, allow_redirects, proxies, hooks, stream, verify, cert, json)\u001b[0m\n\u001b[0;32m    584\u001b[0m send_kwargs \u001b[38;5;241m=\u001b[39m {\n\u001b[0;32m    585\u001b[0m     \u001b[38;5;124m\"\u001b[39m\u001b[38;5;124mtimeout\u001b[39m\u001b[38;5;124m\"\u001b[39m: timeout,\n\u001b[0;32m    586\u001b[0m     \u001b[38;5;124m\"\u001b[39m\u001b[38;5;124mallow_redirects\u001b[39m\u001b[38;5;124m\"\u001b[39m: allow_redirects,\n\u001b[0;32m    587\u001b[0m }\n\u001b[0;32m    588\u001b[0m send_kwargs\u001b[38;5;241m.\u001b[39mupdate(settings)\n\u001b[1;32m--> 589\u001b[0m resp \u001b[38;5;241m=\u001b[39m \u001b[38;5;28;43mself\u001b[39;49m\u001b[38;5;241;43m.\u001b[39;49m\u001b[43msend\u001b[49m\u001b[43m(\u001b[49m\u001b[43mprep\u001b[49m\u001b[43m,\u001b[49m\u001b[43m \u001b[49m\u001b[38;5;241;43m*\u001b[39;49m\u001b[38;5;241;43m*\u001b[39;49m\u001b[43msend_kwargs\u001b[49m\u001b[43m)\u001b[49m\n\u001b[0;32m    591\u001b[0m \u001b[38;5;28;01mreturn\u001b[39;00m resp\n",
      "File \u001b[1;32mc:\\hellodear\\tistory_ebook\\venv\\Lib\\site-packages\\requests\\sessions.py:703\u001b[0m, in \u001b[0;36mSession.send\u001b[1;34m(self, request, **kwargs)\u001b[0m\n\u001b[0;32m    700\u001b[0m start \u001b[38;5;241m=\u001b[39m preferred_clock()\n\u001b[0;32m    702\u001b[0m \u001b[38;5;66;03m# Send the request\u001b[39;00m\n\u001b[1;32m--> 703\u001b[0m r \u001b[38;5;241m=\u001b[39m \u001b[43madapter\u001b[49m\u001b[38;5;241;43m.\u001b[39;49m\u001b[43msend\u001b[49m\u001b[43m(\u001b[49m\u001b[43mrequest\u001b[49m\u001b[43m,\u001b[49m\u001b[43m \u001b[49m\u001b[38;5;241;43m*\u001b[39;49m\u001b[38;5;241;43m*\u001b[39;49m\u001b[43mkwargs\u001b[49m\u001b[43m)\u001b[49m\n\u001b[0;32m    705\u001b[0m \u001b[38;5;66;03m# Total elapsed time of the request (approximately)\u001b[39;00m\n\u001b[0;32m    706\u001b[0m elapsed \u001b[38;5;241m=\u001b[39m preferred_clock() \u001b[38;5;241m-\u001b[39m start\n",
      "File \u001b[1;32mc:\\hellodear\\tistory_ebook\\venv\\Lib\\site-packages\\requests\\adapters.py:486\u001b[0m, in \u001b[0;36mHTTPAdapter.send\u001b[1;34m(self, request, stream, timeout, verify, cert, proxies)\u001b[0m\n\u001b[0;32m    483\u001b[0m     timeout \u001b[38;5;241m=\u001b[39m TimeoutSauce(connect\u001b[38;5;241m=\u001b[39mtimeout, read\u001b[38;5;241m=\u001b[39mtimeout)\n\u001b[0;32m    485\u001b[0m \u001b[38;5;28;01mtry\u001b[39;00m:\n\u001b[1;32m--> 486\u001b[0m     resp \u001b[38;5;241m=\u001b[39m \u001b[43mconn\u001b[49m\u001b[38;5;241;43m.\u001b[39;49m\u001b[43murlopen\u001b[49m\u001b[43m(\u001b[49m\n\u001b[0;32m    487\u001b[0m \u001b[43m        \u001b[49m\u001b[43mmethod\u001b[49m\u001b[38;5;241;43m=\u001b[39;49m\u001b[43mrequest\u001b[49m\u001b[38;5;241;43m.\u001b[39;49m\u001b[43mmethod\u001b[49m\u001b[43m,\u001b[49m\n\u001b[0;32m    488\u001b[0m \u001b[43m        \u001b[49m\u001b[43murl\u001b[49m\u001b[38;5;241;43m=\u001b[39;49m\u001b[43murl\u001b[49m\u001b[43m,\u001b[49m\n\u001b[0;32m    489\u001b[0m \u001b[43m        \u001b[49m\u001b[43mbody\u001b[49m\u001b[38;5;241;43m=\u001b[39;49m\u001b[43mrequest\u001b[49m\u001b[38;5;241;43m.\u001b[39;49m\u001b[43mbody\u001b[49m\u001b[43m,\u001b[49m\n\u001b[0;32m    490\u001b[0m \u001b[43m        \u001b[49m\u001b[43mheaders\u001b[49m\u001b[38;5;241;43m=\u001b[39;49m\u001b[43mrequest\u001b[49m\u001b[38;5;241;43m.\u001b[39;49m\u001b[43mheaders\u001b[49m\u001b[43m,\u001b[49m\n\u001b[0;32m    491\u001b[0m \u001b[43m        \u001b[49m\u001b[43mredirect\u001b[49m\u001b[38;5;241;43m=\u001b[39;49m\u001b[38;5;28;43;01mFalse\u001b[39;49;00m\u001b[43m,\u001b[49m\n\u001b[0;32m    492\u001b[0m \u001b[43m        \u001b[49m\u001b[43massert_same_host\u001b[49m\u001b[38;5;241;43m=\u001b[39;49m\u001b[38;5;28;43;01mFalse\u001b[39;49;00m\u001b[43m,\u001b[49m\n\u001b[0;32m    493\u001b[0m \u001b[43m        \u001b[49m\u001b[43mpreload_content\u001b[49m\u001b[38;5;241;43m=\u001b[39;49m\u001b[38;5;28;43;01mFalse\u001b[39;49;00m\u001b[43m,\u001b[49m\n\u001b[0;32m    494\u001b[0m \u001b[43m        \u001b[49m\u001b[43mdecode_content\u001b[49m\u001b[38;5;241;43m=\u001b[39;49m\u001b[38;5;28;43;01mFalse\u001b[39;49;00m\u001b[43m,\u001b[49m\n\u001b[0;32m    495\u001b[0m \u001b[43m        \u001b[49m\u001b[43mretries\u001b[49m\u001b[38;5;241;43m=\u001b[39;49m\u001b[38;5;28;43mself\u001b[39;49m\u001b[38;5;241;43m.\u001b[39;49m\u001b[43mmax_retries\u001b[49m\u001b[43m,\u001b[49m\n\u001b[0;32m    496\u001b[0m \u001b[43m        \u001b[49m\u001b[43mtimeout\u001b[49m\u001b[38;5;241;43m=\u001b[39;49m\u001b[43mtimeout\u001b[49m\u001b[43m,\u001b[49m\n\u001b[0;32m    497\u001b[0m \u001b[43m        \u001b[49m\u001b[43mchunked\u001b[49m\u001b[38;5;241;43m=\u001b[39;49m\u001b[43mchunked\u001b[49m\u001b[43m,\u001b[49m\n\u001b[0;32m    498\u001b[0m \u001b[43m    \u001b[49m\u001b[43m)\u001b[49m\n\u001b[0;32m    500\u001b[0m \u001b[38;5;28;01mexcept\u001b[39;00m (ProtocolError, \u001b[38;5;167;01mOSError\u001b[39;00m) \u001b[38;5;28;01mas\u001b[39;00m err:\n\u001b[0;32m    501\u001b[0m     \u001b[38;5;28;01mraise\u001b[39;00m \u001b[38;5;167;01mConnectionError\u001b[39;00m(err, request\u001b[38;5;241m=\u001b[39mrequest)\n",
      "File \u001b[1;32mc:\\hellodear\\tistory_ebook\\venv\\Lib\\site-packages\\urllib3\\connectionpool.py:793\u001b[0m, in \u001b[0;36mHTTPConnectionPool.urlopen\u001b[1;34m(self, method, url, body, headers, retries, redirect, assert_same_host, timeout, pool_timeout, release_conn, chunked, body_pos, preload_content, decode_content, **response_kw)\u001b[0m\n\u001b[0;32m    790\u001b[0m response_conn \u001b[38;5;241m=\u001b[39m conn \u001b[38;5;28;01mif\u001b[39;00m \u001b[38;5;129;01mnot\u001b[39;00m release_conn \u001b[38;5;28;01melse\u001b[39;00m \u001b[38;5;28;01mNone\u001b[39;00m\n\u001b[0;32m    792\u001b[0m \u001b[38;5;66;03m# Make the request on the HTTPConnection object\u001b[39;00m\n\u001b[1;32m--> 793\u001b[0m response \u001b[38;5;241m=\u001b[39m \u001b[38;5;28;43mself\u001b[39;49m\u001b[38;5;241;43m.\u001b[39;49m\u001b[43m_make_request\u001b[49m\u001b[43m(\u001b[49m\n\u001b[0;32m    794\u001b[0m \u001b[43m    \u001b[49m\u001b[43mconn\u001b[49m\u001b[43m,\u001b[49m\n\u001b[0;32m    795\u001b[0m \u001b[43m    \u001b[49m\u001b[43mmethod\u001b[49m\u001b[43m,\u001b[49m\n\u001b[0;32m    796\u001b[0m \u001b[43m    \u001b[49m\u001b[43murl\u001b[49m\u001b[43m,\u001b[49m\n\u001b[0;32m    797\u001b[0m \u001b[43m    \u001b[49m\u001b[43mtimeout\u001b[49m\u001b[38;5;241;43m=\u001b[39;49m\u001b[43mtimeout_obj\u001b[49m\u001b[43m,\u001b[49m\n\u001b[0;32m    798\u001b[0m \u001b[43m    \u001b[49m\u001b[43mbody\u001b[49m\u001b[38;5;241;43m=\u001b[39;49m\u001b[43mbody\u001b[49m\u001b[43m,\u001b[49m\n\u001b[0;32m    799\u001b[0m \u001b[43m    \u001b[49m\u001b[43mheaders\u001b[49m\u001b[38;5;241;43m=\u001b[39;49m\u001b[43mheaders\u001b[49m\u001b[43m,\u001b[49m\n\u001b[0;32m    800\u001b[0m \u001b[43m    \u001b[49m\u001b[43mchunked\u001b[49m\u001b[38;5;241;43m=\u001b[39;49m\u001b[43mchunked\u001b[49m\u001b[43m,\u001b[49m\n\u001b[0;32m    801\u001b[0m \u001b[43m    \u001b[49m\u001b[43mretries\u001b[49m\u001b[38;5;241;43m=\u001b[39;49m\u001b[43mretries\u001b[49m\u001b[43m,\u001b[49m\n\u001b[0;32m    802\u001b[0m \u001b[43m    \u001b[49m\u001b[43mresponse_conn\u001b[49m\u001b[38;5;241;43m=\u001b[39;49m\u001b[43mresponse_conn\u001b[49m\u001b[43m,\u001b[49m\n\u001b[0;32m    803\u001b[0m \u001b[43m    \u001b[49m\u001b[43mpreload_content\u001b[49m\u001b[38;5;241;43m=\u001b[39;49m\u001b[43mpreload_content\u001b[49m\u001b[43m,\u001b[49m\n\u001b[0;32m    804\u001b[0m \u001b[43m    \u001b[49m\u001b[43mdecode_content\u001b[49m\u001b[38;5;241;43m=\u001b[39;49m\u001b[43mdecode_content\u001b[49m\u001b[43m,\u001b[49m\n\u001b[0;32m    805\u001b[0m \u001b[43m    \u001b[49m\u001b[38;5;241;43m*\u001b[39;49m\u001b[38;5;241;43m*\u001b[39;49m\u001b[43mresponse_kw\u001b[49m\u001b[43m,\u001b[49m\n\u001b[0;32m    806\u001b[0m \u001b[43m\u001b[49m\u001b[43m)\u001b[49m\n\u001b[0;32m    808\u001b[0m \u001b[38;5;66;03m# Everything went great!\u001b[39;00m\n\u001b[0;32m    809\u001b[0m clean_exit \u001b[38;5;241m=\u001b[39m \u001b[38;5;28;01mTrue\u001b[39;00m\n",
      "File \u001b[1;32mc:\\hellodear\\tistory_ebook\\venv\\Lib\\site-packages\\urllib3\\connectionpool.py:537\u001b[0m, in \u001b[0;36mHTTPConnectionPool._make_request\u001b[1;34m(self, conn, method, url, body, headers, retries, timeout, chunked, response_conn, preload_content, decode_content, enforce_content_length)\u001b[0m\n\u001b[0;32m    535\u001b[0m \u001b[38;5;66;03m# Receive the response from the server\u001b[39;00m\n\u001b[0;32m    536\u001b[0m \u001b[38;5;28;01mtry\u001b[39;00m:\n\u001b[1;32m--> 537\u001b[0m     response \u001b[38;5;241m=\u001b[39m \u001b[43mconn\u001b[49m\u001b[38;5;241;43m.\u001b[39;49m\u001b[43mgetresponse\u001b[49m\u001b[43m(\u001b[49m\u001b[43m)\u001b[49m\n\u001b[0;32m    538\u001b[0m \u001b[38;5;28;01mexcept\u001b[39;00m (BaseSSLError, \u001b[38;5;167;01mOSError\u001b[39;00m) \u001b[38;5;28;01mas\u001b[39;00m e:\n\u001b[0;32m    539\u001b[0m     \u001b[38;5;28mself\u001b[39m\u001b[38;5;241m.\u001b[39m_raise_timeout(err\u001b[38;5;241m=\u001b[39me, url\u001b[38;5;241m=\u001b[39murl, timeout_value\u001b[38;5;241m=\u001b[39mread_timeout)\n",
      "File \u001b[1;32mc:\\hellodear\\tistory_ebook\\venv\\Lib\\site-packages\\urllib3\\connection.py:466\u001b[0m, in \u001b[0;36mHTTPConnection.getresponse\u001b[1;34m(self)\u001b[0m\n\u001b[0;32m    463\u001b[0m \u001b[38;5;28;01mfrom\u001b[39;00m \u001b[38;5;21;01m.\u001b[39;00m\u001b[38;5;21;01mresponse\u001b[39;00m \u001b[38;5;28;01mimport\u001b[39;00m HTTPResponse\n\u001b[0;32m    465\u001b[0m \u001b[38;5;66;03m# Get the response from http.client.HTTPConnection\u001b[39;00m\n\u001b[1;32m--> 466\u001b[0m httplib_response \u001b[38;5;241m=\u001b[39m \u001b[38;5;28;43msuper\u001b[39;49m\u001b[43m(\u001b[49m\u001b[43m)\u001b[49m\u001b[38;5;241;43m.\u001b[39;49m\u001b[43mgetresponse\u001b[49m\u001b[43m(\u001b[49m\u001b[43m)\u001b[49m\n\u001b[0;32m    468\u001b[0m \u001b[38;5;28;01mtry\u001b[39;00m:\n\u001b[0;32m    469\u001b[0m     assert_header_parsing(httplib_response\u001b[38;5;241m.\u001b[39mmsg)\n",
      "File \u001b[1;32m~\\miniconda3\\Lib\\http\\client.py:1378\u001b[0m, in \u001b[0;36mHTTPConnection.getresponse\u001b[1;34m(self)\u001b[0m\n\u001b[0;32m   1376\u001b[0m \u001b[38;5;28;01mtry\u001b[39;00m:\n\u001b[0;32m   1377\u001b[0m     \u001b[38;5;28;01mtry\u001b[39;00m:\n\u001b[1;32m-> 1378\u001b[0m         \u001b[43mresponse\u001b[49m\u001b[38;5;241;43m.\u001b[39;49m\u001b[43mbegin\u001b[49m\u001b[43m(\u001b[49m\u001b[43m)\u001b[49m\n\u001b[0;32m   1379\u001b[0m     \u001b[38;5;28;01mexcept\u001b[39;00m \u001b[38;5;167;01mConnectionError\u001b[39;00m:\n\u001b[0;32m   1380\u001b[0m         \u001b[38;5;28mself\u001b[39m\u001b[38;5;241m.\u001b[39mclose()\n",
      "File \u001b[1;32m~\\miniconda3\\Lib\\http\\client.py:318\u001b[0m, in \u001b[0;36mHTTPResponse.begin\u001b[1;34m(self)\u001b[0m\n\u001b[0;32m    316\u001b[0m \u001b[38;5;66;03m# read until we get a non-100 response\u001b[39;00m\n\u001b[0;32m    317\u001b[0m \u001b[38;5;28;01mwhile\u001b[39;00m \u001b[38;5;28;01mTrue\u001b[39;00m:\n\u001b[1;32m--> 318\u001b[0m     version, status, reason \u001b[38;5;241m=\u001b[39m \u001b[38;5;28;43mself\u001b[39;49m\u001b[38;5;241;43m.\u001b[39;49m\u001b[43m_read_status\u001b[49m\u001b[43m(\u001b[49m\u001b[43m)\u001b[49m\n\u001b[0;32m    319\u001b[0m     \u001b[38;5;28;01mif\u001b[39;00m status \u001b[38;5;241m!=\u001b[39m CONTINUE:\n\u001b[0;32m    320\u001b[0m         \u001b[38;5;28;01mbreak\u001b[39;00m\n",
      "File \u001b[1;32m~\\miniconda3\\Lib\\http\\client.py:279\u001b[0m, in \u001b[0;36mHTTPResponse._read_status\u001b[1;34m(self)\u001b[0m\n\u001b[0;32m    278\u001b[0m \u001b[38;5;28;01mdef\u001b[39;00m \u001b[38;5;21m_read_status\u001b[39m(\u001b[38;5;28mself\u001b[39m):\n\u001b[1;32m--> 279\u001b[0m     line \u001b[38;5;241m=\u001b[39m \u001b[38;5;28mstr\u001b[39m(\u001b[38;5;28mself\u001b[39m\u001b[38;5;241m.\u001b[39mfp\u001b[38;5;241m.\u001b[39mreadline(_MAXLINE \u001b[38;5;241m+\u001b[39m \u001b[38;5;241m1\u001b[39m), \u001b[38;5;124m\"\u001b[39m\u001b[38;5;124miso-8859-1\u001b[39m\u001b[38;5;124m\"\u001b[39m)\n\u001b[0;32m    280\u001b[0m     \u001b[38;5;28;01mif\u001b[39;00m \u001b[38;5;28mlen\u001b[39m(line) \u001b[38;5;241m>\u001b[39m _MAXLINE:\n\u001b[0;32m    281\u001b[0m         \u001b[38;5;28;01mraise\u001b[39;00m LineTooLong(\u001b[38;5;124m\"\u001b[39m\u001b[38;5;124mstatus line\u001b[39m\u001b[38;5;124m\"\u001b[39m)\n",
      "File \u001b[1;32m~\\miniconda3\\Lib\\socket.py:706\u001b[0m, in \u001b[0;36mSocketIO.readinto\u001b[1;34m(self, b)\u001b[0m\n\u001b[0;32m    704\u001b[0m \u001b[38;5;28;01mwhile\u001b[39;00m \u001b[38;5;28;01mTrue\u001b[39;00m:\n\u001b[0;32m    705\u001b[0m     \u001b[38;5;28;01mtry\u001b[39;00m:\n\u001b[1;32m--> 706\u001b[0m         \u001b[38;5;28;01mreturn\u001b[39;00m \u001b[38;5;28;43mself\u001b[39;49m\u001b[38;5;241;43m.\u001b[39;49m\u001b[43m_sock\u001b[49m\u001b[38;5;241;43m.\u001b[39;49m\u001b[43mrecv_into\u001b[49m\u001b[43m(\u001b[49m\u001b[43mb\u001b[49m\u001b[43m)\u001b[49m\n\u001b[0;32m    707\u001b[0m     \u001b[38;5;28;01mexcept\u001b[39;00m timeout:\n\u001b[0;32m    708\u001b[0m         \u001b[38;5;28mself\u001b[39m\u001b[38;5;241m.\u001b[39m_timeout_occurred \u001b[38;5;241m=\u001b[39m \u001b[38;5;28;01mTrue\u001b[39;00m\n",
      "File \u001b[1;32m~\\miniconda3\\Lib\\ssl.py:1311\u001b[0m, in \u001b[0;36mSSLSocket.recv_into\u001b[1;34m(self, buffer, nbytes, flags)\u001b[0m\n\u001b[0;32m   1307\u001b[0m     \u001b[38;5;28;01mif\u001b[39;00m flags \u001b[38;5;241m!=\u001b[39m \u001b[38;5;241m0\u001b[39m:\n\u001b[0;32m   1308\u001b[0m         \u001b[38;5;28;01mraise\u001b[39;00m \u001b[38;5;167;01mValueError\u001b[39;00m(\n\u001b[0;32m   1309\u001b[0m           \u001b[38;5;124m\"\u001b[39m\u001b[38;5;124mnon-zero flags not allowed in calls to recv_into() on \u001b[39m\u001b[38;5;132;01m%s\u001b[39;00m\u001b[38;5;124m\"\u001b[39m \u001b[38;5;241m%\u001b[39m\n\u001b[0;32m   1310\u001b[0m           \u001b[38;5;28mself\u001b[39m\u001b[38;5;241m.\u001b[39m\u001b[38;5;18m__class__\u001b[39m)\n\u001b[1;32m-> 1311\u001b[0m     \u001b[38;5;28;01mreturn\u001b[39;00m \u001b[38;5;28;43mself\u001b[39;49m\u001b[38;5;241;43m.\u001b[39;49m\u001b[43mread\u001b[49m\u001b[43m(\u001b[49m\u001b[43mnbytes\u001b[49m\u001b[43m,\u001b[49m\u001b[43m \u001b[49m\u001b[43mbuffer\u001b[49m\u001b[43m)\u001b[49m\n\u001b[0;32m   1312\u001b[0m \u001b[38;5;28;01melse\u001b[39;00m:\n\u001b[0;32m   1313\u001b[0m     \u001b[38;5;28;01mreturn\u001b[39;00m \u001b[38;5;28msuper\u001b[39m()\u001b[38;5;241m.\u001b[39mrecv_into(buffer, nbytes, flags)\n",
      "File \u001b[1;32m~\\miniconda3\\Lib\\ssl.py:1167\u001b[0m, in \u001b[0;36mSSLSocket.read\u001b[1;34m(self, len, buffer)\u001b[0m\n\u001b[0;32m   1165\u001b[0m \u001b[38;5;28;01mtry\u001b[39;00m:\n\u001b[0;32m   1166\u001b[0m     \u001b[38;5;28;01mif\u001b[39;00m buffer \u001b[38;5;129;01mis\u001b[39;00m \u001b[38;5;129;01mnot\u001b[39;00m \u001b[38;5;28;01mNone\u001b[39;00m:\n\u001b[1;32m-> 1167\u001b[0m         \u001b[38;5;28;01mreturn\u001b[39;00m \u001b[38;5;28;43mself\u001b[39;49m\u001b[38;5;241;43m.\u001b[39;49m\u001b[43m_sslobj\u001b[49m\u001b[38;5;241;43m.\u001b[39;49m\u001b[43mread\u001b[49m\u001b[43m(\u001b[49m\u001b[38;5;28;43mlen\u001b[39;49m\u001b[43m,\u001b[49m\u001b[43m \u001b[49m\u001b[43mbuffer\u001b[49m\u001b[43m)\u001b[49m\n\u001b[0;32m   1168\u001b[0m     \u001b[38;5;28;01melse\u001b[39;00m:\n\u001b[0;32m   1169\u001b[0m         \u001b[38;5;28;01mreturn\u001b[39;00m \u001b[38;5;28mself\u001b[39m\u001b[38;5;241m.\u001b[39m_sslobj\u001b[38;5;241m.\u001b[39mread(\u001b[38;5;28mlen\u001b[39m)\n",
      "\u001b[1;31mKeyboardInterrupt\u001b[0m: "
     ]
    }
   ],
   "source": [
    "# 환경설정\n",
    "num_contents_creation = int(input('생성할 컨텐츠 갯수를 입력하세요. 무한대생산은 엔터를 치세요 '))\n",
    "\n",
    "# 함수정의\n",
    "def create_contents(blogger, num_contents_creation=5):\n",
    "    print(f\"Starting thread for {blogger.blogname}\")\n",
    "    blogger.create_contents(num_contents_creation)\n",
    "\n",
    "for blogname in blog_names :\n",
    "    create_contents(bloggers[blogname], num_contents_creation=num_contents_creation)"
   ]
  },
  {
   "cell_type": "code",
   "execution_count": 9,
   "metadata": {},
   "outputs": [
    {
     "name": "stdout",
     "output_type": "stream",
     "text": [
      "True\n",
      "True\n",
      "Data loaded from JSON\n",
      "['유지보수 가이드', '유지보수 가이드라인', '유지보수 비용', '유지보수 정의', 'the diy', 'diy 프로젝트', 'diy 빔프로젝터', 'diy 제작', '가구제작 기능사', '가구 제작', '가구제작 기능사 학원', '가구제작 기능사 시험일정', '가구 제작업체', '가구제작 기능사 필기 기출문제', '맞춤 가구 제작업체', '가구제작기능사 실기시험', '원목가구 제작', '극한직업 편백가구 제작', '전주 가구 제작', '철제 가구 제작', '가구 주문제작', 'diy 가구 제작', '주방가구 제작', '맞춤 가구', '김해 가구 제작', '창원 가구 제작', '가구 제작 학원', '가구 주문제작 사이트', '가구 제작 영어로', '가구제작 학원', '가구 제작 공장', '가구제작 취업', '가구주문제작비용', '가구제작 공방', '맞춤가구 제작업체', 'diy가구 제작', '맞춤가구 전문점', '자동차 관리법', '자동차 코팅', '자동차 정비', '겨울철 자동차 관리', '자동차 검사', '자동차 관리 어플', '자동차 관리 매뉴얼', '자동차 관리 항목', '자동차관리법', '자동차 관리 꿀팁', '자동차 엔진 관리', '자동차 소모품 교환주기', '오래된 자동차 관리', '차량관리 기본', '차량 유지 관리', '집에서 난 만들기', '안전하게 집으로', '집 만들기도안', '아이디어데코', '메스티지데코 홈43', '까르데코 암막커튼 세트', '천데코', '잇데코', '홈데코 인테리어', '홈데코페어', '홈데코 쇼핑몰', '홈테이블 데코페어', '정리정돈 기본 준수 사항 7가지', '정리정돈 잘하는 법', '정리정돈 잘된 집', '정리정돈 못하는 사람', '정리 잘하는 사람 특징', '집정리 순서', '집정리업체 비용', '수납정리 방법', '방 정리 잘하는 법', '현장 정리정돈', '유아교육', '유아 교육과정', '유아교육법', '유아 특수교육', '유아교육 키드키즈', '유아 놀이 활동 프로그램', '유아 활동계획안', '유아 활동유형', '유아교육자료 카페', '유아 활동계획안 양식', '유아 활동지', '활동계획안 예시', '놀이 활동 계획안', '키드키즈', '유치원 활동계획안', '정원 꾸미기', '전원주택 정원 가꾸기', '정원 가꾸기 게임', '정원 가꾸기의 즐거움', '정원수로 좋은 꽃나무', '정원 가꾸기 용품파는곳', '정원 가꾸기', '정원 가꾸기 일러스트', '미국 정원 가꾸기', 'bebefinn 즐거운 정원 가꾸기 (즐거운 정원 가꾸기)', '버니의 정원 가꾸기', '겨울 정원 가꾸기', '장미 정원 가꾸기', '에너지 효율 개선사업', '에너지 소비효율', '에너지 효율등급', 'tv 에너지 효율등급 차이', '에너지 효율 1등급', '에너지효율등급', '에너지효율등급 기준', '에너지효율등급 인증', '에너지소비효율등급', '에너지 효율 계산', '에너지효율등급 인증 의무대상', '에너지소비효율등급 제품', '에너지소비효율등급 조회', '건축물 에너지효율', '건축물 에너지효율등급', '메스티지데코 식탁', '나라데코', '참데코', '코헨가구', '소파 식탁', '자동차 소모품 교환주기표', '디젤 자동차 소모품 교환주기표', '현대자동차 소모품 교환주기', '자동차 오일 교환주기', '차량 소모품 교환주기', '자동차 소모품 교체주기 표', '디젤 차량 소모품 교환주기', '현대자동차 소모품 교환 주기 표', '자동차 소모품 교환주기 클리앙', '자동차 소모품 교환주기 엑셀', '자동차 소모품 교환 비용', '자동차 소모품 교환주기 디시', '자동차 정비 주기 표', '자동차 소모품 리스트', '자동차 교체주기', '자동차 점검 주기표', '기아자동차 소모품 교환 주기 표', '전주 대박가구', '전주 장인가구', '전주 가구 매장', '전주 중고가구', '전주 사무용가구', '홈데코인테리어', '리바트집인테리어 럭키홈데코', '리빙 인테리어', '나라홈데코', '인테리어 가습기', '한샘 화장실 인테리어', '한솔홈데코', '홈데코 뜻', '홈데코 브랜드', '오늘의집', '데코뷰', '정리정돈 업체 비용', '집 물건 정리 업체', '가정집 정리업체', '정리수납 전문가 비용', '집안 정리 업체', '집 정리 업체 후기', '집 청소 정리업체', '신박한 정리 업체', '짐정리 업체', '방 정리 업체', '유품정리업체', '정리정돈 업체', '정리 컨설턴트 비용', '우아한정리 비용', '이삿짐 정리업체', '정원 가꾸기 프로그램', '자동차 엔진 구조', '자동차 엔진 종류', '자동차 엔진교체', '자동차 엔진수리', '자동차 엔진열', '건축물 에너지효율등급 인증제도', '건축물 에너지효율등급 인증 수수료', '건축물 에너지효율등급 인증시스템', '건축물 에너지효율등급 인증', '에너지 효율등급 인증대상 건축물', '제로에너지 건축물', '건축물 에너지효율등급 인증대상', '건축물에너지효율등급 1++', '건축물에너지효율등급 마크', '건축물 에너지효율등급 기준', '건축물 에너지효율등급 pdf', '건축물에너지효율등급 해설서', '건축물 에너지 효율등급 계산', '건축물 에너지효율등급 인증 기준', '소프트웨어 유지보수 요율 지침', '소프트웨어 유지보수 범위', '소프트웨어 유지보수 업무', '소프트웨어 유지보수 비용', '유지보수 비용 산정 방법', '유지보수 요율 근거', '유지보수 프로세스', '유지보수 요율 계산', '하드웨어 유지보수 대가기준', '상용sw 유지관리 요율', '유아 만들기', '유아 체험활동', '영유아 놀이활동 프로그램', '영아 놀이활동 프로그램', '유아 만들기 사이트', '꼬망세', '소프트웨어 유지보수 비용 산정', '유지보수 전략', '유지보수 방법론', '유지보수 프로그램', '이지데코', '한스데코', '잇코다테', '잇코텐', '이데코', 'DIY가구제작동호회 감', '씨케이DIY가구제작소', 'diy 조립 가구', 'diy 가구 만들기', 'diy 가구 쇼핑몰', '가구diy 재료판매', '가구 diy 목재 판매', 'diy가구 재료 파는 곳', '목공 DIY 쇼핑몰', '목공 DIY 키트', '합판 가구 제작', 'DIY 사이트', 'DIY 가구 브랜드', 'DIY 샵', 'DIY 뜻', '가구 제작 업체', '제일diy', '건축물 에너지효율등급 인증기준', '에너지 효율등급 차이', '에너지 효율등급 변경', '에너지 소비효율등급 변경', '에너지 소비효율등급차이', '에너지소비효율등급 기준', '에너지효율등급 전자제품', '에너지소비효율등급 계산', '에너지효율등급 차이', '에너지소비효율등급 표', '에너지 소비 효율 등급 표시 가전제품', '학원 책상세트', '미술학원 책상', '중고학원 책상세트', '1인 학원 책상', '학원 책상 중고', '가구 목공 국비지원', '가구제작기능사 학원', '가구 제작 과정', '가구제작 수업', '국비지원 목공학원', '국비지원 가구제작', '목공학원 비용', '서울 목공학원', '인테리어목공학원', '쑤제 가구학원', 'DIY 목공', '에너지 효율 1등급 환급 대상', '에너지 소비효율등급', '제로에너지 인증 의무 대상', '건축물의 에너지효율등급 인증 대상', '건축물 에너지효율등급 인증 및 제로에너지건축물 인증에 관한 규칙', '건축물 에너지효율등급 인증에 관한 규칙', '에너지효율등급 인증 기준', '에너지효율등급 대상', '에너지효율등급 예비인증', '녹색건축인증 에너지효율등급', '집안 정리정돈 순서', '집안 정리정돈 잘하는법', '정리정돈의 원칙', '정리 꿀팁', '정리하는 법', '물건 정리 달인', '물건 정리 하기', '집 정리 팁', '난 만드는법', '바로가기 만들기', '하트 만들기', '난 만들기 후라이팬', '난 만들기 에어프라이어', '난 만들기 오븐', '난 파는곳', '난 또띠아 차이', '또띠아로 난 만들기', '갈릭 난 만들기', '갈릭 버터난 만들기', '버터난 만들기', '중력분 난', '정리정돈 잘하는법', '주방 정리정돈 잘하는법', '좁은집 정리정돈 잘하는법', '미니멀 라이프 집정리', '정리정돈 노하우', '정리정돈의 효과', '정리정돈의 다섯가지 기본 원칙', '정리함', '오늘의 집', '정리하다', '정리 못하는 사람 특징', '정리정돈 띄어쓰기', '주방 정리 잘하는 법', '겨울철 자동차 배터리 관리', '겨울철 차량관리', '겨울철 차량 시동', '겨울철 배터리 관리', '전기차 겨울철 관리', '겨울 자동차 배터리 방전', '겨울철 자동차 시동', '겨울철 차량 배터리 관리', '겨울철 10분 시동', '겨울철 차량 점검', '겨울철 냉각수', '겨울철 안전운전', '한파 자동차 관리', '자동차 관리 방법', '영하 10도 자동차', '유아 여름 활동지', '여름 활동지', '선긋기 활동지', '육아돌보미 서비스', '활동지원사 교육', '유아학습지 무료', '유아학습지 pdf', '유아 학습지 프린트', '유아 무료 프린트 학습지', '유아학습지 추천', '활동지 양식', '고등학교 활동지', '에너지 소비효율등급 차이', '에너지 소비효율등급 4등급', '에너지 소비효율등급 환급', '에너지 소비효율등급 5등급', '에어컨 에너지 소비효율등급', '가스보일러 에너지 소비효율등급', '보일러 에너지 소비효율등급', '냉장고 에너지 소비효율등급', '자동차 에너지 소비효율등급', '에너지 관리공단', '에너지소비효율등급 확인', '에너지소비효율등급 차이', '에너지소비효율등급 전기 기구', '에너지소비효율등급 장단점', '에너지소비효율등급 뜻', '에너지소비효율등급 냉장고', '에너지 소비 효율 등급 가전제품', '에너지소비효율등급 라벨', '에너지소비효율등급 tv', '가구 주문 제작업체', '원목가구 주문제작', '가구 맞춤제작', '사무가구 쇼핑몰', '제작가구 업체', '원목가구 주문 제작', '주방가구 주문 제작', '목공소 주문제작 가격', '의자 주문제작', '에너지 소비효율 1등급 환급', '에너지 소비효율 1등급 에어컨', '위닉스 창문형 에어컨은 에너지 소비효율', '에너지 소비효율 1등급', '에너지소비효율 계산', '에너지소비효율 1등급', '에너지소비효율 1등급 제품', '저소득층 에너지효율개선사업', '한국에너지재단', '저소득층 에너지효율개선 신청서', '저소득층 에너지효율개선사업운영에 관한 규정', '한국에너지재단 에너지효율개선사업', '한국에너지공단', '한국에너지재단 채용', '에너지효율개선사업 신청', '에너지효율 개선 사례', '에너지효율 지원사업', '2024년 에너지효율 개선사업', '붙박이 가구 주문제작', '대구 가구 주문제작', '부산 원목가구 주문제작하는곳', '피노키오 원목가구주문제작', 'SM주문제작가구', '삼원사무용가구주문제작 대진과학', '사무실 가구', '가구주문제작 업체', '가구제작업체', '손잡이 닷컴', 'diy책장', 'DIY 재료 파는 곳', 'DIY 철물', 'DIY 수납장', 'Mdf DIY', '원목 패널', '서랍장 DIY', '가구 상판', '가구 문짝', '원형 원목', '유아특수교육 대학원', '유아 특수교육임용시험', '대구대학교 유아특수교육과', '한국 유아특수교육학회', '우석대학교 유아특수교육과', '대구대 유아특수교육과', '나사렛대학교 유아특수교육과', '유아 특수교육과', '백석대 유아특수교육과', '우석대 유아특수교육과', '유아특수교육의 이해', '유아특수교사', '유아 인성교육', '유아 안전교육', '유아특수교육이란', '유아특수교육의 필요성', '유아특수교육과', '유아특수교사 자격증', '한국유아특수교육학회', '교육대학원 특수교육과', '특수교육대학원 입학', '특수 교육학 과 대학원', '공주대학교 특수교육', '차량 부식 해결 방법', '차량운반구란', '차량 운행제한', '관용차량 관리규정', '차량 내부 명칭', '가구제작기능사 실기', '목공 기능사 학원', '인테리어 목공 자격증', '건축목공 기능사 학원', '한라조리 직업전문학원', '목공예기능사 학원', '목공 학원 비용', '목공 기술 배우는 곳', '가구제작산업기사', '가송 인테리어목공기술학원', '인테리어 학원', '건축목공기능사', '인테리어 목공 국비지원', '전래놀이 계획안', '자유놀이 활동', '오감놀이 교육계획안', '체험활동', '물총놀이 계획안', '꼬망세 활동 계획안', '만 1세 활동계획안', '만 1세 놀이 활동', '놀이계획안 양식', '놀이중심 계획안', '만3세 놀이계획안', '누리놀이', '더 메종', '홈테이블 데코페어 사전등록', '코엑스', '2023서울 홈테이블 데코페어', '홈테이블데코페어 후기', '홈테이블데코페어 사전등록', '홈테이블데코페어 초대권', '홈테이블데코페어 2023', '홈 테이블 데코 페어 2024', '홈 테이블 데코 페어 부산', '서울 홈 테이블 데코 페어', '리빙페어', '리빙디자인페어', '유아 요리활동 계획안', '어린이집 요리활동 연간계획안', '꼬망세 교육계획안', '지역사회 연계활동 계획안', '일일교육계획안 hwp', '수업계획안 양식', '유아 놀이 계획안', '주간 보육 계획안 양식', '제빵기능사 필기 기출문제', '환경기능사 필기 기출문제', '조경기능사 필기 기출문제모음', '조리기능사 필기 기출문제', '전기기능사 필기 기출문제 PDF', '전기기능사 필기 기출문제 전자문제집 CBT - 최강 자격증 기출', '목공예기능사 필기', '지게차 기능사 필기 기출문제 다운받기', '지게차 필기 기출문제 pdf', '전산 응용 건축제도기능사 필기 기출문제 pdf', '한식조리기능사 필기 기출문제', '제과제빵 필기 기출문제', '웹디자인기능사 필기 기출문제', 'diy 만들기', 'diy 뜻', 'diy 목재 쇼핑몰', 'diy 목재 재단 판매', 'DIY 만들기 세트', 'DIY 키트', 'DIY 만들기 추천', 'DIY 가구 만들기', 'DIY 키트 사이트', '원목 맞춤가구 제작', '가구공방 수강료', '가구공방 현실', '가구공방 체험', '가구공방 창업', '목공예 공방', '목공 공방', '나무 향기공방', '나무공방 체험', '열쇠공방', '서울 나무 공방', '오즈공방', '맞춤 가구 가격', '맞춤 가구 우노', '수제 가구', '장인가구 홈페이지', '맞춤가구 가격', '가구 인테리어 업체', '우노 가구', '이케아', '자동차 정비소', '자동차 정비 기능사', '자동차 정비공구', '자동차 정비학원', '자동차 정비 산업기사', '자동차 정비 기능사 시험일정', '자동차 정비사 구인', '자동차 정비협회', '자동차 정비사 구인구직', '자동차정비기사 실기', '자동차 정비마당', '자동차 수리', '자동차 정비사', '기아자동차 정비', '자동차 정비공장', '자동차 정비기사', '자동차 정비사 현실', '자동차 정비 배우기', '자동차 정비 주기', '자동차정비기능사', '자동차 정비소 추천', '자동차정비 자격증', '자동차 정비 비용', '자동차 정비 전망', '자동차정비 취업', '자동차정비기능사 필기', '정원용품 파는곳', '자연촌', '자동차관리법 시행규칙', '자동차 관리법 제10조', '자동차 관리법 제84조', '자동차 관리법 제34조', '자동차 관리법 제81조', '자동차 관리법 제24조의 2', '자동차 관리법 제43조', '자동차 관리법 제29조', '자동차 관리법 제58조', '자동차관리법 위반 과태료', '자동차관리법 위반', '자동차관리법 시행령', '자동차 관리법 번호판', '자동차 등록법', '자동차 관리방법', '자동차 등록령', '자동차관리법 개정안', '자동차관리법 해설', '자동차관리법 번호판', '자동차관리법 과태료', '자동차관리법 제31조', '자동차관리법 84조', '자동차관리법 영어', '정원가꾸기 게임', '빼꼼 방탈출', '빼꼼게임 식품야구', '빼꼼 펭귄', '야후 꾸러기 플래시애니', '야후꾸러기 게임', '자동차 플래시게임', '플래시 24 게임', '키즈짱 옷 입히기', '쥬니어네이버 플래시게임', '쥬니어네이버 게임 목록', '빈티지요요', '앤수이', '빈티지캐슬', '마리가든', '디어브랜드', '다누앤틱', '아몬드 꽃', '시월의 낭만', '화이트데코', '마리컨츄리', '아이데코', '아이디어코리아', '아이덱 코퍼레이션', '자동차 소음 원인', '자동차 미등켜는방법', '자동차 점검비용', '자동차 내부 구조', '자동차 필수관리', '자동차 주기적 으로 체크', '차량관리 항목', '전원주택 정원꾸미기', '전원주택 마당 가꾸기', '전원주택 조경', '전원주택 정원용품', '전원주택 화단 만들기', '유아교육법 시행령', '유아교육법 시행규칙', '유아교육법 시행령 개정안', '유아교육법 제2조', '유아교육법 제22조', '유아교육법 제19조', '유아교육법 제23조', '유아교육법 제11조', '유아교육법 개정안', '유아교육현장에서의 프로젝트 접근법', '유아교육교수법', '영유아 교육법', '영유아보육법', '초등교육법', '초중등교육법', '유아교육법 제정', '교육기본법', '유아 교육법 시행령 제10조', '유아 교육법 제 20 조', '고등교육법', '홈페이지 유지보수 비용', '홈페이지 유지보수 단가표', '유지보수 비용 비율', '유지보수 요율 지침', 'it 유지보수 비용', '앱 유지보수 비용', '소프트웨어 유지보수 요율', '극한직업 원목가구 공장', '극한직업 가구 고치는 사람들', '편백나무 가구', '아침에 나라 편백가구&인테리어', '가구 제작 산업기사', '정리정돈 뜻', '정리정돈 못하는 여자', '정리정돈 지능', '정리 못하는 병', '정리 정돈 못하는 남자', '정리정돈 잘하는 사람', '정리정돈 82cook', '방 정리 안하는 사람', '우울증 방 정리', 'ENTP 정리정돈', '어린이 놀이 프로그램', '유아 집에서 놀이', '만 3세 놀이 계획안', '유치원 놀이주제', '유아교육 대표카페', '희망교육사랑 카페', '지혜쌤카페', '유치원교사 카페', '루나놀이터 카페', '별만자 카페', '찬진교육', '보육교사 카페', '토토로버스', '키즈노트', '버니의 세계책방', '선물공룡 디보 버니의 정원 가꾸기', '자동차 관리사업', '차량 점검', '차량 10부제란', '김해 가구공장', '김해 사무용 가구', '김해 가구단지', '김해 모두가구', '김해 가구 싸게 파는 곳', '철제 인테리어 소품가구', '철재가구 진열대', '철제 책상', '철제 프레임 주문 제작', '철제 가구제작 업체', '철제 프레임제작', '철제다리 주문 제작', '철제다리 제작', '철제다리 파는 곳', '철제 주문제작', '가구 철제다리', '조립식 철제 프레임', '이케아 철제 다리', '조경', '정원용품', '정원수', '옥상 정원', '정원 울타리', '테라스 꾸미기', '정원 조경', '전원주택정원꾸미기', '작은 정원 꾸미기', '예쁜정원사진', '예쁜정원만들기', '정원꾸미기 게임', '정원가꾸기', '시골집 마당 꾸미기', '에이스 홈데코', '홈데코 b2b', 'Nara home deco', '홈테이블데코페어', '리빙홈데코', '에너지 효율 4등급 tv', '티비 에너지 효율등급', 'tv 1등급 4등급 차이', '삼성 TV 에너지 효율 등급', '냉장고 에너지효율 4등급', '냉장고 1등급 4등급 차이', '티비 에너지효율등급', '1등급 TV 밝기', '김치냉장고 1등급 3등급 차이', '실기없는 기능사 시험', '인테리어 기사 자격증 시험', '목공예 기능사', '제빵기능사 실기품목', '건축목공 기능사 시험일정', '가구제작기능사 실기 도면', '가구제작기능사 필기', '가구제작기능사 필기 기출문제', '가구제작기능사 필기 pdf', '가구제작기능사 취업', '가구제작 현실', '2024 가구제작기능사', '목공예기능사', '유아교육진흥원', '유아교육과', '유아교육 키드키즈 바로가기', '키즈키드 유아교육', '부산 유아교육진흥원', '유아교육 누리놀이', '유아임용', '유아 학습지', '유아 영어 홈스쿨', '유아 학습지 추천', '초등 교육', '유아 놀이', '유아교육 프로그램', '유아 교재', '유아교육과정', '유아교육 트렌드', '유아교육 뜻', '유아교육과 현실', '유아교육 사이트', '유아교육 자격증', '유아교육 이슈', '유아교육과 전망', '유아교육키드키즈', '대전 맞춤가구 제작업체', '인천 맞춤가구 제작업체', '부산 맞춤가구 제작업체', '맞춤 가구 디자인', '주방가구 전문업체', '주방가구 브랜드', '주방가구 전시장', '중고 주방가구', '전통가구 인테리어', '주방 싱크대 제작', '싱크대 주문제작', '아너스가구', '한샘 싱크대', '시스템 주방', '시스템 싱크대', '붙박이장', '키즈키드', '키드키즈 바로가기', '키드키즈 평생교육원', '키드키즈몰', '키즈키즈', '고가네', '꼬망세 바로가기', '꼬망세 키드키즈', '키드키즈평생교육원', '키드키즈 구인구직', '키드키즈 주간 계획안', '키드키즈 안전교육', '에너지 효율등급 인증', '건축물 에너지효율등급 인증 의무 대상', '건축물 에너지 효율등급 인증 마크', '에너지 효율등급 환급', '에너지 효율등급 검색', '에너지 효율등급 기준', '에너지효율등급 조회', '에너지효율등급 1등급', '에너지효율등급 5등급', '에너지효율등급 환급', '창원 중고가구', '창원 가구 싸게 파는 곳', '창원 가구거리', '창원 가구 할인매장', '마산 중고가구', '창원 가구', '창원 가구 할인 매장', '창원 가구 무료 수거', '유치원 수업계획안', '어린이집 주간교육계획안', '어린이집 가정학습', '유치원 일일 계획안', '유치원 주간교육계획안', '가구 처리비용', '책상 맞춤제작', '목재 주문제작', '맞춤장 제작', '거실 암막커튼 세트', '암막커튼 추천', '모던 하우스 암막커튼', '암막커튼 원단', '가벼운 암막커튼', '자동차 관리 앱', '차량 관리 앱', '차수리 어플', '자동차 정비 어플', '차량관리 어플 추천', '차량관리 어플 클리앙', '차량관리 서비스', '마이클 차량관리', '마이클 어플', '마이클 앱 후기', '마이클 파트너스', '차계부 어플', '차계부 어플 추천', '마카롱 앱', '자동차검사 예약', '자동차검사기간 조회', '자동차 검사소', '자동차 검사비용', '자동차검사 과태료', '자동차 검사기간', '자동차검사 유효기간 만료일', '자동차검사소 위치', '자동차검사 준비물', '자동차검사소 예약', '자동차검사 주기', '자동차 정기검사', '자동차 종합검사', '자동차 검사대행', '자동차검사 기간 조회', '자동차검사 조회', '자동차 검사 비용', '자동차검사소 예약없이', '가까운 자동차검사소', '한국교통안전공단 자동차검사', '한국교통안전공단 자동차검사소 예약', '집정리 잘하는법', '집정리 프로그램', '좁은집 정리', '집정리 업체', '집안정리 버리기', '잡코리아', '사람인', '홈데코 테이블 페어', '서울리빙디자인페어 2023', '크래프트 페어', '건축물 에너지 효율등급 기준', '건축물 에너지효율등급 1등급', '에너지소비효율등급라벨', '원목 가구 제작 레시피 32', '대구 원목가구 제작 잘하는곳', '원목가구 공장', '수제 원목가구', '고급 원목가구', '원목가구공방', '원목가구 쇼핑몰', '맞춤 가구 제작', '대구 맞춤 가구', '맞춤가구제작 수', '맞춤가구예다움', '맞춤가구제작soo', '좋은소식맞춤가구', '청주 맞춤 가구', '광주 맞춤 가구', '정원수로 좋은 과실수', '풍수 정원 수로 좋은 나무', '꽃나무 종류', '회화나무', '정원수 묘목', '모감주나무', '정원수 추천', '초피나무', '울타리 나무 추천', '울타리 나무 종류', '담장용 나무', '꿈의 정원 공략', '꿈의 정원 카리나', '꿈의정원 미니게임', '꿈의정원 돈무한', '꿈의 정원 미니게임 공략', '꿈의 정원 팀', '꿈의정원 갤러리', '꿈의 정원 만렙', '정원 요정 게임', '구글 정원 게임', '건축목공 기능사', '가구제작기능사 합격률', '가구제작기능사 전망', '가족 생활교육 프로그램 계획안', '활동계획안 양식', '유치원 놀이 활동', '일일교육계획안 예시', '영아 놀이 계획안', '창호 에너지 효율등급', 'tv 에너지 효율등급', '전기차 에너지 효율등급', '타이어 에너지 효율등급', '자동차 기능표시', '자동차 1년 평균 주행거리', '자동차 관리 주기', '자동차 주행거리 확인', '자동차 주행거리 계산', '차량관리방법', '차량 주행거리 수명', '고가네 유아포럼', '꼬망쎄', '마이에듀 교사자람', '에듀케어 아카데미', '키즈노트 알림장', '키드키즈 홈페이지', '유아키드키즈', '찬진교육 유아스토리', '선퀼트', '천가게', '한복 원단', '한복 원단 파는 곳', '한복 원단 실크', '본견', '모본단 실크', '자동차 점검주기표', '자동차 외부 명칭', '자동차 명칭구조', '차량점검 체크리스트', '차량 정기점검', '차량점검표', '차량 점검 주기', '차량점검표 양식', '차량 정비 항목', '자동차 점검 항목', '자동차 관리 상식', '주행거리별 점검표', '집 만들기 도안', '시나모롤 집 만들기 도안', '산리오 집 만들기 도안', '종이집 만들기 도안', '따니네 만들기 도안', '포켓몬빵 만들기 도안', '지갑 만들기 도안', '인형 만들기 도안', '시나모롤 만들기 도안', '입체 집 만들기 도안', '종이집 만들기 무료도안', '종이인형 집 만들기 도안', '시나모롤 집만들기 도안', '포차코 집 만들기 도안', '쿠로미 집 만들기 도안', '산리오 상자 집 만들기 도안', '마이멜로디 집 만들기 도안', '생태계 에너지 효율 계산', '효율 계산식', '전력 효율 계산', '전력 효율 계산기', '열효율 공식', '에너지 비용 계산', '에너지 소비효율등급 계산기', '연간 에너지비용', '카르노 열효율 공식', '책상 영어로', '책장 영어로', '책꽂이 영어로', '화장대 영어로', '서랍장 영어로', 'custom-made', 'Custom order', '편백가구 제작 공장', '가구공장', '가구업체 순위', '가구공장 직거래', '가구공장 취업 후기', '만2세 연간 보육계획안', '정원에 심으면 좋은 나무', '단풍철쭉 키우기', '정원 식물', '장미 정원', '장미정원 리뷰', '가전제품 에너지 효율등급', '에너지 소비 효율 등급 1등급', '에너지소비효율등급 ai', '사람 관계 정리', '방정리 잘하는 법', '집 정리 순서', '물건 정리하는 방법', '정원 가꾸기 책', '학교 정원 가꾸기', '정원 가꾸기 33', '틱낫한 스님의 마음정원 가꾸기', '365일 꽃 피는 정원 가꾸기', '즐거운 정원 가꾸기', '우리집 베란다 愛 채소 정원 가꾸기', '좌충우돌 베란다 정원 가꾸기', '정원가꾸기 도구', '정원 일러스트', '에너지 효율 1등급 환급', '에너지 효율 1등급 공기청정기', '에너지 효율 1등급 환급 사이트', '에너지 효율 1등급 냉장고', '에너지 효율 1등급 tv', '에너지 효율 1등급 제습기', '에너지 효율 1등급 에어컨', '벽걸이 에어컨 에너지효율1등급', '에너지 효율 1등급 2등급 차이', '에너지 효율 1등급 환급제품 검색', '에너지효율 1등급 환급신청 사이트', '에너지효율 1등급 2등급 차이', '한전 1등급 환급 사이트', '미국 정원', '집 정리정돈 비용', '집안 정리정돈', '방 정리정돈', '정리정돈 교육', '차량 관리', '자동차 홈페이지', '자동차 내부 명칭', '공용차량 관리 운영 매뉴얼', '공용차량 관리규정', '공용차량 뜻', '공용차량 관리 운영 매뉴얼 2023', '회사 차량관리규정', '행정안전부 공용차량 관리 규정', '자동차 정비 매뉴얼', '전용차량 출퇴근', '정비지침서 pdf', '누리과정', '유아 성교육', '2023 유치원 교육과정', '2022 개정 누리과정', '2023 누리과정', '2022 누리과정 5 개영역', '2023 누리과정 5개영역', '2019 개정 누리과정', '유치원 누리과정', '유치원 교육과정 운영 계획서', '누리교육과정', '3-5세 연령별 누리과정', '빔프로젝터 추천', '가정용 빔프로젝터', '빔프로젝터 설치', '미니 빔프로젝터', '스마트 빔 프로젝터', '스마트 폰 빔프로젝터 만들기', '인천 가구 제작업체', '가구 주문 제작 비용', '목공예 기능사 시험일정', '제빵기능사 2023년 시험 일정', '2024 기능사 시험일정', '2024 전기기능사 시험일정', '큐넷 기능사 시험일정', '방 청소 쉽게 하는법', '물건 정리 방법', '좁은 방 정리', '방정리 순서', '방 정리 디시', '방청소 체크리스트', '원룸 방 정리', '정리수납', '정리수납 비용', '정리수납 전문', '정리수납 방송', '정리수납 서비스', '정리수납전문가', '정리 팁', '정리 정돈 팁', '수납 꿀팁', '수납의 뜻', '집 정리하는 방법', '건설현장 정리정돈', '정리정돈 방송', '작업장 정리정돈 교육자료', '작업장 정리정돈 ppt', '작업장 정리정돈 체크포인트', '작업장 정리정돈에 대한 설명으로 틀린 것은', '산업안전보건법 작업장 정리정돈', '정리정돈의 필요성', '정리정돈 사고 사례', '정리정돈 및 청소에 관한 사항', '기계설비의 정리정돈에 해당 하지 않는 것은', '소프트웨어 유지보수 가이드라인', '소프트웨어 유지보수란', '설비 유지보수', '유지보수 범위', 'it 유지보수', '시스템 유지보수', '장비 유지보수', '유지보수 영어로', '자동차 코팅광택제', '자동차 코팅제', '자동차 코팅 비용', '자동차 코팅 벗겨짐', '자동차 코팅 종류', '자동차 코팅 효과', '자동차 코팅제 추천', '자동차 코팅 스프레이', '자동차 코팅 가격', '속효 자동차 코팅제', '자동차 유리막코팅', '자동차 광택', '자동차 랩핑', '자동차 썬팅', '자동차 유리코팅', '자동차 나노코팅', '자동차 덴트', '자동차 유리막 코팅', '자동차 광택 코팅 가격', '자동차코팅제추천', '자동차 도장 코팅', '차량 광택', '차량광택 비용', '제네시스 유리막코팅 가격', '코팅제 종류', '자동차 필름 코팅', '교육대학원 학비', '교육대학원 폐지', '교육대학원 순위', '교육대학원 사서교육', '대학원 입학자격', '특수교육대학원 입학조건', '특수교육학과 대학원', '유아특수교육대학원', '공주대학교 특수교육대학원', '단국대 특수교육대학원', '단국대학교 특수교육대학원 심리치료', '단국대 특수교육과', '이화여대 교육대학원 경쟁률', '아주대 특수대학원', 'KMVSS PDF', '자동차 및 자동차부품의 성능과 기준에 관한 규칙 영문', '자동차 및 자동차부품의 성능과 기준 시행세칙', '자동차 등화장치 법규', '자동차 고전압 기준', '자동차 기준', '자동차 직수입 사이트', '저소음자동차 경고음 발생장치', '전방착석자동차', 'Kmvss article', '에너지 효율 1등급 환급신청', '한전 고효율 가전제품 신청방법', '에너지소비효율등급 가전제품', '2023년 에너지효율 1등급 환급신청', '1등급 가전 환급 신청', '1등급 가전 환급 대상', '1등급 가전 환급 2023', '1등급 가전제품 환급 신청 방법', '고효율 가전제품 환급 신청', '청소 안하는 여자', '방청소 안하는 이유', '방 청소 귀찮', '지저분한 사람', '파이어족 뜻', '파이어족 자산', '딩크족', '욜로족', 'retire', '조기 은퇴', '1000만 달러', '파이어족 은퇴자금', '니트족', '500만 달러', 'fire', '파이어족 5억']\n",
      "True\n",
      "True\n",
      "Data loaded from JSON\n",
      "['미슐랭 스타 순위', '여행 테마 정하기', '12월 부산 축제', '문화예술교육 프로그램 우수 사례', '내가 생각하는 문화란', '독일 여행 기념품', '외국인에게 소개하고 싶은 한국 문화', '독일 여행 선물', '독일 여행 주의사항', '여행 관련 시', '개발 블로그 이름 추천', '오산도보여행코스 필봉산길', 'ebs 한국사능력검정시험 심화 답지', 'ebs 한국사능력검정시험 답지', 'ebs 한국사능력검정시험 기본 답지', '프랑스 문화차이', '전국 장날 일정표', '생물권보전지역 shp', '충청도 축제 일정', '원주 축제 일정', '미쉐린 크로스클라이밋2 후기', '오산도보여행코스 마등산길', '가야cc 예약방법', '유럽 배낭여행 가방 추천', '네이버 지도 도보 속도', '한국에서 가장 아름다운 곳', '서울 음식 특징', '카테킨 캐시워크', '점성술사의 유산', '경남11월 축제 일정표', '여행 인사말 모음', '안전하고 즐거운 여행', '한국 문화 소개 영어', '페스코 베지테리언', '시니어 일자리 종류', '인제 놀거리', '강남구 중학교 순위', '베지테리언 생선', 'mms 수신확인', '블로그 이름 예시', '블로그 이름 짓기', '속담 10가지', '선릉역 무료주차', '하버드10대 슈퍼푸드', '동남아 한달 여행', '미쉐린 타이어 렌탈', '프랑스 음식 마카롱', '청주 워터파크', '산양 큰엉 곶 반딧불이 체험', '도보 거리', '2023 전남 축제 일정', '티스토리 맛집 블로그 수익', '피렐리 타이어 후기', '행복한 마술사방', '3월 당일여행 갈만한곳', '나우푸드 회사', '한국전통미술 특징', '발견되지 않은 보물', '크로스클라이밋2 단점', '2023 전남축제 일정', '서울 근교 등산하기 좋은 산', '2022 슈퍼푸드', '경남 2월 축제', '충북 걷기 좋은 숲길', '충남 10월축제 하는곳', '기숙사 있는 고등학교', '전남 축제 2023', '롤랑가로스 경기장', '블로그 수익 비교', '비건 한국음식', '세계여행 준비물', '유럽여행 백팩 추천', '여행에 관한 시', '7월 축제 일정표', '대암산 용늪의 설명 중 옳은 것은', '롤랑가로스 2024', '미쉐린 프리미어 AS 사용 후기', '1박 2일 전주 여행코스', '스페인 여행 일정표', '음식 리뷰 잘 쓰는 법', '프랑스 축구선수 레전드', '2주 여행 배낭', '캐시워크 정답', '프랑스 축구 국가대표팀 포메이션', '캐시워크 실시간 정답', '전주 한옥마을 1박2일 여행코스', '전국 기숙사 고등학교', '역사 유적지', '미쉐린 프리미어 올시즌2 후기', '자유여행과 패키지 여행의 장단점', '자연환경해설사 후기', '대전 가방 전문매장', '여행지도 사이트', 'Go on a trip 뜻', '조지아 여행코스', '블로그 수익 공개', '블로그 수익 현실', '여행지도 만들기', '2023 경기도 축제', '티스토리 일상 블로그 수익', '대구 경북 7월 축제 가볼만한 곳', '세부 가야식당', '자유 여행과 패키지 여행의 장단점', '서울 둘레길 4코스', '여행 테마 뜻', '체험농장 허가', '티스토리 수익 현실', '프랑스오픈 티켓', '12월 강원도 축제', '생태교육 사례', '나우푸드 품질', '공주 역사 탐방', '가야cc 퍼블릭 예약', '가야cc 그린피', '전주 여행 계획', '서울 둘레길 7코스', '외국인에게 한국 소개하기 ppt', '한국의집 후기', '네이버 블로그 이름 추천', '소정백', '대한민국 전통문화 캐시워크 6월30일', '대한민국 전통문화상품 캐시워크', '오산도보여행코스 오산천길', '슈퍼투데이 추천인', '중년 여행동호회', '강원도 축제 일정', '도보 시간 계산', '나에게 여행이란', '미슐랭 3스타 후기', '가방 영어로', '구례 관광지도', '좋은 시 모음', '친구 시모음', '인생 시모음', '인생 여행 시', '보홀 자유여행 후기', '선유도 당일치기', '항해 에 관한 시', '미쉐린 뜻', '제주 용천동굴 입장료', '10월 등산', '걷기여행 50선', '유럽 캐리어 도난', '즐거운 여행 보내세요', '정다운 도보여행', '자유여행 장점', '양구 대암산 솔봉', '유럽 배낭여행 짐', '대전 벚꽃', '공정여행 한자', '배낭여행 신발', '수원화성 둘레길', '9월 축제 2023', '베지테리언 종류', '화성행궁 야간개장 후기', '서울 둘레길 6코스', '2024년 4월 축제', '선유도에서 즐길 거리', '군산 선유도 1박2일 여행', '2024 전국 꽃축제', '따잇 뜻', '프랑스오픈 테니스대회 상금', '서울 둘레길 8-2코스', '서울둘레길 2코스', '2024년 2월 축제', '전주 2박3일 여행코스', '9월 산행지 추천', '서울 세계불꽃축제 티켓', '전북 벚꽃 명소', '2024 2월 축제', '가방에 관한 시', '한예종 영화과 입시', '국내여행지 리스트', '광주 전남 3월 축제', '블루베리 블루리본', '패키지 여행 영어로', '한국 유행 음식', '미슐랭 5스타 레스토랑', '슈퍼푸드 종류', '2023년 3월 축제', '전주여행 후기', '1주 유럽여행 비용', '서울 둘레길 2코스', '차량 이동시간 계산', '기간 영어로', '안중근공원 공영주차장', '동남아 3주 여행', '폴로 베지테리언', '송파구 중학교 순위', '세계여행 배낭 무게', '제주도 말목장 체험', '2023년 청계천 등불축제 기간', '유럽 세미패키지 vs 자유여행', '진주회관 포장', '창원 대암산', '자유여행 단점', '100대 명산 스탬프', '여의도 벚꽃 축제 일정', '미쉐린 타이어 등급표', '거문오름 후기', '2024년 1월 축제', '서울둘레길 스탬프북', '8월 축제 가볼만한 곳', '남포동 시장 먹거리', '12월의 시모음', '11월의 시모음', '대학생 유럽여행 경비', '반딧불이 생애', '유럽여행 10일 비용', '유럽여행 15일 경비', '한국전통문화전당 주차장', '청주 에서 하이원', '미쉐린 CC2 단점', '산들산들', '맛집탐방 영어로', '구경시장 맛집', '50대 여행 동호회', '숙소 영어로', '양구 대암산 최단코스', '경남 4월 가볼만한 곳', '가야 판갑옷', '만장굴 입장시간', '세계 5대 슈퍼푸드', '전국 유명 5일장', 'cjb 해외문화 탐방', '우리나라 3대 재래시장', '블로그 리뷰 쓰는법', '여행 주제 예시', '여행이란 무엇인가', '서울 궁궐투어 코스', '로컬식당 이란', '프랑스 전통음식', '서울 안내산악회', '미슐랭 이란', '제주도 도보여행 코스', '독산성 산림욕장', '한예종 내신 등급', '맛집 블로그 순위', '프랑스 음식 특징', '국립전통예술고등학교 학비', '프랑스 전통문화', '재미있는 블로그 이름', '국립 전통 예술 고등학교 학비', '블로그 이름 바꾸기', '서울 산수 산악회', '유럽여행 백팩 소매치기', '청계천 등불축제 기간', '양구 대암산', '코리아둘레길 스탬프북', '여행 인사말 뭐가 좋을까요', '마포구 미슐랭 식당', '덕풍시장 맛집', '그리스 여행 후기', '스페인여행 동선', '피렐리 타이어 등급', '피렐리타이어 가격표', '여행 시모음', '서울 기숙사 있는 고등학교', '음식점 리뷰 예시', '해외여행 동선 사이트', '도보 거리 측정', '킬리 배낭 단점', '학교 예술강사', '만장굴 관람소요시간', '미슐랭 쉐프란', '만장굴 입장료', '세계 5대 수퍼푸드', '공주 근대역사문화탐방로', '모수', '여행 안부인사', '캐리어 vs 백팩', '다음 카페 향기있는 좋은글', '남프랑스 여행 후기', '화천 여행코스', '외국인 한국 관광지 순위', '베스트 산악회', '자유여행 패키지 장단점', '슈퍼푸드 귀리쌀 캐시워크', '공정여행 실천 방법', '창원 대암산 등산코스', '장거리 트레킹 준비물', '오봉산최단코스', '대암산 등산코스', '위클래스란', '미슐랭 등급', '양구 대암산 등산코스', '제주 반딧불이축제 2023', 'wee 클래스란', 'sbs 방송국 견학 신청', '오산 가볼만한곳 베스트10', '전남 벚꽃 축제', '겨울 2박3일 국내여행 추천', '겨울 울진여행', '동남아 배낭여행 짐싸기', '유럽 배낭여행 가방 크기', '보홀 자유여행 경비', '보홀 여행 팁', '전통미술 뜻', '선유도 가는법', '거문오름 탐방안내소', '유럽여행 동선 추천', '거문오름 탐방예약', '동선 짜는 앱', '백년가게 뜻', '여의도 불꽃축제 일정', '해외 음식 축제', '여행 일정 영어로', '자유여행 영어로', '여행가다 영어로', '서울 벚꽃 축제 일정', '군산 카페 추천', '벚꽃 지는 시기', '보홀 시내', '봄 시 모음', '2월 시모음', '전주여행 실망', '배낭여행 가방 추천', '유럽 배낭여행 숙소', '1시간 걷는 거리', '아름다운 도보여행 카페', '겨울 유럽 배낭여행', '서울둘레길 gpx', '독일 여행 쇼핑리스트', '경주 남산 코스', '전주 한옥마을 놀거리', '프랑스 테니스', '미슐랭 빕구르망 지도', '전남10월 축제 일정표', '용인 코스모스 축제', '서울 향토음식', '전국 3대 전통시장', '백 영어로', '유럽 배낭여행가방 크기', '거문오름 코스', '대한민국 전통문화 캐시워크', '진주 아트박스', '남자 혼자 강원도 여행', '윔블던 오픈', '프랑스 음식 종류', '세미 패키지란', '신 마포 산악회', '만장굴 소요시간', '전주 1박2일 여행코스', '시니어 일자리 정보 사이트', '전남 축제 일정', '티스토리 수익 100만원', '망원동 프랑스 음식점', '부산 체험학습 갈만한 곳', '영어로 11월', '기후 영어로', '부산 아이들과 체험학습 할 만한 곳', '전라남도 축제 일정', '여행 종류', 'Go on a trip', '제주세계자연유산센터 전기차충전소', '서울둘레길 1-2코스', '산수 산악회', '9월 강원도 축제', '산수산악회', '전남 축제 일정표', '3주 유럽여행 비용', '프랑스 테니스 오픈', '서울 둘레길 3코스', '프랑스오픈 테니스대회', '프랑스오픈 테니스대회 우승상금', '대전시 서구 맛집', '프랑스오픈 테니스대회 대진표', '서울 둘레길 5코스', '서울 맛집 블로그', '순천 광양 가볼만한곳', '한예종 등급컷', '제주 빈2020', '외국인이 이해하기 힘든 한국문화', '그리스 여행 주의사항', '국립생태원 식당', '서천 국립생태원 입장료', '가야cc 회원권 가격', '지역별 대표음식', '가야cc회원권 가격', '프랑스 2주 여행 코스', '파리 여행 쇼핑 리스트', '여의도 진주집 시청 진주회관', '진주집', '쿠팡 와우 월회비', '슈퍼푸드의 진실', '전립선암 퀴즈', '여행 가방 영어로', '전라도 5월축제 일정', '캐시워크 전립선암', '미슐랭 5스타 셰프', '시청 진주회관', '도보 길찾기 api', '전주 한옥마을 데이트 코스', '경남 8월 축제', '전남 이달 축제', '경남 7월 축제', '안동 문화재 야행', '진시장 맛집', '외국인에게 소개하고 싶은 한국 관광지', '2023년11월축제', '제주 어린이 박물관', '국립국악 고등학교 학비', '바이나흐튼 크리스마스 마켓', '미쉐린 가이드선정', '프랑스오픈 테니스대회 중계시간', '공항 입국장 영어로', '서울 장미축제 가는길', '서울 시장투어', '해외여행 동행 카페', '국내 2박3일 뚜벅이여행', '충남 걷기 좋은 길', '유럽 배낭여행 준비물 정리', '거문오름 탐방 소요시간', '가야가야', '비건 베지테리언 차이', '부모님 국내여행지 추천', '혼자 유럽여행 추천', '여의도 불꽃축제 시간', '부평깡통시장 먹거리', '전남 10월 축제', '거문오름 예약', '10월 산행지 추천', '선유도 관광안내도', '아프리카 착종 뜻', 'ebs 중등 인강', '아프리카 방셀 뜻', '문화유산 영어로', '기후변화 영어로', '프랑스 여행 후기', '서울세계불꽃축제 2023 골든티켓', '인제 가볼만한곳 베스트10', '국립생태원 입장료', '10월 시모음', '단풍 시모음', '시청역 진주회관', '유네스코 세계 문화유산 영어 로', '블루리본캠페인 캐시워크 9월16일', '미쉐린 빕구르망', '첫 유럽여행 추천', '시크릿 블루 베이커리 카페', '미슐랭 5스타 한국', '부산 현장체험학습', '대구mbc해외 문화 탐방', '네이버 블로그 수익 인증', '4050 꽃향기 여행과 산행', '여자 혼자 여행 할만한 곳 해외', '세미패키지 단점', '프랑스 결혼 문화', '프랑스 팁문화', '수원화성 축제 일정', '프랑스 문화충격', '신장시장 맛집', '안내산악회 리스트', '수원화성 축제 2023', '성보예술촌 전통문화체험관', '화성행궁 야간개장 예매', '노인일자리 신청자격', '한예종 교수 연봉', '화성행궁 야간개장 시간', '터키 패키지여행 후기', '남도 여행 길잡이 관광지도', '예술중학교 학비', '충남 걷기좋은길', '유네스코 영어로', '녹차 성분 캐시워크', '파리 여행 팁', '혼자 여행 후기', '부산에서 서울 여행', '대구mbc 해외 문화 탐방', '한국예술종합학교 출신 연예인', '오산 필봉산', '수원화성 야간행사', '독일 여행 쇼핑', '밀라노 가야식당', '프랑스 남부 자동차 여행', '세계 14대 슈퍼푸드', '경기도 음식 특징', '2023 F&B 트렌드', '행사 일정 영어로', '국립전통예술고등학교 입시', 'mactan kaya korean restaurant (가야식당)', '진주 중앙시장 맛집', '부산 체험학습 장소', '맛집 리뷰 블로그', '블로그 수익 후기', '유럽 배낭여행 후기', '진주 재래시장', '6월 지역 축제', '하림 블로그', '경기도 중학교 순위', '유럽 2주 여행 경비', '하남 신장시장 맛집', 'Exploitation 뜻', '세계 10대 슈퍼푸드인 녹차 캐시워크', '2023 세계 10대 슈퍼푸드', '동남아 여행 루트', '6월 나들이 갈만한 곳', '7월 축제 가볼만한 곳', '베지테리언 비건 차이', '미슐랭 5스타', '서울 부산 국토대장정 비용', '엠티산악회', '남프랑스 여행하기 좋은 계절', '국내 배낭여행 준비물', '여자 백팩 브랜드 순위', '배낭여행 준비물 체크리스트', '우리나라 지역별 향토음식', '화대 종주 안내산악회', '한국사 발표 PPT 템플릿', '슈퍼푸드란', '서울 둘레길 8코스', '산악회 순위', '서울둘레길 어플', '서울둘레길 8코스', '현장체험학습 가기 좋은곳', '전북도민일보 신춘문예', '이탈리아 스포츠카 브랜드', '미슐랭 3스타 뜻', '오산여행', '거문오름 소요시간', '여행을 가다 영어로', '강원도 백년가게 1호 음식점', '유럽여행 10일 코스', '백년가게 맛지도', '강남 산악회', '수도권 산악회', '한국 유명 유적지', '미슐랭 4스타', '2023 8월 축제', '전국 유명 재래시장', '유럽 여행 추천 나라', '경남 축제 일정표', '문화재단 로고', '인제군청 조직도', '제주도 역사 탐방', '강남 미쉐린 가이드', '가족여행 목적', '전국 4월축제 일정', '선화예중 입시요강', '순천근처 가볼만한곳', '오산근처 가볼만한곳', '오산여행지', '한국외국인 관광지', '미쉐린 프리미어 AS2', '제주도 반딧불 축제', '3월 전국 축제', '서울 행사 2023 8월', '오산시 가볼만한 곳', '캐시딜 캐시워크 정답', '미쉐린 프리미어 as2', '도산서원 입장료', '대전 대동 쌈주머니', '수원 화성박물관 주차장', '제주도 재밌는 체험', '전라도 음식이야기', '재래시장 크기순위', '제주도청 민원실', '제주도 재미난 체험', '한반도 습지 생태문화관', '세계 10대 축제', '자유여행 패키지 비용', '예쁜 블로그 이름', '서울 예술종합학교 출신 연예인', '공주 근대역사문화탐방로 b', '강원도 인제 여행코스', '아라동 역사문화탐방로 1코스', '서울 공연예술고등학교 교복', '디톡스 주스 추천', '미쉐린 AS2', '프랑스 대표음식', '아프리카 탐방허용', '선유도 지도', '세계 유명 축제', '국제시장 물떡', '전남 2월 축제', '깡통시장 먹거리', '전국 유명 전통시장', '세계 축제 소개', '11월 산행지 추천', '문화유산 방문 캠페인 여권', '배낭여행이란', '도보여행 준비물', '수원 재래시장 맛집', '대만놀거리', '세계 여러 나라의 축제', '전주 이색체험', '일상에 관한 시', '신장동 맛집', '울산대공원 키즈테마파크', '전라도축제하는곳', '퀴즈 정답', '문화생활 이란', '프랑스 유명한 음식', '독일 기차여행', '음악축제 애인페스티벌', '경기도 기숙사 있는 고등학교', '인제군 청 조직도', '네이버 지도 소요시간', '서울시청 진주회관', '걷기 좋은 숲길 50선', '인제 여행코스', '파리 자유여행 후기', '전국 11월 축제 일정 안내', '문화생활 뜻', '카페 그랑블루', 'Exploration 뜻', '문화관광해설사 업무시스템', '프랑스 파리 대표음식', '문화관광해설사 업무 시스템', '아라동 역사문화탐방로 2코스', '햇빛산악회', '강원도 오늘 축제 하는 곳', '네이버 리뷰 잘쓰는법', '문화재청 로고 png', '도보여행 영어로', '해외여행 동선 앱', '전주 사람 이 추천하는 전주 맛집', '세계 자연유산 순위', '서울 축제 2023 11월', '밀크터치 파이브 플라워 캐시워크', '한국 문화 예시', '전통 미술 작품', '문화관광축제 로고', '무전여행이란', '동양풍 PPT 템플릿 무료', '깔끔한 역사 PPT 템플릿', '수원 화성 달빛축제', '지역별 향토음식', '한국 소개 PPT', '자전거 여행 코스', '미쉐린 가이드 역사', '박닌 가야식당', '혼자 국내 배낭여행', '마음따라 도보여행', '부산 무료 체험', '6월 축제 가볼만한 곳', '소래포구 축제 일정', '배낭여행 가방 브랜드', '서울둘레길 앱', '맛집 블로그 수익', '더 클래식 학원', '전통 PPT 무료 템플릿', '수원화성달빛축제', '2023년 5월 축제', '대구 엠비씨 문화 탐방', '블루리본 캐시워크 9월 16일 정답', '패키지여행 단점', '고령 가야식당', '패키지 여행 단점', '울진관광지도', '울진먹거리', '재래시장 순위', '보길도 여행코스', '남해여행 맛집', '미슐랭 3스타 가격', '해독주스 간수치', '수원 화성행궁 행사 일정', '국립국악고등학교 학비', '부산 초등학생 데리고 갈만한 곳', '서울둘레길 인증', 'Itinerary 뜻', '프랑스 배우', '독일 관광지 순위', '해외 자유여행 준비', '오션월드 셔틀버스 예약 방법', '구례여행코스', '4월 꽃축제 일정', '국내 부부여행지 추천', '서울세계불꽃축제 명당', '디톡스 진실', '서울 세계불꽃축제 명당', '세계의 여러 축제', '인제 관광지 추천', '인천 중학교 순위', '여권사진 재사용', '노인일자리 업무시스템', '동아방송예술대학교 수시등급', '7월꽃구경 가볼만한 곳', '인제군 로고', '거문오름 탐방시간', '그랜저 ig 미쉐린 타이어 가격', '코스트코 미쉐린 타이어 가격표', '일본 도쿄 유적지', '수원화성 축제 기간', '미쉐린 타이어 후기', '미슐랭 스타 의미', '프랑스 일주일 여행 코스', '한국문화 관련 자격증', '슈퍼푸드 목록', '한국 역사 유적지', '서울둘레길 1코스', '한예종 입시 내신', '장거리 도보 길찾기', '패키지 여행 쇼핑 안하면', '파리오픈 테니스', '윔블던 테니스', '미슐랭 가이드 대만', '전통시장 규모 순위', '서울 둘레길 1코스', '김천 테마여행사', '향토음식 종류', '슈퍼푸드 녹차 캐시워크', '문화유산 방문자 여권 신청', '유니시티 디톡스 부작용', '세계 슈퍼푸드', '전주 베이킹 클래스', '디톡스 허구', '베이킹클래스 쇼콜라', '코스트코 미쉐린 타이어 가격', '10대 슈퍼푸드 캐시워크', '크로스클라이밋2 코스트코', '미쉐린 크로스클라이밋2 소음', '미쉐린 가이드 더 플레이트', '세계 10대 슈퍼푸드 캐시워크', '슈퍼푸드 순위', '삶은 여행이다', '미쉐린 cc2 타이어', '슈퍼푸드 뜻', '제주도 음식문화', '도보여행 카페', '문화재청 로고 ai', '태화강 국가정원 입장료', '대구 오페라 축제', '7월 경기도 축제', '일본 역대 천황 얼굴', '한국 일본 국토면적 비교', '인터파크 청년 문화예술패스', '문화예술이란', '문화유산 여권 신청', '동남아 배낭여행 경비', '부산 근교 아이랑 가볼만한곳', '예술중학교 순위', '한강역사탐방 여의나루 길', '프랑스 여행 일정표', 'sbs방송국 견학', '울산대공원 아쿠아시스', '프랑스 전통 집', '전주예술고등학교 학비', '순천 볼거리', '공정여행 뜻', '2월 전국 축제', '문화유산 스탬프 투어', '옛구암서원 전통문화체험관', '송도 세계 음식문화 축제', '전국 6월축제 일정 안내', '울진 가볼만한곳 베스트10', '데카트론 바람막이 후기', '서울 약령시 공영주차장', '한강 가는법', '청나라 멸망', '겨울 국내 여행지 베스트 10', '가성비 좋은 해외여행', '유네스코 한국위원회 로고', '여행하다 영어로', '공연 영어로', '전남가을축제하는곳', '전주 한옥마을 가는법', '서울예술실용전문학교 학비', '진주성 입장료', '책임여행', 'sbs 채널번호', '강릉 차없이 여행', '8월 지역 축제', '진주 중앙시장', '대만 여행 주의사항', '대만 여행지원금', '대만 여행 4박5일 코스', '혼자 생각정리 여행', '세계 축제', '자유여행 패키지란', '국립전통예술고등학교 기숙사', '한국문화예술위원회 연봉', '대전 명소탐방', '2023 10월 부산 축제 일정', '제주 동굴카페', '전국 5월 축제 일정표', '서울 실내 체험', '전국관광지도 pdf', '전통미술', '캐나다 몽트랑블랑', '가야수레토기', '프랑스 피카소 미술관', '서울 축제 2023 12월', '한지 PPT 템플릿 무료', '세계 특이한 축제', '제주 반딧불이 축제', '도동서원 배치도', '차 없이 혼자 여행', '감동포구 생태여행 축제', '도보여행 어플', '화성행궁 야간개장 2024', '유럽 패키지 여행 비용', '전국 3월 축제 일정', '2023 대구 축제 일정', '제주도 행사 일정', '국립 전통 예술 고등학교 기숙사', '전국 5월축제 일정', '제주도 축제 일정', '서울 세계불꽃축제 캐시워크 9월25일', '동대문역사문화공원 놀거리', '거문오름 탐방', '등산 영어로', '한예종 영상원 입시', '포항 축제 일정', '수원화성 야간개장 2024', '전국 3월축제 일정', '유네스코 세계문화유산 영어로', '보라카이 재래시장 맛집', '인생길따라 도보여행', '일본 결혼 문화', '청나라 멸망원인', '미쉐린 프리미어 LTX 후기', '문화재청 방문자여권', '서울 대표 음식', '대안여행 종류', '스페인 대표팀 명단', '세계 주요 축제', '예술 중학교 순위', '길따라 떠나는 도보여행', '파리 여행 쇼핑', '당일산악회', '전국 4월축제 일정 안내', '7월 축제 하는곳', '제주세계자연유산센터 입장료', '미슐랭의 뜻', '오봉산 맨발등산길', '문화관광해설사 통합예약', '알라방 가야식당', '문화유산 방문코스 여권', '전주 관광지도', '제주도 액티비티 추천', '프랑스 음식 이름', '공정여행 이란', '여의도 한강공원 유람선', '세계 10대 슈퍼푸드 오트밀 - 입문자를 위한!', '세계 5대 축제', '전국 2월 축제 일정', '푸드 영어', '2월 지역 축제', '암웨이 디톡스 부작용', '벚꽃축제 장소', '미슐랭 스타 개수', '재택근무 영어로', '백년가게 로고', '제주 벚꽃 축제 일정', '다음 내카페 바로가기', '자유여행 뜻', '서울 안산둘레길 코스', '국내 숲 여행지', '8월말 가볼만한 곳', '2월 축제 가볼만한 곳', '청계천 등불축제 2023', '문화관광해설사 수입', '믿을만한 맛집 블로거', '한국 여행사 순위', '외국인 한국 여행 코스', '원주 7월 축제', '미슐랭 뜻', '돌문화공원 입장료', '유럽여행 필수코스', '대전 백년가게', '전국 자동차 여행', '국내 액티비티 여행', '베지테리언 뜻', '왕이보 문맹', '문화재청 방문자 여권', '직업체험하는 곳', '세계10대음식', '전주 cgv', '청주 에서 비발디 파크', '세계의 재밌는 축제', '공정여행이란', '데카트론 품질', '전주 한옥마을 특징', '해외여행 영어로', '놀이터 영어로', '노인일자리 사이트', '파리 2박3일 코스', '힐링하기 좋은곳', '중학교 학업성취도 순위', '문화재청 ci', '9월 18일 메디픽미 캐시워크 정답', '부산 중학교 순위', '전국 12월 축제 일정표', '여행에 관한 명언', '2023년 11월 축제', '국립공원 스탬프투어 2023', '선화예중 경쟁률', '우리나라 가볼만한곳100', '태화강국가정원 특징', '즐거운 여행 인사말', '한국 일본 축구 역대전적', '2023 슈퍼푸드', '국립국악고등학교 입시', '문화생활 영어로', '명품 숲길 30선', '국립 국악고등학교 입시', '울산 대공원 북카페', '미쉐린 크로스클라이밋2 가격', '크로스클라이밋2 수명', '현장학습 체험 보고서', '세계에서 가장 큰 시장']\n",
      "True\n",
      "True\n",
      "Data loaded from JSON\n",
      "['matlab for문 데이터 저장', '한국 입국시 비자 필요없는 나라', 'sns 종류와 특징', '여행가는 꿈', '로알남 워드프레스 주소', 'Upwork 개발자', '유럽여행 계획 엑셀', '효율 과 효과 의 차이', '파이썬 eval 함수', '효과성 효율성 사례', '세계 sns 순위 - 2022', '효과성 사례', '생산성 효율성 효과성', '선산 가볼만한 곳', '프랑스 지방 여행', '여행 가이드북 만들기', '업워크 마일스톤', '일본 여행 예산 엑셀', '미국 j1 비자 신청 방법', '인플루언서 마케팅 문제점', '여행계획 엑셀', '유럽여행 엑셀', 'matlab 여러 파일 불러오기', '엑셀 여행 계획표', '인플루언서 마케팅 관련주', '직업적응 이론', '효율성 제고 뜻', 'ESTA 비자 신청 방법', '마케팅의 개념 3가지', 'JavaScript eval 대체', '국내여행안내사 난이도', '일상기록 어플', '매트랩 m파일 저장', '유럽여행 경비 엑셀', '기업 sns 마케팅 성공사례', '트라비포켓 사용법', '여행 예산 엑셀', '프랑스 여행경비', '대학생 유럽여행 경비', '유럽여행 준비물 엑셀', '유럽여행 15일 경비', '마이뱅크 여행자보험 쿠폰', '효과적 경영 효율적 경영 사례', '프리랜서 로드맵', '효율적 효과적', '디지털 노마드 현실', '디지털노마드 현실', '해외 현지 가이드 되는 법', '예산 가볼만한곳 베스트10', '스플릿와이즈', '노이즈 마케팅이란', '여행가다 영어로', '일본 여행 입국앱', '자유여행 영어로', '업무 효율성', 'hwp pdf 변환', '디지털 노마드 후기', '리더십 행동이론', '마케팅 기법 종류', 'matlab 파일 불러오기 경로', '소셜 뜻', '3주 유럽여행 비용', 'rms 값 실효값', '호주 패키지 여행 환전', '예산시장 가는 길', 'Upwork 후기', '여행 가이드북 추천', '여행 정산 어플', '예산 10경', '여행경비 정산 어플', '발리 비자 발급', '마케팅 전략 뜻', '리뷰출또', '여행예산 엑셀', '유럽 3주 여행', 'B2B B2C 영업 차이', '멀티미디어콘텐츠제작전문가 쓸모', '효율적이다 뜻', '예산시장 근처 가볼만한 곳', '프랑스 여행 필수', 'MATLAB clc', '매트랩 clear clc', '마이뱅크 여행자보험 후기', '가계부 앱 추천', '가계부 어플 추천', '디지털 노마드족', '프리랜서 하기 좋은 직업', '매트랩 eval for문', '매트랩 clear all', 'MATLAB eval 대체', '프리랜서 직업군', '호주 eta 비자 신청', '트위터 마케팅 성공사례', '충남 홍성 가볼만한곳', '여행 경비 계산 어플', '매트랩 스크립트 불러 오기', '마이리얼트립 불법', '삼성화재 여행자보험 휴대폰 파손', '국내여행안내사 연봉', '예산 주변 관광지', '매트랩 sprintf', '업무 효율성 영어로', '예산여행코스', '예산 여행코스', '매트랩 작업공간 도킹', '아일랜드 여행경비', '적응문화 특징', '문화적응 스트레스', '매트랩 행렬 txt 저장', '디지털 노마드 커뮤니티', '매트랩 whos', 'MATLAB 변수 이름 for 문', '충남 예산 가볼만한곳', '매트랩 변수 한번에 바꾸기', '국내 여행 동선 앱', '매트랩 load', '구글 여행기록', '효과성 영어로', '해외여행 동선 앱', '가성비 좋은 해외여행', '여행가이드 학과', '소셜 미디어 플랫폼 종류', '일본 입국심사 질문', '현대해상 여행자보험 후기', '예산 가볼만한곳 추천', '예산 문화관광', '마이뱅크 여행자보험 청구', '마케팅 홍보 차이', '효율성 향상', '제고하다', '디지털노마드 현실 디시', '매트랩 문자 변수 선언', '해외여행 인기순위', '2박3일 부산여행경비', '매트랩 eval', 'SNS 마케팅 단점', '소셜 네트워크 줄거리', '현대해상 여행자보험 휴대폰 파손', '충남 예산군 가볼만한 곳', '여행자보험 필요한가', '해외 숙박 어플 순위', '안티소셜 네트워크 밈에서 대혼란으로', '소셜미디어 sns 차이', '매트랩 mat 파일 불러오기', '업무 효율 프로그램', '마케팅 정의 예시', '해외여행책 추천', '여행 가이드 자격증', '디지털 노마드 뜻', '매트랩 미지수 선언', '소셜미디어 마케팅 장단점', '문화 적응 단계', '매트랩 자료형 확인', '디지털노마드 뜻', '디지털노마드 추천', '관광가이드 알바', '소셜미디어 마케팅의 비밀', '여행가이드 자격증', '소셜 네트워크 종류', 'B2B, B2C 뜻', 'MATLAB eval', '업무 효율성 측정', '관광가이드 전망', '쿠팡 파트너스 현실 디시', '스타벅스 sns 마케팅 성공사례', '효율성 제고 재고', '스타 벅스 SNS 마케팅 성공사례', '구매관리 업무', '인도네시아 비자발급', 'matlab 전역변수', '업무 효율성 향상', '국내 여행 가이드 연봉', '여행가이드 알바', 'MATLAB eval 함수', '효율성 뜻', '여행 정산 계산기', '매트랩 m 파일 불러오기', '효과적인 마케팅 전략', '여행노트 앱', '소셜 네트워크 서비스 종류', '소셜네트워크 종류', '내가 생각하는 마케팅이란']\n",
      "True\n",
      "True\n",
      "Data loaded from JSON\n",
      "['VirtualBox 설치', '자율주행자동차 단점', '머신러닝 파이썬 코드', '보안정책캡처할수없을때', '증강현실 예시', '산업안전 관련학과', 'nft 가상화폐 차이', '라즈베리파이 adc 컨버터', '스마트홈 사례', '스마트홈 장단점', '코딩 프로그램 추천', '디지털 트윈 관련주', '해외 VR 기업', '소프트웨어 개발자 장단점', '딥러닝 프로그램 만들기', '자바 개발툴', '기밀성, 무결성, 가용성 예시', '사물인터넷 사례 5가지', 'VRRP, HSRP', 'HSRP, VRRP 차이', '개발도구 개발환경 차이', '자율주행자동차 장단점', '무료 프로그래밍 툴', '프로그래밍 툴 추천', '디지털 대전환 교육', '자바 툴 추천', '프로그래밍 툴 종류', '혼합현실 사례', '자율주행 자동차 해킹 해결 방안', '주가를 움직이는 요인', '블루링크 연결오류', '파이썬 딥러닝 코드', '쉬운 딥러닝 예제', '딥러닝 실습 예제', 'lte 5g 변경', '딥러닝 예측 모델 예제', '손해평가사 실제수입', '딥러닝 예제 코드', '소프트웨어 개발자 전망', '패스트캠퍼스 데이터분석 후기', '파이썬 머신러닝 알고리즘', '메타버스 기업', 'aws 머신러닝 예제', '증강현실 활용분야', '해킹의 종류와 특징', '소프트웨어 개발자 등급', '우리은행 앱테크', '블루링크 공유', '엑셀 데이터 추출', '사회적 기업가 정신 실현 프로젝트 사례', '프로그래머 전망', 'pim 반도체 관련주', '머신러닝 알고리즘 예제', '네이버 해킹 원인', '주가 계산 공식', 'vrrp란', 'vrrp 동작원리', 'ict 사업', '딥러닝 예측 모델 종류', '삼성 AI 관련주', 'ar vr 메타버스', '프로그래머 회사 순위', '딥러닝 종류', '5G 와이파이 속도 비교', '머신러닝 예시', '국내 프로그래밍 언어 순위', '자율 주행 자동차 부정적인 영향', '데이터분석가 신입 연봉', '정보보안 신입 포트폴리오', '프로그래밍 언어별 분야', '프로그래밍 언어 순위 사이트', 'AMD 관련주', '광통신 관련주', '메타버스 vr 차이', '사물인터넷 성공사례', '사물인터넷 제품 70가지', '무료 메타버스 플랫폼', '농업 로봇 관련주', '게사장 네이버카페', '클라우드 커뮤니케이션 장단점', '미국 로봇 관련주', '메타버스 가상현실 증강현실', '커넥티드 카란', '영업비밀 침해 유형', '5g lte로 설정', '프로그래밍 툴 순위', 'kt cloud 장/단점', '디지털 전환 시대 교육', 'pdf 비밀번호 모를때', '사물인터넷 성공 사례', '사물인터넷 제품 70 가지', '사물인터넷 활용방안', '갤럭시 5g 설정', '정보보안 5대 요소', '증강가상', '갤럭시 탭 lte 요금제', '나노반도체란', '프로그래밍 언어 순위', '사회기술훈련 역할극', '대학생 빅데이터 프로젝트 주제', 'ar/vr 활용 사례', '아날로그 신호 예시', '메타버스 게임 추천', '메타버스 게임 순위', 'Exciting 품사', '디지털 신호 예시', '테크트리', '클라우드 서비스를 구현하는 핵심 기술', '시스템 보안 공부', '해외 IT 뉴스 사이트', '블루링크 안될때', '딥러닝 모델 정리', '블루링크 네트워크 연결을 할 수 없습니다', '잘하는 개발자 특징', '음향 빔포밍', '머신러닝 실생활', '파이썬 딥러닝 예제 코드', 'mimo 동작원리', '해외 스타트 업 정보', '국내 스타트업 성공사례', '머신러닝 기법', 'CPU virtualization', 'WCDMA 주파수', '텐서플로우 딥러닝 예제', '기아 커넥트 원격시동 실패', '양자암호 관련주 미국', '리눅스 클라우드 서버 구축', '딥러닝 구현 방법', '텐서플로우란', '머신러닝 용어 정리', '데이터 쉐어링 활용', '해킹보안 공부 순서', '가트너가 제시한 AI 혁신 의 트렌드 보고서', '현대 로보틱스 관련주', '개발 기획서 예시', '메타버스 가상현실', '혼합현실 활용 분야', '혼합현실 특징', 'virtualbox란', 'virtualbox 수동으로 제거', 'virtualbox interface', '버추얼박스 윈도우10', 'VirtualBox 삭제', 'AR/VR 제품', 'jn테크리뷰 카페', '버추얼박스 사용법', '블루링크 연결 안됨', '사물인터넷 전문가 연봉', 'skt 알뜰폰 데이터 쉐어링', '아날로그-디지털 변환 공식', '데이터 분석 GUI', '고등 영어 레벨테스트 pdf', '커넥티드카란', '소프트웨어 제작 프로그램', '사회적 기업가 정신 사례', '사이버 보안 공부', 'virtualbox 제거', 'virtualbox 사용법', '중학생 영어 레벨테스트 pdf', 'mr 혼합현실 사례', '모바일 네트워크에 연결합니다 알림', '머신러닝 공부 로드맵', 'SK 로봇 관련주', '현대 로봇 관련주', '미국 메타버스 관련주', '아날로그신호 디지털신호 변환', '반도체 선폭', '웹 보안 공부', 'IoT 예시', '개발 프로세스란', '나노 소재 관련주', '해외 메타버스 주식', 'VR 카메라 추천', '데이터 유형 분류', '머신러닝 분류 예시', '머신러닝 예제', '의료용 로봇 관련주', '디지털 신호를 아날로그 신호 변환 과정', '윈도우10 환경변수', '머신러닝 지도학습 종류', '스마트 농업 관련주', '텐서플로우 예제 모음', 'xrd 원리', 'xrd 분석', '블루링크 오류코드', '파이썬 머신러닝 기초', '딥러닝 머신러닝 공부 순서', 'adsp 시험일정 2024', '하드웨어 개발 프로세스', '스마트 기술 종류', '현대로보틱스 관련주', '가트너 보고서', '2차전지 음극재', 'skyy 보드카', '나노기술연구협의회 종합실무 후기', '코인 deposit', '시큐레터 보호예수', 'AWS 자격증 로드맵', '완전몰입형 가상현실', '영어 레벨 테스트 PDF', '로우 데이터란', '서빙 로봇 대장주', 'IT 디자이너 종류', '클라우드 컴퓨팅 기업 사례', 'aws란', '증강현실 게임 사례', '5G LTE 유심 차이', '21세기 가상현실 체험관', '코어코인 에어드랍', 'aws 란', '머신러닝 파이썬', '소프트웨어 개발자 단점', '정보보안 취업 준비', '클라우드 커뮤니케이션에 대한 설명 중 잘못된 것은', '빅데이터분석기사 adsp 차이', '스팀 VR 게임 추천', '파이썬 ai 오픈소스', 'Ad 변환 과정', '프로젝트 개발 과정', '사이버보안학과 순위', '자율주행자동차 부정적 영향', '양자컴퓨터 미국주식', '프로그래밍 분야 정하기', '빅데이터 분석기사 필기 pdf', '엑셀 데이터분석 설치', '딥러닝 학습 과정 시각화', '딥러닝 ai 만들기', '기밀성, 무결성, 가용성', 'pdf 분할 인쇄', '파이썬 딥러닝 예제', '해결 영어로', '머신러닝 for 키즈 개발자', '첨가행렬 계산', 'LG 데이터 안됨', '자율주행 인공지능 알고리즘', '메타버스 게임 종류', 'LTE Band 주파수', '프로그래머 개발자', '소프트웨어 개발자 단가', '공기계 데이터 쉐어링', '차에 타다 영어로', '완전 몰입형 가상현실', '자율주행 알고리즘 종류', '디지털 전환 교육 사례', '동형암호 관련주', '커넥티드 부스터', '해외 양자컴퓨터 관련주', '자율주행 영어로', '자기개발 영어로', '5g 설정', '개발자 특징', '아날로그 디지털 변환 과정', '소프트웨어 구현 단계', 'SKT 5G 요금제 추천', 'vrf', '화학 책 세특', '해킹 방지 기술', '스타트업 마케팅 성공 사례', '옷 브랜드 로고 찾기', '파이썬 공공데이터 분석 예제', '소프트웨어 프로세스 모델을 선택할 때 필수적 으로 고려할 사항', '기업가치평가 엑셀', '블루링크 등록 오류', '빅데이터 프로젝트 주제', '블루링크 연동 가능한 사용자가 없습니다', '제우스 기업분석', '알뜰폰 5g lte 차이', '머신러닝 소스코드', '대체품 영어로', '일을 처리하다 영어로', 'erp 스타트업', 'tensorflow 머신러닝', '아파트 브랜드 순위 100', '생산 lot', '머신러닝 시작하기', '머신러닝 예측 모델 종류', 'lot 번호', '가상현실 메타버스', '페이스북 관련주', '머신러닝 파이썬 사용 이유', '앱 개발 표준계약서', '미국 자율주행 관련주', '디지털 바이오 관련주', 'Vrrp-group', '사물 인터넷 영어', '개발 플랫폼이란', 'VRRP v2 v3 차이', '투자 유치 종류', '모바일 유튜브 끊김현상', '엑셀 데이터 분석 탭', '데이터 분석 포트폴리오 Github', '어워즈 뜻', '붕소 관련주', '기업가 사업가', '파이썬 주식 분석', '기업가치 계산 엑셀', '마인드셋 한국어로', 'as-is to-be', '한글 PDF 암호 설정', '프로젝트 기획서 예시', '알pdf 암호 설정', 'IT 프로젝트 기획서', '알뜰폰 데이터 쉐어링 추천', '머신러닝 수학적 원리', '판타지 미드 추천', '스타트업 취업 현실', '파이썬 빅데이터 분석 연습문제', '나노 분광학 시험', 'SPTA 공정실습 후기', '텐서플로우 케라스 통합', '손해평가사 수입', '텐서플로우 파이토치 점유율', '텐서플로우 자격증', '딥러닝 용어', '정보보안 공부 순서', '스마트폰 해킹 확인 사이트', '블라디미르 스킨', '데이터 분석 인턴 후기', '사물인터넷 일상생활 사례', '양자 컴퓨터 etf', 'vrrp 포트번호', '커넥티드카 장단점', '데이터 네트워크 방식', '딥러닝 실생활', '고2 화학 추천도서', '갤럭시 5g lte로 바뀜', '고3 화학 추천도서', '고등학교 화학 추천도서', '화학책 독후감', '고등학생 화학 추천도서', 'VR체험 가격', 'vrrp 로드밸런싱', '국가공인 데이터 분석 준전문가 자격증 adsp', 'AWS 클라우드 장점', '문제를 해결하다 영어로', '자율주행차 영어로', '가성비 헤드셋', '프로그래밍 언어 분류', '프로그래밍 언어 종류와 특징', '문제가 해결되다 영어로', '구글 챗봇 관련주', '상황을 해결하다 영어로', '네이버 클라우드 관련주', '가상현실 증강현실 메타버스', 'IT 트렌드 사이트', '달 영어로', '해결하다 영어로', '운동하다 영어로', '빅데이터 분석 프로젝트 주제', '크래커 해커', '머신러닝 모델 종류', '메타버스 인공지능 관계', 'lot란', 'nftc', '한국과학기술정보연구원 인턴 후기', '사물인터넷이 우리 생활에 미치는 영향', '초전도 양자 컴퓨팅', 'AR, MR', 'ad컨버터 종류', '아주대 국방디지털 융합 학과 수시 등급', '1TB 무료 클라우드', '빔포밍 단점', '토크 컨버터 구조', '한pdf 암호 설정', '디지털 빔포밍', '퍼블릭클라우드 단점', '나노기술연구협의회 소자공정 시험 문제', '나노종합기술원 반도체 교육 후기', '미국 클라우드 관련주', 'virtualization란', '휴대폰 주파수 대역 확인', 'etf 장기투자 단점', '문제를 처리하다 영어로', '이슈를 해결하다 영어로', 'iot 3대 주요기술', '스마트홈 활용 사례', '모바일 데이터 사용량', '머신러닝 딥러닝 차이', '내가 생각하는 리더십이란', '2022 교육과정 핵심역량', 'aws 클라우드란', 'ADC 회로 구성', '아날로그 디지털 부호화', 'PDF 편집 제한 해제', '현대자동차 스마트키 복사', '블루핸즈 스마트키 복사', '현대자동차 차대번호 사양조회', '메타버스 특징', 'nftc101', '마인드셋 하다', '메타버스 장단점', 'Mindset 뜻', 'mindset 뜻', '기업정보조회 3가지방법', '와이파이 2.4ghz 설정', '빅데이터 3v 5v 7v', 'cxl 반도체 관련주', '드림핵 로드맵', '미국 자율주행 ETF', '커넥티드 서비스란', 'SKT 5G 요금제 비교', '해외 메타버스 etf', '정보보안 전문가 역량', '디지털 트랜스포메이션 문제점', '메타버스 플랫폼 종류', '엘지 로봇 관련주', 'cxl 관련주', '미국 게임ETF', '구글 3D 곤충', '국내 메타버스 플랫폼 순위', 'lot no', '블루링크 서버와의 통신 중 오류', '가정 사물인터넷', '아날로그 디지털 차이', '코인 옆에 주', '나무가 분석', 'vr 보는방법', '와이파이 2G 5G 차이', 'ai 교육 관련주', '네비 내비', 'KEPCO Academy', '개발자 사회생활', '천안역 재개발', '스마트뷰 pc', '스마트뷰 미러링 안됨', '스마트뷰 연결안됨', '개발자 잡지', 'pc 스마트뷰', '배 영어로', '보안공부 로드맵', 'sk7모바일 데이터쉐어링', 'IT 뉴스 사이트 추천', '증강현실 가상현실 혼합현실', '빅데이터 분석가 관련 자격증', 'IT 정보 사이트', '애플 레버리지 ETF', '미국 나스닥 100 etf 비교', '금융인증서 클라우드 저장', '메타 데이터란', '반도체 공정기술', '정보 보호의 방법 탐지적 보호', '기업가 사업가 차이', '머신러닝 활용 사례', '사물인터넷 특징', '사물인터넷 활용사례', '사물 인터넷 코인', '스마트홈이란', '다음 데이터랩', '빅테크 핀테크 차이', '파이썬 인공지능 예제', '나노기술연구협의회 실습 후기', '새로운 시작 영어로', '머신러닝 알고리즘 분류', 'pytorch 딥러닝 예제', '머신러닝 학습 사이트', '윈테크 탄성', '소프트웨어의 예시', '소프트웨어 개발 프로세스 단계', '소프트웨어 개발 프로세스 산출물', '소프트웨어 개발 프로세스 모델', '내가 생각하는 인공지능이란', '소프트웨어 프로세스 모델', '데이터 통계분석 기법', 'BCBA 연봉', '가상현실 영화 추천', '메타버스 영화', '롤 브랜드 콤보', '비즈니스 영화 추천', '개발환경 개발도구', '디지털 아날로그 차이', 'Digitization, Digitalization 차이', '블루링크 커넥티드 번호', '인공지능 윤리 책', '메타버스 증강현실 사례', '혼합현실 증강현실 차이', '레노버 아이디어패드 슬림3 후기', '가상현실 증강현실 혼합현실', '프로그래밍 언어 배우는 순서', '미국 클라우드 대장주', '소프트웨어학과 대학 순위', '네이버클라우드 관련주', '프로그래밍 언어 점유율', '클라우드 커뮤니케이션 단점', '통신 케이블 관련주', '머신러닝 딥러닝 공부 순서', '3나노 반도체 관련주', '아이폰 5g lte로 설정', '5g lte 설정', '데이터분석 준전문가 현실', '스마트키 찾는방법', 'IT 기술 동향 사이트', '파이썬 데이터분석 프로젝트 주제', '클라우드 플랫폼 종류', '프로그래밍 과정 5단계', '사이버 보안의 종류 5가지에 대하여 나열하고', '사물인터넷 적용 사례', '스마트홈 iot 사례', '소프트웨어 설계단계 산출물', '아날로그-디지털 변환 예시', '파이썬 머신러닝', '네이버 데이터 분석 인턴', '드라마 스타트업 줄거리', 'vrrp', '사물 인터넷 사용 되는 곳', '켄트로 사우루스', 'AWS 클라우드란', '무료 통계분석 프로그램', '스타트업 드라마 줄거리', '개발자 문화', 'SDP 소프트웨어 개발 계획서', '딥러닝 모델 종류', '사업가 영어로', 'PyTorch 예제', '물리 보안 3요소', '사업가 영어', '한국 부자 순위 10 000', '딥러닝 알고리즘 7가지', '에코테크 뜻', '소프트웨어 개발 단계', 'Virtual insanity 뜻', '스타트업 벤처 차이', '핀테크 예시', '블루링크 음영지역', '블루링크 위치추적', '엑셀 데이터분석 상관분석', '웨이브 다운로드 데이터', '데이터 분석 프로젝트 예시', '메타버스 vr 사례', '머신러닝 기초 수학', '해킹 관련주', '디지털 신호를 아날로그 신호 변환 장치', '아날로그 신호 디지털 신호 변환 이유', '세계 100대 기업 순위', '텐서플로우 예제', '소프트웨어 학과 대학 순위', '시멘트 관련주', '이미지 재고', '머신러닝 종류 4가지', '머신러닝 포 키즈', '사업가 기업가 차이', '데이터 분석 파이썬 R', '5g lte 전환방법', '핀 테크 은행 차이', '딥 러닝 모델 개발', '마인드셋 뜻', '넷플릭스 클라우드 사례', '아날로그 특징', 'Exciting excited 차이', '파이썬 데이터 프레임 변수', '기술사회 혜택', '스마트키 등록비용', '해킹하는 척', '블루링크 먹통', '캐시워크 글로벌 패션 브랜드', '교육분야 인공지능 윤리원칙', '기업정보 조회 무료', '현대자동차 차대번호 조회', '휴대폰 데이터 설정', 'LG 로봇 관련주', '레이어2 코인 종류', '빅데이터 알고리즘', '갈등을 해결하다 영어로', 'ADC 변환 공식', '비즈니스 영화', '정보보안 전문가 하는일', '해결방안 영어로', '알뜰폰 데이터 쉐어링 2회선', '혼합현실 확장현실', '데이터센터 관련주', '미국 클라우드 보안 관련주', '구글페이 관련주', '스타트업 예시', '메타버스 플랫폼이란', '한국 유명 패션 브랜드', 'npdf', '블루링크 차량등록 오류', '감사보고서 미제출기업 조회', '파이토치 텐서플로우 케라스 비교', '유 플러스 데이터 쉐어링 아이 패드', '펀드 매니저가 되려면', '머신러닝 프레임워크 종류', 'lot 단위', 'the doobie brothers long train running 가사', 'running late', '가상현실 특징', 'lot 폴란드항공 후기', '윤태진 아나운서 학력', 'LOT번호', '세계100대기업 순위', '머신러닝 라이브러리', 'keep that in mind', '플랫폼이란 무엇인가', '낸드 관련주', '기계공학 통계학', 'lot항공 마일리지', '보도블럭 시공단가', '메타버스 nft란', '텐서플로우 케라스', '대학생 데이터 분석 프로젝트', '해군복지포탈체계', '자동차 스마트키 사용법', '스마트키 홀드버튼', '스마트키 hold기능', '화학책 추천', '업비트 rwa코인', 'IoT 일상생활 사례', '스마트키 홀드기능', '로봇 취업 현실', 'ETF 가격 결정 원리', '커넥티드 카 문제점', '이차전지 음극재 관련주', '클라우드 컴퓨팅 서비스 모델 3가지', 'dcf 가치평가', '컴퓨터 고등학교 순위', '세명컴퓨터고등학교 내신', 'lg 로봇 관련주', 'Sleepless AI 코인', '아날로그 방식이 디지털 방식으로 바뀐 사례', '포브스 세계 기업 순위', '머신러닝포키즈', '위성통신 관련주', 'AWS Practitioner', 'Digitalization 뜻', 'depin 코인 종류', '적정기술의 10가지 사례', '보안의 3대 요소 가 깨진 사례', '인공지능 데이터 전문가', '블록체인 트릴레마 해결', '직무조사 방법', '변증법적 정신치료', '한국 메타버스 게임', 'IoT 사물인터넷 지식능력검정', 'ai sora 사용법', '5g 데이터 쉐어링 알뜰폰', 'VR 관련주 미국', '애플 VR 관련주', '개발 플랫폼 종류', '정보보안의 종류', '정처 기 정보 보안 3 요소', '딥러닝 예제', '제조업 원가절감', 'AI 서비스 종류', '산업용 로봇 업체 순위', '데이터분석 부트캠프 추천', '소프트웨어 개발자 경력', '알파 네트워크 코인', '보안엔지니어 현실', '머신러닝 딥러닝 차이 예시', '나노신소재 특허', '구글 클라우드 플랫폼 평생 무료', '빅데이터의 종류 3가지를 나열하고 상세 내용을 서술', '빅데이터 구성', '미국 사이버보안 etf', '미국 메타 관련주', '데이터 분석 공모전 사이트', '나노기술연구협의회 시험 문제', 'Layer2 코인', '정보보안학과 대학 순위', '시큐레터 빈살만', '클라우드 블랙박스 문제', '핀테크 서비스 종류', 'sk텔레콤 통화품질', '빠르게 훑어보는 구글 클라우드 플랫폼', 'sk 통화품질', '5g 끄는법', '한세사이버보안 고등학교 커트라인', '사물인터넷 제품 사례', 'reality 가사 해석', '코어코인 채굴', 'C++ virtual', '2.4g 5g 속도차이', 'skt 통화품질', '알뜰폰 lte 5g 속도 차이', '한세사이버보안고등학교 커트라인', '빔포밍 마이크 원리', '셀룰러 데이터란', '머신러닝 사례', '파이썬 데이터분석 프로젝트', '자율주행 자동차 장점', '옷 브랜드 로고 모음', 'fido 인증', '의류 브랜드 로고 모음', '구글 키워드 분석 사이트', '유명한 브랜드 로고', '스타트업 투자 단계', '클라우드 플랫폼 관련주', '노션 채용공고 템플릿', 'aws 자격증 나무위키', '물리적 보안 지침', '스타트업 투자단계', '데이터 마인드 교육 후기', '사업가 되는법', '디지털 기반 교육 혁신', '명품브랜드 로고 모음', '유명한 사업가', 'Puran 파일 복구', '스타트업 뜻', '기업가치평가 영어로', '정보보안기사 대우', '국내 의류 브랜드', '데이터분석 포트폴리오 주제', '엑셀 데이터 분석', '정보보안의 목적', '빅데이터 분석기사 전망', '국내 IT 기업 리스트', '구글 클라우드 API', 'Start up 뜻', '제네시스 커넥티드 요금', 'hbm 반도체 관련주', 'ADC 회로 설계', '사물 인터넷 구성요소', '자율주행 라이다 관련주', 'Row echelon form 뜻', 'SKT 데이터 연결 안됨', '비상장기업 재무제표 조회', '한전 이러닝', '클라우드서버 장단점', '모바일 브라우저', '모바일 DNS 설정', '인공위성 관련주', '그래 핀 대장주', '나무기술 삼성전자', '머신러닝 기초 pdf', 'SKT 주파수 밴드', '딥러닝 머신러닝', '파이토치 사용법', '기술사 연금', '랜드마크 뜻', '머신러닝 지도 학습 예제', '스타트 업 드라마 평가', '음극재 관련주', '관리와 리더십 차이', '업비트 ai 코인 종류', 'Adobe Reader PDF 암호 설정', '소프트웨어 계획서 예시', '자율주행 라이더 관련주', '탄소 나노 튜브 상장사', 'lg 알뜰폰 데이터 쉐어링', '자율주행자동차 센서 원리', '사업가가 되는법', '세계 기업 순위 2023', '인공지능 긍정적 영향', 'pdf 보안문서 해제', '물리보안 이란', '체인블락 사용법', '사물인터넷 전문가 업무환경', 'Coefficient matrix 뜻', '정보보안 책 추천', '인증서 클라우드 서비스 비용', '미국 클라우드 ETF', '업비트에ai코인', '엑셀 데이터 분석 도구', '양자컴퓨터 관련주 나스닥', 'Row equivalent 뜻', '확장현실 관련주', 'virtual 7.1 헤드셋 드라이버', 'SI 회사', 'nia 속도측정', '직무평가 방법', 'string', '딥러닝 프레임워크 순위', '메타버스 게임 관련주', 'Exciting 뜻', 'Excited 뜻', '자동차 사이버 보안 정의', '미국 소프트웨어 회사', 'xr 메타버스 차이', '자율주행 레벨 3 4 차이', '클라우드 ETF', '메타버스 게임이란', 'iot pass', '커넥티드카 특약 블루링크', '소프트웨어 개발 사이클', '나노 기술 관련주', '클라우드 컴퓨팅 장점 단점', 'AWS 사용법', 'It makes me exciting', '증강현실 활용 사례', '클라우드 서비스 활용 사례', '스마트카란', '디지털 시대 특징', '메타버스 VR 기술', '현대자동차 차량사양조회', '코어코인 전망', '코어코인 상장', 'meme 주식', '4 족보 행 로봇 관련주', '케어 로봇 관련주', '무료 머신러닝 프로그램', '자율주행자동차 장점사례', '해결책 영어로', '스마트홈 구축', '스마트 홈 자동화 시스템', '와이파이 5G 차이', '가상현실 증강현실 공통점', '네이버 챗 GPT 관련주', '2.4ghz 5ghz 차이', '프로그래밍 잡지', '헤드셋 헤드폰 차이', '웃음 영어로', '세계 소프트웨어 회사 순위', '가트너 2022년 10대 전략 기술 트렌드', '한pdf 암호 제거', 'iaas의 대표적인 클라우드 서비스', '자율주행자동차 장점', '블루링크 사용법', '엑셀 데이터 분석 방법', 'MR 활용 사례', '자율주행 자동차가 필요한 이유', '중소기업 대기업 분류기준', '머신러닝 기초 PDF', 'lot개념', '엑셀 데이터 정렬', '전력반도체 관련주', '아날로그-디지털 컨버터', '프로그래머 종류 연봉', 'tensorflow 딥러닝 예제', '엣지컴퓨팅 단점', '텐서플로우 머신러닝 예제', '엣지 컴퓨팅 나무위키', '클라우드 배포 모델', '자동차 플랫폼이란', '엣지 컴퓨팅 관련주', '엑셀 데이터 분석 바이블', '스마트홈 기기 종류', '프로그래머 분야 추천', '메타버스 관련주 미국 etf', '자신있다 영어로', 'it/sw 프로그램 종류', '빅테크란', '프로그래밍 소프트웨어 종류', '사이버 보안 종류 5가지', '증강현실 활용사례', '스마트홈 장점', 'VRRP 설정', '보도블록 영어로', 'pdf파일 보안 해제', '정보 보안의 목표 3가지', '파이썬 머신러닝 pdf', '제네시스 커넥티드 서비스 비용', '파이썬 증권 데이터 분석 WikiDocs', '디지털 치료제 관련주', '무료 캐드 프로그램', '뉴로모픽 반도체 관련주', '스마트키 교체비용', '고려대 인공지능사이버 보안 학과 편입', '딥러닝 머신러닝 차이', '머신러닝 나무위키', '중소 소프트웨어사업자의 사업 참여 지원에 관한 지침', '알뜰폰 데이터 쉐어링 무제한', 'sk lte요금제 종류', '데이터 분석가 자격증', '제우스 세정장비', '소프트웨어학과 진로', '스마트 건설기술 종류', '제품 개발 단계', '디도스 관련주', '인조화강석 블록', '양극재 관련주', '퍼블릭 블록체인 종류', 'ar이모지 삭제', 'pytorch로 시작하는 딥 러닝 입문', '나노팀 보호예수', '정보보안 학과 현실', '딥러닝 관련주', '티처블머신', '무료 키워드 분석 사이트', '한컴 PDF 암호 설정', '아날로그 자료를 디지털 자료로 바꾸어 표현해 주는 장치', '신진에스엠 김동연', '엑셀 데이터 유효성 검사', '인공지능 과학 원리', '행동치료사 연봉', '계수행렬 첨가행렬', '공공데이터 활용 프로젝트', 'AI 알고리즘 종류', '물리적 보안 체크리스트', '교통수단 영어로', '회사 매출액 보는법', 'virtualbox 최신버전', '블루링크 상담원 연결', '블루링크 개통', '전도체 관련주', 'it 개발자란', '나노기술연구협의회 시험', '국내 메타버스 플랫폼', 'DT/DX', '직무역량 ksa', '클라우드 서비스 유형 3가지', 'Excite 뜻', 'vr 관련주', '컴퓨팅 시스템 활용 사례', '메타버스 플랫폼', '현대해상 커넥티드카 특약', '클라우드 대장주', '5g 프라임 플러스', 'nftc102', 'VR 관련주', '자율주행차 대장주', '자율주행차 소프트웨어 관련주', '클라우드 종류 비교', '자동차 보안 이슈', 'pdf 저장방법', '로봇 세계 시장 점유율 1위', '가상현실 증강현실 사례', '상장 코인 무료채굴', '코어코인 스테이킹', '미국 사이버 보안주', 'sk 5g 요금제 종류', 'sk텔레콤 데이터 무제한 요금제', 'skt lte 최저요금제', '기아자동차 쏘울 중고가격', '블루링크 차량 확인', '자율주행 ai 관련주', '사물인터넷 전문가 하는 일', '두산 로보틱스 예상 주가', '마이크로소프트웨어 폐간', 'LTE 주파수 밴드', '증강현실 작동 원리', 'ncs 직무기술서 예시', 'amr로봇 관련주', '정보보호학과 대학 순위', '사물인터넷 스마트홈', 'Augmented matrix 뜻', 'Virtual C', '정보보안 3요소', '정보보안학과 현실', 'VirtualBox Extension Pack', '클라우드 서비스 단점', 'ict 산업이란', '5g 데이터쉐어링 lte 기기', 'ETF 기준가격', '양자 기술 대장주', '블루링크 오류', 'time is running out 가사', 'nftc203', '브랜드 이미지 종류', '명품 브랜드 로고', '스타트업 결말', '기획보고서 작성요령', '기술가치평가사 연봉', '유명 브랜드 로고', '기업기술가치평가사 난이도', '의류 브랜드 모음', 'by the time', 'iot pass v2', '인간형 로봇 관련주', '컴퓨터 특성화 고등학교', '슬립리스 ai 코인', '국내 패션 브랜드', '업비트 ai코인', '유명 옷 브랜드 로고', '감사보고서 작성사례', '브랜드 로고 모음 사이트', '기업가란', '회사 대표 영어로', '그래핀 관련주', '일론머스크 기업가정신', '유한 양행 로고', '기아 스마트 커넥트', '일론 머스크 기업가 정신', '옷 브랜드 종류', '플랫폼 사업이란', '브랜드 룬', '플랫폼 사업 뜻', '아날로그 디지털 변환기', '딥러닝의 구조', '클라우드 컴퓨팅 도입 사례', 'virtual insanity 해석', '패션 브랜드 종류', '사이버보안 etf', '오늘의 아침인사', 'TensorFlow PyTorch 비교', '갤럭시탭 5G 데이터 쉐어링', '텐서플로우 파이토치', '모두의 딥러닝 파이토치', '블록체인 프로젝트 주제', '플랫폼 기업 뜻', '기업가 정신 3가지', '구글 3D 동물 종류', '구글 클라우드 무료', '개발자를 위한 머신러닝&딥러닝 pdf', '스타트업 종류', '빅데이터 비정형 데이터', '스타트업 기업 뜻', '기아커넥트 중고차 승계', 'Entrepreneur 어원', 'Virtual insanity 발음', '지역사회 교육 전문가', '인공지능 윤리기준 3대 원칙', '스타트업 드라마 결말', '증강현실 가상현실 차이점', '삼성 스마트뷰 pc', '비트코인 채굴 후기', '증강현실 AI', '기업가와 사업가의 차이점', 'life logging', '사업가와 기업가의 차이', '자율주행 관련주식', '클라우드 플랫폼 비교', '딥러닝 파이토치 교과서 pdf', '일상생활 알고리즘 사례', 'Virtual 어원', '한세사이버보안고등학교 입학', 'sqld 시험일정', '프로그래머 직업 종류', '해킹 뜻', '클라우드 컴퓨팅 단점 보완', 'ADP 자격증 가치', '클라우드 컴퓨팅 단점', '사물인터넷 대장주', '콘텐츠 관련주', '사물 인터넷 대장주', '자율주행자동차 과학적 원리', '딥러닝 예시', '의류 브랜드 로고 ai', '네트워크 보안 시장 규모', '소프트웨어의 예', '자기 브랜드화', '손해평가사 수당', '스마트홈 기술 사례', '스마트홈 기술 종류', '증강현실 가상현실 차이', '증강현실 가상현실', '사이버 보안 etf', '가상현실 증강현실 차이', 'Strapped 뜻', '국내 사회적 기업가 정신 사례', '머신러닝 툴', '전세계 시가총액 순위 실시간', '사물인터넷 원리', 'entrepreneur 어원', '가상현실 원리', '프랑스 패션 브랜드', '텐서플로우 활용 사례', '엑셀 데이터 분석 추가 안됨', '소프트웨어사업 계약 및 관리감독에 관한 지침 제7조', 'DT DX 차이', 'NFT 블록체인 원리', '컴퓨터과학으로 배우는 블록체인 원리와 구현', '디지털화 디지털 전환 차이', '스타트업 마케팅 사례', '클라우드 컴퓨팅 5가지 특징', '스타트업 초기 마케팅', '딥러닝 오픈소스 예제', '스마트키 비용', '기아커넥트 요금', '데이터분석준전문가 시험시간', '소프트웨어사업 계약 및 관리감독에 관한 지침', '파이썬 데이터 분석 코드', '블록체인 한계', '스마트 건설기술이란', '자율주행자동차 긍정적 영향', '자율주행 자동차 찬성 근거', '인공지능 윤리기준 10가지', '증강현실 가상현실 공통점', '프로그래밍 언어 사용 분야', 'It 기획안', '구글 클라우드 서버', 'tensorflow 학습시키기', '소프트웨어 개발자란', 'IoT 문제점', '서울 로보틱스 관련주', 'lot 뜻', '사물 인터넷 교육 사례', 'lot항공 온라인 체크인', '공감능력 향상 방법', '정보보안 전문가 하는 일', '블루링크 차량이 응답하지 않습니다', '해킹 보안 관련주', '빅데이터 4v value', '현대자동차 차대번호 생산일자 조회', '쌍용자동차 사양조회', '메타버스 xr관련주', '무료 클라우드 서버 구축', '모바일 데이터 차단', '네이버 클라우드 서버 구축', 'ncs 직무기술서 작성법', 'TIGER ETF 추천', '스마트폰 카메라 해킹 확인', '사물인터넷이 사회에 미치는 영향', 'lg u+ 알뜰폰 데이터 쉐어링', '컴퓨터 ip주소 확인 방법', '곤충 관련주', '곤충산업 관련주', 'Replace 뜻', '의학 논문 검색 사이트', '미국 메타버스 etf', 'AR 장단점', '기아커넥트 무료', '메타 숏 ETF', '블루링크 원격시동 실패', '기아 커넥트 요금', 'NFT 코인 순위', 'VR 사례', 'lot 항공 고객센터', '직무기술서 예시', '가상현실 증강현실 혼합현실 차이점', '시큐레터 균등배정', '추천하다 영어로', '무시하다 영어로', 'Mixed Reality 포털 이란', '스마트홈 후기', 'pdf 보안해제 프로그램', '스마트카 핵심 기술', '현대 스마트키 등록 비용', '직무기술서 작성법', '스마트카 미래 기술', '해커 영어', 'PDF 암호 제거 사이트', '블루링크 네트워크 활성화', '삼성 반도체 장비 관련주', '웹하드 뜻', '유플러스 데이터 쉐어링 신청', 'parking lot', 'AR 관련주', 'PDF 보안 설정', '사물인터넷 관련주', '안전블럭 안전블록 차이', '새로운 시작 영어명언', '빅테크 기업 뜻', '대기환경보전법 사물인터넷 측정기기', 'VR 주식', '현대자동차 블루링크 해지', '자율주행자동차 상용화 문제점', '네이버 데이터랩 api', '사물인터넷 제품', 'Connect 뜻', '사물인터넷 사례', '5g lte 전환', '보안관제 전문기업 지정', '머신러닝 알고리즘 종류', '소프트웨어학과 배우는것', '커넥티드 카 기술', 'sk 데이터 쉐어링 요금제', '미국 보안 주식', '사물인터넷 전망', '메타버스 업체', '사물인터넷 미래 전망', '자산 순위 어플', '로봇 액추에이터 관련주', 'pdf 찾기기능', '클라우드 컴퓨팅 etf', '클라우드 컴퓨팅 서비스 종류', '기업가치 = 영업가치', '포레스트 뜻', '기술평가사', '나노소자공정 탈락', '기업가 정신 종류', '스타트 업 정보 사이트', '카카오 김범수 나이', '인기있는 미드', '자기개발계획서 예시', 'likely', '탄소 나노 튜브 관련주', '교육대학원 순위', '사업가가 하는일', '비즈니스맨 영어로', '탄소나노튜브 관련주', '사업가 관련 학과', '무료 통계 분석 사이트', '버즈량 분석 사이트', '데이터분석 포트폴리오 노션', 'DAC 변환 과정', '브랜드 모음', '엑셀 데이터 정리', 'VR, AR, MR 차이', '펀드매니저 남자친구', '사이버 보안 대장주', '펀드매니저 되는법', '케라스', 'it 플랫폼이란', '플랫폼이란 무엇인가 pdf', '슘페터 기업가 정신 정의', 'vr게임 장점', '채용 노션 모음', '옵션만기일 주가', '데이터분석 준전문가 시험', '갤럭시 데이터 끊김', '옷 브랜드 이름 모음', '중년여성의류 브랜드 순위', '코인 스왑이란', '한국전력기술 이러닝', '일상생활에서 기계공학의 활용 사례', '스타트업 창업 후기', '스타트업 정보 사이트', '소규모 환경영향평가 절차', '소프트웨어사업 계약 및 관리감독에 관한 지침 2023', '산업 사물인터넷 전망', '텐서플로우 이미지 학습시키기', '패스 키 관련주', '리더십 있는 사람 특징', '기업가 정신 슘페터', '가속화 영어로', '안전블록 원리', '네트워크 연결이 불가합니다 6', '스타벅스 빅데이터 활용 사례', '자율주행 자동차 상용화 문제점', '저궤도 위성통신 관련주', '메타버스 장점', 'etf 자동매수', '중고차 블루링크', '국내 GPT 관련주', '5g 자율주행 관련주', '데이터 분석가 취업후기', '사물인터넷 문제점 사례', '체인블록 트위터', '휴대폰 네트워크 설정 초기화', '메타버스 플랫폼 순위', '현대차 자율주행 관련주', '단위행렬', '가상현실 활용분야', '2차전지 믹싱장비 관련주', '파이썬 데이터 분석 방법', '사이버보안 대장주', '기술적 보안', '구글 클라우드 플랫폼 뽀개기', '미적분 활용 실생활', '공기업 직무기술서', '나노신소재 관련주', '양자컴퓨터 단점', '가상현실 활용 분야', '양자컴퓨터 한계', '베어로보틱스 관련주', 'NR 주파수', '아주대 수시등급', '3g 통화품질', 'ict 하남 오피스텔', '한세사이버보안 고등학교 입학', '스마트홈 센서 종류', '2.4ghz 5ghz 동시사용', '엑셀 데이터 분석 없음', '인터넷 속도 평균 Mbps', '엘앤에프 제품', '나노팀 바이오니아', 'skt 최저요금제', '구글 서비스센터', 'virtual 7.1 헤드셋 마이크', '개발자 직군 종류', '갤럭시 워치 모바일 네트워크', '블록체인 장단점', '개발 단계 프로세스', 'XR 기기 란', 'virtual 7.1 헤드셋 설정', '제네시스 커넥티드 서비스 요금', '안전블록 구조', '바이오니아 나노팀', 'www.etf.com', '한세사이버보안고등학교 경쟁률', '증강현실 혼합현실', '모두의 딥러닝 개정 2판 pdf', '한세사이버보안고등학교 내신', 'pdf 읽기전용 해제 사이트', '머신포키즈', '해결하다 유의어', 'PDF 보안 해제 프로그램 포터블', 'PDF 암호 해제 저장', 'depin 코인 뜻', '구글 챗gpt 관련주', '블루링크 기능', 'pdf 보호 해제', '국내 메타버스 주식', 'ebs 영어 레벨테스트', 'ADsP 접수', 'AWS 클라우드 자격증', '작업환경측정 실시주기', '클라우드 서버란', '사이버보안 필수원칙 체크리스트', '딥러닝 원리 논문', '브랜드 로고 AI', 'AI 코인 대장', 'etf.com', '국내 VC 리스트', '딥러닝 프레임워크 점유율', 'IT 프로젝트 계획서 양식', '펀드 매니저 자격증', '스타트업 플러스', 'VirtualBox M1', '스타트업 미드', '수영 스타트', '기아커넥트 무료 기간', '핸드폰 네트워크 오류', '사업가 하는일', '중소기업 벤처기업 차이', '반도체 ETF 비교', '본부장 영어로', '정보 보안 위협 요소', '소프트웨어 계획서 양식', '대용량 pdf 잠금해제', 'PDF 암호 설정 프로그램', '플러스투 시스템', '블랜드 뜻', 'pdf파일 인쇄 설정', '재무제표 사이트', '펀드매니저 월급', 'pdf 파일이란', '펀드매니저 자격증', '기업기술가치평가사 쓸모', '농수산물 관련주', '컴퓨터소프트웨어학과 진로', '양자암호 대장주', '테슬라 차 종류', '현대로보틱스 사람인', 'pytorch로 시작하는 딥러닝 pdf', '스마트 공장이란', '사업자 영어로', '일상생활 관리 척도', '양자보안 관련주', '소프트웨어 대장주', '노션 회사 홈페이지', '자산가치 평가방법', '커넥티드카 특약 추가', 'ai클라우드 관련주', 'kt 무선데이터 차단서비스', 'nftc301', '해외 AR 기업', '딥러닝 활용 사례', '거의 영어로', '에머슨cc 회원권', '엑셀 데이터분석 예제', 'lot 약자', '클라우드 쓰는 이유', '클라우드 컴퓨팅 기술 발전 전망', '자율주행자동차 인공지능 원리', '조경산업기사 전망', '사회기술훈련 종류', '핀테크 장단점', 'skt 데이터 쉐어링', 'dx란', '구글 관련주', '클라우드 컴퓨팅 활용 사례', '혼합현실 mr', '데이터분석 준전문가 접수', '스팀 코인 호재', 'IaaS, PaaS, SaaS 예시', 'difficult', '데이터 분석이 필요한 이유', '스마트카 기술', '디지털 대전환 시대', '머신러닝 알고리즘 정리', '아날로그 제품 예시', 'it 기술이란', '스마트 홈 특징', '디지털 전환 교육', 'kt 5g 데이터쉐어링 유심', 'AI 클라우드 관련주', '증강현실 관련주', '디지털 트랜스 포메이션 의 이해와 도입 사례', 'VR 문제점', '머신러닝 원리', '코인 노래방이란', '가트너 2024년 10대 전략 기술 트렌드', '디지털 기반 교육혁신 방안', '자율주행자동차 단계별 특징', '디지털 기반 교육', '디지털 전환 교육과정', '온라인 플랫폼이란', '사물인터넷 부정적 영향', '머신러닝 모델', '업스타트 홀딩스', '블루링크 지원 차량', '360도 촬영', '머신러닝 학사 취업', '머신러닝 학사', '모두의 딥러닝 pdf', '개발자 정체', '정보보안 대학원 필수', '가상현실 게임장', '브랜드 가치 뜻', 'skyy 보드카 가격', '혼합현실 기기', '머신러닝 알고리즘 비교', '가상현실, 증강현실, 메타버스 등의 응용에 사용하기 위한 입출력 장치', '사토시 코어 코인 가격', '클라우드 보안 관련주', '가상현실 관련 영화', '미국 로봇 회사', '사물인터넷 측정기기', '스마트홈 기능', '머신러닝 논문', '아날로그 디지털 변환 회로', '아날로그 디지털 변환기 종류', '네이버 데이터랩 사용법', '알뜰폰 5g 후기', '2.4GHz 5GHz 통합', '소프트웨어 제품 개발', '미국 보안 관련주', '가상현실 활용 사례', '스트랩 종류', 'kt 5g 요금제 데이터 쉐어링', '한국 10대 기업', 'ai 클라우드 관련주']\n",
      "True\n",
      "True\n",
      "Data loaded from JSON\n",
      "['전기를 절약하는 방법 전기회로 관련', '전기 에너지를 효율적으로 사용하는 방법', '친환경식품매장온터 빨래골점', '제로웨이스트 필요성', '학교에서 환경 보호 방법', '에너지를 효율적으로 사용하는 방법', '전기 기구에서 에너지를 효율적으로 사용하는 예', '친환경 기업 리스트', '그린디자인 사례', '홈오토메이션 구성', '친환경 디자인 종류', '전기기구에서 에너지를 효율적으로 사용하는 방법', '건설기술인 기본교육 과제', '리사이클링 사례', '학교에서 플라스틱 줄이기', '홈테크', '환경기술인 교육 주기', '지구를 위해 학교에서 실천할 수 있는 일', '가전제품 소비전력 순위', '환경 보호 명언 영어', '친환경 디자인이란', '환경기술인 업무', '환경오염 영어로', '스타듀밸리 재활용기계', '전기 에너지 낭비', '친환경식품매장 온터', '재사용 영어', '건축물에서 에너지를 효율적으로 사용하는 방법', '환경 보호 영어', '친환경 기업 이름', '제로웨이스트 기업', '슬로우 패션 장단점', '환경보호 영어 슬로건', '무농약 장점', '분 영어', '다회용 영어로', '에너지를 효율적으로 사용하는 예', '환경보호 문구 영어', '환경문제 영어로', '전기제품 소비전력', '재사용 영어로', '전기 에너지 공식', '전기를 절약하는 방법 전기회로', '환경보전비 사용내역서', '활성화 에너지', '환경보전협회 사이버교육 스킵', '컴퓨터 전력 사용량', '에너지를 효율적으로 사용하는 전기기구', '에너지 절약 전기기구', '에너지 등급 변경', '환경친화적 소비 기업', '가정용 전기 계약전력', '환경친화적 삶의 실천', '에너지를 절약하면 좋은점', '친환경 관련 영어 단어', '전기를 절약하면 좋은 점', '일회용 영어로', '전기 에너지 절약 방법', '전기를 절약해야 하는 까닭', '계약전력 5kw전력 사용량', '에너지 절약하면 좋은점', '계약전력 20kw 월 사용량', '부산 친환경 농특산품 및 중소기업 박람회', '재사용 뜻', '환경친화적 삶을 위한 개인적 노력', '가정이나 학교에서 건축물의 에너지 효율을 높인 예', '가전제품별 소비전력', '전기를 절약하는 방법', '제로 웨이스트 운동 효과', '에너지 절약해야 하는 이유', '국내 패션 브랜드', '좋은뜻 한자', '전자 제품 소비전력', '국제 환경단체 리스트', '전기를 절약해야 하는 이유', '전기 절약 방법 전기회로', '대한민국 친환경 농특산품 및 중소기업 박람회 부산', '전기요금 아끼는 방법', '에너지를 효율적으로 이용했을 때 좋은 점', '전기를 절약하는 이유', '전기를 낭비하면 안되는 이유', '기후 영어로', '일반수질 환경기술인 교육', '슬로우 패션 단점', '환경기술인 법정교육 주기', '뜻 좋은 한자', '가전제품 소비전력 w', '탄소중립포인트 서울', '친환경 사업', '가전제품 소비전력 비교', '환경친화적 삶을 위한 제도', '친환경 브랜드 순위', '재사용 재활용 차이', '수질환경기술인 교육', '농촌 어메니티', '전기를 많이 쓰면 안되는 이유', '재활용 재사용 차이', '재활용 재사용', 'BEXCO 친환경 농특산품 및 중소기업 박람회', '친환경 제품 판매 사이트', '에너지절약계획서 대상', '제로 웨이스트 운동 사례', '환경기술인 선임', '끼적이기판 도안', '안전 캠페인 문구', '전기를 낭비하는 모습', '에너지 낭비 원인', '환경친화적 사례', '제로웨이스트 장점', '학교에서 에너지를 효율적으로 사용하는 방법', '슬로우 패션 실천 방법', '환경보전비 사용항목', '에너지 절약 방안', '플라스틱 쓰레기 해결방안', '환경친화적 기업 사례', '자원봉사 영어로', '친환경 기업 사례', '지속가능한 패션 필요성', '벡스코 친환경 농특산품 및 중소기업 박람회', '전력 사용량 단위', '유명한 환경단체', '환경 관련 영어 문구', '통합환경관리인 법정교육', '친환경적 생활방식', '일상생활에서 전기를 절약하는 방법', '한살림 영업시간', '미적분 활용 실생활', '에너지 절약하기', '환경보전비 적용대상', '재활용품 악기 만들기', '리사이클링 업사이클링 사례', '가족 한자 뜻', '가정용 전기 기본요금', '에너지를 효율적으로 사용하는 물건', '환경 친화적 삶을 실천하기 위한 방법', '철 영어 표기', '환경 친화적 생활 습관', '패션앤 편성표', '환경 친화적 삶을 위한 사회적 노력', '환경친화적 삶 사례', '비닐 재활용 마크', '가정에서의 전기 절약 방법', '친환경 생활습관', '에코라이프 뜻', '생활속 에너지 절약 방법', '학교에서 에너지 절약 방법', '패스트 패션 장단점', 'Organic 뜻', '세계 환경보호단체', '에너지 절약 실천 방법', '생활 속 에너지 절약 방법', '한살림 흑염소 진액 가격', '환경보전협회 홈페이지', '플라스틱 오염 해결방안', '타악기 구조', '플라스틱 해결방안', '친환경 제품을 사용해야 하는 이유', '환경보전협회 사이버 법정교육', '환경기술인 법정교육', '환경친화적 소비생활의 중요한 이유', '환경친화적 소비생활 뜻', '소음진동 환경기술인', '환경친화적 소비 사례', '환경보전협회 사이버교육', '환경 관련 패션 브랜드', '의류 영어로', '환경보전협회 교육홈페이지', '에코라이프의 뜻']\n"
     ]
    }
   ],
   "source": [
    "for blogname in blog_names :\n",
    "    print(bloggers[blogname].file_manager.get_keywords('screened_keywords').index.to_list())\n",
    "    # bloggers[blogname].keyword_ai.suitability_checker()"
   ]
  },
  {
   "cell_type": "code",
   "execution_count": 13,
   "metadata": {},
   "outputs": [
    {
     "ename": "IndexError",
     "evalue": "list index out of range",
     "output_type": "error",
     "traceback": [
      "\u001b[1;31m---------------------------------------------------------------------------\u001b[0m",
      "\u001b[1;31mIndexError\u001b[0m                                Traceback (most recent call last)",
      "Cell \u001b[1;32mIn[13], line 2\u001b[0m\n\u001b[0;32m      1\u001b[0m a \u001b[38;5;241m=\u001b[39m bloggers[\u001b[38;5;124m'\u001b[39m\u001b[38;5;124mstatifi\u001b[39m\u001b[38;5;124m'\u001b[39m]\u001b[38;5;241m.\u001b[39mkeyword_ai\u001b[38;5;241m.\u001b[39mvectorstore_similarity_search(\u001b[38;5;124m'\u001b[39m\u001b[38;5;124mz\u001b[39m\u001b[38;5;124m'\u001b[39m)\n\u001b[1;32m----> 2\u001b[0m bloggers[\u001b[38;5;124m'\u001b[39m\u001b[38;5;124mstatifi\u001b[39m\u001b[38;5;124m'\u001b[39m]\u001b[38;5;241m.\u001b[39mkeyword_ai\u001b[38;5;241m.\u001b[39mvectorstore_delete(\u001b[43ma\u001b[49m\u001b[43m[\u001b[49m\u001b[38;5;241;43m0\u001b[39;49m\u001b[43m]\u001b[49m)\n\u001b[0;32m      3\u001b[0m \u001b[38;5;66;03m# bloggers['statifi'].keyword_ai.vectorstore_delete('zz')\u001b[39;00m\n",
      "\u001b[1;31mIndexError\u001b[0m: list index out of range"
     ]
    }
   ],
   "source": [
    "a = bloggers['statifi'].keyword_ai.vectorstore_similarity_search('z')\n",
    "bloggers['statifi'].keyword_ai.vectorstore_delete(a[0])\n",
    "# bloggers['statifi'].keyword_ai.vectorstore_delete('zz')"
   ]
  },
  {
   "cell_type": "code",
   "execution_count": 7,
   "metadata": {},
   "outputs": [
    {
     "data": {
      "text/plain": [
       "(['http://100.daum.net/encyclopedia/view/201XXX1812120',\n",
       "  'https://canny.alwaysearched.com/39',\n",
       "  'https://free2world.tistory.com/3177',\n",
       "  'https://www.ppomppu.co.kr/zboard/view.php?id=whatever&no=24381',\n",
       "  'https://gall.dcinside.com/mgallery/board/view/?id=stockus&no=6984580'],\n",
       " ['파이어족 - Daum 백과\\n본문 바로가기\\n메뉴 바로가기\\n백과사전\\n검색\\n검색어 입력폼\\n검색\\n백과사전 메인메뉴\\n카테고리\\n라이프\\n생활/여가\\n건강/의학\\n음식/요리\\n스포츠\\n여행\\n사회\\n사회일반\\n사회제도\\n정치\\n경제\\n법/법률\\n언론\\n지형/지리\\n기관/단체\\n국제/외교\\n국내지역\\n해외지역\\n인문\\n인문 일반\\n역사\\n철학/심리\\n종교\\n언어\\n문학\\n과학\\n과학 일반\\n자연과학\\n공학/기술\\n동물\\n식물\\n문화\\n문화 일반\\n대중문화\\n문화유산\\n음악\\n미술\\n무용\\n건축\\n추천백과\\ne약은요\\n텃밭가꾸기\\n서울대학교치과병원 치의학백과\\n경제금융용어 700선\\n식품 안전이슈 20가지\\n지식재산권 용어 사전\\n뒤죽박죽 경제상식\\n생활법률 해법사전\\n한국독립운동 인명사전\\n세계문학전집\\n우리말 1000가지\\n과학향기\\n세계문학사전 100\\n국가건강정보포털\\n스포츠백과\\n이야기세계사1\\n임신출산 육아백과\\n한국민족문화대백과사전\\n \\n \\n백과사전 상세 본문\\n출처\\n에듀윌 시사상식\\n파이어족\\n다른 표기 언어\\n툴바 메뉴\\n폰트확대|\\n폰트축소|\\n공유하기|\\n인쇄 미리보기|\\n오류 수정 문의\\n목차\\n펼치기\\n파이어(FIRE, Financial Independence Retire Early)족은 경제적으로 자립해 조기에 직장을 은퇴하기를 희망하는 사람들이다. 젊었을 때 임금을 극단적으로 절약하여 노후자금을 빨리 확보해, 늦어도 40대에는 퇴직하자는 것이다.\\n파이어족이라는 단어는 타이트워드가제트라는 뉴스레터에서 처음 사용된 후 미국에서 인기를 얻기 시작했다. 파이어족의 극단적인 절약 움직임은 금융위기로까지 이어질 수 있기 때문에 무시할 수 없는 사회문제로 취급된다.\\n유명 재무설계사 수즈 오만은 파이어족이 되기 위해서는 최소 500만달러를 모아야 하며, 현실적으로는 1000만달러를 모아야 가능하다고 말했다. 이어 “도무지 계산이 안 맞는다”고 지적하기도 했다. 오만은 파이어족에게 직장을 완전히 그만두기보다는 싫어하는 일 혹은 돈 때문에만 하는 일을 멈추고 실제로 즐길 수 있는 일을 찾아보라고 조언했다.\\n각주\\n각주 레이어 닫기\\n본 콘텐츠를 무단으로 이용하는 경우 저작권법에 따라 법적 책임을 질 수 있습니다.위 내용에 대한 저작권 및 법적 책임은 자료제공처 또는 저자에게 있으며, Kakao의 입장과는 다를 수 있습니다.\\n참고\\n\\t                        ・ 에듀윌 시사상식 2018년 12월호\\n출처\\n에듀윌 시사상식\\n|\\n저자에듀윌 상식연구소\\n전체항목\\n도서 소개\\n공기업 및 대기업 취업준비생과 일반인을 위해 쉽게 풀이한 최신 시사상식 월간지. \\n자세히보기\\n \\nTOP으로 이동\\n태그 더 보기\\n사회문화/현상\\n시사용어\\n연관항목\\n헬리콥터 부모\\n출처\\n트렌드지식사전5\\n빨대족\\n    \\t    \\t부모에게 기대어 경제적으로 독립하지 않는 30대 이상의 자녀..    \\t    \\t\\n출처\\n다음백과\\n실버 푸어\\n    \\t    \\t빈곤한 노년층을 일컫는 말\\n    \\t    \\t\\n출처\\n다음백과\\n파이 세대\\n출처\\n에듀윌 시사상식\\n \\n백과사전 본문 인쇄하기 레이어\\n[Daum백과] 파이어족 – 에듀윌 시사상식, 에듀윌 상식연구소, 에듀윌\\n본 콘텐츠의 저작권은 저자 또는 제공처에 있으며, 이를 무단으로 이용하는 경우 저작권법에 따라 법적 책임을 질 수 있습니다.\\n서비스 이용정보\\n서비스 약관/정책 | 권리침해신고 | 사전 고객센터 | 사전 문의하기\\nCopyright ⓒ Kakao Corp. All rights reserved.\\n위 내용에 대한 저작권 및 법적 책임은 자료제공사 또는 글쓴이에 있으며, Kakao의 입장과는 다를 수 있습니다.',\n",
       "  '파이어족 뜻 의미 설명\\n본문 바로가기\\n              \\n              \\n                지식정보\\n              \\n            \\n블로그 내 검색\\n검색\\n관리\\n글쓰기\\n로그인\\n로그아웃\\n메뉴\\n카테고리 없음\\n파이어족 뜻 의미 설명\\nby 카카프랜님3\\n2024. 5. 3.\\n파이어족(FIRE)이란?\\n파이어(FIRE)는 경제적 자립(Financial Independence)과 조기은퇴(Retire Early)가 합쳐진 말입니다. 파이어족은 정년까지 일해야 한다는 생각에서 벗어나 불필요한 지출을 줄이고, 가능한 많은 금액을 저축&투자하여 경제적 자립(Financial Independence)을 최대한 빨리 이루는 것이 목표입니다. 경제적 자립을 이룬 후에 원하는 삶, 가치있고 풍요로운 삶을 살아가려고 합니다.\\n파이어족 뜻 - 진정한 파이어족은?\\n진정한 파이어족은 자신이 원하는 삶(라이프스타일)을 찾아내서 그 삶을 살기 위해 최선을 다하는 사람입니다. 원하는 삶을 살기 위해서 두가지 자원, 돈과 시간이 필요합니다. 진정한 파이어족은 돈보다 유한한 시간이 훨씬 중요하다는 점을 알아야합니다.\\n \\n파이어족 뜻 - 돈은 원하는 삶을 살기 위한 도구일 뿐\\n파이어족은 자신이 원하는 삶을 살기 위해서 필요한 돈을 모으는 것이 목표입니다. 그러나 돈은 단순히 목적이 아니라 원하는 삶을 실현하기 위한 수단입니다. 따라서 파이어족은 돈을 얼마나 많이 모을 것인가보다는 돈을 어떻게 사용하여 원하는 삶을 실현할 것인지를 고민합니다.\\n파이어족과 욜로족은 같은 것을 추구할까요?\\n파이어(FIRE)족은 미래를 위해 현재를 희생하고, 욜로족은 미래보다 현재의 행복을 중시한다고 해서 반대 개념이라고 설명합니다. 하지만 파이어족이나 욜로족이나 모두 한번뿐인 인생을 본인이 원하는 삶에 맞는 최선의 선택을 해서 살아가는 것이라면 동일하다고 생각합니다.\\n오늘 하루의 자유가 내년 이틀의 자유보다 가치있다면 오늘 하루를 선택해야하고, 오늘 하루보다 내년 이틀의 자유가 더 가치있다면 내년 이틀을 선택하면 됩니다.\\n파이어족 뜻\\n\\xa0\\n파이어족 뜻 - 한가지 질문: Is it worth it?\\n파이어(FIRE)족은 지출하는 모든 항목에 대해서 가치가 있는지 생각해 보아야 합니다. 나의 유한한 시간과 맞바꿀 만큼의 가치가 없다면 지출하지 않아야 합니다. 만약 본인에게 가치가 있는 것이라면 사치품이라도 과감하게 구입 하시구요. 가치가 있는지 없는지는 각자 원하는 라이프스타일에 따라 다릅니다.\\n파이어족 뜻 - 성과 지표는 Saving Rate\\n파이어(FIRE)족이 재정 자립을 이루는데 가장 중요한 것은 저축하는 금액이아니라 저축율(Saving Rate)입니다. 아래 그림에서 보는 것처럼 년소득 $50K인데 $25K로 생활하면 50% 저축율로 financial freedom에 도달하는데 16.6년이 걸립니다. 또한 년소득 $1000K인데 $50K로 생활하면 50% 저축율로 financial freedom에 도달하는데 동일하게 16.6년이 걸립니다.\\n5% annual returns on investments and you will be withdrawing 4%\\n따라서, 원하는 삶을 유지하는 비용이 적을수록 재정 자립을 빨리 이루고, 원하는 삶을 살아갈 수 있는 시간이 늘어납니다.\\n \\n파이어족 뜻 - 필수 Side Hustle\\n사이드 허슬(Side Hustle)이란 풀타임 본업과 더불어 일종의 사이드 프로젝트로 개인이 하고 싶은 일을 하는 것입니다. 파이어족에게 사이드 허슬은 옵션이아니라 필수입니다. 사이드 허슬로 추가 소득이 발생하면 재정 자립의 시간을 앞당길 수 있고, 소득이 발생하지 않더라도 자신이 진정으로 좋아하는 일이 어떤 것인가를 알 수 있는 좋은 기회입니다.\\n재정 자립을 이룬다고 자신이 원하는 일을 마음껏 하면서 행복하게 살 수 있는 것은 아닙니다. 무엇을 하면서 살아갈지, 어떤 일을 할때 가장 행복한지는 충분히 경험해 봐야 알 수 있습니다. 따라서, 소득이 발생여부와 상관없이 끊임없이 사이드 허슬을 시도해야 합니다.\\n\\xa0\\n\\xa0\\n파이어족 뜻\\n파이어(FIRE)족 이론적 가정은?\\n파이어(FIRE)족의 필요한 은퇴자금 계산은 은퇴자금 인출 4%의 법칙에 기반합니다. 은퇴자금 인출 4%의 법칙은 은퇴자금에서 매년 4%씩 인출하면 죽을때까지 사용할 수 있다는 이론입니다.\\n이 법칙에 의하면 년간 필요한 비용의 25배의 은퇴자금이 있으면 은퇴가 가능합니다. 예를들어 매년 $60,000이 필요하다면 은퇴자금으로 25배인 $1,500,000이 있으면 은퇴가 가능합니다.\\n이 은퇴자금 $1,500,000을 투자하여 매년 4%씩 인플레이션을 반영한 실질 수익률이 발생할 수 있는 곳에 투자한다면 4%의 수익인 $60,000 평생 발생하게 되고, 이 수익으로 필요한 비용을 커버하면 된다는 것입니다.\\n\\xa0\\n세치혀의 뜻 속담 사자성어\\n세치혀의 뜻세치(三尺)란 중국의 길이 단위 중 하나로, 일정한 길이를 가리킵니다. 이 길이 단위가 어떤 의미로 사용되고 있는지 알아보겠습니다.세치혀의 뜻 - 삼촌지설(三寸之舌)삼촌지설(三\\ncanny.alwaysearched.com\\n\\xa0\\n공유하기\\n게시글 관리\\n구독하기지식정보\\n저작자표시 비영리 변경금지\\n \\nTOP\\nDesigned by 티스토리\\n© Kakao Corp.\\n티스토리툴바',\n",
       "  \"파이어족이 되는 4가지 길\\n본문 바로가기\\n              \\n              \\n                공짜로 즐기는 세상\\n              \\n            \\n블로그 내 검색\\n검색\\n관리\\n글쓰기\\n로그인\\n로그아웃\\n메뉴\\nTag\\nMedialog\\nLocation\\nGuestbook\\nAdmin\\nWrite\\n짠돌이의 경제 공부\\n파이어족이 되는 4가지 길\\nby 김민식pd\\n2024. 5. 3.\\n<대한민국 파이어족 시나리오> (바호(이형욱) 지음/한국경제신문사)를 보면 한국형 파이어족에는 4가지 유형이 있답니다. 자산형, 현금 흐름형, 밸런스형, 쓰죽형. 하나하나 들여다볼게요.\\xa0 1.\\xa0자산형\\xa0파이어족 자산형\\xa0파이어족은\\xa0기본적으로\\xa0자산을\\xa0불리는\\xa0데\\xa0남들보다\\xa0큰\\xa0보람을\\xa0느끼는\\xa0사람입니다.\\xa0자산이\\xa0늘어나는\\xa0것을\\xa0싫어하는\\xa0사람이\\xa0어디\\xa0있겠냐\\xa0싶지만,\\xa0자산형\\xa0파이어족의\\xa0특징은\\xa0미래\\xa0가치를\\xa0위해\\xa0기꺼이\\xa0현재의\\xa0변동성을\\xa0감수한다는\\xa0점이지요.\\xa0규칙적인\\xa0현금\\xa0흐름에\\xa0집착하지\\xa0않고,\\xa0투자가치가\\xa0있는\\xa0자산에\\xa0투자를\\xa0하고\\xa0있어야\\xa0안심하는\\xa0성향입니다.\\xa0기회가\\xa0왔다고\\xa0판단되면\\xa0레버리지를\\xa0어떻게든\\xa0동원해서라도\\xa0집중\\xa0투자를\\xa0해야만\\xa0직성이\\xa0풀립니다.\\xa0투자에서\\xa0얻은\\xa0성취에\\xa0만족감이\\xa0크므로\\xa0투자를\\xa0취미로\\xa0생각하는\\xa0사람도\\xa0많다고요. 이런\\xa0분들은\\xa0적은\\xa0돈이라도,\\xa0보너스든\\xa0급여\\xa0소득이든,\\xa0돈이\\xa0생기는\\xa0대로\\xa0어떻게든\\xa0투자를\\xa0합니다.\\xa0펀드를\\xa0들거나,\\xa0주식을\\xa0하거나,\\xa0코인을\\xa0하면서\\xa0자산에\\xa0투자하기\\xa0위한\\xa0노력을\\xa0게을리\\xa0하지\\xa0않지요.\\xa0그렇게\\xa0꾸준히\\xa0모은\\xa0자산을\\xa0든든한\\xa0뒷배\\xa0삼아\\xa0은퇴를\\xa0결정하는\\xa0이들이\\xa0자산형\\xa0파이어족입니다.\\xa0 2.\\xa0현금\\xa0흐름형\\xa0파이어족\\xa0 현금\\xa0흐름형\\xa0파이어족은\\xa0경제적\\xa0안정성을\\xa0가장\\xa0중요시하는\\xa0사람입니다.\\xa0이들은\\xa0경제적인\\xa0문제에\\xa0늘\\xa0신중하게\\xa0결정하는\\xa0것을\\xa0선호합니다.\\xa0매사\\xa0안정적이고\\xa0차분하게\\xa0행동하는\\xa0것이\\xa0이들의\\xa0DNA이기\\xa0때문에,\\xa0쉽게\\xa0부화뇌동하지\\xa0않고\\xa0꾸준히\\xa0자신의\\xa0할\\xa0일을\\xa0해나가는\\xa0데\\xa0능숙합니다.\\xa0큰\\xa0수익을\\xa0얻을\\xa0기회가\\xa0있더라도\\xa0위험이\\xa0크다면\\xa0신중하게\\xa0결정하는\\xa0경향이\\xa0있다는\\xa0것이\\xa0이들의\\xa0장점이자\\xa0단점입니다. 많은\\xa0현금\\xa0흐름형\\xa0파이어족은\\xa0규칙적인\\xa0현금\\xa0흐름을\\xa0확보해야만\\xa0발\\xa0뻗고\\xa0잘\\xa0수\\xa0있는\\xa0사람들이며,\\xa0변동성을\\xa0지켜보는\\xa0것을\\xa0어려워하는\\xa0측면이\\xa0있다는데요.\\xa0콱\\xa0찔립니다.\\xa0제가\\xa0이렇거든요.\\xa0평생\\xa0주식투자를\\xa0거들떠보지도\\xa0않은\\xa0이유는\\xa0투자를\\xa0통해\\xa0큰\\xa0차익을\\xa0얻는\\xa0것도\\xa0좋지만,\\xa0투자\\xa0수익을\\xa0얻는다는\\xa0기대감보다\\xa0투자금을\\xa0잃는다는\\xa0불안함이\\xa0더\\xa0크기\\xa0때문입니다.\\xa0제게는\\xa0마음의\\xa0평화가\\xa0세상\\xa0그\\xa0무엇보다도\\xa0더\\xa0소중한\\xa0가치입니다.\\xa0위험을\\xa0담보로\\xa0하는\\xa0투자에\\xa0선뜻\\xa0나서지\\xa0않으니\\xa0크게\\xa0얻는\\xa0일도\\xa0적지만\\xa0크게\\xa0잃는\\xa0일도\\xa0거의\\xa0없다는\\xa0얘기에\\xa0이거\\xa0딱\\xa0나네,\\xa0싶었어요. 현금\\xa0흐름형\\xa0파이어족을\\xa0꿈꾸신다면\\xa0여러분이\\xa0가야\\xa0할\\xa0길은\\xa0자신의\\xa0가치를\\xa0올리는\\xa0것입니다.\\xa0직장에서\\xa0일을\\xa0해서\\xa0몸값을\\xa0올리거나\\xa0부업을\\xa0하는\\xa0거지요.\\xa0급여\\xa0소득\\xa0외에도\\xa0수입을\\xa0올릴\\xa0수\\xa0있는\\xa0방법을\\xa0찾아야\\xa0합니다.\\xa0그래야\\xa0회사를\\xa0나와서도\\xa0꾸준히\\xa0소득을\\xa0올릴\\xa0수\\xa0있습니다.\\xa0저의\\xa0경우,\\xa0MBC\\xa0PD로\\xa0일하면서도\\xa0매일\\xa0아침\\xa0블로그에\\xa0글을\\xa0올리거나\\xa0매년\\xa0한\\xa0권씩\\xa0책을\\xa0내거나\\xa0주말에는\\xa0도서관\\xa0특강을\\xa0다니면서\\xa0적은\\xa0수입이라도\\xa0꾸준하게\\xa0버는\\xa0훈련을\\xa0했고요.\\xa0급여\\xa0외\\xa0소득이\\xa0급여\\xa0소득을\\xa0초과한\\xa0어느\\xa0날,\\xa0파이어\\xa0선언을\\xa0하게\\xa0되었습니다.\\xa0Fire?\\xa0Financial\\xa0Independence,\\xa0Retire\\xa0Early의\\xa0줄임말이기도\\xa0하지만\\xa0제게는...\\xa0‘이제\\xa0나는\\xa0내\\xa0인생에서\\xa0회사를\\xa0해고합니다.’라는\\xa0뜻이었어요.\\xa040대에\\xa0회사\\xa0생활이\\xa0너무\\xa0힘들었거든요.\\n3.\\xa0밸런스형\\xa0파이어족 밸런스형\\xa0파이어족은\\xa0다양한\\xa0경제적\\xa0시나리오에\\xa0대처하는\\xa0것이\\xa0몸에\\xa0배어\\xa0있는\\xa0사람들입니다.\\xa0그들은\\xa0미래에\\xa0벌어질\\xa0다양한\\xa0상황에\\xa0대해\\xa0계획하는\\xa0것을\\xa0좋아하며,\\xa0미리미리\\xa0대비\\xa0방법을\\xa0준비해놔야\\xa0마음이\\xa0편안합니다.\\xa0그\\xa0어떤\\xa0투자\\xa0상품에\\xa0대해서도\\xa0한\\xa0번씩은\\xa0의심하고\\xa0위험을\\xa0따져보는\\xa0성향은\\xa0밸런스형\\xa0파이어족의\\xa0대표적인\\xa0특징이라고요.\\xa0단순히\\xa0자산이나\\xa0현금\\xa0흐름\\xa0중\\xa0하나가\\xa0많더라도,\\xa0위험에\\xa0취약한\\xa0자산\\xa0배분이\\xa0있다면\\xa0예상하지\\xa0못한\\xa0경제적\\xa0시나리오에\\xa0순식간에\\xa0망가질\\xa0수\\xa0있거든요.\\xa0자산이든\\xa0현금\\xa0흐름이든\\xa0잘\\xa0배분된\\xa0포트폴리오와\\xa0함께할\\xa0때만\\xa0밸런스형\\xa0파이어족의\\xa0마음이\\xa0편안해집니다. 저는\\xa0친구들을\\xa0만나\\xa0밥을\\xa0살\\xa0때가\\xa0있습니다.\\xa0은퇴하고\\xa0돈도\\xa0없는데\\xa0무슨\\xa0밥을\\xa0사냐,\\xa0라고\\xa0하면\\xa0이렇게\\xa0답합니다.\\xa0“나는\\xa03가지\\xa0돈이\\xa0많아.\\xa0과거의\\xa0돈,\\xa0현재의\\xa0돈,\\xa0미래의\\xa0돈.\\xa0즉\\xa0과거에\\xa0모아놓은\\xa0돈,\\xa0현재\\xa0벌고\\xa0있는\\xa0돈,\\xa0미래에\\xa0자동적으로\\xa0들어올\\xa0돈.”\\xa0이\\xa0세\\xa0가지는\\xa0각각\\xa0자산,\\xa0소득,\\xa0연금을\\xa0뜻합니다.\\xa0평생\\xa0매월\\xa0급여의\\xa0절반을\\xa0꼬박꼬박\\xa0저축한\\xa0덕분에\\xa0자산이\\xa0많고요.\\xa0퇴사\\xa0하기\\xa0전\\xa010년\\xa0전부터\\xa0인생\\xa0이모작을\\xa0준비하며\\xa0매년\\xa0200권\\xa0이상\\xa0책을\\xa0읽고\\xa0매년\\xa0한\\xa0권씩\\xa0책을\\xa0낸\\xa0덕분에\\xa0지금\\xa0들어오는\\xa0인세와\\xa0강연료\\xa0수입이\\xa0충분하고요.\\xa0주식이나\\xa0부동산보다\\xa0연금\\xa0저축을\\xa0더\\xa0선호한\\xa0저의\\xa0특성상,\\xa0앞으로\\xa0받게\\xa0될\\xa0연금\\xa0자산이\\xa0많습니다.\\xa0이\\xa03가지\\xa0돈이\\xa0많은\\xa0사람은\\xa0노후에\\xa0경제적\\xa0고민은\\xa0줄어듭니다. 자,\\xa0만약\\xa0이렇게\\xa0미리\\xa0준비해둔\\xa0부업이나\\xa0자산이\\xa0없다면\\xa0어떻게\\xa0하느냐,\\xa0마지막\\xa04번째\\xa0길이\\xa0있습니다.\\xa0그냥\\xa0지금\\xa0있는\\xa0돈\\xa0다\\xa0쓰고\\xa0죽자는\\xa0쓰죽형\\xa0파이어족이지요.\\xa0경제적인\\xa0불안으로\\xa0미래\\xa0대비를\\xa0하느라\\xa0지금을\\xa0낭비하는\\xa0것을\\xa0싫어하는\\xa0게\\xa0쓰죽형\\xa0파이어족입니다.\\xa0자산을\\xa0계속\\xa0관리하는\\xa0스트레스\\xa0때문에\\xa0현재의\\xa0삶의\\xa0질이\\xa0떨어지는\\xa0것에\\xa0반대하며,\\xa0차라리\\xa0그\\xa0에너지를\\xa0자신의\\xa0인생을\\xa0즐기는\\xa0데\\xa0쓰는\\xa0게\\xa0낫다고\\xa0생각하는\\xa0거지요. 이들은\\xa0무엇보다\\xa0미래\\xa0자산에\\xa0대한\\xa0욕심이\\xa0크지\\xa0않은\\xa0사람들입니다.\\xa0한때는\\xa0자산\\xa0축적의\\xa0욕심과\\xa0미련이\\xa0있었지만,\\xa0이제는\\xa0현재를\\xa0즐기는\\xa0시간의\\xa0자유가\\xa0훨씬\\xa0더\\xa0중요하다고\\xa0생각하고요.\\xa0미래를\\xa0위해\\xa0현재의\\xa0자유를\\xa0포기하는\\xa0것을\\xa0경계합니다.\\xa0죽을\\xa0때\\xa0남는\\xa0것은\\xa0쌓아둔\\xa0자산이\\xa0아니라,\\xa0그저\\xa0자신의\\xa0마지막을\\xa0정리해줄\\xa0약간의\\xa0비용과\\xa0기억에\\xa0남을\\xa0만한\\xa0멋진\\xa0경험과\\xa0같은\\xa0정신적\\xa0유산이라고\\xa0말하는\\xa0이들.\\xa0파이어족이\\xa0되기\\xa0위해서\\xa0많은\\xa0돈을\\xa0모으거나\\xa0버는\\xa0것보다\\xa0더\\xa0중요한\\xa0것은\\xa0적은\\xa0돈으로\\xa0즐겁게\\xa0사는\\xa0자세라고\\xa0생각하는\\xa0게\\xa0쓰죽형\\xa0파이어족인지\\xa0모르겠습니다. 어떤\\xa0가요?\\xa0여러분은\\xa0이\\xa04가지\\xa0중\\xa0어떤\\xa0시나리오가\\xa0더\\xa0마음에\\xa0끌리시나요?\\xa0저는\\xa0넷\\xa0중에서\\xa0밸런스형에\\xa0가깝다고\\xa0생각합니다.\\xa0쓰죽형이\\xa0되기엔\\xa0조금\\xa0소심하고,\\xa0자산형이\\xa0되기엔\\xa0너무\\xa0불안하고,\\xa0현금\\xa0흐름형이라고\\xa0하기엔\\xa0그렇다고\\xa0월세나\\xa0배당금\\xa0받는\\xa0투자를\\xa0해\\xa0둔\\xa0것도\\xa0아니고...\\xa0그냥\\xa0소소하게\\xa0여기저기\\xa0다리를\\xa0걸쳐둔\\xa0느낌이네요.\\xa0^^ 경제적 자유와 조기 은퇴를 달성하고 파이어족이 되는 것은 0에서 1이 되는 것처럼 갑작스럽게 변하는 것이 아닙니다. 그보다는 오히려 자신이 원하는 진정한 목표가 무엇인지를 계속 고민하고, 자신을 탐구해가는 과정이 훨씬 중요합니다. 파이어족이 된다는 것은 기존 삶의 틀에서 벗어나, 행복을 찾아나가는 치열한 고민의 과정과 함께 점진적인 변화를 끊임없이 해나가는 여정이거든요. 언젠가는 여러분 모두 경제적 자유를 누리는 파이어족으로 사시기를 소망합니다.짠돌이의 경제 공부, 다음 시간에 이어집니다.\\n반응형\\n공유하기\\n게시글 관리\\n구독하기공짜로 즐기는 세상 \\n'짠돌이의 경제 공부' 카테고리의 다른 글\\n대한민국 파이어족 선언문\\xa0\\xa0(18)\\n2024.04.29\\n돈, 비겁하게 벌어보자\\xa0\\xa0(8)\\n2024.04.19\\n나의 꿈은 연금술사\\xa0\\xa0(18)\\n2024.04.15\\n돈과 행복의 상관관계\\xa0\\xa0(18)\\n2024.04.08\\n돈을 아끼려면 자존감부터 키우세요\\xa0\\xa0(16)\\n2024.04.01\\n관련글\\n대한민국 파이어족 선언문\\n돈, 비겁하게 벌어보자\\n나의 꿈은 연금술사\\n돈과 행복의 상관관계\\n 분류 전체보기 \\n 짠돌이 독서 일기 \\n 꼬리에 꼬리를 무는 독서 \\n 짠돌이의 경제 공부 \\n 공짜 영어 스쿨 \\n 댓글부대 모집공고 \\n 영어책 한 권 외워봤니? \\n 공짜 PD 스쿨 \\n 딴따라 글쓰기 교실 \\n 날라리 영화 감상문 \\n 매일 아침 써봤니? \\n 짠돌이 건강 수업 \\n 공짜로 즐기는 세상 \\n 2017 MBC 파업일지 \\n 공짜 연애 스쿨 \\n 짠돌이 육아 일기 \\n 고독한 인생 수업 \\n 중년의 시간관리법 \\n 짠돌이 강연 수강일지 \\n 짠돌이 여행예찬 \\n 짠돌이 세계여행 \\n 짠돌이 국내여행 \\n 내 모든 습관은 여행에서 만들어졌다 \\n 은퇴자의 세계일주 \\n공지사항\\n최근글\\n자연과의 조화, 담양 여행\\n2024.05.08\\n인생 성취의 8할은 운\\n2024.05.06\\n파이어족이 되는 4가지 길\\n2024.05.03\\n교토 벚꽃 놀이 1탄\\n2024.05.01\\n대한민국 파이어족 선언문\\n2024.04.29\\n인기글\\n교토 벚꽃 놀이 1탄\\n2024.05.01\\n파이어족이 되는 4가지 길\\n2024.05.03\\n대한민국 파이어족 선언문\\n2024.04.29\\n잘못 탄 기차가 목적지에 데려다준다\\n2019.02.04\\n미얀마 인레 호수 여행\\n2024.03.13\\n최근댓글\\n언제 봐도 좋고 쫄깃하기까지 한 PD님의 강연+주변 여⋯\\n풍경사진이 너무 멋져요~~\\n피디님이시니 당연히 잘 찍으⋯\\n포스팅 잘봤습니다. 즐거운 하루되세요.♥\\n오늘도 아침 처방약 잘 읽었습니다 ^^ 길어서 더 좋은⋯\\n태그\\n공짜로 즐기는 세상\\n탄자니아\\nMBC\\n공짜 영어 스쿨\\n연애\\n대만여행\\n걷기 여행\\n연애의 기술\\n영어책 한 권 외워봤니?\\n드라마\\n김민식\\n블로그\\n육아일기\\nMBC 노조\\nPD\\n독서일기\\n100권 읽기\\n타이베이\\n제주도 여행\\n장강명\\n매일 아침 써봤니?\\n공짜 PD 스쿨\\n자전거 전국일주\\nmbc 프리덤\\n잔지바르\\n영어책한권외워봤니?\\n김민식 피디\\nMBC 파업\\n대만 여행\\n팟캐스트\\n전체 방문자\\n8,060,900\\nToday : 1,340\\nYesterday : 1,406\\nTOP\\nDesigned by 티스토리\\n© Kakao Corp.\\n티스토리툴바\",\n",
       "  '����Ű\\nHOME\\nTOP\\nBOTTOM\\n\\xa0\\n \\n����\\n�˻�\\n�˻ѰԽ���\\n�\\u07b4����˻�\\n�ؿܻ˻�\\n�˸��˻�\\n�˻��ֵ�\\n���λ˻�\\n�\\u07b4�����ü\\n���ͳݰ��Ծ�ü\\nī���ü\\n��Ż��ü\\n�����ü\\n�̺�Ʈ\\n�̺�Ʈ�Խ���\\n�����Խ���\\nü��ܸ���\\n�ٿ�ε� ����\\n�������\\n�˻��̺�Ʈ\\n����\\n�̰����Ͱ���\\n��Ʃ������\\n��������\\n�ַ����� ����\\n�����ı�\\n������\\n��������\\n����\\uef3c\\n�˻Ѱ���\\nĿ�´�Ƽ\\n�ֽű�\\n�����Խ���\\n��ġ�����Խ���\\n���������Խ���\\n���������Խ���\\n����/����\\n���\\u0530Խ���\\n�˻ѹ̼�\\nHOT�Խñ�\\nHOT�ڸ�Ʈ\\n������\\n����������\\n�����ΰ�����\\n�Ƴ��\\uef2d������\\n�\\u05f8�������\\n����ȭ�鰶����\\n©�氶����\\n���ܽ�û������\\n����\\n�˻�����\\n�\\u07b4�������\\n����������\\n�¶�������\\n���ڴ������\\n�߰�������\\nOTT/�����\\n�ؿܱ��Ŵ���\\n�����̾߱�\\n��õ������\\n����\\n����\\n���/����\\n������\\n��ġ\\n����\\n��ȸ\\n��ȭ\\n������\\n����\\nIT/��ũ\\n����\\n����\\n����/�ڵ���\\n������\\n������\\n���ͳݰ��Ի��\\nī����\\n��Ż���\\n�����������\\n��Ȱ/������\\n�������\\n�̻���\\n��������ġ���\\n���Ȱ����\\n�����������\\n�������\\n�濵�������\\n��\\n ����̳�\\n ����\\n ��ȥ�ڸ� ������\\n �ν�Ʈ��ũ\\n PSG\\n �����б�����\\n ����\\n HD���븶���ַ��\\n ��Ÿ����\\n ���ȣ\\n�α���\\nȸ������|���̵����ã��\\n  �ڵ��α���\\n��/��/������\\xa0�Դϴ�.\\n���ø\\u07b4�\\n��������\\n������������\\n\\r\\n����(���� ����, ���� OO �̴�), ���, Ư�� �� ������ ���� �ִ� ���İ� ������ �����ϴ� �����Դϴ�.  [��/��/������ �̿��Ģ] \\n \\n �ñ� ���̾��� �ϸ� ������� �ƴ��� �ɽ����� �ʳ���?76\\n[* �\\u0378� *]\\n����� 2024-04-23 06:52\\n��ȸ�� 17107 \\n \\n \\n���� ���� �\\u05f8��θ� ���� �ð��� ���ݾ� �Ʋ����鼭 ���������� ��ٸ��°���...\\xa0�\\u05f7��\\u2fe3 �ʹ� �̸��� �ʳ���?\\xa0���� 100�� �̻� �ڻ갡 �����ϱ���.\\xa0\\xa0�⳪�� ������ ���ϰ� ���������� �ñ��մϴ�.\\xa0\\xa0\\xa0\\n0\\n��õ�ϱ�\\n�ٸ��ǰ�\\n0\\n�Ŀ���ũ   ��Ͼȳ�\\n  \\n\\xa0\\n-��Ϻ��� \\n \\n# �� �Խñۿ��� ���ڸ�Ʈ�� �ֽ��ϴ�. Ŭ���Ͻø� ���ڸ�Ʈ ��ġ�� �̵��մϴ�.\\n[* �\\u0378�1 *] / ���̾����� ���� ��� ����� �ƴ϶�... �ϰ����� �Ҽ��ϰ� ���ϸ鼭 �\\u05f5��� ������� ������ ��Ȱ�ϴ� ���...  17  0[* �\\u0378�6 *] / �����ִ� ���� ������ Ǯ���൵ �������� ���ϰ�\\r\\n�뿹���� ������� ������ �൵ ������ ����� ������  12  0\\n 0\\n 17\\n [* �\\u0378�1 *]\\n���̾����� ���� ��� ����� �ƴ϶�... �ϰ����� �Ҽ��ϰ� ���ϸ鼭 �\\u05f5��� ������� ������ ��Ȱ�ϴ� ����� �ƴѰ���? ���� ������ �ʰ���...\\xa0\\n���̾����� ���� ��� ����� �ƴ϶�... �ϰ����� �Ҽ��ϰ� ���ϸ鼭 �\\u05f5��� ������� ������ ��Ȱ�ϴ� ����� �ƴѰ���? ���� ������ �ʰ���...\\xa0\\n2024-04-23\\n����ּҺ���\\n 0\\n 0\\n[* �ۼ��� *]\\n����- �ʹ� ���� ��Ȱ�� ���� ��Ŀ���� �ξ��� ���\\u05ff�.\\xa0\\n����- �ʹ� ���� ��Ȱ�� ���� ��Ŀ���� �ξ��� ���\\u05ff�.\\xa0\\n2024-04-23\\n����ּҺ���\\n 0\\n 2\\n [* �\\u0378�37 *]\\n���踦 ���ؼ� �ϴ� ���� �ƴ�\\n�ڽ��� ������ ���븦 ���ؼ� �ڹ�������\\n�ϰ� ���� ���� �ϴ°��̶��\\xa0\\n���� �� ������� ������ ��������ϴ�.\\n\\xa0\\n�װ� ���̵� ��̵� ���ε� ����\\n�� ���� ���ؼ� ������ �ڸ��� �̷��\\n���踦 ���ؼ� �ϴ� ���� �ƴ�\\r\\n�ڽ��� ������ ���븦 ���ؼ� �ڹ�������\\r\\n�ϰ� ���� ���� �ϴ°��̶��\\xa0\\r\\n���� �� ������� ������ ��������ϴ�.\\r\\n\\xa0\\r\\n�װ� ���̵� ��̵� ���ε� ����\\r\\n�� ���� ���ؼ� ������ �ڸ��� �̷��\\n2024-04-24\\n����ּҺ���\\n 0\\n 0\\n[* �\\u0378�42 *]\\n�̰� ���� ���� �ȵǴ��� �ϰ� ������ �ϸ鼭 ��� ��..\\n���� ����̳� ���� �ͳ\\u05ff�.\\n�̰� ���� ���� �ȵǴ��� �ϰ� ������ �ϸ鼭 ��� ��..\\r\\n���� ����̳� ���� �ͳ\\u05ff�.\\n2024-04-24\\n����ּҺ���\\n 0\\n 4\\n [* �\\u0378�2 *]\\n���̾����� ���� ��⸸ �ϴ°� �ƴմϴ�\\n\\xa0\\n�ٸ� ������ �־� �ڱⰡ �Ⱦ��ϴ� ���� ���ϴ°� �ٸ�����\\n\\xa0\\n�ڱⰡ �����ϴ� �� �ϰ���\\xa0\\n\\xa0\\n���ڵ� ���̶�� ���̰ڱ���\\n���̾����� ���� ��⸸ �ϴ°� �ƴմϴ�\\r\\n\\xa0\\r\\n�ٸ� ������ �־� �ڱⰡ �Ⱦ��ϴ� ���� ���ϴ°� �ٸ�����\\r\\n\\xa0\\r\\n�ڱⰡ �����ϴ� �� �ϰ���\\xa0\\r\\n\\xa0\\r\\n���ڵ� ���̶�� ���̰ڱ���\\n2024-04-23\\n����ּҺ���\\n 0\\n 0\\n[* �ۼ��� *]\\n�ϰ� ���� ���� ������ �ϰڴٴ°ǰ� ������.\\xa0\\n�ϰ� ���� ���� ������ �ϰڴٴ°ǰ� ������.\\xa0\\n2024-04-23\\n����ּҺ���\\n 0\\n 2\\n [* �\\u0378�2 *]\\n��κ� ���̾������� ���� �ֽ� �ε��� ���ڸ� ���� ���̾��� �ϰ� �ִ°Ŷ� ���ڴ� ������ �����̴ϴ�\\n��κ� ���̾������� ���� �ֽ� �ε��� ���ڸ� ���� ���̾��� �ϰ� �ִ°Ŷ� ���ڴ� ������ �����̴ϴ�\\n2024-04-23\\n����ּҺ���\\n 0\\n 0\\n [* �ۼ��� *]\\n�\\u05f7��� ����ũ ū ���ڸ� �ϻ����� ������ ���� �����ؾ� �Ҽ��� �ְڱ���.\\xa0\\n�\\u05f7��� ����ũ ū ���ڸ� �ϻ����� ������ ���� �����ؾ� �Ҽ��� �ְڱ���.\\xa0\\n2024-04-23\\n����ּҺ���\\n 0\\n 0\\n[* �\\u0378�35 *]\\n��.. �������ڰ���� �������� ���̾����� �ƴ϶�� �����ߴµ�.. ���� ���̾� ���ΰ���???\\n��.. �������ڰ���� �������� ���̾����� �ƴ϶�� �����ߴµ�.. ���� ���̾� ���ΰ���???\\n2024-04-23\\n����ּҺ���\\n 0\\n 0\\n [* �\\u0378�40 *]\\n������ �ѹ� �̲������� �λ� �����Դϴ�.\\xa0\\n������ ä������ ����\\n������ �ѹ� �̲������� �λ� �����Դϴ�.\\xa0\\r\\n������ ä������ ����\\n2024-04-24\\n����ּҺ���\\n 0\\n 0\\n [* �\\u0378�2 *]\\n���������ڵ� ���̾����� �����̶�� ���ϴ� ����\\n���������ڵ� ���̾����� �����̶�� ���ϴ� ����\\n2024-04-24\\n����ּҺ���\\n 0\\n 2\\n [* �\\u0378�3 *]\\n�Ʒ� �п������ϴ� ������ ����ε��� ���ݵ� �ϰ� ���⿹�ݿ��� �־�ΰ� ������ ���ڰ� �ϰ� �ֽ� �ŷ��� �մϴ�. �۳� ���� 2000 ������ ������ �־����ſ���\\n�Ʒ� �п������ϴ� ������ ����ε��� ���ݵ� �ϰ� ���⿹�ݿ��� �־�ΰ� ������ ���ڰ� �ϰ� �ֽ� �ŷ��� �մϴ�. �۳� ���� 2000 ������ ������ �־����ſ���\\n2024-04-23\\n����ּҺ���\\n 3\\n 1\\n [* �\\u0378�15 *]\\nȸ�� �ٴϴ� ���̾� �ߴµ���\\n�ε�����ġ�� �Ʋ����� �� ���ġ�� �Ʋ����� �ؼ� ��� �\\uec33�� �ƴµ� �����ν��� ���� �����߰� ȸ�絵 ���ϴ� �ٶ��� �� ���̾� �߽��ϴ�\\xa0\\n�Ӵ�ᵵ �ް� �ֽĵ� �ϰ� �ε����� ��� Ž�����̰� �����ֿ� ���� �������� �ϰ� �ֳ\\u05ff�\\n��ٰ� �������� �ߴµ� ���忡 ��2�����Ϸ� �����°� ���� �Ǹ��ߴµ� 8�\\u07b4ް��� �ű⼭ �ű�� �\\u05f8��׳\\u05ff� ���� ��°ŵ� ���ܿ� �� ���Ѱ� ��� ã�� �־��\\nȸ�� �ٴϴ� ���̾� �ߴµ���\\r\\n�ε�����ġ�� �Ʋ����� �� ���ġ�� �Ʋ����� �ؼ� ��� �\\uec33�� �ƴµ� �����ν��� ���� �����߰� ȸ�絵 ���ϴ� �ٶ��� �� ���̾� �߽��ϴ�\\xa0\\r\\n�Ӵ�ᵵ �ް� �ֽĵ� �ϰ� �ε����� ��� Ž�����̰� �����ֿ� ���� �������� �ϰ� �ֳ\\u05ff�\\r\\n��ٰ� �������� �ߴµ� ���忡 ��2�����Ϸ� �����°� ���� �Ǹ��ߴµ� 8�\\u07b4ް��� �ű⼭ �ű�� �\\u05f8��׳\\u05ff� ���� ��°ŵ� ���ܿ� �� ���Ѱ� ��� ã�� �־��\\n2024-04-23\\n����ּҺ���\\n 0\\n 0\\n [* �\\u0378�40 *]\\n�ڿ����ڱ��� ���� ���̾���\\n�ڿ����ڱ��� ���� ���̾���\\n2024-04-24\\n����ּҺ���\\n 0\\n 0\\n[* �\\u0378�49 *]\\n�������� �� ���̾��� ������. ���� ���ϴµ� ����\\n�������� �� ���̾��� ������. ���� ���ϴµ� ����\\n2024-04-24\\n����ּҺ���\\n 0\\n 1\\n [* �\\u0378�4 *]\\n���̾����� ��Ȯ�� �ǹ̴� ������ ��Ű�� ���� �ϰų� �ؾ߸� �ϴ� ���� �ϴ� ���� �ƴ϶� ���� ���ϴ� ���� �ϴ� ����� �����ϴ� ���� �ٴ��� �ʰ� ������ �������� ������ ���� �Ѵٸ� �ɽ������� �ʾƿ� ���� ����ó�� ���� �������� Ŀ�´����̼��� ������ �ʴٺ��� �\\u05f7� ������ �� �ɽ��� �� �������δ� �ٻڴ�ϴ�\\n���̾����� ��Ȯ�� �ǹ̴� ������ ��Ű�� ���� �ϰų� �ؾ߸� �ϴ� ���� �ϴ� ���� �ƴ϶� ���� ���ϴ� ���� �ϴ� ����� �����ϴ� ���� �ٴ��� �ʰ� ������ �������� ������ ���� �Ѵٸ� �ɽ������� �ʾƿ� ���� ����ó�� ���� �������� Ŀ�´����̼��� ������ �ʴٺ��� �\\u05f7� ������ �� �ɽ��� �� �������δ� �ٻڴ�ϴ�\\n2024-04-23\\n����ּҺ���\\n 0\\n 0\\n[* �\\u0378�3 *]\\n������ ���ǿ� ������ �����ϴ� ������ ���̰� �ִ°� ���ƿ�.\\n���� �ʹ� �ܼ��ϰԸ� �����ߴ��� �����ϴ�.\\n������ ���ǿ� ������ �����ϴ� ������ ���̰� �ִ°� ���ƿ�.\\r\\n���� �ʹ� �ܼ��ϰԸ� �����ߴ��� �����ϴ�.\\n2024-04-23\\n����ּҺ���\\n 1\\n 0\\n [* �\\u0378�5 *]\\n�����Ͽ� �����ϼ���...\\n�����Ͽ� �����ϼ���...\\n2024-04-23\\n����ּҺ���\\n 0\\n 12\\n [* �\\u0378�6 *]\\n�����ִ� ���� ������ Ǯ���൵ �������� ���ϰ�\\n�뿹���� ������� ������ �൵ ������ ����� ������\\n�����ִ� ���� ������ Ǯ���൵ �������� ���ϰ�\\r\\n�뿹���� ������� ������ �൵ ������ ����� ������\\n2024-04-23\\n����ּҺ���\\n 0\\n 0\\n [* �\\u0378�8 *]\\n�װ� �뿹ſ�� �ϱ\\u2fe3... ���� �ε��� ���� 20�� �ڻ��� �ֽ��ϴٸ�, ���忡�� ���� �̷�� �;\\uef2d ���� ������ �ٴϰ� �ִµ� ������\\n�װ� �뿹ſ�� �ϱ\\u2fe3... ���� �ε��� ���� 20�� �ڻ��� �ֽ��ϴٸ�, ���忡�� ���� �̷�� �;\\uef2d ���� ������ �ٴϰ� �ִµ� ������\\n2024-04-23\\n����ּҺ���\\n 0\\n 0\\n [* �\\u0378�36 *]\\n������ ��վ�� �´� ������....\\n������ ��վ�� �´� ������....\\n2024-04-24\\n����ּҺ���\\n 0\\n 0\\n[* �\\u0378�39 *]\\n�װ� ���� �ܼ� �ִ� ������ �ٴϱ\\u2fe1 ���� �Ѱ���.\\n�װ� ���� �ܼ� �ִ� ������ �ٴϱ\\u2fe1 ���� �Ѱ���.\\n2024-04-24\\n����ּҺ���\\n 0\\n 0\\n [* �\\u0378�61 *]\\n���忡��\\xa0 ����\\xa0 �̷�ٴ�..\\n\\xa0\\n�\\U000f8db3�\\xa0 ������ ����\\xa0 ���̱\\u2fe1..\\n���忡��\\xa0 ����\\xa0 �̷�ٴ�..\\r\\n\\xa0\\r\\n�\\U000f8db3�\\xa0 ������ ����\\xa0 ���̱\\u2fe1..\\r\\n\\r\\n   \\r\\n2024-04-24\\n����ּҺ���\\n 0\\n 0\\n [* �\\u0378�8 *]\\n�����۷ι�������� �ӿ��ٴ°� ������ ���°ǰ���\\n�����۷ι�������� �ӿ��ٴ°� ������ ���°ǰ���\\n2024-04-24\\n����ּҺ���\\n 0\\n 0\\n [* �\\u0378�61 *]\\n�����ϴ°�\\xa0 �ƴϱ���\\n\\xa0\\n�����Ͻ� ��,\\xa0 ��ǥ�� �ɼ� ������\\n�� ����\\xa0 �������̰�\\xa0 �Ǵ°�\\xa0 �λ��� �� �̶��..\\n\\xa0\\n���ν�� ������..\\xa0 \\xa0\\n\\xa0\\n������ ��ǥ��\\xa0 �� �λ���\\xa0 ���̶�°͵�\\xa0 �������\\xa0 ��ǥ�� ������ �ʳ\\u05ff�\\n\\xa0\\n\\xa0\\n�����ϴ°�\\xa0 �ƴϱ���\\r\\n\\xa0\\r\\n�����Ͻ� ��,\\xa0 ��ǥ�� �ɼ� ������\\r\\n�� ����\\xa0 �������̰�\\xa0 �Ǵ°�\\xa0 �λ��� �� �̶��..\\r\\n\\xa0\\r\\n���ν�� ������..\\xa0 \\xa0\\r\\n\\xa0\\r\\n������ ��ǥ��\\xa0 �� �λ���\\xa0 ���̶�°͵�\\xa0 �������\\xa0 ��ǥ�� ������ �ʳ\\u05ff�\\r\\n\\xa0\\r\\n\\xa0\\n2024-04-25\\n����ּҺ���\\n 0\\n 0\\n [* �\\u0378�8 *]\\n���ε� ���ٴ°� ���� ��ó�� ȸ����� �ӿ��ٴ� ���� ����� ������ ���� �װ� ������ �������� Ÿ���̶��...\\n���ε� ���ٴ°� ���� ��ó�� ȸ����� �ӿ��ٴ� ���� ����� ������ ���� �װ� ������ �������� Ÿ���̶��...\\n2024-04-25\\n����ּҺ���\\n 0\\n 0\\n [* �\\u0378�7 *]\\n�칮�����Դϴ�\\n�칮�����Դϴ�\\n2024-04-23\\n����ּҺ���\\n 0\\n 0\\n [* �\\u0378�11 *]\\n�ƴ� �\\u05fe�Ⱑ �ƴ϶� ���鼭 �� ���� �������� ���� �\\u05f7��ٰ� ���� �ð��� ���� �ϴ°͵� �ƴϴϱ� �ñ��ϴٴ°���\\n�ƴ� �\\u05fe�Ⱑ �ƴ϶� ���鼭 �� ���� �������� ���� �\\u05f7��ٰ� ���� �ð��� ���� �ϴ°͵� �ƴϴϱ� �ñ��ϴٴ°���\\n2024-04-23\\n����ּҺ���\\n 2\\n 2\\n [* �\\u0378�22 *]\\n�� �����ϰ� �����ϸ� ���ġ�� �ʰ�, �����ϰ� ��� �������� �ʳĴ� �� ������ �̻��� ���� ��� ���� ���̳�.\\n���� �ָ� �Ƿ� �������ϰ� �����ұ�� ������ ������� �е������ٵ� �� ����� ���ؿ�\\n�� �����ϰ� �����ϸ� ���ġ�� �ʰ�, �����ϰ� ��� �������� �ʳĴ� �� ������ �̻��� ���� ��� ���� ���̳�.\\r\\n���� �ָ� �Ƿ� �������ϰ� �����ұ�� ������ ������� �е������ٵ� �� ����� ���ؿ�\\n2024-04-23\\n����ּҺ���\\n 0\\n 1\\n[* �\\u0378�43 *]\\n�뿹���� ������� ������ �൵ ������ ����� ���ϴ� ������\\xa0\\n������ �ڻ��̸� ������ ������ �൵ �ǰڴٰ� �����ϰ� �����ο��� ������ ������\\xa0\\n������ ������ �ڻ갡���� �Ժη� ��ٰ��� ���\\u2fe1 �����Ұ� ���� ���� �ƴұ��\\xa0\\n������� ���� �ڻ��� ����ϴٰ� �Ǵܹ̽��� ����� ���� �ְڳ\\u05ff�\\xa0\\xa0\\n�뿹���� ������� ������ �൵ ������ ����� ���ϴ� ������\\xa0\\r\\n������ �ڻ��̸� ������ ������ �൵ �ǰڴٰ� �����ϰ� �����ο��� ������ ������\\xa0\\r\\n������ ������ �ڻ갡���� �Ժη� ��ٰ��� ���\\u2fe1 �����Ұ� ���� ���� �ƴұ��\\xa0\\r\\n������� ���� �ڻ��� ����ϴٰ� �Ǵܹ̽��� ����� ���� �ְڳ\\u05ff�\\xa0\\xa0\\n2024-04-24\\n����ּҺ���\\n 0\\n 0\\n[* �\\u0378�51 *]\\n�ƴ� ������� ��û ���ڿ���.\\n�� ������ ���ٰ� ���� ������\\n���� �� ���.\\n\\xa0\\n���� �뿹�� �Ǿ� ���Ȱŵ��.\\n\\xa0\\n������ Ǭ�� ��Ƽ� �߰�, �װ� ������ �Ǿ� ������ �źΰ� ������\\n������ ���ؼ��� �Ͽ� ��Ǭ ������ �� ���.\\n�\\u05f7��� ���ڰ� �Ȱ�����\\n\\xa0\\n�� ����� �����ڵ� �Դ� �\\u07bdļ� ã�ư��� ��¥�� �\\u0530�\\n��� �����Կ��� �� ������ ������ �\\u0530�\\xa0\\n�̰� ���ذ� �ǳ���?\\n���̵� �� 70�ε�\\n\\xa0\\n�뿹�� �� ����� �ִ������.\\n�� ��ݿ��� ������ �ƴ϶� ��ǥ�� �Ǿ\\uef2d\\n�� ��� ���ؼ� ������ �� �ƴ϶�\\n������ ���ؼ� ��� ��ż�\\n��Ÿ�����ϴ�.\\n\\xa0\\n�� ���� �Ƶ��� ���� Ÿ�� �ٴմϴ�.\\n������� ���� �ڱ� �Ƶ� ���ؿ�.\\xa0\\n���� ���Ѵٰ� ������\\n�ƴ� ������� ��û ���ڿ���.\\r\\n�� ������ ���ٰ� ���� ������\\r\\n���� �� ���.\\r\\n\\xa0\\r\\n���� �뿹�� �Ǿ� ���Ȱŵ��.\\r\\n\\xa0\\r\\n������ Ǭ�� ��Ƽ� �߰�, �װ� ������ �Ǿ� ������ �źΰ� ������\\r\\n������ ���ؼ��� �Ͽ� ��Ǭ ������ �� ���.\\r\\n�\\u05f7��� ���ڰ� �Ȱ�����\\r\\n\\xa0\\r\\n�� ����� �����ڵ� �Դ� �\\u07bdļ� ã�ư��� ��¥�� �\\u0530�\\r\\n��� �����Կ��� �� ������ ������ �\\u0530�\\xa0\\r\\n�̰� ���ذ� �ǳ���?\\r\\n���̵� �� 70�ε�\\r\\n\\xa0\\r\\n�뿹�� �� ����� �ִ������.\\r\\n�� ��ݿ��� ������ �ƴ϶� ��ǥ�� �Ǿ\\uef2d\\r\\n�� ��� ���ؼ� ������ �� �ƴ϶�\\r\\n������ ���ؼ� ��� ��ż�\\r\\n��Ÿ�����ϴ�.\\r\\n\\xa0\\r\\n�� ���� �Ƶ��� ���� Ÿ�� �ٴմϴ�.\\r\\n������� ���� �ڱ� �Ƶ� ���ؿ�.\\xa0\\r\\n���� ���Ѵٰ� ������\\n2024-04-24\\n����ּҺ���\\n 0\\n 0\\n [* �\\u0378�7 *]\\n��°͵� ��ƺ������ ����\\n��°͵� ��ƺ������ ����\\n2024-04-23\\n����ּҺ���\\n 0\\n 0\\n [* �\\u0378�9 *]\\n�׳� ���� ���Ḹ�ڵ� ��հ� �ų��Ű���.\\xa0\\n�׳� ���� ���Ḹ�ڵ� ��հ� �ų��Ű���.\\xa0\\n2024-04-23\\n����ּҺ���\\n 1\\n 4\\n [* �\\u0378�10 *]\\n�ϰ� �� �� �ִ� �� õ�� �� �\\uee2e�ε� ���� ���ڵ� �ɽ��ұ� ��\\xa0 �����ϰ� �־\\ue93b����\\n�ϰ� �� �� �ִ� �� õ�� �� �\\uee2e�ε� ���� ���ڵ� �ɽ��ұ� ��\\xa0 �����ϰ� �־\\ue93b����\\n2024-04-23\\n����ּҺ���\\n 0\\n 1\\n[* �\\u0378�12 *]\\n�ϱ� ������ ���� �ʴ°\\u0378� �ص� �������λ� ���ٵ���\\n�ϱ� ������ ���� �ʴ°\\u0378� �ص� �������λ� ���ٵ���\\n2024-04-23\\n����ּҺ���\\n 0\\n 0\\n[* �\\u0378�29 *]\\n22222\\n��κ��� �����ε��� �����ӿ� ������ �� �徿�� �� ǰ�� �ٴ��״ϱ��.\\n�ϱ� ���� ���� ���� �� ���� ������ ������ �־\\ued75 ���麸�� �����ߴٰ� ���ϴ�.\\n���\\U000ff874� ũ�� �� ���� �ʾƵ� ������ ���� ����ִ� ���� �η��ִµ� �ɽ��ұ�� ������ �ʿ�� ��������.\\n22222\\r\\n��κ��� �����ε��� �����ӿ� ������ �� �徿�� �� ǰ�� �ٴ��״ϱ��.\\r\\n�ϱ� ���� ���� ���� �� ���� ������ ������ �־\\ued75 ���麸�� �����ߴٰ� ���ϴ�.\\r\\n���\\U000ff874� ũ�� �� ���� �ʾƵ� ������ ���� ����ִ� ���� �η��ִµ� �ɽ��ұ�� ������ �ʿ�� ��������.\\n2024-04-23\\n����ּҺ���\\n 0\\n 0\\n[* �\\u0378�13 *]\\n�ɽ��� �� ���� �� �ƴմϴ�.\\n�� �ְ� �ð� ������ �ɽ��� ������\\xa0\\n�ϰ� ���� �� �ϸ� �\\u05f8�.\\n������ �� ���� �ð� ���\\uef2d\\xa0\\n���ϴ� �͵��� ���� �ʹ� �����ϴ�.\\xa0\\n�ɽ��� �� ���� �� �ƴմϴ�.\\r\\n�� �ְ� �ð� ������ �ɽ��� ������\\xa0\\r\\n�ϰ� ���� �� �ϸ� �\\u05f8�.\\r\\n������ �� ���� �ð� ���\\uef2d\\xa0\\r\\n���ϴ� �͵��� ���� �ʹ� �����ϴ�.\\xa0\\n2024-04-23\\n����ּҺ���\\n1\\n2\\n3\\n4\\n5\\n \\n        ����9�� �ڸ�Ʈ�� �ۼ��� �� 30�ʰ� ����ؾ� �� �ڸ�Ʈ�� �ۼ��� �� �ֽ��ϴ�.\\n         \\n�˸� �弳, ��ó �� �� �ִ� ������ �ﰡ�ּ���.\\n�α��� �� �ڸ�Ʈ�� �ۼ��Ͻ� �� �ֽ��ϴ�.\\n©��\\n����\\n\\xa0�\\u0378��䱸\\xa0\\xa0\\xa0�ٸ��ǰ�\\xa0\\n \\n\\xa0\\n�̹����߰�\\n�ڸ�Ʈ �ۼ��� ���ÿ� ©���������� �����Ͻðڽ��ϱ�?\\nNOYES\\n�����߰�\\nȮ��\\n���\\n�� �������� ������ \\n-��Ϻ��� \\n \\n \\n����Ʈ�Ұ�\\n�\\ueff5����\\n�Խ��ߴܿ�û\\n�̿���\\n��������ó����ħ\\nû�ҳ⺸ȣ��å\\n�ҹ��Կ����� �Ű�\\n����/����\\n���Ϲ���\\n�˻�ä��\\n��ũ���\\nCopyright 2005-2024 ppomppu. All rights reserved\\nX',\n",
       "  '취미 탐방 : 네이버 블로그'])"
      ]
     },
     "execution_count": 7,
     "metadata": {},
     "output_type": "execute_result"
    }
   ],
   "source": [
    "bloggers['statifi'].crawler.ddgsearch_reducing('파이어족')\n"
   ]
  },
  {
   "cell_type": "markdown",
   "metadata": {},
   "source": [
    "쓰레딩"
   ]
  },
  {
   "cell_type": "code",
   "execution_count": null,
   "metadata": {},
   "outputs": [],
   "source": [
    "# 환경설정\n",
    "num_contents_creation = int(input('생성할 컨텐츠 갯수를 입력하세요. 무한대생산은 엔터를 치세요 '))\n",
    "\n",
    "# 함수정의\n",
    "def create_contents(blogger, num_contents_creation=5):\n",
    "    print(f\"Starting thread for {blogger.blogname}\")\n",
    "    blogger.create_contents(num_contents_creation)\n",
    "\n",
    "# 실행\n",
    "thread_bloggers(create_contents, bloggers, num_contents_creation=num_contents_creation)"
   ]
  },
  {
   "cell_type": "markdown",
   "metadata": {},
   "source": [
    "부분쓰레딩 (2 + 3)"
   ]
  },
  {
   "cell_type": "code",
   "execution_count": 13,
   "metadata": {},
   "outputs": [
    {
     "name": "stdout",
     "output_type": "stream",
     "text": [
      "Starting thread for statifi\n",
      "🌐 글을 작성할 키워드를 가지고 오는 중... \n",
      "Starting thread for sweetkiwi\n",
      "🌐 글을 작성할 키워드를 가지고 오는 중... \n",
      "Starting thread for kindmom\n",
      "🌐 글을 작성할 키워드를 가지고 오는 중... \n",
      "🌐 글 관련 자료 수집 중 ... \n",
      "🌐 글 관련 자료 수집 중 ... \n",
      "https://links.duckduckgo.com/d.js?q=%EC%9D%BC%EC%9D%BC%EA%B5%90%EC%9C%A1%EA%B3%84%ED%9A%8D%EC%95%88+%EC%9E%91%EC%84%B1%EB%B2%95&kl=wt-wt&l=wt-wt&p=&s=0&df=&vqd=4-18173993607126636620542324316866212837&ex=-1 202 Ratelimit with 일일교육계획안 작성법\n",
      "🌐 글 관련 자료 수집 중 ... \n",
      "https://links.duckduckgo.com/d.js?q=B2B+%EC%98%88%EC%8B%9C&kl=wt-wt&l=wt-wt&p=&s=0&df=&vqd=4-321759446114697375594885360655100597281&ex=-1 202 Ratelimit with B2B 예시\n",
      "https://links.duckduckgo.com/d.js?q=hwp+%ED%8C%8C%EC%9D%BC+%EB%8B%A4%EC%9A%B4%EB%A1%9C%EB%93%9C+%EB%B0%A9%EB%B2%95&kl=wt-wt&l=wt-wt&p=&s=0&df=&vqd=4-161720210629149273018638848728458584266&ex=-1 202 Ratelimit with hwp 파일 다운로드 방법\n",
      "https://links.duckduckgo.com/d.js?q=%EC%97%AC%ED%96%89+%EA%B3%84%ED%9A%8D+%EC%84%B8%EC%9A%B0%EA%B8%B0&kl=wt-wt&l=wt-wt&p=&s=0&df=&vqd=4-243168990585066055741805173054781400818&ex=-1 202 Ratelimit with 여행 계획 세우기\n"
     ]
    }
   ],
   "source": [
    "# 환경설정\n",
    "num_contents_creation = int(input('생성할 컨텐츠 갯수를 입력하세요. 무한대생산은 엔터를 치세요 '))\n",
    "\n",
    "# 함수정의\n",
    "def create_contents(blogger, num_contents_creation=5):\n",
    "    print(f\"Starting thread for {blogger.blogname}\")\n",
    "    blogger.create_contents(num_contents_creation)\n",
    "\n",
    "partial_bloggers = create_partial_bloggers(bloggers, ['statifi', 'sweetkiwi', 'kindmom'])\n",
    "thread_bloggers(create_contents, partial_bloggers, num_contents_creation=num_contents_creation)\n",
    "partial_bloggers2 = create_partial_bloggers(bloggers, ['takuz', 'morningbbobbo'])\n",
    "thread_bloggers(create_contents, partial_bloggers2, num_contents_creation=num_contents_creation)"
   ]
  },
  {
   "cell_type": "markdown",
   "metadata": {},
   "source": [
    "tester 테스트코드"
   ]
  },
  {
   "cell_type": "code",
   "execution_count": null,
   "metadata": {},
   "outputs": [],
   "source": [
    "# 단일블로거로 테스트\n",
    "\n",
    "# 함수정의\n",
    "def create_contents(blogger, num_contents_creation=5):\n",
    "    print(f\"Starting thread for {blogger.blogname}\")\n",
    "    blogger.create_contents(num_contents_creation)\n",
    "\n",
    "# 함수실행\n",
    "\n",
    "blogger_tester.keyword_ai.vectorstore_save_texts('파이어족 특징') # 예시 키워드 저장\n",
    "num_of_created_contents_now = len(blogger_tester.file_manager.get_file_names())\n",
    "\n",
    "try :\n",
    "    create_contents(blogger_tester, num_contents_creation=1)\n",
    "finally :\n",
    "    blogger_tester.keyword_ai.vectorstore_clear()\n",
    "\n",
    "# 실행결과 확인\n",
    "num_of_created_contents_after = len(blogger_tester.file_manager.get_file_names())\n",
    "if (num_of_created_contents_after - num_of_created_contents_now) > 0 :\n",
    "    print('🌐 컨텐츠 생성이 완료되었습니다.')  \n"
   ]
  },
  {
   "cell_type": "markdown",
   "metadata": {},
   "source": [
    "# 클릭3 : 티스토리 블로그 업로드"
   ]
  },
  {
   "cell_type": "markdown",
   "metadata": {},
   "source": [
    "순차반복문"
   ]
  },
  {
   "cell_type": "code",
   "execution_count": null,
   "metadata": {},
   "outputs": [],
   "source": [
    "# 환경설정\n",
    "num_contents_upload = int(input('업로드 할 컨텐츠 갯수를 입력하세요. 무한대생산은 엔터를 치세요. '))\n",
    "assert num_contents_upload is not None, '업로드할 컨텐츠 갯수를 입력하세요.'\n",
    "assert num_contents_upload <= 15 , '15개 이하로 업로드 가능합니다.'\n",
    "\n",
    "# 함수정의\n",
    "def upload(blogger, num_contents_upload):\n",
    "    blogger.upload_contents(num_contents_upload)\n",
    "\n",
    "for blogname in blog_names :\n",
    "    upload(bloggers[blogname], num_contents_upload)\n"
   ]
  },
  {
   "cell_type": "markdown",
   "metadata": {},
   "source": [
    "쓰레딩"
   ]
  },
  {
   "cell_type": "code",
   "execution_count": null,
   "metadata": {},
   "outputs": [],
   "source": [
    "# 환경설정\n",
    "num_contents_upload = int(input('업로드 할 컨텐츠 갯수를 입력하세요. 무한대생산은 엔터를 치세요. '))\n",
    "assert num_contents_upload is not None, '업로드할 컨텐츠 갯수를 입력하세요.'\n",
    "assert num_contents_upload <= 15 , '15개 이하로 업로드 가능합니다.'\n",
    "\n",
    "# 함수정의\n",
    "def upload(blogger, num_contents_upload):\n",
    "    blogger.upload_contents(num_contents_upload)\n",
    "\n",
    "# 실행\n",
    "thread_bloggers(\n",
    "    func=upload,\n",
    "    bloggers=bloggers,\n",
    "    num_contents_upload=num_contents_upload)"
   ]
  },
  {
   "cell_type": "markdown",
   "metadata": {},
   "source": [
    "테스트코드 (blogger_tester)"
   ]
  },
  {
   "cell_type": "code",
   "execution_count": null,
   "metadata": {},
   "outputs": [],
   "source": [
    "# 함수정의\n",
    "def upload(blogger, num_contents_upload = 1):\n",
    "    blogger.upload_contents(num_contents_upload)\n",
    "\n",
    "# 함수실행\n",
    "\n",
    "os.environ[\"tester_NEW_POST_URL\"] = str(r\"https://statifi.tistory.com/manage/newpost/?type=post&returnURL=%2Fmanage%2Fposts%2F\")\n",
    "os.environ[\"tester_ID\"] = \"jsj950611@naver.com\"\n",
    "os.environ[\"tester_PW\"] = \"Zhzkzhffk1!\"\n",
    "\n",
    "\n",
    "upload(blogger_tester, num_contents_upload=1)"
   ]
  },
  {
   "cell_type": "markdown",
   "metadata": {},
   "source": [
    "# 테스트코드는 여기 이하에 작성"
   ]
  },
  {
   "cell_type": "code",
   "execution_count": null,
   "metadata": {},
   "outputs": [],
   "source": [
    "# 남은 글의 갯수\n",
    "for blogname in blog_names:\n",
    "    print(len(bloggers[blogname].file_manager.get_file_names()))"
   ]
  },
  {
   "cell_type": "code",
   "execution_count": null,
   "metadata": {},
   "outputs": [],
   "source": [
    "# 남은 키워드의 갯수\n",
    "for blogname in blog_names:\n",
    "    print(len(bloggers[blogname].keyword_ai.vectorstore_list))"
   ]
  },
  {
   "cell_type": "code",
   "execution_count": null,
   "metadata": {},
   "outputs": [],
   "source": [
    "# 이름순서\n",
    "for blogname in blog_names:\n",
    "    print(blogname)"
   ]
  },
  {
   "cell_type": "code",
   "execution_count": null,
   "metadata": {},
   "outputs": [],
   "source": [
    "df = bloggers['takuz'].file_manager.get_keywords('collected_keywords')\n",
    "isNaverIn = []\n",
    "for all_links in df['all_links'] :\n",
    "    done = False\n",
    "    for link in all_links :        \n",
    "        if link is None : \n",
    "            isNaverIn.append(False)\n",
    "            done = True\n",
    "            break\n",
    "        if 'naver' in link :\n",
    "            isNaverIn.append(True)\n",
    "            done = True\n",
    "            break\n",
    "    if done == False :\n",
    "        isNaverIn.append(False)\n",
    "    \n",
    "        "
   ]
  },
  {
   "cell_type": "code",
   "execution_count": null,
   "metadata": {},
   "outputs": [],
   "source": [
    "df['isNaverIn'] = isNaverIn\n",
    "len(df[df['isNaverIn'] == True][df['tistory_rank_at_google'] == '노출없음'])"
   ]
  },
  {
   "cell_type": "code",
   "execution_count": 2,
   "metadata": {},
   "outputs": [
    {
     "data": {
      "text/plain": [
       "<module.Crawler.Crawler at 0x2840aa82610>"
      ]
     },
     "execution_count": 2,
     "metadata": {},
     "output_type": "execute_result"
    }
   ],
   "source": [
    "from module.Crawler import Crawler\n",
    "crawler = Crawler(isHeadless=False)\n",
    "crawler"
   ]
  },
  {
   "cell_type": "code",
   "execution_count": 3,
   "metadata": {},
   "outputs": [],
   "source": [
    "crawler.search('파이어족', 'google')"
   ]
  },
  {
   "cell_type": "code",
   "execution_count": 17,
   "metadata": {},
   "outputs": [],
   "source": [
    "from bs4 import BeautifulSoup\n",
    "import requests\n",
    "\n",
    "# 웹페이지 URL\n",
    "url = crawler.createURL('파이어족', 'daum')\n",
    "url\n",
    "response = requests.get(url)\n",
    "data = response.text\n",
    "\n",
    "# BeautifulSoup 객체 생성\n",
    "soup = BeautifulSoup(data, 'html.parser')\n",
    "soup\n",
    "# id가 'search'인 요소 찾기\n",
    "items = soup.find_all('div', class_='c-item-doc')\n",
    "items\n",
    "\n",
    "# 각 요소 내의 모든 링크 추출\n",
    "for item in items:\n",
    "    links = [a['href'] for a in item.find_all('a', href=True)]\n",
    "    print(links)\n",
    "\n",
    "# # 해당 요소 내 모든 링크 추출\n",
    "# links = [a['href'] for a in search_body.find_all('a', href=True)]\n",
    "\n",
    "# print(links)\n",
    "\n"
   ]
  },
  {
   "cell_type": "code",
   "execution_count": 19,
   "metadata": {},
   "outputs": [],
   "source": [
    "crawler.search('파이어족', 'daum')"
   ]
  },
  {
   "cell_type": "code",
   "execution_count": 35,
   "metadata": {},
   "outputs": [
    {
     "data": {
      "text/plain": [
       "['http://100.daum.net/encyclopedia/view/201XXX1812120',\n",
       " 'https://canny.alwaysearched.com/39',\n",
       " 'https://free2world.tistory.com/3177',\n",
       " 'https://www.ppomppu.co.kr/zboard/view.php?id=whatever&no=24381',\n",
       " 'https://gall.dcinside.com/mgallery/board/view/?id=stockus&no=6984580',\n",
       " 'https://blog.naver.com/hobbygem/223435298022',\n",
       " 'https://free2world.tistory.com/3175',\n",
       " 'https://brunch.co.kr/@ihyeyeon13/69',\n",
       " 'http://story.kakao.com/_BBMNP7/bZVffS3Rvc0']"
      ]
     },
     "execution_count": 35,
     "metadata": {},
     "output_type": "execute_result"
    }
   ],
   "source": [
    "def\n",
    "selector = \"c-doc-web > div > div.item-title > c-title > strong > a\"\n",
    "crawler.selenium_scroll_action()\n",
    "crawler.selenium_crawling(selector, get_attribute='href')"
   ]
  },
  {
   "cell_type": "code",
   "execution_count": null,
   "metadata": {},
   "outputs": [],
   "source": [
    "def ddgsearch_reducing(self, keyword, how_many_retrieve=5):\n",
    "        \"\"\"웹브라우저 덕덕고로부터 키워드와 관련된 링크를 수집합니다.\n",
    "        그 다음 해당 링크들로부터 본문을 수집합니다. 수집한 자료는 이후에 RAG에 활용합니다.\"\"\"\n",
    "        urls, contents = [], [] # 사이트 주소와 내용을 담을 컨테이너를 준비합니다.\n",
    "        try:\n",
    "            selector = \"c-doc-web > div > div.item-title > c-title > strong > a\"\n",
    "            self.search(keyword, 'daum')\n",
    "            urls = crawler.selenium_crawling(selector, get_attribute='href')\n",
    "            # results = DDGS().text(keyword, max_results=20) # 덕덕고에서 키워드와 관련된 링크를 수집합니다.\n",
    "            # urls = [a['href'] for a in results if 'html' not in a['href'] and a['href'] != '']\n",
    "        except Exception as e:\n",
    "            print(f'{e} with {keyword}')\n",
    "\n",
    "        \n",
    "        try:\n",
    "            idx, clear = 0, 0 # 텍스트 수집에 성공한 갯수를 담을 컨테이너 입니다.\n",
    "            while clear < how_many_retrieve and idx < len(urls):\n",
    "                url = urls[idx]\n",
    "                content = self.get_text_from_webpage(url, self.driver) # 해당 링크로부터 본문을 수집합니다.\n",
    "                if content:\n",
    "                    contents.append(self.clean_blog_content(content)) # 수집한 본문을 정제합니다.\n",
    "                    clear += 1\n",
    "                idx += 1\n",
    "        except Exception as e:\n",
    "            print(e)\n",
    "        return urls[:how_many_retrieve], contents"
   ]
  },
  {
   "cell_type": "code",
   "execution_count": null,
   "metadata": {},
   "outputs": [],
   "source": [
    "from bs4 import BeautifulSoup\n",
    "import requests\n",
    "\n",
    "# 웹페이지 URL\n",
    "url = crawler.createURL('파이어족', 'daum')\n",
    "url\n",
    "response = requests.get(url)\n",
    "data = response.text\n",
    "\n",
    "# BeautifulSoup 객체 생성\n",
    "soup = BeautifulSoup(data, 'html.parser')\n",
    "soup\n",
    "# id가 'search'인 요소 찾기\n",
    "items = soup.find_all('div', class_='c-item-doc')\n",
    "items\n",
    "\n",
    "# 각 요소 내의 모든 링크 추출\n",
    "for item in items:\n",
    "    links = [a['href'] for a in item.find_all('a', href=True)]\n",
    "    print(links)\n",
    "\n",
    "# # 해당 요소 내 모든 링크 추출\n",
    "# links = [a['href'] for a in search_body.find_all('a', href=True)]\n",
    "\n",
    "# print(links)\n",
    "\n"
   ]
  }
 ],
 "metadata": {
  "kernelspec": {
   "display_name": "venv",
   "language": "python",
   "name": "python3"
  },
  "language_info": {
   "codemirror_mode": {
    "name": "ipython",
    "version": 3
   },
   "file_extension": ".py",
   "mimetype": "text/x-python",
   "name": "python",
   "nbconvert_exporter": "python",
   "pygments_lexer": "ipython3",
   "version": "3.11.5"
  }
 },
 "nbformat": 4,
 "nbformat_minor": 2
}
