{
 "cells": [
  {
   "cell_type": "code",
   "execution_count": null,
   "metadata": {},
   "outputs": [],
   "source": [
    "# ✅todo : 1. colab 용으로 requirements.txt을 하나 더 만든다.\n",
    "# ✅ todo : 1. turnonselenium 내용을 colab용으로 추가한다.\n",
    "# ✅todo : 1. blogger를 모듈화해서 사용하기 쉽게 만든다.\n",
    "# ✅todo : 1. 쓰레딩 시키는 것도 함수화한다.\n",
    "# ✅todo : 1. 코랩은 쓰레딩 몇개를 시키는게 적당한지를 확인한다 = 2개 (2코어라서)\n",
    "# ✅todo : 1. 코랩크롤링 시에, user-agent 사용하도록 한다.\n",
    "# todo : duckduckgo 관련자료 서칭 대체품 찾기\n",
    "# todo : 쉬는 시간 가지도록 만들기\n",
    "# todo : 만들어진 컨텐츠들 중에 document 없는 경우 찾기\n",
    "\n",
    "\n",
    "# ✅todo : 1딸깍 테스트\n",
    "# todo : 1딸깍 반복문에 쉬는 시간 부여하기\n",
    "# todo : 2딸깍 테스트\n",
    "# todo : 2딸깍 반복문에 쉬는 시간 부여하기\n",
    "# todo : 3딸깍 테스트\n",
    "# todo : 3딸깍 반복문에 쉬는 시간 부여하기\n",
    "\n",
    "# ✅todo : 1딸깍 테스트 - colab\n",
    "# todo : 2딸깍 테스트 - colab\n",
    "# todo : 3딸깍 테스트 - colab\n",
    "\n",
    "# todo : 추가 키워드 수집 작업 시 기존 csv를 덮어쓸지 말지를 결정하도록 해주세요. - 현재는 덮어씌우지 않는 것으로 되어있음.\n",
    "# todo : 추가 키워드 수집 작업 시 기존 suitable keywords 리스트를 고려하도록 해주세요. (있으면 재반복해서 수행하지는 않는 것으로.)\n",
    "\n",
    "# todo : 업로드가 성공적으로 수행되면은 옮기는 것으로 변경하세요.\n",
    "# todo : 노출순위 따질 때 1) 한번정도는 아래로 스크롤해서 가져오기 2) 네이버 블로그도 순위에 포함시키기.\n",
    "# todo : 글 생성에 사용한 키워드 저장하고 유사키워드 문지방수준  좀 줄여야 할 것 같아. 너무 관계없는 애들도 같이 묶이는 것 같어.\n",
    "# todo : 블로그에 올릴 때, 성공한 글에 대해서만 uploaded로 옮기도록 해야할 것 같어.\n",
    "# todo : suitable check를 할 때, 기존 screened_keywords에 있는 키워드들은 제외하도록 해야할 것 같아. 그러기 위해서는 키워드 수집 시에 collected_keywords에다가 suitability_checked 여부를 표시를 해두어야 할 것 같습니다.\n"
   ]
  },
  {
   "cell_type": "markdown",
   "metadata": {},
   "source": [
    "# 기본실행"
   ]
  },
  {
   "cell_type": "code",
   "execution_count": null,
   "metadata": {},
   "outputs": [],
   "source": [
    "# 기본적인 환경설정을 합니다.\n",
    "isHeadless = True\n",
    "verbose = True\n",
    "\n",
    "\n",
    "from module.Crawler import Crawler\n",
    "from module.File_manager import File_manager\n",
    "from module.Blogger import Blogger\n",
    "from module.AIAgent import AIAgent\n",
    "from module.Uploader import Uploader\n",
    "\n",
    "# 경고를 무시합니다.\n",
    "import warnings\n",
    "warnings.filterwarnings(\"ignore\")\n",
    "\n",
    "# 환경변수 저장 (.env) 확인\n",
    "from dotenv import load_dotenv\n",
    "import os\n",
    "\n",
    "load_dotenv()\n",
    "\n",
    "\n",
    "verbose = True\n",
    "isHeadless = True\n",
    "\n",
    "# # tester용 객체들을 만듭니다.\n",
    "# verbose = True\n",
    "# isHeadless = True\n",
    "# crawler_tester = Crawler(isHeadless = isHeadless, verbose = verbose)\n",
    "# file_manager_tester = File_manager(blogname='tester', verbose=verbose)\n",
    "# aiagent_tester = AIAgent(blogname='tester', verbose = verbose)\n",
    "# uploader_tester = Uploader(blogname='tester', verbose = verbose)\n",
    "# blogger_tester = Blogger(blogname='tester', verbose = verbose, isHeadless = isHeadless)\n",
    "\n",
    "def thread_bloggers(func, bloggers, **kwargs):\n",
    "    import threading\n",
    "\n",
    "    threads = []\n",
    "    for blogger in bloggers.values():\n",
    "        # args 튜플에 blogger를 포함시키고, kwargs 딕셔너리를 threading.Thread에 전달\n",
    "        thread = threading.Thread(target=func, args=(blogger,), kwargs=kwargs)\n",
    "        threads.append(thread)\n",
    "        thread.start()\n",
    "    for thread in threads:\n",
    "        thread.join()\n",
    "def create_partial_bloggers(total_bloggers:dict, selected_bloggers:list) :\n",
    "  partial_bloggers = {}\n",
    "  for blogger in selected_bloggers :\n",
    "    partial_bloggers[blogger] = total_bloggers[blogger]\n",
    "  return partial_bloggers\n",
    "\n",
    "\n",
    "\n",
    "# blogger 클래스를 호출합니다.\n",
    "from module.Blogger import Blogger\n",
    "blog_names = ['statifi', 'kindmom', 'sweetkiwi', 'takuz', 'morningbbobbo']\n",
    "bloggers = {}\n",
    "for blogname in blog_names:\n",
    "    print(f'🌐 now loading : {blogname}.')\n",
    "    bloggers[blogname] = Blogger(blogname = blogname, verbose = verbose, isHeadless = isHeadless)\n",
    "\n",
    "\n"
   ]
  },
  {
   "cell_type": "code",
   "execution_count": 10,
   "metadata": {},
   "outputs": [],
   "source": [
    "fron = {\n",
    "    'a' : 'hi',\n",
    "    'a' : 'bye'\n",
    "}"
   ]
  },
  {
   "cell_type": "code",
   "execution_count": 19,
   "metadata": {},
   "outputs": [
    {
     "name": "stdout",
     "output_type": "stream",
     "text": [
      "a bye\n",
      "---\n"
     ]
    }
   ],
   "source": [
    "for k, v in fron.items() :\n",
    "    print(k, v)\n",
    "    print('---')    "
   ]
  },
  {
   "cell_type": "markdown",
   "metadata": {},
   "source": [
    "# 클릭1 : 키워드 수집"
   ]
  },
  {
   "cell_type": "markdown",
   "metadata": {},
   "source": [
    "쓰레딩\n"
   ]
  },
  {
   "cell_type": "code",
   "execution_count": null,
   "metadata": {},
   "outputs": [],
   "source": [
    "# 환경설정\n",
    "\n",
    "# 깊이 정의\n",
    "depth = int(input('키워드를 수집할 깊이를 입력하세요. (최대 3 이상은 비추천) :'))\n",
    "\n",
    "# 단어 정의\n",
    "recommended = {\n",
    "    \"건강과 웰빙\": [\"요가\", \"마인드풀니스\", \"웰니스 리트릿\", \"건강한 간식\", \"명상\", \"필라테스\", \"건강한 식단\", \"건강 추세\", \"힐링\", \"건강 검진\"],\n",
    "    \"기업과 기업가\": [\"기업가 정신\", \"크라우드펀딩\", \"비즈니스 모델 혁신\", \"기술 벤처\", \"벤처 투자\", \"스타트업 생태계\"],\n",
    "    \"재택 근무 및 자기 계발 블로그\": [\"재택 근무 팁\", \"자기계발 책 추천\", \"온라인 학습 플랫폼\", \"시간 관리 기술\", \"생산성 향상\", \"사이드 허슬\", \"재택 근무 환경\", \"프리랜서 가이드\", \"자기 관리\", \"모티베이션 증진\"],\n",
    "    \"건강 및 웰니스 블로그\": [\"건강한 식단\", \"정신 건강\", \"스트레스 관리\", \"홈 피트니스\", \"명상 기법\", \"웰니스 라이프스타일\", \"영양 정보\", \"건강 검진 가이드\", \"체중 관리\", \"건강한 습관\"],\n",
    "    \n",
    "}\n",
    "\n",
    "subjects_n_words_for_statifi = {}\n",
    "subjects_n_words_for_kindmom = {}\n",
    "subjects_n_words_for_sweetkiwi = {}\n",
    "subjects_n_words_for_takuz = {}\n",
    "subjects_n_words_for_morningbbobbo = {}\n",
    "\n",
    "# 각 블로거의 주제 및 키워드 데이터\n",
    "\n",
    "total_subjects_n_words = {\n",
    "    'statifi': subjects_n_words_for_statifi,\n",
    "    'kindmom': subjects_n_words_for_kindmom,\n",
    "    'sweetkiwi': subjects_n_words_for_sweetkiwi,\n",
    "    'takuz': subjects_n_words_for_takuz,\n",
    "    'morningbbobbo': subjects_n_words_for_morningbbobbo\n",
    "}\n",
    "\n",
    "\n",
    "\n",
    "# 함수정의\n",
    "def collect_keywords_for_blogger(blogger, total_subjects_n_words, depth, save):\n",
    "    subjects_n_words = total_subjects_n_words[blogger.blogname]\n",
    "    blogger.collect_keywords(subjects_n_words=subjects_n_words, depth=depth, save=save)\n",
    "\n",
    "\n",
    "# 실행\n",
    "thread_bloggers(\n",
    "    func=collect_keywords_for_blogger,\n",
    "    bloggers=bloggers,\n",
    "    total_subjects_n_words=total_subjects_n_words,\n",
    "    depth=depth,\n",
    "    save=True\n",
    ")"
   ]
  },
  {
   "cell_type": "markdown",
   "metadata": {},
   "source": [
    "tester 테스트"
   ]
  },
  {
   "cell_type": "code",
   "execution_count": null,
   "metadata": {},
   "outputs": [],
   "source": [
    "# 단일 블로거로 테스트\n",
    "\n",
    "test_blog = 'tester'\n",
    "total_subjects_n_words = {test_blog : {'파이어족' : ['파이어족']} }\n",
    "depth = 1\n",
    "\n",
    "# 함수정의\n",
    "def collect_keywords_for_blogger(blogger, total_subjects_n_words, depth, save):\n",
    "    subjects_n_words = total_subjects_n_words[blogger.blogname]\n",
    "    blogger.collect_keywords(subjects_n_words=subjects_n_words, depth=depth, save=save)\n",
    "\n",
    "\n",
    "collect_keywords_for_blogger(blogger_tester, total_subjects_n_words, depth, save=True)\n",
    "\n",
    "vectorstore_stored_keywords = blogger_tester.keyword_ai.vectorstore_list.index.to_list()\n",
    "if len(vectorstore_stored_keywords) > 0 :\n",
    "    print('🌐 키워드 수집이 완료되었습니다.')    \n",
    "    blogger_tester.keyword_ai.vectorstore_clear()"
   ]
  },
  {
   "cell_type": "markdown",
   "metadata": {},
   "source": [
    "# 클릭 2 : 포스팅 생성"
   ]
  },
  {
   "cell_type": "markdown",
   "metadata": {},
   "source": [
    "쓰레딩"
   ]
  },
  {
   "cell_type": "code",
   "execution_count": null,
   "metadata": {},
   "outputs": [],
   "source": [
    "# 환경설정\n",
    "num_contents_creation = int(input('생성할 컨텐츠 갯수를 입력하세요. 무한대생산은 엔터를 치세요 '))\n",
    "\n",
    "# 함수정의\n",
    "def create_contents(blogger, num_contents_creation=5):\n",
    "    print(f\"Starting thread for {blogger.blogname}\")\n",
    "    blogger.create_contents(num_contents_creation)\n",
    "\n",
    "# 실행\n",
    "thread_bloggers(create_contents, bloggers, num_contents_creation=num_contents_creation)"
   ]
  },
  {
   "cell_type": "markdown",
   "metadata": {},
   "source": [
    "tester 테스트코드"
   ]
  },
  {
   "cell_type": "code",
   "execution_count": null,
   "metadata": {},
   "outputs": [],
   "source": [
    "# 단일블로거로 테스트\n",
    "\n",
    "# 함수정의\n",
    "def create_contents(blogger, num_contents_creation=5):\n",
    "    print(f\"Starting thread for {blogger.blogname}\")\n",
    "    blogger.create_contents(num_contents_creation)\n",
    "\n",
    "# 함수실행\n",
    "\n",
    "blogger_tester.keyword_ai.vectorstore_save_texts('파이어족 특징') # 예시 키워드 저장\n",
    "num_of_created_contents_now = len(blogger_tester.file_manager.get_file_names())\n",
    "\n",
    "try :\n",
    "    create_contents(blogger_tester, num_contents_creation=1)\n",
    "finally :\n",
    "    blogger_tester.keyword_ai.vectorstore_clear()\n",
    "\n",
    "# 실행결과 확인\n",
    "num_of_created_contents_after = len(blogger_tester.file_manager.get_file_names())\n",
    "if (num_of_created_contents_after - num_of_created_contents_now) > 0 :\n",
    "    print('🌐 컨텐츠 생성이 완료되었습니다.')  \n"
   ]
  },
  {
   "cell_type": "markdown",
   "metadata": {},
   "source": [
    "# 클릭3 : 티스토리 블로그 업로드"
   ]
  },
  {
   "cell_type": "markdown",
   "metadata": {},
   "source": [
    "순차반복문"
   ]
  },
  {
   "cell_type": "code",
   "execution_count": null,
   "metadata": {},
   "outputs": [],
   "source": [
    "# 환경설정\n",
    "num_contents_upload = int(input('업로드 할 컨텐츠 갯수를 입력하세요. 무한대생산은 엔터를 치세요. '))\n",
    "assert num_contents_upload is not None, '업로드할 컨텐츠 갯수를 입력하세요.'\n",
    "assert num_contents_upload <= 15 , '15개 이하로 업로드 가능합니다.'\n",
    "\n",
    "# 함수정의\n",
    "def upload(blogger, num_contents_upload):\n",
    "    blogger.upload_contents(num_contents_upload)\n",
    "\n",
    "for blogname in blog_names :\n",
    "    upload(bloggers[blogname], num_contents_upload)\n"
   ]
  },
  {
   "cell_type": "markdown",
   "metadata": {},
   "source": [
    "쓰레딩"
   ]
  },
  {
   "cell_type": "code",
   "execution_count": null,
   "metadata": {},
   "outputs": [],
   "source": [
    "# 환경설정\n",
    "num_contents_upload = int(input('업로드 할 컨텐츠 갯수를 입력하세요. 무한대생산은 엔터를 치세요. '))\n",
    "assert num_contents_upload is not None, '업로드할 컨텐츠 갯수를 입력하세요.'\n",
    "assert num_contents_upload <= 15 , '15개 이하로 업로드 가능합니다.'\n",
    "\n",
    "# 함수정의\n",
    "def upload(blogger, num_contents_upload):\n",
    "    blogger.upload_contents(num_contents_upload)\n",
    "\n",
    "# 실행\n",
    "thread_bloggers(\n",
    "    func=upload,\n",
    "    bloggers=bloggers,\n",
    "    num_contents_upload=num_contents_upload)"
   ]
  },
  {
   "cell_type": "markdown",
   "metadata": {},
   "source": [
    "테스트코드 (blogger_tester)"
   ]
  },
  {
   "cell_type": "code",
   "execution_count": null,
   "metadata": {},
   "outputs": [],
   "source": [
    "# 함수정의\n",
    "def upload(blogger, num_contents_upload = 1):\n",
    "    blogger.upload_contents(num_contents_upload)\n",
    "\n",
    "# 함수실행\n",
    "\n",
    "os.environ[\"tester_NEW_POST_URL\"] = str(r\"https://statifi.tistory.com/manage/newpost/?type=post&returnURL=%2Fmanage%2Fposts%2F\")\n",
    "os.environ[\"tester_ID\"] = \"jsj950611@naver.com\"\n",
    "os.environ[\"tester_PW\"] = \"Zhzkzhffk1!\"\n",
    "\n",
    "\n",
    "upload(blogger_tester, num_contents_upload=1)"
   ]
  },
  {
   "cell_type": "markdown",
   "metadata": {},
   "source": [
    "# 테스트코드는 여기 이하에 작성"
   ]
  },
  {
   "cell_type": "code",
   "execution_count": 3,
   "metadata": {},
   "outputs": [
    {
     "name": "stdout",
     "output_type": "stream",
     "text": [
      "24\n",
      "25\n",
      "0\n",
      "62\n",
      "0\n"
     ]
    }
   ],
   "source": [
    "# 남은 글의 갯수\n",
    "for blogname in blog_names:\n",
    "    print(len(bloggers[blogname].file_manager.get_file_names()))"
   ]
  },
  {
   "cell_type": "code",
   "execution_count": 5,
   "metadata": {},
   "outputs": [
    {
     "name": "stdout",
     "output_type": "stream",
     "text": [
      "0\n",
      "630\n",
      "58\n",
      "947\n",
      "45\n"
     ]
    }
   ],
   "source": [
    "# 남은 키워드의 갯수\n",
    "for blogname in blog_names:\n",
    "    print(len(bloggers[blogname].keyword_ai.vectorstore_list))"
   ]
  },
  {
   "cell_type": "code",
   "execution_count": 6,
   "metadata": {},
   "outputs": [
    {
     "name": "stdout",
     "output_type": "stream",
     "text": [
      "statifi\n",
      "kindmom\n",
      "sweetkiwi\n",
      "takuz\n",
      "morningbbobbo\n"
     ]
    }
   ],
   "source": [
    "# 이름순서\n",
    "for blogname in blog_names:\n",
    "    print(blogname)"
   ]
  },
  {
   "cell_type": "code",
   "execution_count": 46,
   "metadata": {},
   "outputs": [
    {
     "name": "stdout",
     "output_type": "stream",
     "text": [
      "True\n",
      "True\n",
      "Data loaded from JSON\n"
     ]
    }
   ],
   "source": [
    "df = bloggers['takuz'].file_manager.get_keywords('collected_keywords')\n",
    "isNaverIn = []\n",
    "for all_links in df['all_links'] :\n",
    "    done = False\n",
    "    for link in all_links :        \n",
    "        if link is None : \n",
    "            isNaverIn.append(False)\n",
    "            done = True\n",
    "            break\n",
    "        if 'naver' in link :\n",
    "            isNaverIn.append(True)\n",
    "            done = True\n",
    "            break\n",
    "    if done == False :\n",
    "        isNaverIn.append(False)\n",
    "    \n",
    "        "
   ]
  },
  {
   "cell_type": "code",
   "execution_count": 59,
   "metadata": {},
   "outputs": [
    {
     "data": {
      "text/plain": [
       "1996"
      ]
     },
     "execution_count": 59,
     "metadata": {},
     "output_type": "execute_result"
    }
   ],
   "source": [
    "df['isNaverIn'] = isNaverIn\n",
    "len(df[df['isNaverIn'] == True][df['tistory_rank_at_google'] == '노출없음'])"
   ]
  },
  {
   "cell_type": "code",
   "execution_count": 62,
   "metadata": {},
   "outputs": [
    {
     "data": {
      "text/plain": [
       "[1]"
      ]
     },
     "execution_count": 62,
     "metadata": {},
     "output_type": "execute_result"
    }
   ],
   "source": [
    "a = [1,2,3,]\n",
    "b = [2,3,4]\n",
    "\n",
    "\n"
   ]
  }
 ],
 "metadata": {
  "kernelspec": {
   "display_name": "venv",
   "language": "python",
   "name": "python3"
  },
  "language_info": {
   "codemirror_mode": {
    "name": "ipython",
    "version": 3
   },
   "file_extension": ".py",
   "mimetype": "text/x-python",
   "name": "python",
   "nbconvert_exporter": "python",
   "pygments_lexer": "ipython3",
   "version": "3.11.5"
  }
 },
 "nbformat": 4,
 "nbformat_minor": 2
}
