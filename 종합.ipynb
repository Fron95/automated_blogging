{
 "cells": [
  {
   "cell_type": "code",
   "execution_count": null,
   "metadata": {},
   "outputs": [],
   "source": [
    "# ✅todo : 1. colab 용으로 requirements.txt을 하나 더 만든다.\n",
    "# ✅ todo : 1. turnonselenium 내용을 colab용으로 추가한다.\n",
    "# ✅todo : 1. blogger를 모듈화해서 사용하기 쉽게 만든다.\n",
    "# ✅todo : 1. 쓰레딩 시키는 것도 함수화한다.\n",
    "# ✅todo : 1. 코랩은 쓰레딩 몇개를 시키는게 적당한지를 확인한다 = 2개 (2코어라서)\n",
    "# ✅todo : 1. 코랩크롤링 시에, user-agent 사용하도록 한다.\n",
    "# todo : duckduckgo 관련자료 서칭 대체품 찾기\n",
    "# todo : 쉬는 시간 가지도록 만들기\n",
    "# todo : 만들어진 컨텐츠들 중에 document 없는 경우 찾기\n",
    "\n",
    "\n",
    "# ✅todo : 1딸깍 테스트\n",
    "# todo : 1딸깍 반복문에 쉬는 시간 부여하기\n",
    "# todo : 2딸깍 테스트\n",
    "# todo : 2딸깍 반복문에 쉬는 시간 부여하기\n",
    "# todo : 3딸깍 테스트\n",
    "# todo : 3딸깍 반복문에 쉬는 시간 부여하기\n",
    "\n",
    "# ✅todo : 1딸깍 테스트 - colab\n",
    "# todo : 2딸깍 테스트 - colab\n",
    "# todo : 3딸깍 테스트 - colab\n",
    "\n",
    "# todo : 추가 키워드 수집 작업 시 기존 csv를 덮어쓸지 말지를 결정하도록 해주세요. - 현재는 덮어씌우지 않는 것으로 되어있음.\n",
    "# todo : 추가 키워드 수집 작업 시 기존 suitable keywords 리스트를 고려하도록 해주세요. (있으면 재반복해서 수행하지는 않는 것으로.)\n",
    "\n",
    "# todo : 업로드가 성공적으로 수행되면은 옮기는 것으로 변경하세요.\n",
    "# todo : 노출순위 따질 때 1) 한번정도는 아래로 스크롤해서 가져오기 2) 네이버 블로그도 순위에 포함시키기.\n",
    "# todo : 글 생성에 사용한 키워드 저장하고 유사키워드 문지방수준  좀 줄여야 할 것 같아. 너무 관계없는 애들도 같이 묶이는 것 같어.\n",
    "# todo : 블로그에 올릴 때, 성공한 글에 대해서만 uploaded로 옮기도록 해야할 것 같어.\n",
    "# todo : suitable check를 할 때, 기존 screened_keywords에 있는 키워드들은 제외하도록 해야할 것 같아. 그러기 위해서는 키워드 수집 시에 collected_keywords에다가 suitability_checked 여부를 표시를 해두어야 할 것 같습니다.\n"
   ]
  },
  {
   "cell_type": "markdown",
   "metadata": {},
   "source": [
    "# 기본실행"
   ]
  },
  {
   "cell_type": "code",
   "execution_count": null,
   "metadata": {},
   "outputs": [],
   "source": [
    "# 기본적인 환경설정을 합니다.\n",
    "isHeadless = True\n",
    "verbose = True\n",
    "\n",
    "\n",
    "from module.Crawler import Crawler\n",
    "from module.File_manager import File_manager\n",
    "from module.Blogger import Blogger\n",
    "from module.AIAgent import AIAgent\n",
    "from module.Uploader import Uploader\n",
    "\n",
    "# 경고를 무시합니다.\n",
    "import warnings\n",
    "warnings.filterwarnings(\"ignore\")\n",
    "\n",
    "# 환경변수 저장 (.env) 확인\n",
    "from dotenv import load_dotenv\n",
    "import os\n",
    "\n",
    "load_dotenv()\n",
    "\n",
    "\n",
    "verbose = True\n",
    "isHeadless = True\n",
    "\n",
    "# # tester용 객체들을 만듭니다.\n",
    "# verbose = True\n",
    "# isHeadless = True\n",
    "# crawler_tester = Crawler(isHeadless = isHeadless, verbose = verbose)\n",
    "# file_manager_tester = File_manager(blogname='tester', verbose=verbose)\n",
    "# aiagent_tester = AIAgent(blogname='tester', verbose = verbose)\n",
    "# uploader_tester = Uploader(blogname='tester', verbose = verbose)\n",
    "# blogger_tester = Blogger(blogname='tester', verbose = verbose, isHeadless = isHeadless)\n",
    "\n",
    "def thread_bloggers(func, bloggers, **kwargs):\n",
    "    import threading\n",
    "\n",
    "    threads = []\n",
    "    for blogger in bloggers.values():\n",
    "        # args 튜플에 blogger를 포함시키고, kwargs 딕셔너리를 threading.Thread에 전달\n",
    "        thread = threading.Thread(target=func, args=(blogger,), kwargs=kwargs)\n",
    "        threads.append(thread)\n",
    "        thread.start()\n",
    "    for thread in threads:\n",
    "        thread.join()\n",
    "def create_partial_bloggers(total_bloggers:dict, selected_bloggers:list) :\n",
    "  partial_bloggers = {}\n",
    "  for blogger in selected_bloggers :\n",
    "    partial_bloggers[blogger] = total_bloggers[blogger]\n",
    "  return partial_bloggers\n",
    "\n",
    "\n",
    "\n",
    "# blogger 클래스를 호출합니다.\n",
    "from module.Blogger import Blogger\n",
    "blog_names = ['statifi',\n",
    " 'kindmom', 'sweetkiwi', 'takuz', 'morningbbobbo'\n",
    " ]\n",
    "bloggers = {}\n",
    "for blogname in blog_names:\n",
    "    print(f'🌐 now loading : {blogname}.')\n",
    "    bloggers[blogname] = Blogger(blogname = blogname, verbose = verbose, isHeadless = isHeadless)\n",
    "\n",
    "\n"
   ]
  },
  {
   "cell_type": "code",
   "execution_count": null,
   "metadata": {},
   "outputs": [],
   "source": [
    "from module.AIAgent import AIAgent\n",
    "tester = AIAgent(blogname='tester', verbose = True)\n"
   ]
  },
  {
   "cell_type": "code",
   "execution_count": null,
   "metadata": {},
   "outputs": [],
   "source": [
    "tester.vectorstore_save_texts('좋은 아침입니다.')"
   ]
  },
  {
   "cell_type": "code",
   "execution_count": null,
   "metadata": {},
   "outputs": [],
   "source": [
    "tester.vectorstore.delete([_id])\n",
    "# tester.vectorstore_list"
   ]
  },
  {
   "cell_type": "code",
   "execution_count": 95,
   "metadata": {},
   "outputs": [
    {
     "ename": "ValueError",
     "evalue": "not enough values to unpack (expected 2, got 1)",
     "output_type": "error",
     "traceback": [
      "\u001b[1;31m---------------------------------------------------------------------------\u001b[0m",
      "\u001b[1;31mValueError\u001b[0m                                Traceback (most recent call last)",
      "Cell \u001b[1;32mIn[95], line 6\u001b[0m\n\u001b[0;32m      3\u001b[0m new_keywords \u001b[38;5;241m=\u001b[39m \u001b[38;5;28mlist\u001b[39m(\u001b[38;5;28mset\u001b[39m(data) \u001b[38;5;241m-\u001b[39m \u001b[38;5;28mset\u001b[39m(stored_keywords))\n\u001b[0;32m      4\u001b[0m new_keywords\n\u001b[1;32m----> 6\u001b[0m \u001b[43mtester\u001b[49m\u001b[38;5;241;43m.\u001b[39;49m\u001b[43mvectorstore_save_texts\u001b[49m\u001b[43m(\u001b[49m\u001b[43m[\u001b[49m\u001b[43m]\u001b[49m\u001b[43m)\u001b[49m\n",
      "File \u001b[1;32mc:\\hellodear\\tistory_ebook\\module\\AIAgent.py:104\u001b[0m, in \u001b[0;36mAIAgent.vectorstore_save_texts\u001b[1;34m(self, data)\u001b[0m\n\u001b[0;32m    101\u001b[0m stored_keywords \u001b[38;5;241m=\u001b[39m \u001b[38;5;28mself\u001b[39m\u001b[38;5;241m.\u001b[39mvectorstore_list[\u001b[38;5;124m'\u001b[39m\u001b[38;5;124mdata\u001b[39m\u001b[38;5;124m'\u001b[39m]\u001b[38;5;241m.\u001b[39mto_list()\n\u001b[0;32m    102\u001b[0m new_keywords \u001b[38;5;241m=\u001b[39m \u001b[38;5;28mlist\u001b[39m(\u001b[38;5;28mset\u001b[39m(data) \u001b[38;5;241m-\u001b[39m \u001b[38;5;28mset\u001b[39m(stored_keywords))\n\u001b[1;32m--> 104\u001b[0m ids \u001b[38;5;241m=\u001b[39m \u001b[38;5;28;43mself\u001b[39;49m\u001b[38;5;241;43m.\u001b[39;49m\u001b[43mvectorstore\u001b[49m\u001b[38;5;241;43m.\u001b[39;49m\u001b[43madd_texts\u001b[49m\u001b[43m(\u001b[49m\u001b[43mnew_keywords\u001b[49m\u001b[43m)\u001b[49m \u001b[38;5;66;03m# 벡터스토어에 텍스트를 추가합니다.\u001b[39;00m\n\u001b[0;32m    106\u001b[0m \u001b[38;5;28mself\u001b[39m\u001b[38;5;241m.\u001b[39mvectorstore_list \u001b[38;5;241m=\u001b[39m pd\u001b[38;5;241m.\u001b[39mconcat([\u001b[38;5;28mself\u001b[39m\u001b[38;5;241m.\u001b[39mvectorstore_list, pd\u001b[38;5;241m.\u001b[39mDataFrame({\u001b[38;5;124m'\u001b[39m\u001b[38;5;124mdata\u001b[39m\u001b[38;5;124m'\u001b[39m: new_keywords, \u001b[38;5;124m'\u001b[39m\u001b[38;5;124mid\u001b[39m\u001b[38;5;124m'\u001b[39m : ids})], ignore_index\u001b[38;5;241m=\u001b[39m\u001b[38;5;28;01mTrue\u001b[39;00m) \u001b[38;5;66;03m# 벡터스토어 리스트에 추가합니다.\u001b[39;00m\n\u001b[0;32m    107\u001b[0m \u001b[38;5;28mself\u001b[39m\u001b[38;5;241m.\u001b[39msave_local_vectorstore() \u001b[38;5;66;03m# 벡터스토어를 저장합니다.\u001b[39;00m\n",
      "File \u001b[1;32mc:\\hellodear\\tistory_ebook\\venv\\Lib\\site-packages\\langchain_community\\vectorstores\\faiss.py:228\u001b[0m, in \u001b[0;36mFAISS.add_texts\u001b[1;34m(self, texts, metadatas, ids, **kwargs)\u001b[0m\n\u001b[0;32m    226\u001b[0m texts \u001b[38;5;241m=\u001b[39m \u001b[38;5;28mlist\u001b[39m(texts)\n\u001b[0;32m    227\u001b[0m embeddings \u001b[38;5;241m=\u001b[39m \u001b[38;5;28mself\u001b[39m\u001b[38;5;241m.\u001b[39m_embed_documents(texts)\n\u001b[1;32m--> 228\u001b[0m \u001b[38;5;28;01mreturn\u001b[39;00m \u001b[38;5;28;43mself\u001b[39;49m\u001b[38;5;241;43m.\u001b[39;49m\u001b[43m__add\u001b[49m\u001b[43m(\u001b[49m\u001b[43mtexts\u001b[49m\u001b[43m,\u001b[49m\u001b[43m \u001b[49m\u001b[43membeddings\u001b[49m\u001b[43m,\u001b[49m\u001b[43m \u001b[49m\u001b[43mmetadatas\u001b[49m\u001b[38;5;241;43m=\u001b[39;49m\u001b[43mmetadatas\u001b[49m\u001b[43m,\u001b[49m\u001b[43m \u001b[49m\u001b[43mids\u001b[49m\u001b[38;5;241;43m=\u001b[39;49m\u001b[43mids\u001b[49m\u001b[43m)\u001b[49m\n",
      "File \u001b[1;32mc:\\hellodear\\tistory_ebook\\venv\\Lib\\site-packages\\langchain_community\\vectorstores\\faiss.py:199\u001b[0m, in \u001b[0;36mFAISS.__add\u001b[1;34m(self, texts, embeddings, metadatas, ids)\u001b[0m\n\u001b[0;32m    197\u001b[0m \u001b[38;5;28;01mif\u001b[39;00m \u001b[38;5;28mself\u001b[39m\u001b[38;5;241m.\u001b[39m_normalize_L2:\n\u001b[0;32m    198\u001b[0m     faiss\u001b[38;5;241m.\u001b[39mnormalize_L2(vector)\n\u001b[1;32m--> 199\u001b[0m \u001b[38;5;28;43mself\u001b[39;49m\u001b[38;5;241;43m.\u001b[39;49m\u001b[43mindex\u001b[49m\u001b[38;5;241;43m.\u001b[39;49m\u001b[43madd\u001b[49m\u001b[43m(\u001b[49m\u001b[43mvector\u001b[49m\u001b[43m)\u001b[49m\n\u001b[0;32m    201\u001b[0m \u001b[38;5;66;03m# Add information to docstore and index.\u001b[39;00m\n\u001b[0;32m    202\u001b[0m ids \u001b[38;5;241m=\u001b[39m ids \u001b[38;5;129;01mor\u001b[39;00m [\u001b[38;5;28mstr\u001b[39m(uuid\u001b[38;5;241m.\u001b[39muuid4()) \u001b[38;5;28;01mfor\u001b[39;00m _ \u001b[38;5;129;01min\u001b[39;00m texts]\n",
      "File \u001b[1;32mc:\\hellodear\\tistory_ebook\\venv\\Lib\\site-packages\\faiss\\class_wrappers.py:227\u001b[0m, in \u001b[0;36mhandle_Index.<locals>.replacement_add\u001b[1;34m(self, x)\u001b[0m\n\u001b[0;32m    214\u001b[0m \u001b[38;5;28;01mdef\u001b[39;00m \u001b[38;5;21mreplacement_add\u001b[39m(\u001b[38;5;28mself\u001b[39m, x):\n\u001b[0;32m    215\u001b[0m \u001b[38;5;250m    \u001b[39m\u001b[38;5;124;03m\"\"\"Adds vectors to the index.\u001b[39;00m\n\u001b[0;32m    216\u001b[0m \u001b[38;5;124;03m    The index must be trained before vectors can be added to it.\u001b[39;00m\n\u001b[0;32m    217\u001b[0m \u001b[38;5;124;03m    The vectors are implicitly numbered in sequence. When `n` vectors are\u001b[39;00m\n\u001b[1;32m   (...)\u001b[0m\n\u001b[0;32m    224\u001b[0m \u001b[38;5;124;03m        `dtype` must be float32.\u001b[39;00m\n\u001b[0;32m    225\u001b[0m \u001b[38;5;124;03m    \"\"\"\u001b[39;00m\n\u001b[1;32m--> 227\u001b[0m     n, d \u001b[38;5;241m=\u001b[39m x\u001b[38;5;241m.\u001b[39mshape\n\u001b[0;32m    228\u001b[0m     \u001b[38;5;28;01massert\u001b[39;00m d \u001b[38;5;241m==\u001b[39m \u001b[38;5;28mself\u001b[39m\u001b[38;5;241m.\u001b[39md\n\u001b[0;32m    229\u001b[0m     x \u001b[38;5;241m=\u001b[39m np\u001b[38;5;241m.\u001b[39mascontiguousarray(x, dtype\u001b[38;5;241m=\u001b[39m\u001b[38;5;124m'\u001b[39m\u001b[38;5;124mfloat32\u001b[39m\u001b[38;5;124m'\u001b[39m)\n",
      "\u001b[1;31mValueError\u001b[0m: not enough values to unpack (expected 2, got 1)"
     ]
    }
   ],
   "source": [
    "\n",
    "stored_keywords = tester.vectorstore_list['data'].to_list()\n",
    "data = ['좋은아침1','좋은아침2','좋은아침3']\n",
    "new_keywords = list(set(data) - set(stored_keywords))\n",
    "new_keywords\n",
    "\n",
    "tester.vectorstore_save_texts([])"
   ]
  },
  {
   "cell_type": "code",
   "execution_count": null,
   "metadata": {},
   "outputs": [],
   "source": [
    "tester.vectorstore_save_texts(['좋은아침','좋은아침','좋은아침','좋은아침','좋은아침','좋은아침','좋은아침3'])"
   ]
  },
  {
   "cell_type": "code",
   "execution_count": 96,
   "metadata": {},
   "outputs": [
    {
     "name": "stdout",
     "output_type": "stream",
     "text": [
      "True\n",
      "True\n",
      "[Errno 2] No such file or directory: 'c:\\\\hellodear\\\\tistory_ebook\\\\bloggers\\\\tester\\\\storage\\\\[[tester]]_((ko))_``collected_keywords``.json'\n",
      "해당 블로그는 수집한 키워드 정보가 없습니다.\n"
     ]
    }
   ],
   "source": [
    "from module.Blogger import Blogger\n",
    "tester = Blogger(blogname='tester')\n",
    "documents, hrefs = tester.crawler.ddgsearch_reducing('파이어족')    "
   ]
  },
  {
   "cell_type": "code",
   "execution_count": 111,
   "metadata": {},
   "outputs": [
    {
     "data": {
      "text/html": [
       "<div>\n",
       "<style scoped>\n",
       "    .dataframe tbody tr th:only-of-type {\n",
       "        vertical-align: middle;\n",
       "    }\n",
       "\n",
       "    .dataframe tbody tr th {\n",
       "        vertical-align: top;\n",
       "    }\n",
       "\n",
       "    .dataframe thead th {\n",
       "        text-align: right;\n",
       "    }\n",
       "</style>\n",
       "<table border=\"1\" class=\"dataframe\">\n",
       "  <thead>\n",
       "    <tr style=\"text-align: right;\">\n",
       "      <th></th>\n",
       "      <th>data</th>\n",
       "      <th>id</th>\n",
       "    </tr>\n",
       "  </thead>\n",
       "  <tbody>\n",
       "    <tr>\n",
       "      <th>0</th>\n",
       "      <td>파이어족 - Daum 백과\\n본문 바로가기\\n메뉴 바로가기\\n백과사전\\n검색\\n검색...</td>\n",
       "      <td>9f0a44b2-2d57-4137-8be4-6ad5cba3e5eb</td>\n",
       "    </tr>\n",
       "    <tr>\n",
       "      <th>1</th>\n",
       "      <td>파이어족 뜻 의미 설명\\n본문 바로가기\\n              \\n       ...</td>\n",
       "      <td>e14dafea-4883-4e5a-abb4-99f445f0339d</td>\n",
       "    </tr>\n",
       "    <tr>\n",
       "      <th>2</th>\n",
       "      <td>����Ű\\nHOME\\nTOP\\nBOTTOM\\n \\n \\n����\\n�˻�\\n�˻Ѱ...</td>\n",
       "      <td>89180dbb-e8c9-483e-a0c0-c0022f18013c</td>\n",
       "    </tr>\n",
       "    <tr>\n",
       "      <th>3</th>\n",
       "      <td>0\\n 17\\n [* �͸�1 *]\\n���̾����� ���� ��� ����� ...</td>\n",
       "      <td>c399cd3f-b31b-4884-a819-c404c15543d4</td>\n",
       "    </tr>\n",
       "    <tr>\n",
       "      <th>4</th>\n",
       "      <td>2024-04-23\\n����ּҺ���\\n 1\\n 4\\n [* �͸�10 *]\\n�...</td>\n",
       "      <td>0fc27ac4-f359-490e-b7d1-13af1e28dd34</td>\n",
       "    </tr>\n",
       "    <tr>\n",
       "      <th>...</th>\n",
       "      <td>...</td>\n",
       "      <td>...</td>\n",
       "    </tr>\n",
       "    <tr>\n",
       "      <th>148</th>\n",
       "      <td>파이어족 사례 \\nPete Adeney\\nPete Adeney는 Mr.Money M...</td>\n",
       "      <td>4ba4522d-7d9a-4274-8228-cf617f82b2b3</td>\n",
       "    </tr>\n",
       "    <tr>\n",
       "      <th>149</th>\n",
       "      <td>1. 저축, 투자, 소비의 균형을 맞춘다. \\n - 저축과 소비 절약으로만 조기 은...</td>\n",
       "      <td>6920e9a7-f231-4dd8-b2e3-70580445e45d</td>\n",
       "    </tr>\n",
       "    <tr>\n",
       "      <th>150</th>\n",
       "      <td>짠돌이 독서 일기 \\n 꼬리에 꼬리를 무는 독서 \\n 짠돌이의 경제 공부 \\n 공짜...</td>\n",
       "      <td>9b57e8e8-ed01-4571-8369-6534cd51f0ff</td>\n",
       "    </tr>\n",
       "    <tr>\n",
       "      <th>151</th>\n",
       "      <td>�λ� Į�θ�\\n ���˸��帮��\\n �߰�ȣ\\n Ʈ���ÿ���\\n �ڿ���...</td>\n",
       "      <td>d863b557-63e2-4e4c-ad47-0a8c1eb35436</td>\n",
       "    </tr>\n",
       "    <tr>\n",
       "      <th>152</th>\n",
       "      <td>게든 동원해서라도 집중 투자를 해야만 직성이 풀립니다. 투자에서 얻은 성취에 만족감...</td>\n",
       "      <td>3f8dc4f8-bd6b-4dd0-b02c-e1b289f97710</td>\n",
       "    </tr>\n",
       "  </tbody>\n",
       "</table>\n",
       "<p>153 rows × 2 columns</p>\n",
       "</div>"
      ],
      "text/plain": [
       "                                                  data                                    id\n",
       "0    파이어족 - Daum 백과\\n본문 바로가기\\n메뉴 바로가기\\n백과사전\\n검색\\n검색...  9f0a44b2-2d57-4137-8be4-6ad5cba3e5eb\n",
       "1    파이어족 뜻 의미 설명\\n본문 바로가기\\n              \\n       ...  e14dafea-4883-4e5a-abb4-99f445f0339d\n",
       "2    ����Ű\\nHOME\\nTOP\\nBOTTOM\\n \\n \\n����\\n�˻�\\n�˻Ѱ...  89180dbb-e8c9-483e-a0c0-c0022f18013c\n",
       "3    0\\n 17\\n [* �͸�1 *]\\n���̾����� ���� ��� ����� ...  c399cd3f-b31b-4884-a819-c404c15543d4\n",
       "4    2024-04-23\\n����ּҺ���\\n 1\\n 4\\n [* �͸�10 *]\\n�...  0fc27ac4-f359-490e-b7d1-13af1e28dd34\n",
       "..                                                 ...                                   ...\n",
       "148  파이어족 사례 \\nPete Adeney\\nPete Adeney는 Mr.Money M...  4ba4522d-7d9a-4274-8228-cf617f82b2b3\n",
       "149  1. 저축, 투자, 소비의 균형을 맞춘다. \\n - 저축과 소비 절약으로만 조기 은...  6920e9a7-f231-4dd8-b2e3-70580445e45d\n",
       "150  짠돌이 독서 일기 \\n 꼬리에 꼬리를 무는 독서 \\n 짠돌이의 경제 공부 \\n 공짜...  9b57e8e8-ed01-4571-8369-6534cd51f0ff\n",
       "151  �λ� Į�θ�\\n ���˸��帮��\\n �߰�ȣ\\n Ʈ���ÿ���\\n �ڿ���...  d863b557-63e2-4e4c-ad47-0a8c1eb35436\n",
       "152  게든 동원해서라도 집중 투자를 해야만 직성이 풀립니다. 투자에서 얻은 성취에 만족감...  3f8dc4f8-bd6b-4dd0-b02c-e1b289f97710\n",
       "\n",
       "[153 rows x 2 columns]"
      ]
     },
     "execution_count": 111,
     "metadata": {},
     "output_type": "execute_result"
    }
   ],
   "source": [
    "if tester.verbose : print(f\"🌐 글 관련 자료 수집 중 ... \")\n",
    "tester.posting_ai.results['topics'] = ['파이어족', '파이어족 특징', '파이어족 되는 법']\n",
    "for topic in tester.posting_ai.results['topics'] :\n",
    "    documents, hrefs = tester.crawler.ddgsearch_reducing(topic)    \n",
    "    tester.posting_ai.results['documents_urls'].append(documents)\n",
    "    tester.posting_ai.results['documents'].append(hrefs)\n",
    "\n",
    "# 긁어들인 글들을 벡터스토어에 저장하기                \n",
    "collected_documents = []\n",
    "for document in tester.posting_ai.results['documents'] :\n",
    "    collected_documents.extend(document)\n",
    "tester.posting_ai.vectorstore_recursive_save_texts(collected_documents)"
   ]
  },
  {
   "cell_type": "code",
   "execution_count": 117,
   "metadata": {},
   "outputs": [
    {
     "name": "stdout",
     "output_type": "stream",
     "text": [
      "0\n"
     ]
    }
   ],
   "source": [
    "keywords = [document.page_content for document in tester.posting_ai.vectorstore.similarity_search('', k=150)]\n",
    "for keyword in ['keywords'] :\n",
    "    a = tester.posting_ai.vectorstore_list[tester.posting_ai.vectorstore_list['data'] == keyword]\n",
    "    "
   ]
  },
  {
   "cell_type": "code",
   "execution_count": null,
   "metadata": {},
   "outputs": [],
   "source": [
    "while True : \n",
    "    random = tester.posting_ai.vectorstore.similarity_search('', k=1)[0].page_content\n",
    "    print(random)\n",
    "    tester.posting_ai.vectorstore_extract(random)"
   ]
  },
  {
   "cell_type": "code",
   "execution_count": 138,
   "metadata": {},
   "outputs": [
    {
     "data": {
      "text/plain": [
       "[]"
      ]
     },
     "execution_count": 138,
     "metadata": {},
     "output_type": "execute_result"
    }
   ],
   "source": [
    "tester.posting_ai.vectorstore.similarity_search('', k=1)\n"
   ]
  },
  {
   "cell_type": "markdown",
   "metadata": {},
   "source": [
    "# 클릭1 : 키워드 수집"
   ]
  },
  {
   "cell_type": "markdown",
   "metadata": {},
   "source": [
    "쓰레딩\n"
   ]
  },
  {
   "cell_type": "code",
   "execution_count": null,
   "metadata": {},
   "outputs": [],
   "source": [
    "# 환경설정\n",
    "\n",
    "# 깊이 정의\n",
    "depth = int(input('키워드를 수집할 깊이를 입력하세요. (최대 3 이상은 비추천) :'))\n",
    "\n",
    "# 단어 정의\n",
    "recommended = {\n",
    "    \"건강과 웰빙\": [\"요가\", \"마인드풀니스\", \"웰니스 리트릿\", \"건강한 간식\", \"명상\", \"필라테스\", \"건강한 식단\", \"건강 추세\", \"힐링\", \"건강 검진\"],\n",
    "    \"기업과 기업가\": [\"기업가 정신\", \"크라우드펀딩\", \"비즈니스 모델 혁신\", \"기술 벤처\", \"벤처 투자\", \"스타트업 생태계\"],\n",
    "    \"재택 근무 및 자기 계발 블로그\": [\"재택 근무 팁\", \"자기계발 책 추천\", \"온라인 학습 플랫폼\", \"시간 관리 기술\", \"생산성 향상\", \"사이드 허슬\", \"재택 근무 환경\", \"프리랜서 가이드\", \"자기 관리\", \"모티베이션 증진\"],\n",
    "    \"건강 및 웰니스 블로그\": [\"건강한 식단\", \"정신 건강\", \"스트레스 관리\", \"홈 피트니스\", \"명상 기법\", \"웰니스 라이프스타일\", \"영양 정보\", \"건강 검진 가이드\", \"체중 관리\", \"건강한 습관\"],\n",
    "    \n",
    "}\n",
    "\n",
    "subjects_n_words_for_statifi = {}\n",
    "subjects_n_words_for_kindmom = {}\n",
    "subjects_n_words_for_sweetkiwi = {}\n",
    "subjects_n_words_for_takuz = {}\n",
    "subjects_n_words_for_morningbbobbo = {}\n",
    "\n",
    "# 각 블로거의 주제 및 키워드 데이터\n",
    "\n",
    "total_subjects_n_words = {\n",
    "    'statifi': subjects_n_words_for_statifi,\n",
    "    'kindmom': subjects_n_words_for_kindmom,\n",
    "    'sweetkiwi': subjects_n_words_for_sweetkiwi,\n",
    "    'takuz': subjects_n_words_for_takuz,\n",
    "    'morningbbobbo': subjects_n_words_for_morningbbobbo\n",
    "}\n",
    "\n",
    "\n",
    "\n",
    "# 함수정의\n",
    "def collect_keywords_for_blogger(blogger, total_subjects_n_words, depth, save):\n",
    "    subjects_n_words = total_subjects_n_words[blogger.blogname]\n",
    "    blogger.collect_keywords(subjects_n_words=subjects_n_words, depth=depth, save=save)\n",
    "\n",
    "\n",
    "# 실행\n",
    "thread_bloggers(\n",
    "    func=collect_keywords_for_blogger,\n",
    "    bloggers=bloggers,\n",
    "    total_subjects_n_words=total_subjects_n_words,\n",
    "    depth=depth,\n",
    "    save=True\n",
    ")"
   ]
  },
  {
   "cell_type": "markdown",
   "metadata": {},
   "source": [
    "tester 테스트"
   ]
  },
  {
   "cell_type": "code",
   "execution_count": null,
   "metadata": {},
   "outputs": [],
   "source": [
    "# 단일 블로거로 테스트\n",
    "\n",
    "test_blog = 'tester'\n",
    "total_subjects_n_words = {test_blog : {'파이어족' : ['파이어족']} }\n",
    "depth = 1\n",
    "\n",
    "# 함수정의\n",
    "def collect_keywords_for_blogger(blogger, total_subjects_n_words, depth, save):\n",
    "    subjects_n_words = total_subjects_n_words[blogger.blogname]\n",
    "    blogger.collect_keywords(subjects_n_words=subjects_n_words, depth=depth, save=save)\n",
    "\n",
    "\n",
    "collect_keywords_for_blogger(blogger_tester, total_subjects_n_words, depth, save=True)\n",
    "\n",
    "vectorstore_stored_keywords = blogger_tester.keyword_ai.vectorstore_list.index.to_list()\n",
    "if len(vectorstore_stored_keywords) > 0 :\n",
    "    print('🌐 키워드 수집이 완료되었습니다.')    \n",
    "    blogger_tester.keyword_ai.vectorstore_clear()"
   ]
  },
  {
   "cell_type": "markdown",
   "metadata": {},
   "source": [
    "# 클릭 2 : 포스팅 생성"
   ]
  },
  {
   "cell_type": "markdown",
   "metadata": {},
   "source": [
    "순차진행"
   ]
  },
  {
   "cell_type": "code",
   "execution_count": null,
   "metadata": {},
   "outputs": [],
   "source": [
    "# 환경설정\n",
    "# num_contents_creation = int(input('생성할 컨텐츠 갯수를 입력하세요. 무한대생산은 엔터를 치세요 '))\n",
    "num_contents_creation = 20\n",
    "\n",
    "# 함수정의\n",
    "def create_contents(blogger, num_contents_creation=5):\n",
    "    print(f\"Starting thread for {blogger.blogname}\")\n",
    "    blogger.create_contents(num_contents_creation)\n",
    "\n",
    "for blogname in blog_names :\n",
    "    create_contents(bloggers[blogname], num_contents_creation=num_contents_creation)"
   ]
  },
  {
   "cell_type": "code",
   "execution_count": null,
   "metadata": {},
   "outputs": [],
   "source": [
    "for i in bloggers['statifi'].keyword_ai.vectorstore_list['data'].to_list() :\n",
    "    a = bloggers['statifi'].keyword_ai.vectorstore.similarity_search(i)[0].page_content\n",
    "    if a != i :\n",
    "        print(a, i)\n"
   ]
  },
  {
   "cell_type": "markdown",
   "metadata": {},
   "source": [
    "쓰레딩"
   ]
  },
  {
   "cell_type": "code",
   "execution_count": null,
   "metadata": {},
   "outputs": [],
   "source": [
    "# 환경설정\n",
    "num_contents_creation = int(input('생성할 컨텐츠 갯수를 입력하세요. 무한대생산은 엔터를 치세요 '))\n",
    "\n",
    "# 함수정의\n",
    "def create_contents(blogger, num_contents_creation=5):\n",
    "    print(f\"Starting thread for {blogger.blogname}\")\n",
    "    blogger.create_contents(num_contents_creation)\n",
    "\n",
    "# 실행\n",
    "thread_bloggers(create_contents, bloggers, num_contents_creation=num_contents_creation)"
   ]
  },
  {
   "cell_type": "markdown",
   "metadata": {},
   "source": [
    "부분쓰레딩 (2 + 3)"
   ]
  },
  {
   "cell_type": "code",
   "execution_count": null,
   "metadata": {},
   "outputs": [],
   "source": [
    "# 환경설정\n",
    "# num_contents_creation = int(input('생성할 컨텐츠 갯수를 입력하세요. 무한대생산은 엔터를 치세요 '))\n",
    "num_contents_creation = 20  \n",
    "\n",
    "# 함수정의\n",
    "def create_contents(blogger, num_contents_creation=5):\n",
    "    print(f\"Starting thread for {blogger.blogname}\")\n",
    "    blogger.create_contents(num_contents_creation)\n",
    "\n",
    "partial_bloggers = create_partial_bloggers(bloggers, ['statifi', 'sweetkiwi', 'kindmom'])\n",
    "thread_bloggers(create_contents, partial_bloggers, num_contents_creation=num_contents_creation)\n",
    "partial_bloggers2 = create_partial_bloggers(bloggers, ['takuz', 'morningbbobbo'])\n",
    "thread_bloggers(create_contents, partial_bloggers2, num_contents_creation=num_contents_creation)"
   ]
  },
  {
   "cell_type": "markdown",
   "metadata": {},
   "source": [
    "tester 테스트코드"
   ]
  },
  {
   "cell_type": "code",
   "execution_count": null,
   "metadata": {},
   "outputs": [],
   "source": [
    "# 단일블로거로 테스트\n",
    "\n",
    "# 함수정의\n",
    "def create_contents(blogger, num_contents_creation=5):\n",
    "    print(f\"Starting thread for {blogger.blogname}\")\n",
    "    blogger.create_contents(num_contents_creation)\n",
    "\n",
    "# 함수실행\n",
    "\n",
    "blogger_tester.keyword_ai.vectorstore_save_texts('파이어족 특징') # 예시 키워드 저장\n",
    "num_of_created_contents_now = len(blogger_tester.file_manager.get_file_names())\n",
    "\n",
    "try :\n",
    "    create_contents(blogger_tester, num_contents_creation=1)\n",
    "finally :\n",
    "    blogger_tester.keyword_ai.vectorstore_clear()\n",
    "\n",
    "# 실행결과 확인\n",
    "num_of_created_contents_after = len(blogger_tester.file_manager.get_file_names())\n",
    "if (num_of_created_contents_after - num_of_created_contents_now) > 0 :\n",
    "    print('🌐 컨텐츠 생성이 완료되었습니다.')  \n"
   ]
  },
  {
   "cell_type": "markdown",
   "metadata": {},
   "source": [
    "# 클릭3 : 티스토리 블로그 업로드"
   ]
  },
  {
   "cell_type": "markdown",
   "metadata": {},
   "source": [
    "순차반복문"
   ]
  },
  {
   "cell_type": "code",
   "execution_count": null,
   "metadata": {},
   "outputs": [],
   "source": [
    "# 환경설정\n",
    "num_contents_upload = int(input('업로드 할 컨텐츠 갯수를 입력하세요. 무한대생산은 엔터를 치세요. '))\n",
    "assert num_contents_upload is not None, '업로드할 컨텐츠 갯수를 입력하세요.'\n",
    "assert num_contents_upload <= 15 , '15개 이하로 업로드 가능합니다.'\n",
    "\n",
    "# 함수정의\n",
    "def upload(blogger, num_contents_upload):\n",
    "    blogger.upload_contents(num_contents_upload)\n",
    "\n",
    "for blogname in blog_names :\n",
    "    upload(bloggers[blogname], num_contents_upload)\n"
   ]
  },
  {
   "cell_type": "markdown",
   "metadata": {},
   "source": [
    "쓰레딩"
   ]
  },
  {
   "cell_type": "code",
   "execution_count": null,
   "metadata": {},
   "outputs": [],
   "source": [
    "# 환경설정\n",
    "num_contents_upload = int(input('업로드 할 컨텐츠 갯수를 입력하세요. 무한대생산은 엔터를 치세요. '))\n",
    "assert num_contents_upload is not None, '업로드할 컨텐츠 갯수를 입력하세요.'\n",
    "assert num_contents_upload <= 15 , '15개 이하로 업로드 가능합니다.'\n",
    "\n",
    "# 함수정의\n",
    "def upload(blogger, num_contents_upload):\n",
    "    blogger.upload_contents(num_contents_upload)\n",
    "\n",
    "# 실행\n",
    "thread_bloggers(\n",
    "    func=upload,\n",
    "    bloggers=bloggers,\n",
    "    num_contents_upload=num_contents_upload)"
   ]
  },
  {
   "cell_type": "markdown",
   "metadata": {},
   "source": [
    "테스트코드 (blogger_tester)"
   ]
  },
  {
   "cell_type": "code",
   "execution_count": null,
   "metadata": {},
   "outputs": [],
   "source": [
    "# 함수정의\n",
    "def upload(blogger, num_contents_upload = 1):\n",
    "    blogger.upload_contents(num_contents_upload)\n",
    "\n",
    "# 함수실행\n",
    "\n",
    "os.environ[\"tester_NEW_POST_URL\"] = str(r\"https://statifi.tistory.com/manage/newpost/?type=post&returnURL=%2Fmanage%2Fposts%2F\")\n",
    "os.environ[\"tester_ID\"] = \"jsj950611@naver.com\"\n",
    "os.environ[\"tester_PW\"] = \"Zhzkzhffk1!\"\n",
    "\n",
    "\n",
    "upload(blogger_tester, num_contents_upload=1)"
   ]
  },
  {
   "cell_type": "markdown",
   "metadata": {},
   "source": [
    "# 테스트코드는 여기 이하에 작성"
   ]
  },
  {
   "cell_type": "code",
   "execution_count": null,
   "metadata": {},
   "outputs": [],
   "source": [
    "# 남은 글의 갯수\n",
    "for blogname in blog_names:\n",
    "    print(len(bloggers[blogname].file_manager.get_file_names()))"
   ]
  },
  {
   "cell_type": "code",
   "execution_count": null,
   "metadata": {},
   "outputs": [],
   "source": [
    "# 남은 키워드의 갯수\n",
    "for blogname in blog_names:\n",
    "    print(len(bloggers[blogname].keyword_ai.vectorstore_list))"
   ]
  },
  {
   "cell_type": "code",
   "execution_count": null,
   "metadata": {},
   "outputs": [],
   "source": [
    "# 이름순서\n",
    "for blogname in blog_names:\n",
    "    print(blogname)"
   ]
  },
  {
   "cell_type": "code",
   "execution_count": null,
   "metadata": {},
   "outputs": [],
   "source": [
    "df = bloggers['takuz'].file_manager.get_keywords('collected_keywords')\n",
    "isNaverIn = []\n",
    "for all_links in df['all_links'] :\n",
    "    done = False\n",
    "    for link in all_links :        \n",
    "        if link is None : \n",
    "            isNaverIn.append(False)\n",
    "            done = True\n",
    "            break\n",
    "        if 'naver' in link :\n",
    "            isNaverIn.append(True)\n",
    "            done = True\n",
    "            break\n",
    "    if done == False :\n",
    "        isNaverIn.append(False)\n",
    "    \n",
    "        "
   ]
  },
  {
   "cell_type": "code",
   "execution_count": null,
   "metadata": {},
   "outputs": [],
   "source": [
    "df['isNaverIn'] = isNaverIn\n",
    "len(df[df['isNaverIn'] == True][df['tistory_rank_at_google'] == '노출없음'])"
   ]
  },
  {
   "cell_type": "code",
   "execution_count": null,
   "metadata": {},
   "outputs": [],
   "source": [
    "from module.Crawler import Crawler\n",
    "crawler = Crawler(isHeadless=False)\n",
    "crawler"
   ]
  },
  {
   "cell_type": "code",
   "execution_count": null,
   "metadata": {},
   "outputs": [],
   "source": [
    "crawler.search('파이어족', 'google')"
   ]
  },
  {
   "cell_type": "code",
   "execution_count": null,
   "metadata": {},
   "outputs": [],
   "source": [
    "from bs4 import BeautifulSoup\n",
    "import requests\n",
    "\n",
    "# 웹페이지 URL\n",
    "url = crawler.createURL('파이어족', 'daum')\n",
    "url\n",
    "response = requests.get(url)\n",
    "data = response.text\n",
    "\n",
    "# BeautifulSoup 객체 생성\n",
    "soup = BeautifulSoup(data, 'html.parser')\n",
    "soup\n",
    "# id가 'search'인 요소 찾기\n",
    "items = soup.find_all('div', class_='c-item-doc')\n",
    "items\n",
    "\n",
    "# 각 요소 내의 모든 링크 추출\n",
    "for item in items:\n",
    "    links = [a['href'] for a in item.find_all('a', href=True)]\n",
    "    print(links)\n",
    "\n",
    "# # 해당 요소 내 모든 링크 추출\n",
    "# links = [a['href'] for a in search_body.find_all('a', href=True)]\n",
    "\n",
    "# print(links)\n",
    "\n"
   ]
  },
  {
   "cell_type": "code",
   "execution_count": null,
   "metadata": {},
   "outputs": [],
   "source": [
    "crawler.search('파이어족', 'daum')"
   ]
  },
  {
   "cell_type": "code",
   "execution_count": null,
   "metadata": {},
   "outputs": [],
   "source": [
    "def\n",
    "selector = \"c-doc-web > div > div.item-title > c-title > strong > a\"\n",
    "crawler.selenium_scroll_action()\n",
    "crawler.selenium_crawling(selector, get_attribute='href')"
   ]
  },
  {
   "cell_type": "code",
   "execution_count": null,
   "metadata": {},
   "outputs": [],
   "source": [
    "def ddgsearch_reducing(self, keyword, how_many_retrieve=5):\n",
    "        \"\"\"웹브라우저 덕덕고로부터 키워드와 관련된 링크를 수집합니다.\n",
    "        그 다음 해당 링크들로부터 본문을 수집합니다. 수집한 자료는 이후에 RAG에 활용합니다.\"\"\"\n",
    "        urls, contents = [], [] # 사이트 주소와 내용을 담을 컨테이너를 준비합니다.\n",
    "        try:\n",
    "            selector = \"c-doc-web > div > div.item-title > c-title > strong > a\"\n",
    "            self.search(keyword, 'daum')\n",
    "            urls = crawler.selenium_crawling(selector, get_attribute='href')\n",
    "            # results = DDGS().text(keyword, max_results=20) # 덕덕고에서 키워드와 관련된 링크를 수집합니다.\n",
    "            # urls = [a['href'] for a in results if 'html' not in a['href'] and a['href'] != '']\n",
    "        except Exception as e:\n",
    "            print(f'{e} with {keyword}')\n",
    "\n",
    "        \n",
    "        try:\n",
    "            idx, clear = 0, 0 # 텍스트 수집에 성공한 갯수를 담을 컨테이너 입니다.\n",
    "            while clear < how_many_retrieve and idx < len(urls):\n",
    "                url = urls[idx]\n",
    "                content = self.get_text_from_webpage(url, self.driver) # 해당 링크로부터 본문을 수집합니다.\n",
    "                if content:\n",
    "                    contents.append(self.clean_blog_content(content)) # 수집한 본문을 정제합니다.\n",
    "                    clear += 1\n",
    "                idx += 1\n",
    "        except Exception as e:\n",
    "            print(e)\n",
    "        return urls[:how_many_retrieve], contents"
   ]
  },
  {
   "cell_type": "code",
   "execution_count": null,
   "metadata": {},
   "outputs": [],
   "source": [
    "from bs4 import BeautifulSoup\n",
    "import requests\n",
    "\n",
    "# 웹페이지 URL\n",
    "url = crawler.createURL('파이어족', 'daum')\n",
    "url\n",
    "response = requests.get(url)\n",
    "data = response.text\n",
    "\n",
    "# BeautifulSoup 객체 생성\n",
    "soup = BeautifulSoup(data, 'html.parser')\n",
    "soup\n",
    "# id가 'search'인 요소 찾기\n",
    "items = soup.find_all('div', class_='c-item-doc')\n",
    "items\n",
    "\n",
    "# 각 요소 내의 모든 링크 추출\n",
    "for item in items:\n",
    "    links = [a['href'] for a in item.find_all('a', href=True)]\n",
    "    print(links)\n",
    "\n",
    "# # 해당 요소 내 모든 링크 추출\n",
    "# links = [a['href'] for a in search_body.find_all('a', href=True)]\n",
    "\n",
    "# print(links)\n",
    "\n"
   ]
  }
 ],
 "metadata": {
  "kernelspec": {
   "display_name": "venv",
   "language": "python",
   "name": "python3"
  },
  "language_info": {
   "codemirror_mode": {
    "name": "ipython",
    "version": 3
   },
   "file_extension": ".py",
   "mimetype": "text/x-python",
   "name": "python",
   "nbconvert_exporter": "python",
   "pygments_lexer": "ipython3",
   "version": "3.11.5"
  }
 },
 "nbformat": 4,
 "nbformat_minor": 2
}
