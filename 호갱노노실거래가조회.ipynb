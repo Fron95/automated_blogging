{
 "cells": [
  {
   "cell_type": "code",
   "execution_count": 1,
   "metadata": {},
   "outputs": [],
   "source": [
    "# 클래스호출\n",
    "# 실거래가 조회\n",
    "\n",
    "from module.hogangnono.Hogangnono import Hogangnono\n",
    "import time\n",
    "import numpy as np\n",
    "import os\n",
    "from IPython.display import clear_output\n",
    "\n",
    "# 초기 설정 및 데이터 필터링\n",
    "hgnn = Hogangnono()"
   ]
  },
  {
   "cell_type": "code",
   "execution_count": null,
   "metadata": {},
   "outputs": [],
   "source": [
    "# 작업1 실거래가 가져오기\n",
    "\n",
    "\n",
    "done_ids = [name.split('_')[0] for name in os.listdir(hgnn.real_trade_folder)]\n",
    "done_ids\n",
    "sample = hgnn.apts[~hgnn.apts.id.isin(done_ids)]\n",
    "# sample = sample[sample.gu_name.isin(['노원구', '도봉구', '강북구', '금천구', '관악구', '구로구', '동대문구'])]\n",
    "\n",
    "total = len(sample)\n",
    "now = 0\n",
    "\n",
    "# 실거래가 데이터 조회 및 저장\n",
    "for apt_id, apt_name in zip(sample['id'], sample['name']):\n",
    "    delay = np.random.randint(1*10)/10\n",
    "    print(apt_id)\n",
    "    print(f\"총 갯수 {len(hgnn.apts)} 중에서 {total} 개를 조회합니다.\")\n",
    "    print(f\"{now / total * 100}%.. (완료 후 {delay}초 휴식)\")\n",
    "    hgnn.fetch_real_trade_data_single_id(apt_id, apt_name) # 자동저장\n",
    "    time.sleep(delay) # 0~2초 사이 휴식\n",
    "    now += 1\n",
    "    clear_output()\n",
    "\n",
    "# 결과 데이터 가져오기 및 저장\n",
    "result = hgnn.main()\n",
    "\n"
   ]
  },
  {
   "cell_type": "code",
   "execution_count": null,
   "metadata": {},
   "outputs": [],
   "source": [
    "# 작업2 : 아파트정보 조회\n",
    "# done_ids = [name.split('.')[0] for name in os.listdir(hgnn.info_folder)    ]\n",
    "\n",
    "# sample = hgnn.apts[~hgnn.apts.id.isin(done_ids)]\n",
    "\n",
    "# now = 0\n",
    "# total = len(sample)\n",
    "\n",
    "# for apt_id, apt_name in zip(sample['id'], sample['name']):\n",
    "#     delay = np.random.randint(1*10)/10\n",
    "#     print(apt_id)\n",
    "#     print(f\"총 갯수 {len(hgnn.apts)} 중에서 {total} 개를 조회합니다.\")\n",
    "#     print(f\"{now / total * 100}%.. (완료 후 {delay}초 휴식)\")\n",
    "#     hgnn.fetch_apt_info(apt_id) # 자동저장\n",
    "#     time.sleep(delay) # 0~2초 사이 휴식\n",
    "#     now += 1\n",
    "#     clear_output()\n",
    "\n",
    "\n",
    "# 아파트정보 합치기\n",
    "apt_infos = hgnn.extract_data_from_raw_json_mult()"
   ]
  },
  {
   "cell_type": "code",
   "execution_count": 2,
   "metadata": {},
   "outputs": [
    {
     "name": "stdout",
     "output_type": "stream",
     "text": [
      "df len : 9096 df_apts len : 9125 df_real_trade len : 33898\n"
     ]
    }
   ],
   "source": [
    "# 작업3 :  정보랑 실거래가 합치기 (완성)\n",
    "df = hgnn.merge(real_trade='filled')"
   ]
  },
  {
   "cell_type": "code",
   "execution_count": null,
   "metadata": {},
   "outputs": [],
   "source": [
    "# 실거래가에 지역추가하는건데 그냥 놔뒀슴. 필요없음.\n",
    "\n",
    "import pandas as pd\n",
    "df = pd.read_csv('이번에는노도강금관구3.csv', encoding='cp949')\n",
    "gu_names = []\n",
    "dong_names = []\n",
    "\n",
    "total = len(df)\n",
    "now = 0\n",
    "for id in df['id'] :\n",
    "\n",
    "    print(f\"{now/total*100}%\")\n",
    "    now += 1\n",
    "\n",
    "    data = hgnn.apts[hgnn.apts['id'] == id]\n",
    "    gu_name = data['gu_name'].values[0]\n",
    "    dong_name = data['dong_name'].values[0]\n",
    "\n",
    "    gu_names.append(gu_name)\n",
    "    dong_names.append(dong_name)\n",
    "\n",
    "df.insert(1,\"dong_names\", dong_names)\n",
    "df.insert(1,\"gu_names\", gu_names)\n",
    "# df.to_csv(hgnn.real_trade_path, encoding='cp949', index=False)"
   ]
  },
  {
   "cell_type": "code",
   "execution_count": 4,
   "metadata": {},
   "outputs": [
    {
     "ename": "KeyboardInterrupt",
     "evalue": "",
     "output_type": "error",
     "traceback": [
      "\u001b[1;31m---------------------------------------------------------------------------\u001b[0m",
      "\u001b[1;31mKeyboardInterrupt\u001b[0m                         Traceback (most recent call last)",
      "Cell \u001b[1;32mIn[4], line 9\u001b[0m\n\u001b[0;32m      7\u001b[0m now \u001b[38;5;241m+\u001b[39m\u001b[38;5;241m=\u001b[39m \u001b[38;5;241m1\u001b[39m\n\u001b[0;32m      8\u001b[0m clear_output()\n\u001b[1;32m----> 9\u001b[0m \u001b[43mtime\u001b[49m\u001b[38;5;241;43m.\u001b[39;49m\u001b[43msleep\u001b[49m\u001b[43m(\u001b[49m\u001b[43mnp\u001b[49m\u001b[38;5;241;43m.\u001b[39;49m\u001b[43mrandom\u001b[49m\u001b[38;5;241;43m.\u001b[39;49m\u001b[43mrandint\u001b[49m\u001b[43m(\u001b[49m\u001b[38;5;241;43m2\u001b[39;49m\u001b[38;5;241;43m*\u001b[39;49m\u001b[38;5;241;43m10\u001b[39;49m\u001b[43m)\u001b[49m\u001b[38;5;241;43m/\u001b[39;49m\u001b[38;5;241;43m10\u001b[39;49m\u001b[43m)\u001b[49m\n\u001b[0;32m     10\u001b[0m \u001b[38;5;28;01mtry\u001b[39;00m :\n\u001b[0;32m     11\u001b[0m     hgnn\u001b[38;5;241m.\u001b[39mfetch_monthly_average_real_trade_by_id(\u001b[38;5;28mid\u001b[39m)\n",
      "\u001b[1;31mKeyboardInterrupt\u001b[0m: "
     ]
    }
   ],
   "source": [
    "# 작업 4 : 실거래가 (전월세, 매매가, 전세가율, 달평균)\n",
    "\n",
    "total = len(hgnn.apts)\n",
    "now = 0\n",
    "for id in hgnn.apts.id :\n",
    "    print(f\"{now/total*100}%\")\n",
    "    now += 1\n",
    "    clear_output()\n",
    "    time.sleep(np.random.randint(2*10)/10)\n",
    "    try :\n",
    "        hgnn.fetch_monthly_average_real_trade_by_id(id)\n",
    "    except Exception as e :\n",
    "        print(e)"
   ]
  }
 ],
 "metadata": {
  "kernelspec": {
   "display_name": "venv",
   "language": "python",
   "name": "python3"
  },
  "language_info": {
   "codemirror_mode": {
    "name": "ipython",
    "version": 3
   },
   "file_extension": ".py",
   "mimetype": "text/x-python",
   "name": "python",
   "nbconvert_exporter": "python",
   "pygments_lexer": "ipython3",
   "version": "3.11.5"
  }
 },
 "nbformat": 4,
 "nbformat_minor": 2
}
